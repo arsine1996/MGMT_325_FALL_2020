{
 "cells": [
  {
   "cell_type": "markdown",
   "metadata": {
    "ExecuteTime": {
     "end_time": "2020-02-12T13:02:24.584512Z",
     "start_time": "2020-02-12T13:02:24.579525Z"
    }
   },
   "source": [
    "<h1> Session 1.Introduction to Python</h1>"
   ]
  },
  {
   "cell_type": "markdown",
   "metadata": {
    "ExecuteTime": {
     "end_time": "2020-02-12T13:39:24.857991Z",
     "start_time": "2020-02-12T13:39:24.852965Z"
    }
   },
   "source": [
    "1. [Introduction](#intro)\n",
    "2. [Data types & variables](#types)\n",
    "3. [Data Structures](#structure)    \n",
    "4. [Control Flow](#control)\n",
    "5. [Comprehensions-lists and dictionaries](#comprehension)"
   ]
  },
  {
   "cell_type": "markdown",
   "metadata": {},
   "source": [
    "<h1>Introduction</h1> <a name=\"intro\"></a>\n",
    "Python can be used with several development environments like <code><b>Spyder, PyCharm, Rodeo, Atom, Jupyter Notebook</b></code>, etc. (for more see, <a><a href=\"https://www.datacamp.com/community/tutorials/data-science-python-ide\">https://www.datacamp.com/community/tutorials/data-science-python-ide</a>).\n",
    "   \n",
    "   We will use <b>Jupyter Notebook</b>.\n",
    "\n",
    "- \"Notebook\" or \"notebook documents\" denote documents that contain both code and rich text elements, such as figures, links, equations, ... Because of the mix of <b>code and text elements</b>, these documents are the ideal place to bring together an analysis description, and its results, as well as, they can be executed to perform the data analysis in real time.The Jupyter Notebook App produces these documents. Jupyter Notebook App allows you to edit and run your notebooks via  web browser. The application can be executed on a PC without Internet access, or it can be installed on a remote server, where you can access it through the Internet.\n",
    "- <b>Opening Jupyter Notebook</b>: In <i>Command Prompt</i> or <i>Anaconda Prompt</i> type <b><code>jupyter notebook</code></b>. Then click to <i>New</i> - <i>Python 3</i>, the JN script will be opened and you can start coding."
   ]
  },
  {
   "cell_type": "markdown",
   "metadata": {},
   "source": [
    "<h1>Data types & variables </h1> <a name=\"types\"></a>\n",
    "\n",
    "The basic data types in Python (objects that can store data) are:\n",
    "The basic data types in Python (objects that can store data) are:\n",
    "- [int - stores an integer number](#int)\n",
    "- [float - stores a floating point number (a number with decimals)](#float)\n",
    "- [str - stores a textual string (is always written inside quotes)](#str)\n",
    "- [bool - stores boolean (logical) values (True or False)](#bool) \n",
    "\n",
    "Other data types (such as complex numbers) also exist but are out of the scope of this lecture.\n",
    "<br>\n",
    "To create an object (a variable) in Python **=** sign is used for assignment.\n",
    "- When used, the value on the right will be assigned to the object on the left.\n",
    "- Python allows multiple assignments on the same line as well: a,b = 1,2 (a will become 1 and b will become 2)\n",
    "- **type()** is a built in function which can check the type of an object (int, str etc.).\n",
    "- The data types can also be used as functions to convert the type of a variable (e.g. int(5.7) will produce 5, by extracting an integer from a floating point number).\n",
    "- **print()** function can be used to print the content (value) of an object. If not used, the value of an object will still be shown. Yet, if print() is not used, only the last one of multiple objects will be shown.\n",
    "- **#** (hashtag) sign is used to write comments in Python. Whenever used, anything on the right hand side will become a comment and will not be executed as code.\n",
    "- Each data type in Python has its own operations. For example, substruction operations is available for int but not for str."
   ]
  },
  {
   "cell_type": "markdown",
   "metadata": {},
   "source": [
    "## Overview"
   ]
  },
  {
   "cell_type": "code",
   "execution_count": 1,
   "metadata": {
    "ExecuteTime": {
     "end_time": "2020-02-12T22:29:18.055157Z",
     "start_time": "2020-02-12T22:29:18.042196Z"
    }
   },
   "outputs": [
    {
     "data": {
      "text/plain": [
       "1"
      ]
     },
     "execution_count": 1,
     "metadata": {},
     "output_type": "execute_result"
    }
   ],
   "source": [
    "# 1 is an object in Python\n",
    "1"
   ]
  },
  {
   "cell_type": "code",
   "execution_count": 2,
   "metadata": {
    "ExecuteTime": {
     "end_time": "2020-02-12T22:29:18.495264Z",
     "start_time": "2020-02-12T22:29:18.489279Z"
    }
   },
   "outputs": [
    {
     "data": {
      "text/plain": [
       "int"
      ]
     },
     "execution_count": 2,
     "metadata": {},
     "output_type": "execute_result"
    }
   ],
   "source": [
    "# 1 is part of buid-in class \"int\"\n",
    "type(1)"
   ]
  },
  {
   "cell_type": "code",
   "execution_count": 3,
   "metadata": {
    "ExecuteTime": {
     "end_time": "2020-02-12T22:29:18.806291Z",
     "start_time": "2020-02-12T22:29:18.799311Z"
    }
   },
   "outputs": [
    {
     "data": {
      "text/plain": [
       "2"
      ]
     },
     "execution_count": 3,
     "metadata": {},
     "output_type": "execute_result"
    }
   ],
   "source": [
    "# only 2 will be shown (the last one)\n",
    "1\n",
    "2"
   ]
  },
  {
   "cell_type": "code",
   "execution_count": 4,
   "metadata": {
    "ExecuteTime": {
     "end_time": "2020-02-12T22:29:19.032686Z",
     "start_time": "2020-02-12T22:29:19.025707Z"
    }
   },
   "outputs": [
    {
     "name": "stdout",
     "output_type": "stream",
     "text": [
      "1\n",
      "2\n"
     ]
    }
   ],
   "source": [
    "# as print was used, both 1 and 2 will be shown\n",
    "print(1)\n",
    "print(2)"
   ]
  },
  {
   "cell_type": "code",
   "execution_count": 5,
   "metadata": {
    "ExecuteTime": {
     "end_time": "2020-02-12T22:29:19.238138Z",
     "start_time": "2020-02-12T22:29:19.232186Z"
    }
   },
   "outputs": [
    {
     "name": "stdout",
     "output_type": "stream",
     "text": [
      "1\n"
     ]
    }
   ],
   "source": [
    "# assigning 1 value to an object called \"a\"\n",
    "# printing the value\n",
    "a = 1\n",
    "print(a)"
   ]
  },
  {
   "cell_type": "code",
   "execution_count": 6,
   "metadata": {
    "ExecuteTime": {
     "end_time": "2020-02-12T22:29:19.433976Z",
     "start_time": "2020-02-12T22:29:19.427989Z"
    }
   },
   "outputs": [
    {
     "data": {
      "text/plain": [
       "int"
      ]
     },
     "execution_count": 6,
     "metadata": {},
     "output_type": "execute_result"
    }
   ],
   "source": [
    "# Type of \"a\" is int\n",
    "type(a)"
   ]
  },
  {
   "cell_type": "code",
   "execution_count": 7,
   "metadata": {
    "ExecuteTime": {
     "end_time": "2020-02-12T22:29:19.626990Z",
     "start_time": "2020-02-12T22:29:19.620009Z"
    }
   },
   "outputs": [
    {
     "name": "stdout",
     "output_type": "stream",
     "text": [
      "1\n",
      "2\n",
      "3\n"
     ]
    }
   ],
   "source": [
    "# multiple assignments on the same line\n",
    "a, b, c = 1, 2, 3\n",
    "print(a)\n",
    "print(b)\n",
    "print(c)"
   ]
  },
  {
   "cell_type": "markdown",
   "metadata": {},
   "source": [
    "## <a name=\"int\" href=\"https://docs.python.org/3.4/library/stdtypes.html#numeric-types-int-float-complex\">Integers</a> \n",
    "\n",
    "Integers (int) are the integer numbers in mathematics and can complete the following operations: summation (+), substruction (-), division (/), multiplication (*), exponentiation (**), modulus (%)."
   ]
  },
  {
   "cell_type": "code",
   "execution_count": 8,
   "metadata": {
    "ExecuteTime": {
     "end_time": "2020-02-12T22:29:20.005324Z",
     "start_time": "2020-02-12T22:29:19.997345Z"
    }
   },
   "outputs": [
    {
     "name": "stdout",
     "output_type": "stream",
     "text": [
      "7\n",
      "3\n",
      "10\n",
      "2.5\n",
      "25\n",
      "1\n"
     ]
    }
   ],
   "source": [
    "print(5+2) #summation\n",
    "print(5-2) #substruction\n",
    "print(5*2) #multiplication\n",
    "print(5/2) #division\n",
    "print(5**2) #exponentiation\n",
    "print(5%2) #modulus (gives the residual after division)"
   ]
  },
  {
   "cell_type": "markdown",
   "metadata": {},
   "source": [
    "## <a name=\"float\" href=\"https://docs.python.org/3.4/library/stdtypes.html#numeric-types-int-float-complex\">Float </a>\n",
    "\n",
    "Floats (float) are the floating point (decimal) numbers. For example, 2.5. The operations applied on floating point numbers are the same as on integers. One may convert float to an int and viceversa using same name functions. When int is converted to float, just a \".0\" will be added to visually indicate it is a floating point number. Yet, when float is converted to int, only integer part will be left (i.e. no rounding up operation will be conducted). For example, int(5.9) will result in 5 (not 6)."
   ]
  },
  {
   "cell_type": "code",
   "execution_count": 9,
   "metadata": {
    "ExecuteTime": {
     "end_time": "2020-02-12T22:29:20.404712Z",
     "start_time": "2020-02-12T22:29:20.398721Z"
    }
   },
   "outputs": [
    {
     "data": {
      "text/plain": [
       "int"
      ]
     },
     "execution_count": 9,
     "metadata": {},
     "output_type": "execute_result"
    }
   ],
   "source": [
    "var_int = 5\n",
    "type(var_int)"
   ]
  },
  {
   "cell_type": "code",
   "execution_count": 10,
   "metadata": {
    "ExecuteTime": {
     "end_time": "2020-02-12T22:29:20.606164Z",
     "start_time": "2020-02-12T22:29:20.597191Z"
    }
   },
   "outputs": [
    {
     "data": {
      "text/plain": [
       "float"
      ]
     },
     "execution_count": 10,
     "metadata": {},
     "output_type": "execute_result"
    }
   ],
   "source": [
    "var_float = 5.9\n",
    "type(var_float)"
   ]
  },
  {
   "cell_type": "code",
   "execution_count": 11,
   "metadata": {
    "ExecuteTime": {
     "end_time": "2020-02-12T22:29:20.803640Z",
     "start_time": "2020-02-12T22:29:20.795660Z"
    }
   },
   "outputs": [
    {
     "data": {
      "text/plain": [
       "5.0"
      ]
     },
     "execution_count": 11,
     "metadata": {},
     "output_type": "execute_result"
    }
   ],
   "source": [
    "float(var_int)"
   ]
  },
  {
   "cell_type": "markdown",
   "metadata": {},
   "source": [
    "## Built-in functions for basic numerical (mathematical) operations\n",
    "Some built-in functions used in math are abs(), max(), min(), pow(), round(). There is no explicit function to calculate square root, but one can use pow() or \"**\" operation to do that."
   ]
  },
  {
   "cell_type": "code",
   "execution_count": 12,
   "metadata": {
    "ExecuteTime": {
     "end_time": "2020-02-12T22:29:21.223685Z",
     "start_time": "2020-02-12T22:29:21.215708Z"
    }
   },
   "outputs": [
    {
     "name": "stdout",
     "output_type": "stream",
     "text": [
      "abs 5\n",
      "max 9\n",
      "min -5\n",
      "pow 8\n",
      "round 6.778\n"
     ]
    }
   ],
   "source": [
    "print('abs', abs(-5)) #calculating absolute value\n",
    "print('max', max(3, -5, 9)) #calculating max value\n",
    "print('min', min(4, -4, -5, 0)) #calculating min value\n",
    "print('pow', pow(2, 3)) #taking power up\n",
    "print('round', round(6.7777777, 3)) #rounding up to 3 decimals"
   ]
  },
  {
   "cell_type": "markdown",
   "metadata": {},
   "source": [
    "## <a name=\"str\" href=\"https://docs.python.org/3.4/library/stdtypes.html#text-sequence-type-str\">Strings</a>\n",
    "\n",
    "Strings (str) are the textual objects. They are always written inside single or double quotes. Strings are \"stronger\" type than numerical data types, as any numeric value can be also stored as string (e.g. \"5\" is a string), yet NOT any string can be stored as an integer or a float (e.g. \"text\" cannot anyhow be converted to a numeric value, yet 10 can be converted to string with quotes: \"10\").\n",
    "\n",
    "- The strings in Python can be summed up with each other. Summation of strings yield to their concationation.\n",
    "- Strings can also be multiplied with integers which will yield the repition of strings.\n",
    "- Elements (characters) from a string can be selected using square brackets. As the enumeration in Python starts from 0, the very first character can be selecte dusing [0]. The last character can be selected using [-1].\n"
   ]
  },
  {
   "cell_type": "code",
   "execution_count": 13,
   "metadata": {
    "ExecuteTime": {
     "end_time": "2020-02-12T22:29:21.602241Z",
     "start_time": "2020-02-12T22:29:21.596259Z"
    }
   },
   "outputs": [
    {
     "data": {
      "text/plain": [
       "str"
      ]
     },
     "execution_count": 13,
     "metadata": {},
     "output_type": "execute_result"
    }
   ],
   "source": [
    "name = \"Karen\"\n",
    "type(name)"
   ]
  },
  {
   "cell_type": "code",
   "execution_count": 14,
   "metadata": {
    "ExecuteTime": {
     "end_time": "2020-02-12T22:29:21.798476Z",
     "start_time": "2020-02-12T22:29:21.792486Z"
    }
   },
   "outputs": [
    {
     "data": {
      "text/plain": [
       "str"
      ]
     },
     "execution_count": 14,
     "metadata": {},
     "output_type": "execute_result"
    }
   ],
   "source": [
    "var_str = \"7\"\n",
    "type(var_str)"
   ]
  },
  {
   "cell_type": "code",
   "execution_count": 15,
   "metadata": {
    "ExecuteTime": {
     "end_time": "2020-02-12T22:29:22.022871Z",
     "start_time": "2020-02-12T22:29:22.016887Z"
    }
   },
   "outputs": [
    {
     "data": {
      "text/plain": [
       "7"
      ]
     },
     "execution_count": 15,
     "metadata": {},
     "output_type": "execute_result"
    }
   ],
   "source": [
    "# converted a string (with numerical value) to an integer\n",
    "int(var_str)"
   ]
  },
  {
   "cell_type": "code",
   "execution_count": 16,
   "metadata": {
    "ExecuteTime": {
     "end_time": "2020-02-12T22:29:22.287494Z",
     "start_time": "2020-02-12T22:29:22.221671Z"
    }
   },
   "outputs": [
    {
     "ename": "ValueError",
     "evalue": "invalid literal for int() with base 10: 'Karen'",
     "output_type": "error",
     "traceback": [
      "\u001b[0;31m---------------------------------------------------------------------------\u001b[0m",
      "\u001b[0;31mValueError\u001b[0m                                Traceback (most recent call last)",
      "\u001b[0;32m<ipython-input-16-9e855eda749f>\u001b[0m in \u001b[0;36m<module>\u001b[0;34m\u001b[0m\n\u001b[1;32m      1\u001b[0m \u001b[0;31m# trying to convert textual value to an integer yields an error\u001b[0m\u001b[0;34m\u001b[0m\u001b[0;34m\u001b[0m\u001b[0;34m\u001b[0m\u001b[0m\n\u001b[0;32m----> 2\u001b[0;31m \u001b[0mint\u001b[0m\u001b[0;34m(\u001b[0m\u001b[0mname\u001b[0m\u001b[0;34m)\u001b[0m\u001b[0;34m\u001b[0m\u001b[0;34m\u001b[0m\u001b[0m\n\u001b[0m",
      "\u001b[0;31mValueError\u001b[0m: invalid literal for int() with base 10: 'Karen'"
     ]
    }
   ],
   "source": [
    "# trying to convert textual value to an integer yields an error\n",
    "int(name)"
   ]
  },
  {
   "cell_type": "code",
   "execution_count": 17,
   "metadata": {
    "ExecuteTime": {
     "end_time": "2020-02-12T22:29:23.933093Z",
     "start_time": "2020-02-12T22:29:23.925117Z"
    }
   },
   "outputs": [
    {
     "data": {
      "text/plain": [
       "'neraK'"
      ]
     },
     "execution_count": 17,
     "metadata": {},
     "output_type": "execute_result"
    }
   ],
   "source": [
    "# reverse the string\n",
    "name[::-1]"
   ]
  },
  {
   "cell_type": "code",
   "execution_count": 18,
   "metadata": {
    "ExecuteTime": {
     "end_time": "2020-02-12T22:29:24.119650Z",
     "start_time": "2020-02-12T22:29:24.113672Z"
    }
   },
   "outputs": [
    {
     "data": {
      "text/plain": [
       "'KarenKaren'"
      ]
     },
     "execution_count": 18,
     "metadata": {},
     "output_type": "execute_result"
    }
   ],
   "source": [
    "name+name"
   ]
  },
  {
   "cell_type": "code",
   "execution_count": 19,
   "metadata": {
    "ExecuteTime": {
     "end_time": "2020-02-12T22:29:24.421909Z",
     "start_time": "2020-02-12T22:29:24.415925Z"
    }
   },
   "outputs": [
    {
     "data": {
      "text/plain": [
       "'Karen Karen'"
      ]
     },
     "execution_count": 19,
     "metadata": {},
     "output_type": "execute_result"
    }
   ],
   "source": [
    "name + \" \" + name"
   ]
  },
  {
   "cell_type": "code",
   "execution_count": 20,
   "metadata": {
    "ExecuteTime": {
     "end_time": "2020-02-12T22:29:24.623704Z",
     "start_time": "2020-02-12T22:29:24.618719Z"
    }
   },
   "outputs": [
    {
     "data": {
      "text/plain": [
       "'KarenKarenKarenKarenKarenKarenKaren'"
      ]
     },
     "execution_count": 20,
     "metadata": {},
     "output_type": "execute_result"
    }
   ],
   "source": [
    "name*7"
   ]
  },
  {
   "cell_type": "markdown",
   "metadata": {
    "ExecuteTime": {
     "end_time": "2020-02-12T21:31:56.600441Z",
     "start_time": "2020-02-12T21:31:56.587476Z"
    }
   },
   "source": [
    "## <a name=\"bool\" href=\"https://docs.python.org/3.4/library/stdtypes.html#truth-value-testing\">Boolean</a>\n",
    "\n",
    "Boolean (bool) objects attain only two values: True or False. False is encoded as 0 and True is encoded as 1 in Python. Booleans are usually the result of comparison or logical operations. Those operations are:\n",
    "\n",
    "- **==** - equivalence. Yields True if the value on the left equals to the value on the right, and False otherwise.  \n",
    "- **!=** - not equivalent. Yields True if value on the left is not equal to the value on the right. \n",
    "- **in** - test whether the value on the left can be found inside the object on the right\n",
    "- **not** - negation operation, can be used with **in**\n",
    "- **and** - and operator to combine two or more conditions. Both should be satified to yield True.\n",
    "  - **&** sign should be used instead of **and** when arrays (vectors) are tested for conditions.\n",
    "- **or** - or operator to combine two or more conditions. Yields True even if one of the conditions is satisfied.\n",
    "  - **|** sign should be used instead of **or** when arrays (vectors) are tested for conditions.\n",
    "- **<** - less than\n",
    "- **<=** - less than or equal to\n",
    "- **>** - greater than\n",
    "- **>=** - greater than or equal to  "
   ]
  },
  {
   "cell_type": "code",
   "execution_count": 22,
   "metadata": {
    "ExecuteTime": {
     "end_time": "2020-02-12T22:29:25.239078Z",
     "start_time": "2020-02-12T22:29:25.233125Z"
    }
   },
   "outputs": [
    {
     "data": {
      "text/plain": [
       "False"
      ]
     },
     "execution_count": 22,
     "metadata": {},
     "output_type": "execute_result"
    }
   ],
   "source": [
    "\"Karen\"==\"karen\""
   ]
  },
  {
   "cell_type": "code",
   "execution_count": 23,
   "metadata": {
    "ExecuteTime": {
     "end_time": "2020-02-12T22:29:25.447438Z",
     "start_time": "2020-02-12T22:29:25.440458Z"
    }
   },
   "outputs": [
    {
     "data": {
      "text/plain": [
       "True"
      ]
     },
     "execution_count": 23,
     "metadata": {},
     "output_type": "execute_result"
    }
   ],
   "source": [
    "\"Karen\"!=\"karen\""
   ]
  },
  {
   "cell_type": "code",
   "execution_count": 24,
   "metadata": {
    "ExecuteTime": {
     "end_time": "2020-02-12T22:29:25.871943Z",
     "start_time": "2020-02-12T22:29:25.864962Z"
    }
   },
   "outputs": [
    {
     "data": {
      "text/plain": [
       "False"
      ]
     },
     "execution_count": 24,
     "metadata": {},
     "output_type": "execute_result"
    }
   ],
   "source": [
    "\"K\" not in \"Karen\""
   ]
  },
  {
   "cell_type": "code",
   "execution_count": 25,
   "metadata": {
    "ExecuteTime": {
     "end_time": "2020-02-12T22:29:27.119737Z",
     "start_time": "2020-02-12T22:29:27.113753Z"
    }
   },
   "outputs": [
    {
     "data": {
      "text/plain": [
       "False"
      ]
     },
     "execution_count": 25,
     "metadata": {},
     "output_type": "execute_result"
    }
   ],
   "source": [
    "5>5"
   ]
  },
  {
   "cell_type": "code",
   "execution_count": 26,
   "metadata": {
    "ExecuteTime": {
     "end_time": "2020-02-12T22:29:27.329979Z",
     "start_time": "2020-02-12T22:29:27.323999Z"
    }
   },
   "outputs": [
    {
     "data": {
      "text/plain": [
       "True"
      ]
     },
     "execution_count": 26,
     "metadata": {},
     "output_type": "execute_result"
    }
   ],
   "source": [
    "5>=5"
   ]
  },
  {
   "cell_type": "code",
   "execution_count": 27,
   "metadata": {
    "ExecuteTime": {
     "end_time": "2020-02-12T22:29:27.537043Z",
     "start_time": "2020-02-12T22:29:27.531060Z"
    }
   },
   "outputs": [
    {
     "data": {
      "text/plain": [
       "True"
      ]
     },
     "execution_count": 27,
     "metadata": {},
     "output_type": "execute_result"
    }
   ],
   "source": [
    "5<6"
   ]
  },
  {
   "cell_type": "code",
   "execution_count": 28,
   "metadata": {
    "ExecuteTime": {
     "end_time": "2020-02-12T22:29:27.750752Z",
     "start_time": "2020-02-12T22:29:27.744771Z"
    }
   },
   "outputs": [
    {
     "data": {
      "text/plain": [
       "True"
      ]
     },
     "execution_count": 28,
     "metadata": {},
     "output_type": "execute_result"
    }
   ],
   "source": [
    "5<=6"
   ]
  },
  {
   "cell_type": "markdown",
   "metadata": {
    "ExecuteTime": {
     "end_time": "2020-02-12T21:35:08.885251Z",
     "start_time": "2020-02-12T21:35:08.875280Z"
    }
   },
   "source": [
    "# <a href=\"https://docs.python.org/3.4/library/stdtypes.html#string-methods\">String methods</a>\n",
    "\n",
    "Each object type has its own operations. Similarly each object has its own functionalities that are available only for that object. Those functions are called methods and are available after insteading a dot following object's name. Several of string methods are:\n",
    "- upper() - makes the string uppercase\n",
    "- lower() - makes the string lowercase\n",
    "- find() - finds a given charater in a string. Returns its index or -1 if not found\n",
    "- split() - splits the sting based on a given character\n",
    "- count() - counts the numer of occurancies of a given character\n",
    "- many other methods which can be accessed after inserting the dot and pressing TAB "
   ]
  },
  {
   "cell_type": "code",
   "execution_count": 29,
   "metadata": {
    "ExecuteTime": {
     "end_time": "2020-02-12T22:29:28.175150Z",
     "start_time": "2020-02-12T22:29:28.171161Z"
    }
   },
   "outputs": [],
   "source": [
    "my_str = \"Galstyan\""
   ]
  },
  {
   "cell_type": "code",
   "execution_count": 30,
   "metadata": {
    "ExecuteTime": {
     "end_time": "2020-02-12T22:29:28.381953Z",
     "start_time": "2020-02-12T22:29:28.375971Z"
    }
   },
   "outputs": [
    {
     "data": {
      "text/plain": [
       "'GALSTYAN'"
      ]
     },
     "execution_count": 30,
     "metadata": {},
     "output_type": "execute_result"
    }
   ],
   "source": [
    "my_str.upper()"
   ]
  },
  {
   "cell_type": "code",
   "execution_count": 31,
   "metadata": {
    "ExecuteTime": {
     "end_time": "2020-02-12T22:29:28.596381Z",
     "start_time": "2020-02-12T22:29:28.589402Z"
    }
   },
   "outputs": [
    {
     "data": {
      "text/plain": [
       "'galstyan'"
      ]
     },
     "execution_count": 31,
     "metadata": {},
     "output_type": "execute_result"
    }
   ],
   "source": [
    "my_str.lower()"
   ]
  },
  {
   "cell_type": "code",
   "execution_count": 32,
   "metadata": {
    "ExecuteTime": {
     "end_time": "2020-02-12T22:29:28.936995Z",
     "start_time": "2020-02-12T22:29:28.931024Z"
    }
   },
   "outputs": [
    {
     "data": {
      "text/plain": [
       "5"
      ]
     },
     "execution_count": 32,
     "metadata": {},
     "output_type": "execute_result"
    }
   ],
   "source": [
    "my_str.find(\"y\")"
   ]
  },
  {
   "cell_type": "code",
   "execution_count": 33,
   "metadata": {
    "ExecuteTime": {
     "end_time": "2020-02-12T22:29:29.177716Z",
     "start_time": "2020-02-12T22:29:29.171732Z"
    }
   },
   "outputs": [
    {
     "data": {
      "text/plain": [
       "-1"
      ]
     },
     "execution_count": 33,
     "metadata": {},
     "output_type": "execute_result"
    }
   ],
   "source": [
    "my_str.find(\"o\")"
   ]
  },
  {
   "cell_type": "code",
   "execution_count": 34,
   "metadata": {
    "ExecuteTime": {
     "end_time": "2020-02-12T22:29:29.383224Z",
     "start_time": "2020-02-12T22:29:29.377242Z"
    }
   },
   "outputs": [
    {
     "data": {
      "text/plain": [
       "['G', 'lsty', 'n']"
      ]
     },
     "execution_count": 34,
     "metadata": {},
     "output_type": "execute_result"
    }
   ],
   "source": [
    "# split the string based on the 'key' \n",
    "my_str.split(\"a\")"
   ]
  },
  {
   "cell_type": "code",
   "execution_count": 35,
   "metadata": {
    "ExecuteTime": {
     "end_time": "2020-02-12T22:29:29.586682Z",
     "start_time": "2020-02-12T22:29:29.581693Z"
    }
   },
   "outputs": [
    {
     "data": {
      "text/plain": [
       "2"
      ]
     },
     "execution_count": 35,
     "metadata": {},
     "output_type": "execute_result"
    }
   ],
   "source": [
    "#count how many types 'a' appears in the text\n",
    "my_str.count(\"a\")"
   ]
  },
  {
   "cell_type": "markdown",
   "metadata": {},
   "source": [
    "# <a name=\"structure\" href=\"https://docs.python.org/3/tutorial/datastructures.html#data-structures\">Data Structures</a>\n",
    "\n",
    "Data structures are \"larger\" objects which hold data inside. There are 4 data structures in Python:\n",
    "- [**list** - is defined using function **list()** or square brackets: <b>\"\\[\\]\"</b>. Can hold absolutely any data inside (int, float, str, bool, another list etc.). Elements in the list can be accessed using their index inside the square brackets (like in case of strings, indexation starts from 0)](#list)\n",
    "- [**tuple** - is defined using function **tuple()** or open brackets: **( )**. Can hold absolutely any data inside, yet is not mutable (e.g. cannot add or remove data). Elements can be accessed similarly as in case of lists.](#tuple)\n",
    "- [**set** - is defined using function **set()** or curly brackets: **{ }**. Can hold absolutely any data inside, yet only unique values (no repetitions). To access the elements in a set, it needs to be converted to a list.](#set)\n",
    "- [**dict** - is defined using function **dict()** or curly brackets: **{ }**. Can hold absolutely any data inside using key:value pairs.Do not mix it with tuple, as tuple has only values and no keys. Keys in dictionary should be unique. Elements in a dictionary do not keep any order, so one cannot access them using index. Instead, they are accessed using keys inside square brackets.](#dict)\n",
    "\n",
    "Each of the data structures has it's own methods. Those methods helps to add or remove an element (if the data structure is mutable), count number of elemenets, find an element etc."
   ]
  },
  {
   "cell_type": "markdown",
   "metadata": {
    "ExecuteTime": {
     "end_time": "2020-02-12T21:59:10.043819Z",
     "start_time": "2020-02-12T21:59:10.032849Z"
    }
   },
   "source": [
    "## <a name=\"list\" href=\"https://docs.python.org/3/tutorial/datastructures.html#more-on-lists\">List </a>\n",
    "The list class is the most general, representing a sequence of arbitrary objects. Lists are zero-indexed. They are perhaps the most used data structure in Python, as they have many valuable behaviors. Methods for lists are many, among all:\n",
    "- **append()** - adds an element to the very end of the list\n",
    "- **extend()** - adds an element to the very end of the list after iterating over the element (i.e. partition then add)\n",
    "- **pop()** - removes an element using index\n",
    "- **remove()** - removes an element using value\n",
    "- other methods which can be accessed by inserting dot and pressing TAB after the list object name"
   ]
  },
  {
   "cell_type": "code",
   "execution_count": 48,
   "metadata": {
    "ExecuteTime": {
     "end_time": "2020-02-12T22:29:30.174743Z",
     "start_time": "2020-02-12T22:29:30.169758Z"
    }
   },
   "outputs": [],
   "source": [
    "empty_list = [] # empty list\n",
    "#empty_list = list() # same thing in a different wat\n",
    "name_list = ['Jack', 'John', 'Jimmy', 'Jivan', 'James', 'Joseph'] # list of strings\n",
    "int_list = [1, 2, 3, 4, 5] # list of integers\n",
    "mixed_list = [1, 'dog', 3.5] # list of different types of elements"
   ]
  },
  {
   "cell_type": "code",
   "execution_count": 49,
   "metadata": {
    "ExecuteTime": {
     "end_time": "2020-02-12T22:29:30.379982Z",
     "start_time": "2020-02-12T22:29:30.371009Z"
    }
   },
   "outputs": [
    {
     "name": "stdout",
     "output_type": "stream",
     "text": [
      "Jack\n",
      "Joseph\n",
      "James\n",
      "['Jack', 'John', 'Jimmy']\n",
      "['Jack', 'John', 'Jimmy']\n",
      "['Jivan', 'James', 'Joseph']\n",
      "['Jack', 'Jimmy', 'James']\n",
      "['Joseph', 'James', 'Jivan', 'Jimmy', 'John', 'Jack']\n"
     ]
    }
   ],
   "source": [
    "print(name_list[0]) #first element\n",
    "print(name_list[-1]) #last element\n",
    "print(name_list[4]) #5th element (in Pythonic its 4th)\n",
    "print(name_list[0:3]) #first 3 elements\n",
    "print(name_list[:3]) #first 3 elements\n",
    "print(name_list[-3:]) #last 3 elements\n",
    "print(name_list[::2]) #first of each next 2 elements (odd numbered elemenets)\n",
    "print(name_list[::-1]) #reverse list"
   ]
  },
  {
   "cell_type": "code",
   "execution_count": 50,
   "metadata": {
    "ExecuteTime": {
     "end_time": "2020-02-12T22:29:30.589382Z",
     "start_time": "2020-02-12T22:29:30.584394Z"
    }
   },
   "outputs": [],
   "source": [
    "name_list.append(\"Jona\") #add Jona to names\n",
    "name_list.pop(0) #removes first element using its index\n",
    "name_list.remove(\"Jimmy\") #removes an element using value"
   ]
  },
  {
   "cell_type": "markdown",
   "metadata": {
    "ExecuteTime": {
     "end_time": "2020-02-12T22:03:53.188592Z",
     "start_time": "2020-02-12T22:03:53.178620Z"
    }
   },
   "source": [
    "## <a name=\"dict\" href=\"https://docs.python.org/3/tutorial/datastructures.html#dictionaries\">Dictionary </a>\n",
    "Each key is separated from its value by a colon (:), the items are separated by commas, and the whole thing is enclosed in curly braces. Keys are unique within a dictionary, while values may not. The values of a dictionary can be of any type, but the keys must be of an immutable data type such as strings, numbers, or tuples."
   ]
  },
  {
   "cell_type": "code",
   "execution_count": 59,
   "metadata": {
    "ExecuteTime": {
     "end_time": "2020-02-12T22:29:33.066553Z",
     "start_time": "2020-02-12T22:29:33.061565Z"
    }
   },
   "outputs": [
    {
     "name": "stdout",
     "output_type": "stream",
     "text": [
      "{'r': 'Red', 'g': 'Green', 'b': 'Blue'}\n"
     ]
    }
   ],
   "source": [
    "color_dict = {'r': 'Red', 'g': 'Green', 'b': 'Blue'}\n",
    "print(color_dict)"
   ]
  },
  {
   "cell_type": "code",
   "execution_count": 60,
   "metadata": {
    "ExecuteTime": {
     "end_time": "2020-02-12T22:29:33.254049Z",
     "start_time": "2020-02-12T22:29:33.248068Z"
    }
   },
   "outputs": [
    {
     "data": {
      "text/plain": [
       "'Red'"
      ]
     },
     "execution_count": 60,
     "metadata": {},
     "output_type": "execute_result"
    }
   ],
   "source": [
    "color_dict['r']"
   ]
  },
  {
   "cell_type": "code",
   "execution_count": 61,
   "metadata": {
    "ExecuteTime": {
     "end_time": "2020-02-12T22:29:33.459815Z",
     "start_time": "2020-02-12T22:29:33.452835Z"
    }
   },
   "outputs": [
    {
     "name": "stdout",
     "output_type": "stream",
     "text": [
      "{'r': 'Red', 'g': 'Green', 'b': 'Blue', 'y': 'Yellow'}\n"
     ]
    }
   ],
   "source": [
    "#adding values to the dict\n",
    "color_dict[\"y\"] = \"Yellow\"\n",
    "print(color_dict)"
   ]
  },
  {
   "cell_type": "code",
   "execution_count": 62,
   "metadata": {
    "ExecuteTime": {
     "end_time": "2020-02-12T22:29:33.646324Z",
     "start_time": "2020-02-12T22:29:33.641328Z"
    }
   },
   "outputs": [
    {
     "data": {
      "text/plain": [
       "dict_keys(['r', 'g', 'b', 'y'])"
      ]
     },
     "execution_count": 62,
     "metadata": {},
     "output_type": "execute_result"
    }
   ],
   "source": [
    "#get all keys\n",
    "color_dict.keys()"
   ]
  },
  {
   "cell_type": "code",
   "execution_count": 63,
   "metadata": {
    "ExecuteTime": {
     "end_time": "2020-02-12T22:29:33.829833Z",
     "start_time": "2020-02-12T22:29:33.823848Z"
    }
   },
   "outputs": [
    {
     "data": {
      "text/plain": [
       "dict_values(['Red', 'Green', 'Blue', 'Yellow'])"
      ]
     },
     "execution_count": 63,
     "metadata": {},
     "output_type": "execute_result"
    }
   ],
   "source": [
    "#get all values\n",
    "color_dict.values()"
   ]
  },
  {
   "cell_type": "markdown",
   "metadata": {},
   "source": [
    "# <a name=\"control\" href=\"https://docs.python.org/3/reference/compound_stmts.html#compound-statements\">Control Flow </a>\n",
    "\n",
    "In any programming language there are 3 constructs that help to control the flow:\n",
    "- <a href=\"https://docs.python.org/3/reference/compound_stmts.html#the-if-statement\">**if/else statement** - tests conditions and executes relevant actions based on the test result being True or False</a>\n",
    "- <a href=\"https://docs.python.org/3/reference/compound_stmts.html#the-for-statement\">**for loop** - repeats an action for predefined number of times</a>\n",
    "- <a href=\"https://docs.python.org/3/reference/compound_stmts.html#the-while-statement\">**while loop** - repeats an action until a condition is not met </a>\n",
    "- <a href=\"https://docs.python.org/3/reference/compound_stmts.html#function-definitions\">**functions**-user-defined executable statement. </a>"
   ]
  },
  {
   "cell_type": "markdown",
   "metadata": {
    "ExecuteTime": {
     "end_time": "2020-02-12T22:09:27.095387Z",
     "start_time": "2020-02-12T22:09:27.088409Z"
    }
   },
   "source": [
    "## if/else\n",
    "\n",
    "If/else statement has the following structure:\n",
    "<br>\n",
    "if condition is met:\n",
    "<br>\n",
    "&nbsp;&nbsp;&nbsp;&nbsp;do something\n",
    "<br>\n",
    "elif another condition is met:\n",
    "<br>\n",
    "&nbsp;&nbsp;&nbsp;&nbsp;do something else\n",
    "<br>\n",
    "else:\n",
    "<br>\n",
    "&nbsp;&nbsp;&nbsp;&nbsp;do something different"
   ]
  },
  {
   "cell_type": "code",
   "execution_count": 64,
   "metadata": {
    "ExecuteTime": {
     "end_time": "2020-02-12T22:29:34.482151Z",
     "start_time": "2020-02-12T22:29:34.475173Z"
    }
   },
   "outputs": [
    {
     "name": "stdout",
     "output_type": "stream",
     "text": [
      "1 is positive\n"
     ]
    }
   ],
   "source": [
    "a=1\n",
    "if a > 0:\n",
    "    print(str(a)+\" is positive\")\n",
    "elif a==0:\n",
    "    print(str(a)+\" is 0\")\n",
    "else:\n",
    "    print(str(a)+\" is negative\")"
   ]
  },
  {
   "cell_type": "markdown",
   "metadata": {},
   "source": [
    "## For loop\n",
    "\n",
    "Python’s for statement iterates over the items of any sequence (list, string or other iterable objects) in the order that they appear in the sequence."
   ]
  },
  {
   "cell_type": "code",
   "execution_count": 65,
   "metadata": {
    "ExecuteTime": {
     "end_time": "2020-02-12T22:29:34.936605Z",
     "start_time": "2020-02-12T22:29:34.932620Z"
    }
   },
   "outputs": [],
   "source": [
    "objects = [\"star\", \"man\", \"simple\"]"
   ]
  },
  {
   "cell_type": "code",
   "execution_count": 66,
   "metadata": {
    "ExecuteTime": {
     "end_time": "2020-02-12T22:29:35.186689Z",
     "start_time": "2020-02-12T22:29:35.182700Z"
    }
   },
   "outputs": [
    {
     "name": "stdout",
     "output_type": "stream",
     "text": [
      "superstar\n",
      "superman\n",
      "supersimple\n"
     ]
    }
   ],
   "source": [
    "for i in objects: \n",
    "    print(\"super\" + i)"
   ]
  },
  {
   "cell_type": "code",
   "execution_count": 67,
   "metadata": {
    "ExecuteTime": {
     "end_time": "2020-02-12T22:29:35.443382Z",
     "start_time": "2020-02-12T22:29:35.437397Z"
    }
   },
   "outputs": [
    {
     "name": "stdout",
     "output_type": "stream",
     "text": [
      "['STAR', 'MAN', 'SIMPLE']\n"
     ]
    }
   ],
   "source": [
    "objects_up = []\n",
    "for i in objects:\n",
    "    objects_up.append(i.upper()) # making upper case each object\n",
    "print(objects_up)"
   ]
  },
  {
   "cell_type": "code",
   "execution_count": 68,
   "metadata": {
    "ExecuteTime": {
     "end_time": "2020-02-12T22:29:35.676631Z",
     "start_time": "2020-02-12T22:29:35.670644Z"
    }
   },
   "outputs": [
    {
     "name": "stdout",
     "output_type": "stream",
     "text": [
      "superstar\n",
      "superman\n",
      "supersimple\n"
     ]
    }
   ],
   "source": [
    "for i in range(len(objects)): \n",
    "    print(\"super\" + objects[i])"
   ]
  },
  {
   "cell_type": "markdown",
   "metadata": {},
   "source": [
    "## While loop\n",
    "While loop is used when one does not know beforehand how many times an action needs to be repeated. It can repeat an action infinetly many times if not built correctly. While loop *usually* has 3 blocks: starting point, the condition and an increment."
   ]
  },
  {
   "cell_type": "code",
   "execution_count": 69,
   "metadata": {
    "ExecuteTime": {
     "end_time": "2020-02-12T22:29:36.136345Z",
     "start_time": "2020-02-12T22:29:36.130364Z"
    }
   },
   "outputs": [
    {
     "name": "stdout",
     "output_type": "stream",
     "text": [
      "1\n",
      "2\n",
      "3\n",
      "4\n",
      "5\n",
      "Finished\n"
     ]
    }
   ],
   "source": [
    "i = 1\n",
    "while i<=5:\n",
    "    print(i)\n",
    "    i = i + 1\n",
    "print(\"Finished\")"
   ]
  },
  {
   "cell_type": "markdown",
   "metadata": {},
   "source": [
    "## Functions\n",
    "\n",
    "Many functions exist (built) in Python, yet some do not. If one wants to use a piece of code many times, usually s/he is encouraged to develop a function to use it in the future as well."
   ]
  },
  {
   "cell_type": "code",
   "execution_count": 70,
   "metadata": {
    "ExecuteTime": {
     "end_time": "2020-02-12T22:29:36.682829Z",
     "start_time": "2020-02-12T22:29:36.677844Z"
    }
   },
   "outputs": [],
   "source": [
    "def sqrt(num):\n",
    "  if num>=0:\n",
    "    return num**0.5\n",
    "  else:\n",
    "    print(\"sqrt is not available for negatives\")"
   ]
  },
  {
   "cell_type": "code",
   "execution_count": 71,
   "metadata": {
    "ExecuteTime": {
     "end_time": "2020-02-12T22:29:36.925504Z",
     "start_time": "2020-02-12T22:29:36.919521Z"
    }
   },
   "outputs": [
    {
     "data": {
      "text/plain": [
       "5.0"
      ]
     },
     "execution_count": 71,
     "metadata": {},
     "output_type": "execute_result"
    }
   ],
   "source": [
    "sqrt(25)"
   ]
  },
  {
   "cell_type": "code",
   "execution_count": 72,
   "metadata": {
    "ExecuteTime": {
     "end_time": "2020-02-12T22:29:37.176008Z",
     "start_time": "2020-02-12T22:29:37.171021Z"
    }
   },
   "outputs": [
    {
     "name": "stdout",
     "output_type": "stream",
     "text": [
      "sqrt is not available for negatives\n"
     ]
    }
   ],
   "source": [
    "sqrt(-5)"
   ]
  },
  {
   "cell_type": "markdown",
   "metadata": {
    "ExecuteTime": {
     "end_time": "2020-02-12T22:16:10.758639Z",
     "start_time": "2020-02-12T22:16:10.754648Z"
    }
   },
   "source": [
    "## <a name=\"comprehension\" href=\"https://docs.python.org/3/tutorial/datastructures.html#list-comprehensions\">Comprehensions (lists and dictionaries)</a>\n",
    " \n",
    "for and while loops are used to automate processes in Python. Yet they may not be user friendly as a result of long code. Additionaly, they can be slow. Whenever one needs to have a for loop which will yield a list/dictionary in the end, list/dictionary comprehensions may be used instead. They are faster and they allow usage of loops and conditionals (if/else) inside just one line of code."
   ]
  },
  {
   "cell_type": "code",
   "execution_count": 73,
   "metadata": {
    "ExecuteTime": {
     "end_time": "2020-02-12T22:29:37.629956Z",
     "start_time": "2020-02-12T22:29:37.623970Z"
    }
   },
   "outputs": [
    {
     "name": "stdout",
     "output_type": "stream",
     "text": [
      "[1, 2, 3, 4, 5, 6, 7, 8, 9, 10]\n"
     ]
    }
   ],
   "source": [
    "#list of integers from 1 to 10 created using for loop\n",
    "int_list = []\n",
    "for i in range(1,11):\n",
    "    int_list.append(i)\n",
    "print(int_list)"
   ]
  },
  {
   "cell_type": "code",
   "execution_count": 74,
   "metadata": {
    "ExecuteTime": {
     "end_time": "2020-02-12T22:29:37.860230Z",
     "start_time": "2020-02-12T22:29:37.854249Z"
    }
   },
   "outputs": [
    {
     "data": {
      "text/plain": [
       "[1, 2, 3, 4, 5, 6, 7, 8, 9, 10]"
      ]
     },
     "execution_count": 74,
     "metadata": {},
     "output_type": "execute_result"
    }
   ],
   "source": [
    "#list of integers from 1 to 10 created using list comprehension\n",
    "[i for i in range(1,11)]"
   ]
  },
  {
   "cell_type": "code",
   "execution_count": 75,
   "metadata": {
    "ExecuteTime": {
     "end_time": "2020-02-12T22:29:38.071667Z",
     "start_time": "2020-02-12T22:29:38.063688Z"
    }
   },
   "outputs": [
    {
     "name": "stdout",
     "output_type": "stream",
     "text": [
      "[1, 4, 9, 16, 25, 36, 49, 64, 81, 100]\n"
     ]
    }
   ],
   "source": [
    "#list of squares of integers from 1 to 10 created using for loop\n",
    "sqr_list = []\n",
    "for i in range(1,11):\n",
    "    sqr_list.append(i*i)\n",
    "print(sqr_list)"
   ]
  },
  {
   "cell_type": "code",
   "execution_count": 76,
   "metadata": {
    "ExecuteTime": {
     "end_time": "2020-02-12T22:29:38.289975Z",
     "start_time": "2020-02-12T22:29:38.284992Z"
    }
   },
   "outputs": [],
   "source": [
    "#list of squares of integers from 1 to 10 created (and saved) using list comprehension\n",
    "my_square_list = [i*i for i in range(3,15)]"
   ]
  },
  {
   "cell_type": "code",
   "execution_count": 77,
   "metadata": {
    "ExecuteTime": {
     "end_time": "2020-02-12T22:29:38.475346Z",
     "start_time": "2020-02-12T22:29:38.469365Z"
    }
   },
   "outputs": [
    {
     "name": "stdout",
     "output_type": "stream",
     "text": [
      "[1, 9, 25, 49, 81]\n"
     ]
    }
   ],
   "source": [
    "#list of squares of odd integers from 1 to 10 created using for loop\n",
    "odd_sqr_list = []\n",
    "for j in range(1,11):\n",
    "    if j%2!=0:\n",
    "        odd_sqr_list.append(j**2)\n",
    "print(odd_sqr_list)"
   ]
  },
  {
   "cell_type": "code",
   "execution_count": 78,
   "metadata": {
    "ExecuteTime": {
     "end_time": "2020-02-12T22:29:38.643894Z",
     "start_time": "2020-02-12T22:29:38.635917Z"
    }
   },
   "outputs": [
    {
     "data": {
      "text/plain": [
       "[9, 25, 49, 81, 121, 169]"
      ]
     },
     "execution_count": 78,
     "metadata": {},
     "output_type": "execute_result"
    }
   ],
   "source": [
    "#list of squares of odd integers from 1 to 10 created using list comprehension\n",
    "[j**2 for j in range(3,15) if j%2!=0]"
   ]
  },
  {
   "cell_type": "code",
   "execution_count": 79,
   "metadata": {
    "ExecuteTime": {
     "end_time": "2020-02-12T22:29:38.924322Z",
     "start_time": "2020-02-12T22:29:38.920332Z"
    }
   },
   "outputs": [],
   "source": [
    "#a sample string to be used in future\n",
    "#for simplicity assume all names starting with J are males and K - females\n",
    "names = [\"James\",\"Jimmy\",\"Katherine\",\"John\",\"Karen\",\"Kate\",\"Jivan\",'Kim']"
   ]
  },
  {
   "cell_type": "code",
   "execution_count": 80,
   "metadata": {
    "ExecuteTime": {
     "end_time": "2020-02-12T22:29:39.140657Z",
     "start_time": "2020-02-12T22:29:39.134674Z"
    }
   },
   "outputs": [
    {
     "name": "stdout",
     "output_type": "stream",
     "text": [
      "['JAMES', 'JIMMY', 'KATHERINE', 'JOHN', 'KAREN', 'KATE', 'JIVAN', 'KIM']\n"
     ]
    }
   ],
   "source": [
    "#for loop to create a list of uppercase names\n",
    "names_upper = []\n",
    "for j in names:\n",
    "    names_upper.append(j.upper())\n",
    "print(names_upper)"
   ]
  },
  {
   "cell_type": "code",
   "execution_count": 81,
   "metadata": {
    "ExecuteTime": {
     "end_time": "2020-02-12T22:29:39.374212Z",
     "start_time": "2020-02-12T22:29:39.367230Z"
    }
   },
   "outputs": [
    {
     "data": {
      "text/plain": [
       "['JAMES', 'JIMMY', 'KATHERINE', 'JOHN', 'KAREN', 'KATE', 'JIVAN', 'KIM']"
      ]
     },
     "execution_count": 81,
     "metadata": {},
     "output_type": "execute_result"
    }
   ],
   "source": [
    "#list comprehension to create a list of uppercase names\n",
    "[j.upper() for j in names]"
   ]
  },
  {
   "cell_type": "code",
   "execution_count": 82,
   "metadata": {
    "ExecuteTime": {
     "end_time": "2020-02-12T22:29:39.606114Z",
     "start_time": "2020-02-12T22:29:39.599134Z"
    }
   },
   "outputs": [
    {
     "name": "stdout",
     "output_type": "stream",
     "text": [
      "['KATHERINE', 'KAREN', 'KATE', 'KIM']\n"
     ]
    }
   ],
   "source": [
    "#for loop to create a list of uppercase female names\n",
    "woman_names_upper = []\n",
    "for i in names:\n",
    "    if i[0]==\"K\":\n",
    "        woman_names_upper.append(i.upper())\n",
    "print(woman_names_upper)"
   ]
  },
  {
   "cell_type": "code",
   "execution_count": 83,
   "metadata": {
    "ExecuteTime": {
     "end_time": "2020-02-12T22:29:39.791809Z",
     "start_time": "2020-02-12T22:29:39.784829Z"
    }
   },
   "outputs": [
    {
     "data": {
      "text/plain": [
       "['KATHERINE', 'KAREN', 'KATE', 'KIM']"
      ]
     },
     "execution_count": 83,
     "metadata": {},
     "output_type": "execute_result"
    }
   ],
   "source": [
    "#list comrehension to create a list of uppercase female names\n",
    "[i.upper() for i in names if i[0]==\"K\"]"
   ]
  },
  {
   "cell_type": "code",
   "execution_count": 84,
   "metadata": {
    "ExecuteTime": {
     "end_time": "2020-02-12T22:29:40.010972Z",
     "start_time": "2020-02-12T22:29:40.003992Z"
    }
   },
   "outputs": [
    {
     "data": {
      "text/plain": [
       "{1: 1, 2: 4, 3: 9, 4: 16, 5: 25, 6: 36, 7: 49, 8: 64, 9: 81, 10: 100}"
      ]
     },
     "execution_count": 84,
     "metadata": {},
     "output_type": "execute_result"
    }
   ],
   "source": [
    "#dictionary comrehension for calculating squares of integers between 1 and 10\n",
    "{i:i**2 for i in range(1,11)}"
   ]
  },
  {
   "cell_type": "code",
   "execution_count": 85,
   "metadata": {
    "ExecuteTime": {
     "end_time": "2020-02-12T22:29:40.214288Z",
     "start_time": "2020-02-12T22:29:40.208300Z"
    }
   },
   "outputs": [
    {
     "data": {
      "text/plain": [
       "{1: 1, 3: 9, 5: 25, 7: 49, 9: 81}"
      ]
     },
     "execution_count": 85,
     "metadata": {},
     "output_type": "execute_result"
    }
   ],
   "source": [
    "#dictionary comrehension for calculating squares of odd integers between 1 and 10\n",
    "{i:i**2 for i in range(1,11) if i%2!=0}"
   ]
  },
  {
   "cell_type": "code",
   "execution_count": 86,
   "metadata": {
    "ExecuteTime": {
     "end_time": "2020-02-12T22:29:40.421167Z",
     "start_time": "2020-02-12T22:29:40.413190Z"
    }
   },
   "outputs": [
    {
     "data": {
      "text/plain": [
       "{'Katherine': 'KATHERINE', 'Karen': 'KAREN', 'Kate': 'KATE', 'Kim': 'KIM'}"
      ]
     },
     "execution_count": 86,
     "metadata": {},
     "output_type": "execute_result"
    }
   ],
   "source": [
    "#dictionary comrehension for making female names uppercase\n",
    "{i:i.upper() for i in names if i[0]==\"K\"}"
   ]
  }
 ],
 "metadata": {
  "kernelspec": {
   "display_name": "Python 3",
   "language": "python",
   "name": "python3"
  },
  "language_info": {
   "codemirror_mode": {
    "name": "ipython",
    "version": 3
   },
   "file_extension": ".py",
   "mimetype": "text/x-python",
   "name": "python",
   "nbconvert_exporter": "python",
   "pygments_lexer": "ipython3",
   "version": "3.8.3"
  },
  "toc": {
   "base_numbering": 1,
   "nav_menu": {},
   "number_sections": true,
   "sideBar": true,
   "skip_h1_title": false,
   "title_cell": "Table of Contents",
   "title_sidebar": "Contents",
   "toc_cell": false,
   "toc_position": {},
   "toc_section_display": true,
   "toc_window_display": false
  }
 },
 "nbformat": 4,
 "nbformat_minor": 2
}
