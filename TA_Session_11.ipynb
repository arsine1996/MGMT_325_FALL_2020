{
 "cells": [
  {
   "cell_type": "markdown",
   "metadata": {},
   "source": [
    "- Use clustering as a feature engineering tool\n",
    "- Implement random forest and gradient boosting classification"
   ]
  },
  {
   "cell_type": "code",
   "execution_count": 1,
   "metadata": {},
   "outputs": [],
   "source": [
    "import pandas as pd\n",
    "import numpy as np\n",
    "import matplotlib.pyplot as plt\n",
    "from sklearn.preprocessing import StandardScaler\n",
    "from sklearn.model_selection import train_test_split, GridSearchCV, cross_val_score\n",
    "from sklearn.ensemble import RandomForestClassifier, GradientBoostingClassifier\n",
    "from sklearn.cluster import KMeans\n",
    "from sklearn.metrics import *"
   ]
  },
  {
   "cell_type": "code",
   "execution_count": 2,
   "metadata": {
    "scrolled": true
   },
   "outputs": [],
   "source": [
    "data=pd.read_csv(\"attrition.csv\")"
   ]
  },
  {
   "cell_type": "code",
   "execution_count": 3,
   "metadata": {},
   "outputs": [
    {
     "data": {
      "text/html": [
       "<div>\n",
       "<style scoped>\n",
       "    .dataframe tbody tr th:only-of-type {\n",
       "        vertical-align: middle;\n",
       "    }\n",
       "\n",
       "    .dataframe tbody tr th {\n",
       "        vertical-align: top;\n",
       "    }\n",
       "\n",
       "    .dataframe thead th {\n",
       "        text-align: right;\n",
       "    }\n",
       "</style>\n",
       "<table border=\"1\" class=\"dataframe\">\n",
       "  <thead>\n",
       "    <tr style=\"text-align: right;\">\n",
       "      <th></th>\n",
       "      <th>Age</th>\n",
       "      <th>Attrition</th>\n",
       "      <th>BusinessTravel</th>\n",
       "      <th>DailyRate</th>\n",
       "      <th>Department</th>\n",
       "      <th>DistanceFromHome</th>\n",
       "      <th>Education</th>\n",
       "      <th>EducationField</th>\n",
       "      <th>EmployeeCount</th>\n",
       "      <th>EmployeeNumber</th>\n",
       "      <th>...</th>\n",
       "      <th>RelationshipSatisfaction</th>\n",
       "      <th>StandardHours</th>\n",
       "      <th>StockOptionLevel</th>\n",
       "      <th>TotalWorkingYears</th>\n",
       "      <th>TrainingTimesLastYear</th>\n",
       "      <th>WorkLifeBalance</th>\n",
       "      <th>YearsAtCompany</th>\n",
       "      <th>YearsInCurrentRole</th>\n",
       "      <th>YearsSinceLastPromotion</th>\n",
       "      <th>YearsWithCurrManager</th>\n",
       "    </tr>\n",
       "  </thead>\n",
       "  <tbody>\n",
       "    <tr>\n",
       "      <th>0</th>\n",
       "      <td>41</td>\n",
       "      <td>Yes</td>\n",
       "      <td>Travel_Rarely</td>\n",
       "      <td>1102</td>\n",
       "      <td>Sales</td>\n",
       "      <td>1</td>\n",
       "      <td>2</td>\n",
       "      <td>Life Sciences</td>\n",
       "      <td>1</td>\n",
       "      <td>1</td>\n",
       "      <td>...</td>\n",
       "      <td>1</td>\n",
       "      <td>80</td>\n",
       "      <td>0</td>\n",
       "      <td>8</td>\n",
       "      <td>0</td>\n",
       "      <td>1</td>\n",
       "      <td>6</td>\n",
       "      <td>4</td>\n",
       "      <td>0</td>\n",
       "      <td>5</td>\n",
       "    </tr>\n",
       "    <tr>\n",
       "      <th>1</th>\n",
       "      <td>49</td>\n",
       "      <td>No</td>\n",
       "      <td>Travel_Frequently</td>\n",
       "      <td>279</td>\n",
       "      <td>Research &amp; Development</td>\n",
       "      <td>8</td>\n",
       "      <td>1</td>\n",
       "      <td>Life Sciences</td>\n",
       "      <td>1</td>\n",
       "      <td>2</td>\n",
       "      <td>...</td>\n",
       "      <td>4</td>\n",
       "      <td>80</td>\n",
       "      <td>1</td>\n",
       "      <td>10</td>\n",
       "      <td>3</td>\n",
       "      <td>3</td>\n",
       "      <td>10</td>\n",
       "      <td>7</td>\n",
       "      <td>1</td>\n",
       "      <td>7</td>\n",
       "    </tr>\n",
       "    <tr>\n",
       "      <th>2</th>\n",
       "      <td>37</td>\n",
       "      <td>Yes</td>\n",
       "      <td>Travel_Rarely</td>\n",
       "      <td>1373</td>\n",
       "      <td>Research &amp; Development</td>\n",
       "      <td>2</td>\n",
       "      <td>2</td>\n",
       "      <td>Other</td>\n",
       "      <td>1</td>\n",
       "      <td>4</td>\n",
       "      <td>...</td>\n",
       "      <td>2</td>\n",
       "      <td>80</td>\n",
       "      <td>0</td>\n",
       "      <td>7</td>\n",
       "      <td>3</td>\n",
       "      <td>3</td>\n",
       "      <td>0</td>\n",
       "      <td>0</td>\n",
       "      <td>0</td>\n",
       "      <td>0</td>\n",
       "    </tr>\n",
       "    <tr>\n",
       "      <th>3</th>\n",
       "      <td>33</td>\n",
       "      <td>No</td>\n",
       "      <td>Travel_Frequently</td>\n",
       "      <td>1392</td>\n",
       "      <td>Research &amp; Development</td>\n",
       "      <td>3</td>\n",
       "      <td>4</td>\n",
       "      <td>Life Sciences</td>\n",
       "      <td>1</td>\n",
       "      <td>5</td>\n",
       "      <td>...</td>\n",
       "      <td>3</td>\n",
       "      <td>80</td>\n",
       "      <td>0</td>\n",
       "      <td>8</td>\n",
       "      <td>3</td>\n",
       "      <td>3</td>\n",
       "      <td>8</td>\n",
       "      <td>7</td>\n",
       "      <td>3</td>\n",
       "      <td>0</td>\n",
       "    </tr>\n",
       "    <tr>\n",
       "      <th>4</th>\n",
       "      <td>27</td>\n",
       "      <td>No</td>\n",
       "      <td>Travel_Rarely</td>\n",
       "      <td>591</td>\n",
       "      <td>Research &amp; Development</td>\n",
       "      <td>2</td>\n",
       "      <td>1</td>\n",
       "      <td>Medical</td>\n",
       "      <td>1</td>\n",
       "      <td>7</td>\n",
       "      <td>...</td>\n",
       "      <td>4</td>\n",
       "      <td>80</td>\n",
       "      <td>1</td>\n",
       "      <td>6</td>\n",
       "      <td>3</td>\n",
       "      <td>3</td>\n",
       "      <td>2</td>\n",
       "      <td>2</td>\n",
       "      <td>2</td>\n",
       "      <td>2</td>\n",
       "    </tr>\n",
       "  </tbody>\n",
       "</table>\n",
       "<p>5 rows × 35 columns</p>\n",
       "</div>"
      ],
      "text/plain": [
       "   Age Attrition     BusinessTravel  DailyRate              Department  \\\n",
       "0   41       Yes      Travel_Rarely       1102                   Sales   \n",
       "1   49        No  Travel_Frequently        279  Research & Development   \n",
       "2   37       Yes      Travel_Rarely       1373  Research & Development   \n",
       "3   33        No  Travel_Frequently       1392  Research & Development   \n",
       "4   27        No      Travel_Rarely        591  Research & Development   \n",
       "\n",
       "   DistanceFromHome  Education EducationField  EmployeeCount  EmployeeNumber  \\\n",
       "0                 1          2  Life Sciences              1               1   \n",
       "1                 8          1  Life Sciences              1               2   \n",
       "2                 2          2          Other              1               4   \n",
       "3                 3          4  Life Sciences              1               5   \n",
       "4                 2          1        Medical              1               7   \n",
       "\n",
       "   ...  RelationshipSatisfaction StandardHours  StockOptionLevel  \\\n",
       "0  ...                         1            80                 0   \n",
       "1  ...                         4            80                 1   \n",
       "2  ...                         2            80                 0   \n",
       "3  ...                         3            80                 0   \n",
       "4  ...                         4            80                 1   \n",
       "\n",
       "   TotalWorkingYears  TrainingTimesLastYear WorkLifeBalance  YearsAtCompany  \\\n",
       "0                  8                      0               1               6   \n",
       "1                 10                      3               3              10   \n",
       "2                  7                      3               3               0   \n",
       "3                  8                      3               3               8   \n",
       "4                  6                      3               3               2   \n",
       "\n",
       "  YearsInCurrentRole  YearsSinceLastPromotion  YearsWithCurrManager  \n",
       "0                  4                        0                     5  \n",
       "1                  7                        1                     7  \n",
       "2                  0                        0                     0  \n",
       "3                  7                        3                     0  \n",
       "4                  2                        2                     2  \n",
       "\n",
       "[5 rows x 35 columns]"
      ]
     },
     "execution_count": 3,
     "metadata": {},
     "output_type": "execute_result"
    }
   ],
   "source": [
    "data.head()"
   ]
  },
  {
   "cell_type": "code",
   "execution_count": 4,
   "metadata": {},
   "outputs": [],
   "source": [
    "data['Attrition'] = np.where(data.Attrition=='Yes', 1, 0)"
   ]
  },
  {
   "cell_type": "code",
   "execution_count": 5,
   "metadata": {},
   "outputs": [
    {
     "name": "stdout",
     "output_type": "stream",
     "text": [
      "Duplicates: 0\n",
      "Missing values: 0\n",
      "Single valued columns: Index(['EmployeeCount', 'Over18', 'StandardHours'], dtype='object')\n"
     ]
    }
   ],
   "source": [
    "print(\"Duplicates:\", data.duplicated().sum())\n",
    "print(\"Missing values:\", data.isna().sum().sum())\n",
    "print(\"Single valued columns:\", data.columns[data.nunique()==1])"
   ]
  },
  {
   "cell_type": "code",
   "execution_count": 6,
   "metadata": {},
   "outputs": [],
   "source": [
    "# drop columns with only one value\n",
    "data = data.drop(['EmployeeCount', 'Over18', 'StandardHours'], axis=1)"
   ]
  },
  {
   "cell_type": "code",
   "execution_count": 7,
   "metadata": {},
   "outputs": [
    {
     "data": {
      "text/plain": [
       "0    0.838776\n",
       "1    0.161224\n",
       "Name: Attrition, dtype: float64"
      ]
     },
     "execution_count": 7,
     "metadata": {},
     "output_type": "execute_result"
    }
   ],
   "source": [
    "data.Attrition.value_counts(normalize=True)"
   ]
  },
  {
   "cell_type": "code",
   "execution_count": 8,
   "metadata": {},
   "outputs": [],
   "source": [
    "#separating X and Y\n",
    "Y=data[\"Attrition\"]\n",
    "X=data.drop(\"Attrition\",axis=1)"
   ]
  },
  {
   "cell_type": "code",
   "execution_count": 9,
   "metadata": {},
   "outputs": [],
   "source": [
    "#making dummes,train test split\n",
    "X=pd.get_dummies(X, drop_first=True)"
   ]
  },
  {
   "cell_type": "code",
   "execution_count": 10,
   "metadata": {},
   "outputs": [],
   "source": [
    "X0, X1, Y0, Y1 = train_test_split(X, Y, test_size=0.25, random_state=42)"
   ]
  },
  {
   "cell_type": "markdown",
   "metadata": {},
   "source": [
    "## K-Means "
   ]
  },
  {
   "cell_type": "markdown",
   "metadata": {},
   "source": [
    "We will use predicted clusters as a feature for the classification problem"
   ]
  },
  {
   "cell_type": "code",
   "execution_count": 11,
   "metadata": {},
   "outputs": [],
   "source": [
    "# we need to scale the data for clustering\n",
    "scaler = StandardScaler()\n",
    "scaler.fit(X0)\n",
    "X0_scaled = pd.DataFrame(scaler.transform(X0), columns=X0.columns)\n",
    "X1_scaled = pd.DataFrame(scaler.transform(X1), columns=X1.columns)"
   ]
  },
  {
   "cell_type": "code",
   "execution_count": 12,
   "metadata": {
    "scrolled": true
   },
   "outputs": [
    {
     "name": "stderr",
     "output_type": "stream",
     "text": [
      "<ipython-input-12-8bbd88950723>:4: SettingWithCopyWarning: \n",
      "A value is trying to be set on a copy of a slice from a DataFrame.\n",
      "Try using .loc[row_indexer,col_indexer] = value instead\n",
      "\n",
      "See the caveats in the documentation: https://pandas.pydata.org/pandas-docs/stable/user_guide/indexing.html#returning-a-view-versus-a-copy\n",
      "  X0['clusters']=clusters.fit_predict(X0_scaled)\n",
      "<ipython-input-12-8bbd88950723>:4: SettingWithCopyWarning: \n",
      "A value is trying to be set on a copy of a slice from a DataFrame.\n",
      "Try using .loc[row_indexer,col_indexer] = value instead\n",
      "\n",
      "See the caveats in the documentation: https://pandas.pydata.org/pandas-docs/stable/user_guide/indexing.html#returning-a-view-versus-a-copy\n",
      "  X0['clusters']=clusters.fit_predict(X0_scaled)\n",
      "<ipython-input-12-8bbd88950723>:4: SettingWithCopyWarning: \n",
      "A value is trying to be set on a copy of a slice from a DataFrame.\n",
      "Try using .loc[row_indexer,col_indexer] = value instead\n",
      "\n",
      "See the caveats in the documentation: https://pandas.pydata.org/pandas-docs/stable/user_guide/indexing.html#returning-a-view-versus-a-copy\n",
      "  X0['clusters']=clusters.fit_predict(X0_scaled)\n",
      "<ipython-input-12-8bbd88950723>:4: SettingWithCopyWarning: \n",
      "A value is trying to be set on a copy of a slice from a DataFrame.\n",
      "Try using .loc[row_indexer,col_indexer] = value instead\n",
      "\n",
      "See the caveats in the documentation: https://pandas.pydata.org/pandas-docs/stable/user_guide/indexing.html#returning-a-view-versus-a-copy\n",
      "  X0['clusters']=clusters.fit_predict(X0_scaled)\n",
      "<ipython-input-12-8bbd88950723>:4: SettingWithCopyWarning: \n",
      "A value is trying to be set on a copy of a slice from a DataFrame.\n",
      "Try using .loc[row_indexer,col_indexer] = value instead\n",
      "\n",
      "See the caveats in the documentation: https://pandas.pydata.org/pandas-docs/stable/user_guide/indexing.html#returning-a-view-versus-a-copy\n",
      "  X0['clusters']=clusters.fit_predict(X0_scaled)\n",
      "<ipython-input-12-8bbd88950723>:4: SettingWithCopyWarning: \n",
      "A value is trying to be set on a copy of a slice from a DataFrame.\n",
      "Try using .loc[row_indexer,col_indexer] = value instead\n",
      "\n",
      "See the caveats in the documentation: https://pandas.pydata.org/pandas-docs/stable/user_guide/indexing.html#returning-a-view-versus-a-copy\n",
      "  X0['clusters']=clusters.fit_predict(X0_scaled)\n",
      "<ipython-input-12-8bbd88950723>:4: SettingWithCopyWarning: \n",
      "A value is trying to be set on a copy of a slice from a DataFrame.\n",
      "Try using .loc[row_indexer,col_indexer] = value instead\n",
      "\n",
      "See the caveats in the documentation: https://pandas.pydata.org/pandas-docs/stable/user_guide/indexing.html#returning-a-view-versus-a-copy\n",
      "  X0['clusters']=clusters.fit_predict(X0_scaled)\n",
      "<ipython-input-12-8bbd88950723>:4: SettingWithCopyWarning: \n",
      "A value is trying to be set on a copy of a slice from a DataFrame.\n",
      "Try using .loc[row_indexer,col_indexer] = value instead\n",
      "\n",
      "See the caveats in the documentation: https://pandas.pydata.org/pandas-docs/stable/user_guide/indexing.html#returning-a-view-versus-a-copy\n",
      "  X0['clusters']=clusters.fit_predict(X0_scaled)\n"
     ]
    }
   ],
   "source": [
    "sse = {}\n",
    "for k in range(2,10):\n",
    "    clusters = KMeans(n_clusters=k, random_state=42)\n",
    "    X0['clusters']=clusters.fit_predict(X0_scaled)\n",
    "    sse[k] = clusters.inertia_ "
   ]
  },
  {
   "cell_type": "code",
   "execution_count": 13,
   "metadata": {},
   "outputs": [
    {
     "data": {
      "image/png": "[encoded data removed]",
      "text/plain": [
       "<Figure size 432x288 with 1 Axes>"
      ]
     },
     "metadata": {
      "needs_background": "light"
     },
     "output_type": "display_data"
    }
   ],
   "source": [
    "plt.figure()\n",
    "plt.plot(list(sse.keys()), list(sse.values()), marker=\"o\") #sse is dictionary \n",
    "plt.xlabel(\"Number of cluster\")\n",
    "plt.ylabel(\"SSE\")\n",
    "plt.show()"
   ]
  },
  {
   "cell_type": "markdown",
   "metadata": {},
   "source": [
    "Based on the graph we can see that the optimal number of clusters is 3"
   ]
  },
  {
   "cell_type": "code",
   "execution_count": 14,
   "metadata": {},
   "outputs": [],
   "source": [
    "#Let's use the optimal value of k and create a feature\n",
    "km_model = KMeans(n_clusters=3, random_state=42).fit(X0_scaled)"
   ]
  },
  {
   "cell_type": "code",
   "execution_count": 15,
   "metadata": {},
   "outputs": [
    {
     "name": "stderr",
     "output_type": "stream",
     "text": [
      "<ipython-input-15-0921b7ca09e8>:1: SettingWithCopyWarning: \n",
      "A value is trying to be set on a copy of a slice from a DataFrame.\n",
      "Try using .loc[row_indexer,col_indexer] = value instead\n",
      "\n",
      "See the caveats in the documentation: https://pandas.pydata.org/pandas-docs/stable/user_guide/indexing.html#returning-a-view-versus-a-copy\n",
      "  X0['clusters'] = km_model.predict(X0_scaled)\n",
      "<ipython-input-15-0921b7ca09e8>:2: SettingWithCopyWarning: \n",
      "A value is trying to be set on a copy of a slice from a DataFrame.\n",
      "Try using .loc[row_indexer,col_indexer] = value instead\n",
      "\n",
      "See the caveats in the documentation: https://pandas.pydata.org/pandas-docs/stable/user_guide/indexing.html#returning-a-view-versus-a-copy\n",
      "  X1['clusters'] = km_model.predict(X1_scaled)\n"
     ]
    }
   ],
   "source": [
    "X0['clusters'] = km_model.predict(X0_scaled)\n",
    "X1['clusters'] = km_model.predict(X1_scaled)"
   ]
  },
  {
   "cell_type": "markdown",
   "metadata": {},
   "source": [
    "## Random Forest"
   ]
  },
  {
   "cell_type": "code",
   "execution_count": 16,
   "metadata": {},
   "outputs": [
    {
     "data": {
      "text/plain": [
       "RandomForestClassifier(class_weight='balanced', max_depth=4,\n",
       "                       min_samples_leaf=120, n_estimators=10, random_state=42)"
      ]
     },
     "execution_count": 16,
     "metadata": {},
     "output_type": "execute_result"
    }
   ],
   "source": [
    "rf = RandomForestClassifier(class_weight='balanced', random_state=42, max_depth=4, n_estimators=10,\n",
    "                           min_samples_leaf=120)\n",
    "rf.fit(X0, Y0)"
   ]
  },
  {
   "cell_type": "code",
   "execution_count": 17,
   "metadata": {},
   "outputs": [],
   "source": [
    "#for classification you should predict probabilities\n",
    "Y0_pred=rf.predict_proba(X0)[:,1]\n",
    "Y1_pred=rf.predict_proba(X1)[:,1]"
   ]
  },
  {
   "cell_type": "code",
   "execution_count": 18,
   "metadata": {},
   "outputs": [
    {
     "name": "stdout",
     "output_type": "stream",
     "text": [
      "ROC_AUC Train for Manually Tuned DT: 0.776085583314499\n",
      "ROC_AUC Test for Manually Tuned DT: 0.6776692708333333\n"
     ]
    }
   ],
   "source": [
    "#much higher ROC AUC score and almost no overfitting\n",
    "print(\"ROC_AUC Train for Manually Tuned DT:\", roc_auc_score(Y0, Y0_pred))\n",
    "print(\"ROC_AUC Test for Manually Tuned DT:\", roc_auc_score(Y1, Y1_pred))"
   ]
  },
  {
   "cell_type": "code",
   "execution_count": 53,
   "metadata": {},
   "outputs": [
    {
     "name": "stdout",
     "output_type": "stream",
     "text": [
      "{'class_weight': 'balanced', 'max_depth': 4, 'min_samples_leaf': 80, 'n_estimators': 80}\n"
     ]
    }
   ],
   "source": [
    "gridsearch_rf = GridSearchCV(RandomForestClassifier(random_state=42),\n",
    "                          param_grid={'max_depth':range(1,5), 'n_estimators': range(10,100,10),\n",
    "                                      'class_weight':['balanced',None], 'min_samples_leaf': range(80,150,10)},\n",
    "                          cv=5,scoring=\"roc_auc\",n_jobs=-1).fit(X0,Y0)\n",
    "\n",
    "best_rf = gridsearch_rf.best_params_\n",
    "print(best_rf)"
   ]
  },
  {
   "cell_type": "code",
   "execution_count": 19,
   "metadata": {},
   "outputs": [
    {
     "data": {
      "text/plain": [
       "RandomForestClassifier(class_weight='balanced', max_depth=4,\n",
       "                       min_samples_leaf=80, n_estimators=80, random_state=42)"
      ]
     },
     "execution_count": 19,
     "metadata": {},
     "output_type": "execute_result"
    }
   ],
   "source": [
    "rf = RandomForestClassifier(class_weight='balanced', random_state=42, max_depth=4, n_estimators=80,\n",
    "                           min_samples_leaf=80)\n",
    "rf.fit(X0, Y0)"
   ]
  },
  {
   "cell_type": "code",
   "execution_count": 20,
   "metadata": {},
   "outputs": [],
   "source": [
    "#for classification you should predict probabilities\n",
    "Y0_pred=rf.predict_proba(X0)[:,1]\n",
    "Y1_pred=rf.predict_proba(X1)[:,1]"
   ]
  },
  {
   "cell_type": "code",
   "execution_count": 21,
   "metadata": {},
   "outputs": [
    {
     "name": "stdout",
     "output_type": "stream",
     "text": [
      "ROC_AUC Train for Manually Tuned DT: 0.8232468111986184\n",
      "ROC_AUC Test for Manually Tuned DT: 0.7026041666666667\n"
     ]
    }
   ],
   "source": [
    "#much higher ROC AUC score and almost no overfitting\n",
    "print(\"ROC_AUC Train for Manually Tuned DT:\", roc_auc_score(Y0, Y0_pred))\n",
    "print(\"ROC_AUC Test for Manually Tuned DT:\", roc_auc_score(Y1, Y1_pred))"
   ]
  },
  {
   "cell_type": "code",
   "execution_count": 23,
   "metadata": {
    "scrolled": true
   },
   "outputs": [
    {
     "data": {
      "text/html": [
       "<div>\n",
       "<style scoped>\n",
       "    .dataframe tbody tr th:only-of-type {\n",
       "        vertical-align: middle;\n",
       "    }\n",
       "\n",
       "    .dataframe tbody tr th {\n",
       "        vertical-align: top;\n",
       "    }\n",
       "\n",
       "    .dataframe thead th {\n",
       "        text-align: right;\n",
       "    }\n",
       "</style>\n",
       "<table border=\"1\" class=\"dataframe\">\n",
       "  <thead>\n",
       "    <tr style=\"text-align: right;\">\n",
       "      <th></th>\n",
       "      <th>imp</th>\n",
       "    </tr>\n",
       "  </thead>\n",
       "  <tbody>\n",
       "    <tr>\n",
       "      <th>MonthlyIncome</th>\n",
       "      <td>0.143328</td>\n",
       "    </tr>\n",
       "    <tr>\n",
       "      <th>OverTime_Yes</th>\n",
       "      <td>0.114966</td>\n",
       "    </tr>\n",
       "    <tr>\n",
       "      <th>Age</th>\n",
       "      <td>0.096081</td>\n",
       "    </tr>\n",
       "    <tr>\n",
       "      <th>StockOptionLevel</th>\n",
       "      <td>0.081534</td>\n",
       "    </tr>\n",
       "    <tr>\n",
       "      <th>TotalWorkingYears</th>\n",
       "      <td>0.080323</td>\n",
       "    </tr>\n",
       "    <tr>\n",
       "      <th>YearsInCurrentRole</th>\n",
       "      <td>0.079469</td>\n",
       "    </tr>\n",
       "    <tr>\n",
       "      <th>YearsWithCurrManager</th>\n",
       "      <td>0.066390</td>\n",
       "    </tr>\n",
       "    <tr>\n",
       "      <th>JobLevel</th>\n",
       "      <td>0.053541</td>\n",
       "    </tr>\n",
       "    <tr>\n",
       "      <th>MaritalStatus_Single</th>\n",
       "      <td>0.050071</td>\n",
       "    </tr>\n",
       "    <tr>\n",
       "      <th>YearsAtCompany</th>\n",
       "      <td>0.047432</td>\n",
       "    </tr>\n",
       "    <tr>\n",
       "      <th>DistanceFromHome</th>\n",
       "      <td>0.016305</td>\n",
       "    </tr>\n",
       "    <tr>\n",
       "      <th>NumCompaniesWorked</th>\n",
       "      <td>0.015569</td>\n",
       "    </tr>\n",
       "    <tr>\n",
       "      <th>EmployeeNumber</th>\n",
       "      <td>0.014908</td>\n",
       "    </tr>\n",
       "    <tr>\n",
       "      <th>EnvironmentSatisfaction</th>\n",
       "      <td>0.013418</td>\n",
       "    </tr>\n",
       "    <tr>\n",
       "      <th>DailyRate</th>\n",
       "      <td>0.012517</td>\n",
       "    </tr>\n",
       "    <tr>\n",
       "      <th>MaritalStatus_Married</th>\n",
       "      <td>0.012289</td>\n",
       "    </tr>\n",
       "    <tr>\n",
       "      <th>Department_Research &amp; Development</th>\n",
       "      <td>0.010694</td>\n",
       "    </tr>\n",
       "    <tr>\n",
       "      <th>clusters</th>\n",
       "      <td>0.010284</td>\n",
       "    </tr>\n",
       "    <tr>\n",
       "      <th>HourlyRate</th>\n",
       "      <td>0.009344</td>\n",
       "    </tr>\n",
       "    <tr>\n",
       "      <th>JobSatisfaction</th>\n",
       "      <td>0.007928</td>\n",
       "    </tr>\n",
       "    <tr>\n",
       "      <th>YearsSinceLastPromotion</th>\n",
       "      <td>0.007482</td>\n",
       "    </tr>\n",
       "    <tr>\n",
       "      <th>JobInvolvement</th>\n",
       "      <td>0.007063</td>\n",
       "    </tr>\n",
       "    <tr>\n",
       "      <th>RelationshipSatisfaction</th>\n",
       "      <td>0.006675</td>\n",
       "    </tr>\n",
       "    <tr>\n",
       "      <th>MonthlyRate</th>\n",
       "      <td>0.006668</td>\n",
       "    </tr>\n",
       "    <tr>\n",
       "      <th>EducationField_Life Sciences</th>\n",
       "      <td>0.006158</td>\n",
       "    </tr>\n",
       "    <tr>\n",
       "      <th>Department_Sales</th>\n",
       "      <td>0.005734</td>\n",
       "    </tr>\n",
       "    <tr>\n",
       "      <th>JobRole_Sales Executive</th>\n",
       "      <td>0.005111</td>\n",
       "    </tr>\n",
       "    <tr>\n",
       "      <th>EducationField_Medical</th>\n",
       "      <td>0.004315</td>\n",
       "    </tr>\n",
       "    <tr>\n",
       "      <th>PercentSalaryHike</th>\n",
       "      <td>0.003297</td>\n",
       "    </tr>\n",
       "    <tr>\n",
       "      <th>Gender_Male</th>\n",
       "      <td>0.003124</td>\n",
       "    </tr>\n",
       "    <tr>\n",
       "      <th>WorkLifeBalance</th>\n",
       "      <td>0.002743</td>\n",
       "    </tr>\n",
       "    <tr>\n",
       "      <th>TrainingTimesLastYear</th>\n",
       "      <td>0.001817</td>\n",
       "    </tr>\n",
       "    <tr>\n",
       "      <th>JobRole_Laboratory Technician</th>\n",
       "      <td>0.001509</td>\n",
       "    </tr>\n",
       "    <tr>\n",
       "      <th>Education</th>\n",
       "      <td>0.001181</td>\n",
       "    </tr>\n",
       "    <tr>\n",
       "      <th>JobRole_Research Scientist</th>\n",
       "      <td>0.000730</td>\n",
       "    </tr>\n",
       "    <tr>\n",
       "      <th>EducationField_Other</th>\n",
       "      <td>0.000000</td>\n",
       "    </tr>\n",
       "    <tr>\n",
       "      <th>EducationField_Marketing</th>\n",
       "      <td>0.000000</td>\n",
       "    </tr>\n",
       "    <tr>\n",
       "      <th>JobRole_Human Resources</th>\n",
       "      <td>0.000000</td>\n",
       "    </tr>\n",
       "    <tr>\n",
       "      <th>JobRole_Manager</th>\n",
       "      <td>0.000000</td>\n",
       "    </tr>\n",
       "    <tr>\n",
       "      <th>JobRole_Manufacturing Director</th>\n",
       "      <td>0.000000</td>\n",
       "    </tr>\n",
       "    <tr>\n",
       "      <th>JobRole_Research Director</th>\n",
       "      <td>0.000000</td>\n",
       "    </tr>\n",
       "    <tr>\n",
       "      <th>BusinessTravel_Travel_Rarely</th>\n",
       "      <td>0.000000</td>\n",
       "    </tr>\n",
       "    <tr>\n",
       "      <th>JobRole_Sales Representative</th>\n",
       "      <td>0.000000</td>\n",
       "    </tr>\n",
       "    <tr>\n",
       "      <th>BusinessTravel_Travel_Frequently</th>\n",
       "      <td>0.000000</td>\n",
       "    </tr>\n",
       "    <tr>\n",
       "      <th>PerformanceRating</th>\n",
       "      <td>0.000000</td>\n",
       "    </tr>\n",
       "    <tr>\n",
       "      <th>EducationField_Technical Degree</th>\n",
       "      <td>0.000000</td>\n",
       "    </tr>\n",
       "  </tbody>\n",
       "</table>\n",
       "</div>"
      ],
      "text/plain": [
       "                                        imp\n",
       "MonthlyIncome                      0.143328\n",
       "OverTime_Yes                       0.114966\n",
       "Age                                0.096081\n",
       "StockOptionLevel                   0.081534\n",
       "TotalWorkingYears                  0.080323\n",
       "YearsInCurrentRole                 0.079469\n",
       "YearsWithCurrManager               0.066390\n",
       "JobLevel                           0.053541\n",
       "MaritalStatus_Single               0.050071\n",
       "YearsAtCompany                     0.047432\n",
       "DistanceFromHome                   0.016305\n",
       "NumCompaniesWorked                 0.015569\n",
       "EmployeeNumber                     0.014908\n",
       "EnvironmentSatisfaction            0.013418\n",
       "DailyRate                          0.012517\n",
       "MaritalStatus_Married              0.012289\n",
       "Department_Research & Development  0.010694\n",
       "clusters                           0.010284\n",
       "HourlyRate                         0.009344\n",
       "JobSatisfaction                    0.007928\n",
       "YearsSinceLastPromotion            0.007482\n",
       "JobInvolvement                     0.007063\n",
       "RelationshipSatisfaction           0.006675\n",
       "MonthlyRate                        0.006668\n",
       "EducationField_Life Sciences       0.006158\n",
       "Department_Sales                   0.005734\n",
       "JobRole_Sales Executive            0.005111\n",
       "EducationField_Medical             0.004315\n",
       "PercentSalaryHike                  0.003297\n",
       "Gender_Male                        0.003124\n",
       "WorkLifeBalance                    0.002743\n",
       "TrainingTimesLastYear              0.001817\n",
       "JobRole_Laboratory Technician      0.001509\n",
       "Education                          0.001181\n",
       "JobRole_Research Scientist         0.000730\n",
       "EducationField_Other               0.000000\n",
       "EducationField_Marketing           0.000000\n",
       "JobRole_Human Resources            0.000000\n",
       "JobRole_Manager                    0.000000\n",
       "JobRole_Manufacturing Director     0.000000\n",
       "JobRole_Research Director          0.000000\n",
       "BusinessTravel_Travel_Rarely       0.000000\n",
       "JobRole_Sales Representative       0.000000\n",
       "BusinessTravel_Travel_Frequently   0.000000\n",
       "PerformanceRating                  0.000000\n",
       "EducationField_Technical Degree    0.000000"
      ]
     },
     "execution_count": 23,
     "metadata": {},
     "output_type": "execute_result"
    }
   ],
   "source": [
    "# feature importance\n",
    "pd.DataFrame(rf.feature_importances_, X0.columns.tolist(),columns=['imp']).sort_values(by='imp',ascending=False)"
   ]
  },
  {
   "cell_type": "markdown",
   "metadata": {},
   "source": [
    "## Gradient Boosting"
   ]
  },
  {
   "cell_type": "code",
   "execution_count": 57,
   "metadata": {},
   "outputs": [
    {
     "data": {
      "text/plain": [
       "GradientBoostingClassifier(learning_rate=0.01, max_depth=4, n_estimators=200,\n",
       "                           random_state=42)"
      ]
     },
     "execution_count": 57,
     "metadata": {},
     "output_type": "execute_result"
    }
   ],
   "source": [
    "gbm=GradientBoostingClassifier(random_state=42, max_depth=4, learning_rate=0.01, n_estimators=200)\n",
    "gbm.fit(X0, Y0)"
   ]
  },
  {
   "cell_type": "code",
   "execution_count": 58,
   "metadata": {},
   "outputs": [],
   "source": [
    "#for classification you should predict probabilities\n",
    "Y0_pred=gbm.predict_proba(X0)[:,1]\n",
    "Y1_pred=gbm.predict_proba(X1)[:,1]"
   ]
  },
  {
   "cell_type": "code",
   "execution_count": 59,
   "metadata": {},
   "outputs": [
    {
     "name": "stdout",
     "output_type": "stream",
     "text": [
      "ROC_AUC Train for Manually Tuned DT: 0.9576545721124035\n",
      "ROC_AUC Test for Manually Tuned DT: 0.7254557291666667\n"
     ]
    }
   ],
   "source": [
    "#much higher ROC AUC score and almost no overfitting\n",
    "print(\"ROC_AUC Train for Manually Tuned DT:\", roc_auc_score(Y0, Y0_pred))\n",
    "print(\"ROC_AUC Test for Manually Tuned DT:\", roc_auc_score(Y1, Y1_pred))"
   ]
  },
  {
   "cell_type": "code",
   "execution_count": 60,
   "metadata": {},
   "outputs": [
    {
     "name": "stdout",
     "output_type": "stream",
     "text": [
      "{'learning_rate': 0.007, 'max_depth': 4, 'n_estimators': 40}\n",
      "CPU times: user 1.77 s, sys: 89 ms, total: 1.86 s\n",
      "Wall time: 40.8 s\n"
     ]
    }
   ],
   "source": [
    "%%time\n",
    "gridsearch_rf = GridSearchCV(GradientBoostingClassifier(random_state=42),\n",
    "                          param_grid={'max_depth':range(1,5),'n_estimators': range(10,60,10), \n",
    "                                      'learning_rate': np.linspace(0.001,0.01, 10)},\n",
    "                          cv=5,scoring=\"roc_auc\",n_jobs=-1).fit(X0,Y0)\n",
    "best_rf = gridsearch_rf.best_params_\n",
    "print(best_rf)"
   ]
  },
  {
   "cell_type": "code",
   "execution_count": 24,
   "metadata": {},
   "outputs": [
    {
     "data": {
      "text/plain": [
       "GradientBoostingClassifier(learning_rate=0.007, max_depth=4, n_estimators=40,\n",
       "                           random_state=42)"
      ]
     },
     "execution_count": 24,
     "metadata": {},
     "output_type": "execute_result"
    }
   ],
   "source": [
    "gbm=GradientBoostingClassifier(random_state=42, max_depth=4, learning_rate=0.007, n_estimators=40)\n",
    "gbm.fit(X0, Y0)"
   ]
  },
  {
   "cell_type": "code",
   "execution_count": 25,
   "metadata": {},
   "outputs": [],
   "source": [
    "#for classification you should predict probabilities\n",
    "Y0_pred=gbm.predict_proba(X0)[:,1]\n",
    "Y1_pred=gbm.predict_proba(X1)[:,1]"
   ]
  },
  {
   "cell_type": "code",
   "execution_count": 26,
   "metadata": {},
   "outputs": [
    {
     "name": "stdout",
     "output_type": "stream",
     "text": [
      "ROC_AUC Train for Manually Tuned DT: 0.8669280295786319\n",
      "ROC_AUC Test for Manually Tuned DT: 0.6859375\n"
     ]
    }
   ],
   "source": [
    "#much higher ROC AUC score and almost no overfitting\n",
    "print(\"ROC_AUC Train for Manually Tuned DT:\", roc_auc_score(Y0, Y0_pred))\n",
    "print(\"ROC_AUC Test for Manually Tuned DT:\", roc_auc_score(Y1, Y1_pred))"
   ]
  },
  {
   "cell_type": "code",
   "execution_count": 27,
   "metadata": {
    "scrolled": true
   },
   "outputs": [
    {
     "data": {
      "text/html": [
       "<div>\n",
       "<style scoped>\n",
       "    .dataframe tbody tr th:only-of-type {\n",
       "        vertical-align: middle;\n",
       "    }\n",
       "\n",
       "    .dataframe tbody tr th {\n",
       "        vertical-align: top;\n",
       "    }\n",
       "\n",
       "    .dataframe thead th {\n",
       "        text-align: right;\n",
       "    }\n",
       "</style>\n",
       "<table border=\"1\" class=\"dataframe\">\n",
       "  <thead>\n",
       "    <tr style=\"text-align: right;\">\n",
       "      <th></th>\n",
       "      <th>imp</th>\n",
       "    </tr>\n",
       "  </thead>\n",
       "  <tbody>\n",
       "    <tr>\n",
       "      <th>MonthlyIncome</th>\n",
       "      <td>2.468979e-01</td>\n",
       "    </tr>\n",
       "    <tr>\n",
       "      <th>OverTime_Yes</th>\n",
       "      <td>2.167961e-01</td>\n",
       "    </tr>\n",
       "    <tr>\n",
       "      <th>TotalWorkingYears</th>\n",
       "      <td>1.116366e-01</td>\n",
       "    </tr>\n",
       "    <tr>\n",
       "      <th>DailyRate</th>\n",
       "      <td>7.062756e-02</td>\n",
       "    </tr>\n",
       "    <tr>\n",
       "      <th>MaritalStatus_Single</th>\n",
       "      <td>6.888543e-02</td>\n",
       "    </tr>\n",
       "    <tr>\n",
       "      <th>YearsSinceLastPromotion</th>\n",
       "      <td>3.227897e-02</td>\n",
       "    </tr>\n",
       "    <tr>\n",
       "      <th>YearsInCurrentRole</th>\n",
       "      <td>3.004572e-02</td>\n",
       "    </tr>\n",
       "    <tr>\n",
       "      <th>StockOptionLevel</th>\n",
       "      <td>2.521920e-02</td>\n",
       "    </tr>\n",
       "    <tr>\n",
       "      <th>YearsAtCompany</th>\n",
       "      <td>2.406372e-02</td>\n",
       "    </tr>\n",
       "    <tr>\n",
       "      <th>JobSatisfaction</th>\n",
       "      <td>2.320571e-02</td>\n",
       "    </tr>\n",
       "    <tr>\n",
       "      <th>HourlyRate</th>\n",
       "      <td>2.310409e-02</td>\n",
       "    </tr>\n",
       "    <tr>\n",
       "      <th>Age</th>\n",
       "      <td>2.157153e-02</td>\n",
       "    </tr>\n",
       "    <tr>\n",
       "      <th>NumCompaniesWorked</th>\n",
       "      <td>2.064123e-02</td>\n",
       "    </tr>\n",
       "    <tr>\n",
       "      <th>JobRole_Research Scientist</th>\n",
       "      <td>1.588574e-02</td>\n",
       "    </tr>\n",
       "    <tr>\n",
       "      <th>MonthlyRate</th>\n",
       "      <td>1.522066e-02</td>\n",
       "    </tr>\n",
       "    <tr>\n",
       "      <th>Department_Sales</th>\n",
       "      <td>1.164452e-02</td>\n",
       "    </tr>\n",
       "    <tr>\n",
       "      <th>BusinessTravel_Travel_Frequently</th>\n",
       "      <td>1.162514e-02</td>\n",
       "    </tr>\n",
       "    <tr>\n",
       "      <th>EmployeeNumber</th>\n",
       "      <td>9.096094e-03</td>\n",
       "    </tr>\n",
       "    <tr>\n",
       "      <th>EnvironmentSatisfaction</th>\n",
       "      <td>6.837229e-03</td>\n",
       "    </tr>\n",
       "    <tr>\n",
       "      <th>JobInvolvement</th>\n",
       "      <td>5.158489e-03</td>\n",
       "    </tr>\n",
       "    <tr>\n",
       "      <th>JobLevel</th>\n",
       "      <td>3.355834e-03</td>\n",
       "    </tr>\n",
       "    <tr>\n",
       "      <th>TrainingTimesLastYear</th>\n",
       "      <td>2.282133e-03</td>\n",
       "    </tr>\n",
       "    <tr>\n",
       "      <th>EducationField_Medical</th>\n",
       "      <td>1.750346e-03</td>\n",
       "    </tr>\n",
       "    <tr>\n",
       "      <th>EducationField_Other</th>\n",
       "      <td>1.475703e-03</td>\n",
       "    </tr>\n",
       "    <tr>\n",
       "      <th>WorkLifeBalance</th>\n",
       "      <td>6.941046e-04</td>\n",
       "    </tr>\n",
       "    <tr>\n",
       "      <th>PercentSalaryHike</th>\n",
       "      <td>2.243061e-07</td>\n",
       "    </tr>\n",
       "    <tr>\n",
       "      <th>JobRole_Human Resources</th>\n",
       "      <td>0.000000e+00</td>\n",
       "    </tr>\n",
       "    <tr>\n",
       "      <th>JobRole_Sales Executive</th>\n",
       "      <td>0.000000e+00</td>\n",
       "    </tr>\n",
       "    <tr>\n",
       "      <th>JobRole_Sales Representative</th>\n",
       "      <td>0.000000e+00</td>\n",
       "    </tr>\n",
       "    <tr>\n",
       "      <th>MaritalStatus_Married</th>\n",
       "      <td>0.000000e+00</td>\n",
       "    </tr>\n",
       "    <tr>\n",
       "      <th>JobRole_Research Director</th>\n",
       "      <td>0.000000e+00</td>\n",
       "    </tr>\n",
       "    <tr>\n",
       "      <th>JobRole_Manufacturing Director</th>\n",
       "      <td>0.000000e+00</td>\n",
       "    </tr>\n",
       "    <tr>\n",
       "      <th>JobRole_Manager</th>\n",
       "      <td>0.000000e+00</td>\n",
       "    </tr>\n",
       "    <tr>\n",
       "      <th>JobRole_Laboratory Technician</th>\n",
       "      <td>0.000000e+00</td>\n",
       "    </tr>\n",
       "    <tr>\n",
       "      <th>YearsWithCurrManager</th>\n",
       "      <td>0.000000e+00</td>\n",
       "    </tr>\n",
       "    <tr>\n",
       "      <th>Gender_Male</th>\n",
       "      <td>0.000000e+00</td>\n",
       "    </tr>\n",
       "    <tr>\n",
       "      <th>EducationField_Technical Degree</th>\n",
       "      <td>0.000000e+00</td>\n",
       "    </tr>\n",
       "    <tr>\n",
       "      <th>EducationField_Marketing</th>\n",
       "      <td>0.000000e+00</td>\n",
       "    </tr>\n",
       "    <tr>\n",
       "      <th>EducationField_Life Sciences</th>\n",
       "      <td>0.000000e+00</td>\n",
       "    </tr>\n",
       "    <tr>\n",
       "      <th>Department_Research &amp; Development</th>\n",
       "      <td>0.000000e+00</td>\n",
       "    </tr>\n",
       "    <tr>\n",
       "      <th>BusinessTravel_Travel_Rarely</th>\n",
       "      <td>0.000000e+00</td>\n",
       "    </tr>\n",
       "    <tr>\n",
       "      <th>RelationshipSatisfaction</th>\n",
       "      <td>0.000000e+00</td>\n",
       "    </tr>\n",
       "    <tr>\n",
       "      <th>PerformanceRating</th>\n",
       "      <td>0.000000e+00</td>\n",
       "    </tr>\n",
       "    <tr>\n",
       "      <th>Education</th>\n",
       "      <td>0.000000e+00</td>\n",
       "    </tr>\n",
       "    <tr>\n",
       "      <th>DistanceFromHome</th>\n",
       "      <td>0.000000e+00</td>\n",
       "    </tr>\n",
       "    <tr>\n",
       "      <th>clusters</th>\n",
       "      <td>0.000000e+00</td>\n",
       "    </tr>\n",
       "  </tbody>\n",
       "</table>\n",
       "</div>"
      ],
      "text/plain": [
       "                                            imp\n",
       "MonthlyIncome                      2.468979e-01\n",
       "OverTime_Yes                       2.167961e-01\n",
       "TotalWorkingYears                  1.116366e-01\n",
       "DailyRate                          7.062756e-02\n",
       "MaritalStatus_Single               6.888543e-02\n",
       "YearsSinceLastPromotion            3.227897e-02\n",
       "YearsInCurrentRole                 3.004572e-02\n",
       "StockOptionLevel                   2.521920e-02\n",
       "YearsAtCompany                     2.406372e-02\n",
       "JobSatisfaction                    2.320571e-02\n",
       "HourlyRate                         2.310409e-02\n",
       "Age                                2.157153e-02\n",
       "NumCompaniesWorked                 2.064123e-02\n",
       "JobRole_Research Scientist         1.588574e-02\n",
       "MonthlyRate                        1.522066e-02\n",
       "Department_Sales                   1.164452e-02\n",
       "BusinessTravel_Travel_Frequently   1.162514e-02\n",
       "EmployeeNumber                     9.096094e-03\n",
       "EnvironmentSatisfaction            6.837229e-03\n",
       "JobInvolvement                     5.158489e-03\n",
       "JobLevel                           3.355834e-03\n",
       "TrainingTimesLastYear              2.282133e-03\n",
       "EducationField_Medical             1.750346e-03\n",
       "EducationField_Other               1.475703e-03\n",
       "WorkLifeBalance                    6.941046e-04\n",
       "PercentSalaryHike                  2.243061e-07\n",
       "JobRole_Human Resources            0.000000e+00\n",
       "JobRole_Sales Executive            0.000000e+00\n",
       "JobRole_Sales Representative       0.000000e+00\n",
       "MaritalStatus_Married              0.000000e+00\n",
       "JobRole_Research Director          0.000000e+00\n",
       "JobRole_Manufacturing Director     0.000000e+00\n",
       "JobRole_Manager                    0.000000e+00\n",
       "JobRole_Laboratory Technician      0.000000e+00\n",
       "YearsWithCurrManager               0.000000e+00\n",
       "Gender_Male                        0.000000e+00\n",
       "EducationField_Technical Degree    0.000000e+00\n",
       "EducationField_Marketing           0.000000e+00\n",
       "EducationField_Life Sciences       0.000000e+00\n",
       "Department_Research & Development  0.000000e+00\n",
       "BusinessTravel_Travel_Rarely       0.000000e+00\n",
       "RelationshipSatisfaction           0.000000e+00\n",
       "PerformanceRating                  0.000000e+00\n",
       "Education                          0.000000e+00\n",
       "DistanceFromHome                   0.000000e+00\n",
       "clusters                           0.000000e+00"
      ]
     },
     "execution_count": 27,
     "metadata": {},
     "output_type": "execute_result"
    }
   ],
   "source": [
    "# feature importance\n",
    "pd.DataFrame(gbm.feature_importances_, X0.columns.tolist(), columns=['imp']).sort_values(by='imp', ascending=False)"
   ]
  },
  {
   "cell_type": "code",
   "execution_count": null,
   "metadata": {},
   "outputs": [],
   "source": []
  }
 ],
 "metadata": {
  "kernelspec": {
   "display_name": "Python 3",
   "language": "python",
   "name": "python3"
  },
  "language_info": {
   "codemirror_mode": {
    "name": "ipython",
    "version": 3
   },
   "file_extension": ".py",
   "mimetype": "text/x-python",
   "name": "python",
   "nbconvert_exporter": "python",
   "pygments_lexer": "ipython3",
   "version": "3.8.3"
  }
 },
 "nbformat": 4,
 "nbformat_minor": 4
}
