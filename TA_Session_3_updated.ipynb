{
 "cells": [
  {
   "cell_type": "markdown",
   "metadata": {},
   "source": [
    "# Linear Regression Extended"
   ]
  },
  {
   "cell_type": "code",
   "execution_count": 436,
   "metadata": {},
   "outputs": [],
   "source": [
    "import pandas as pd\n",
    "import matplotlib.pyplot as plt\n",
    "import numpy as np\n",
    "from statsmodels.formula.api import ols #for linear regression\n",
    "import seaborn as sns #for heatmap\n",
    "import statsmodels.api as sm\n",
    "from scipy import stats\n",
    "from sklearn.metrics import r2_score #R-squared\n",
    "from sklearn.model_selection import train_test_split #for train and test split\n",
    "from statsmodels.api import qqplot \n",
    "from scipy.stats import shapiro,ttest_ind\n",
    "from statsmodels.stats.diagnostic import het_breuschpagan,linear_rainbow  \n",
    "from sklearn import linear_model\n",
    "from statsmodels.stats.outliers_influence import variance_inflation_factor"
   ]
  },
  {
   "cell_type": "markdown",
   "metadata": {},
   "source": [
    "# Data Description & Pre-Processing"
   ]
  },
  {
   "cell_type": "code",
   "execution_count": 437,
   "metadata": {},
   "outputs": [],
   "source": [
    "# read the data\n",
    "data = pd.read_csv(\"HPI.csv\")"
   ]
  },
  {
   "cell_type": "code",
   "execution_count": 438,
   "metadata": {},
   "outputs": [
    {
     "data": {
      "text/html": [
       "<div>\n",
       "<style scoped>\n",
       "    .dataframe tbody tr th:only-of-type {\n",
       "        vertical-align: middle;\n",
       "    }\n",
       "\n",
       "    .dataframe tbody tr th {\n",
       "        vertical-align: top;\n",
       "    }\n",
       "\n",
       "    .dataframe thead th {\n",
       "        text-align: right;\n",
       "    }\n",
       "</style>\n",
       "<table border=\"1\" class=\"dataframe\">\n",
       "  <thead>\n",
       "    <tr style=\"text-align: right;\">\n",
       "      <th></th>\n",
       "      <th>City</th>\n",
       "      <th>Floor</th>\n",
       "      <th>Rooms</th>\n",
       "      <th>Sqm</th>\n",
       "      <th>District</th>\n",
       "      <th>Broker</th>\n",
       "      <th>Currency</th>\n",
       "      <th>HTML_ID</th>\n",
       "      <th>Agency</th>\n",
       "      <th>Type</th>\n",
       "      <th>Source</th>\n",
       "      <th>nFloor</th>\n",
       "      <th>Price</th>\n",
       "      <th>ID</th>\n",
       "      <th>Price_USD</th>\n",
       "      <th>price_per_sqm</th>\n",
       "    </tr>\n",
       "  </thead>\n",
       "  <tbody>\n",
       "    <tr>\n",
       "      <th>0</th>\n",
       "      <td>Երևան</td>\n",
       "      <td>9.0</td>\n",
       "      <td>3.0</td>\n",
       "      <td>124.0</td>\n",
       "      <td>կենտրոն</td>\n",
       "      <td>գործակալ</td>\n",
       "      <td>$</td>\n",
       "      <td>0</td>\n",
       "      <td>1.0</td>\n",
       "      <td>Մոնոլիտ</td>\n",
       "      <td>my_realty</td>\n",
       "      <td>10.0</td>\n",
       "      <td>250000.0</td>\n",
       "      <td>93497.0</td>\n",
       "      <td>250000.0</td>\n",
       "      <td>2016.13</td>\n",
       "    </tr>\n",
       "    <tr>\n",
       "      <th>1</th>\n",
       "      <td>Երևան</td>\n",
       "      <td>1.0</td>\n",
       "      <td>4.0</td>\n",
       "      <td>84.0</td>\n",
       "      <td>քանաքեռ_զեյթուն</td>\n",
       "      <td>գործակալություն</td>\n",
       "      <td>$</td>\n",
       "      <td>1</td>\n",
       "      <td>1.0</td>\n",
       "      <td>Քարե</td>\n",
       "      <td>my_realty</td>\n",
       "      <td>2.0</td>\n",
       "      <td>70000.0</td>\n",
       "      <td>93495.0</td>\n",
       "      <td>70000.0</td>\n",
       "      <td>833.33</td>\n",
       "    </tr>\n",
       "    <tr>\n",
       "      <th>2</th>\n",
       "      <td>Երևան</td>\n",
       "      <td>1.0</td>\n",
       "      <td>2.0</td>\n",
       "      <td>58.0</td>\n",
       "      <td>մալաթիա_սեբաստիա</td>\n",
       "      <td>գործակալ</td>\n",
       "      <td>$</td>\n",
       "      <td>2</td>\n",
       "      <td>1.0</td>\n",
       "      <td>Պանելային</td>\n",
       "      <td>my_realty</td>\n",
       "      <td>9.0</td>\n",
       "      <td>48000.0</td>\n",
       "      <td>93490.0</td>\n",
       "      <td>48000.0</td>\n",
       "      <td>827.59</td>\n",
       "    </tr>\n",
       "    <tr>\n",
       "      <th>3</th>\n",
       "      <td>Երևան</td>\n",
       "      <td>5.0</td>\n",
       "      <td>2.0</td>\n",
       "      <td>64.0</td>\n",
       "      <td>արաբկիր</td>\n",
       "      <td>գործակալություն</td>\n",
       "      <td>$</td>\n",
       "      <td>3</td>\n",
       "      <td>1.0</td>\n",
       "      <td>Քարե</td>\n",
       "      <td>my_realty</td>\n",
       "      <td>5.0</td>\n",
       "      <td>80000.0</td>\n",
       "      <td>85156.0</td>\n",
       "      <td>80000.0</td>\n",
       "      <td>1250.00</td>\n",
       "    </tr>\n",
       "    <tr>\n",
       "      <th>4</th>\n",
       "      <td>Երևան</td>\n",
       "      <td>1.0</td>\n",
       "      <td>3.0</td>\n",
       "      <td>65.0</td>\n",
       "      <td>կենտրոն</td>\n",
       "      <td>գործակալություն</td>\n",
       "      <td>$</td>\n",
       "      <td>4</td>\n",
       "      <td>1.0</td>\n",
       "      <td>Քարե</td>\n",
       "      <td>my_realty</td>\n",
       "      <td>14.0</td>\n",
       "      <td>62000.0</td>\n",
       "      <td>59140.0</td>\n",
       "      <td>62000.0</td>\n",
       "      <td>953.85</td>\n",
       "    </tr>\n",
       "  </tbody>\n",
       "</table>\n",
       "</div>"
      ],
      "text/plain": [
       "    City Floor  Rooms    Sqm          District           Broker Currency  \\\n",
       "0  Երևան   9.0    3.0  124.0           կենտրոն         գործակալ        $   \n",
       "1  Երևան   1.0    4.0   84.0   քանաքեռ_զեյթուն  գործակալություն        $   \n",
       "2  Երևան   1.0    2.0   58.0  մալաթիա_սեբաստիա         գործակալ        $   \n",
       "3  Երևան   5.0    2.0   64.0           արաբկիր  գործակալություն        $   \n",
       "4  Երևան   1.0    3.0   65.0           կենտրոն  գործակալություն        $   \n",
       "\n",
       "   HTML_ID  Agency       Type     Source  nFloor     Price       ID  \\\n",
       "0        0     1.0    Մոնոլիտ  my_realty    10.0  250000.0  93497.0   \n",
       "1        1     1.0       Քարե  my_realty     2.0   70000.0  93495.0   \n",
       "2        2     1.0  Պանելային  my_realty     9.0   48000.0  93490.0   \n",
       "3        3     1.0       Քարե  my_realty     5.0   80000.0  85156.0   \n",
       "4        4     1.0       Քարե  my_realty    14.0   62000.0  59140.0   \n",
       "\n",
       "   Price_USD  price_per_sqm  \n",
       "0   250000.0        2016.13  \n",
       "1    70000.0         833.33  \n",
       "2    48000.0         827.59  \n",
       "3    80000.0        1250.00  \n",
       "4    62000.0         953.85  "
      ]
     },
     "execution_count": 438,
     "metadata": {},
     "output_type": "execute_result"
    }
   ],
   "source": [
    "data.head()"
   ]
  },
  {
   "cell_type": "code",
   "execution_count": 439,
   "metadata": {},
   "outputs": [
    {
     "name": "stdout",
     "output_type": "stream",
     "text": [
      "['City', 'Floor', 'Rooms', 'Sqm', 'District', 'Broker', 'Currency', 'HTML_ID', 'Agency', 'Type', 'Source', 'nFloor', 'Price', 'ID', 'Price_USD', 'price_per_sqm']\n"
     ]
    }
   ],
   "source": [
    "# examine column names\n",
    "print(data.columns.tolist())"
   ]
  },
  {
   "cell_type": "code",
   "execution_count": 440,
   "metadata": {},
   "outputs": [
    {
     "name": "stdout",
     "output_type": "stream",
     "text": [
      "<class 'pandas.core.frame.DataFrame'>\n",
      "RangeIndex: 31117 entries, 0 to 31116\n",
      "Data columns (total 16 columns):\n",
      " #   Column         Non-Null Count  Dtype  \n",
      "---  ------         --------------  -----  \n",
      " 0   City           31117 non-null  object \n",
      " 1   Floor          31117 non-null  object \n",
      " 2   Rooms          31117 non-null  float64\n",
      " 3   Sqm            31117 non-null  float64\n",
      " 4   District       31117 non-null  object \n",
      " 5   Broker         10794 non-null  object \n",
      " 6   Currency       31117 non-null  object \n",
      " 7   HTML_ID        31117 non-null  int64  \n",
      " 8   Agency         31117 non-null  float64\n",
      " 9   Type           31117 non-null  object \n",
      " 10  Source         31117 non-null  object \n",
      " 11  nFloor         31117 non-null  float64\n",
      " 12  Price          31117 non-null  float64\n",
      " 13  ID             31117 non-null  float64\n",
      " 14  Price_USD      31117 non-null  float64\n",
      " 15  price_per_sqm  31117 non-null  float64\n",
      "dtypes: float64(8), int64(1), object(7)\n",
      "memory usage: 3.8+ MB\n"
     ]
    }
   ],
   "source": [
    "data.info()"
   ]
  },
  {
   "cell_type": "code",
   "execution_count": 441,
   "metadata": {},
   "outputs": [
    {
     "name": "stdout",
     "output_type": "stream",
     "text": [
      "Type_Old: <class 'str'>\n"
     ]
    }
   ],
   "source": [
    "# we sede some mistake becayse Floor isn in the object part, but it need to be numeric\n",
    "# after checking its type we see that it is mistakenly understood as a string, so we need to change it to number\n",
    "print('Type_Old:', type(data.Floor.iloc[0]))"
   ]
  },
  {
   "cell_type": "code",
   "execution_count": 442,
   "metadata": {},
   "outputs": [
    {
     "data": {
      "text/plain": [
       "array(['9.0', '1.0', '5.0', '3.0', '2.0', '14.0', '4.0', '12.0', '7.0',\n",
       "       '8.0', '10.0', '6.0', '16.0', '11.0', '13.0', '15.0', '17.0',\n",
       "       '20.0', '21.0', '19.0', '22.0', '18.0', '0.0', '23.0', '4 ', '10 ',\n",
       "       '2 ', '3 ', '1 ', '7 ', '12 ', '9 ', '8 ', '14 ', '5 ', '6 ',\n",
       "       '13 ', '11 ', '15 ', '16 ', '18 ', '17 ', 'Նկուղ ', '22 ', '19 ',\n",
       "       '21 ', '23 '], dtype=object)"
      ]
     },
     "execution_count": 442,
     "metadata": {},
     "output_type": "execute_result"
    }
   ],
   "source": [
    "data.Floor.unique()"
   ]
  },
  {
   "cell_type": "code",
   "execution_count": 443,
   "metadata": {
    "scrolled": true
   },
   "outputs": [
    {
     "data": {
      "text/html": [
       "<div>\n",
       "<style scoped>\n",
       "    .dataframe tbody tr th:only-of-type {\n",
       "        vertical-align: middle;\n",
       "    }\n",
       "\n",
       "    .dataframe tbody tr th {\n",
       "        vertical-align: top;\n",
       "    }\n",
       "\n",
       "    .dataframe thead th {\n",
       "        text-align: right;\n",
       "    }\n",
       "</style>\n",
       "<table border=\"1\" class=\"dataframe\">\n",
       "  <thead>\n",
       "    <tr style=\"text-align: right;\">\n",
       "      <th></th>\n",
       "      <th>City</th>\n",
       "      <th>Floor</th>\n",
       "      <th>Rooms</th>\n",
       "      <th>Sqm</th>\n",
       "      <th>District</th>\n",
       "      <th>Broker</th>\n",
       "      <th>Currency</th>\n",
       "      <th>HTML_ID</th>\n",
       "      <th>Agency</th>\n",
       "      <th>Type</th>\n",
       "      <th>Source</th>\n",
       "      <th>nFloor</th>\n",
       "      <th>Price</th>\n",
       "      <th>ID</th>\n",
       "      <th>Price_USD</th>\n",
       "      <th>price_per_sqm</th>\n",
       "    </tr>\n",
       "  </thead>\n",
       "  <tbody>\n",
       "    <tr>\n",
       "      <th>8250</th>\n",
       "      <td>Երևան</td>\n",
       "      <td>Նկուղ</td>\n",
       "      <td>3.0</td>\n",
       "      <td>100.0</td>\n",
       "      <td>արաբկիր</td>\n",
       "      <td>ԿԵՆՏՐՈՆ</td>\n",
       "      <td>$</td>\n",
       "      <td>467</td>\n",
       "      <td>1.0</td>\n",
       "      <td>Այլ</td>\n",
       "      <td>real_estate</td>\n",
       "      <td>3.0</td>\n",
       "      <td>110000.0</td>\n",
       "      <td>4420.0</td>\n",
       "      <td>110000.0</td>\n",
       "      <td>1100.00</td>\n",
       "    </tr>\n",
       "    <tr>\n",
       "      <th>9803</th>\n",
       "      <td>Երևան</td>\n",
       "      <td>Նկուղ</td>\n",
       "      <td>3.0</td>\n",
       "      <td>110.0</td>\n",
       "      <td>արաբկիր</td>\n",
       "      <td>ՆաիրաԴանիելյան</td>\n",
       "      <td>$</td>\n",
       "      <td>2037</td>\n",
       "      <td>1.0</td>\n",
       "      <td>Քարե</td>\n",
       "      <td>real_estate</td>\n",
       "      <td>1.0</td>\n",
       "      <td>123000.0</td>\n",
       "      <td>110032.0</td>\n",
       "      <td>123000.0</td>\n",
       "      <td>1118.18</td>\n",
       "    </tr>\n",
       "  </tbody>\n",
       "</table>\n",
       "</div>"
      ],
      "text/plain": [
       "       City   Floor  Rooms    Sqm District          Broker Currency  HTML_ID  \\\n",
       "8250  Երևան  Նկուղ     3.0  100.0  արաբկիր         ԿԵՆՏՐՈՆ        $      467   \n",
       "9803  Երևան  Նկուղ     3.0  110.0  արաբկիր  ՆաիրաԴանիելյան        $     2037   \n",
       "\n",
       "      Agency  Type       Source  nFloor     Price        ID  Price_USD  \\\n",
       "8250     1.0   Այլ  real_estate     3.0  110000.0    4420.0   110000.0   \n",
       "9803     1.0  Քարե  real_estate     1.0  123000.0  110032.0   123000.0   \n",
       "\n",
       "      price_per_sqm  \n",
       "8250        1100.00  \n",
       "9803        1118.18  "
      ]
     },
     "execution_count": 443,
     "metadata": {},
     "output_type": "execute_result"
    }
   ],
   "source": [
    "data[data.Floor=='Նկուղ ']"
   ]
  },
  {
   "cell_type": "code",
   "execution_count": 444,
   "metadata": {},
   "outputs": [],
   "source": [
    "data = data[data.Floor!='Նկուղ '].reset_index(drop=True)\n",
    "data.Floor = data.Floor.astype(float)"
   ]
  },
  {
   "cell_type": "code",
   "execution_count": 445,
   "metadata": {},
   "outputs": [
    {
     "data": {
      "text/plain": [
       "կենտրոն             9603\n",
       "արաբկիր             7062\n",
       "0                   2688\n",
       "շենգավիթ            2376\n",
       "աջափնյակ            1612\n",
       "նորք                1532\n",
       "դավթաշեն            1458\n",
       "մալաթիա             1233\n",
       "ավան                 905\n",
       "քանաքեռ              893\n",
       "նոր_նորք             516\n",
       "էրեբունի             468\n",
       "քանաքեռ_զեյթուն      410\n",
       "մալաթիա_սեբաստիա     328\n",
       "այլ                   31\n",
       "Name: District, dtype: int64"
      ]
     },
     "execution_count": 445,
     "metadata": {},
     "output_type": "execute_result"
    }
   ],
   "source": [
    "data.District.value_counts()"
   ]
  },
  {
   "cell_type": "code",
   "execution_count": 446,
   "metadata": {},
   "outputs": [],
   "source": [
    "# combine District values 0 and այլ, because they convey the sane meaning\n",
    "data.District = np.where(data.District == '0', 'այլ', data.District)"
   ]
  },
  {
   "cell_type": "code",
   "execution_count": 447,
   "metadata": {},
   "outputs": [
    {
     "name": "stdout",
     "output_type": "stream",
     "text": [
      "City 5 \n",
      " երևան      19723\n",
      "Երևան      10792\n",
      "yerevan      539\n",
      "ереван        56\n",
      "erevan         5\n",
      "Name: City, dtype: int64\n",
      "Rooms 7 \n",
      " 3.0    13755\n",
      "2.0     8433\n",
      "4.0     4895\n",
      "1.0     3195\n",
      "5.0      629\n",
      "6.0      158\n",
      "7.0       50\n",
      "Name: Rooms, dtype: int64\n",
      "Currency 3 \n",
      " $    31105\n",
      "€        6\n",
      "֏        4\n",
      "Name: Currency, dtype: int64\n",
      "Agency 2 \n",
      " 1.0    30629\n",
      "0.0      486\n",
      "Name: Agency, dtype: int64\n",
      "Type 6 \n",
      " Քարե         12355\n",
      "Պանելային    11546\n",
      "Մոնոլիտ       6350\n",
      "Այլ            717\n",
      "Կասետային      141\n",
      "Աղյուսե          6\n",
      "Name: Type, dtype: int64\n",
      "Source 3 \n",
      " list_am        20323\n",
      "my_realty       7790\n",
      "real_estate     3002\n",
      "Name: Source, dtype: int64\n"
     ]
    }
   ],
   "source": [
    "# examine columns, which have number of unique values smaller than 10\n",
    "for i in data.columns.tolist():\n",
    "    if data[i].nunique()<=10:\n",
    "        print(i, data[i].nunique(),\"\\n\", data[i].value_counts())"
   ]
  },
  {
   "cell_type": "code",
   "execution_count": 448,
   "metadata": {},
   "outputs": [
    {
     "data": {
      "text/plain": [
       "կենտրոն             9603\n",
       "արաբկիր             7062\n",
       "այլ                 2719\n",
       "շենգավիթ            2376\n",
       "աջափնյակ            1612\n",
       "նորք                1532\n",
       "դավթաշեն            1458\n",
       "մալաթիա             1233\n",
       "ավան                 905\n",
       "քանաքեռ              893\n",
       "նոր_նորք             516\n",
       "էրեբունի             468\n",
       "քանաքեռ_զեյթուն      410\n",
       "մալաթիա_սեբաստիա     328\n",
       "Name: District, dtype: int64"
      ]
     },
     "execution_count": 448,
     "metadata": {},
     "output_type": "execute_result"
    }
   ],
   "source": [
    "data['District'].value_counts()"
   ]
  },
  {
   "cell_type": "code",
   "execution_count": 449,
   "metadata": {},
   "outputs": [
    {
     "data": {
      "text/plain": [
       "City                 0\n",
       "Floor                0\n",
       "Rooms                0\n",
       "Sqm                  0\n",
       "District             0\n",
       "Broker           20323\n",
       "Currency             0\n",
       "HTML_ID              0\n",
       "Agency               0\n",
       "Type                 0\n",
       "Source               0\n",
       "nFloor               0\n",
       "Price                0\n",
       "ID                   0\n",
       "Price_USD            0\n",
       "price_per_sqm        0\n",
       "dtype: int64"
      ]
     },
     "execution_count": 449,
     "metadata": {},
     "output_type": "execute_result"
    }
   ],
   "source": [
    "# check for missing values\n",
    "data.isna().sum()"
   ]
  },
  {
   "cell_type": "code",
   "execution_count": 450,
   "metadata": {},
   "outputs": [
    {
     "data": {
      "text/plain": [
       "գործակալ           3902\n",
       "գործակալություն    3888\n",
       "ԿԵՆՏՐՈՆ             921\n",
       "ՆվերՎանեսյան        305\n",
       "Գրիգոր              288\n",
       "Աղաս                220\n",
       "Արզուման            210\n",
       "ՆաիրաԴանիելյան      194\n",
       "Արամ                191\n",
       "Արիս                155\n",
       "Գայանե              153\n",
       "Նարեկ               125\n",
       "ՍևակՄելիքսեթյան      65\n",
       "Լիլիթ                65\n",
       "ՏիգրանԹավադյան       39\n",
       "ԱրամԱվագյան          30\n",
       "Սյուզի               22\n",
       "Գևորգ                19\n",
       "Name: Broker, dtype: int64"
      ]
     },
     "execution_count": 450,
     "metadata": {},
     "output_type": "execute_result"
    }
   ],
   "source": [
    "#lets check what values we have for the column with missing values (Broker)\n",
    "# as it includes mainly names we can fillna with values 'other'\n",
    "# also we see that the top 2 values are actually the same so we need to replace one with the another\n",
    "data.Broker.value_counts()"
   ]
  },
  {
   "cell_type": "code",
   "execution_count": 451,
   "metadata": {},
   "outputs": [
    {
     "data": {
      "text/plain": [
       "other              20323\n",
       "գործակալ            7790\n",
       "ԿԵՆՏՐՈՆ              921\n",
       "ՆվերՎանեսյան         305\n",
       "Գրիգոր               288\n",
       "Աղաս                 220\n",
       "Արզուման             210\n",
       "ՆաիրաԴանիելյան       194\n",
       "Արամ                 191\n",
       "Արիս                 155\n",
       "Գայանե               153\n",
       "Նարեկ                125\n",
       "ՍևակՄելիքսեթյան       65\n",
       "Լիլիթ                 65\n",
       "ՏիգրանԹավադյան        39\n",
       "ԱրամԱվագյան           30\n",
       "Սյուզի                22\n",
       "Գևորգ                 19\n",
       "Name: Broker, dtype: int64"
      ]
     },
     "execution_count": 451,
     "metadata": {},
     "output_type": "execute_result"
    }
   ],
   "source": [
    "data.Broker = data.Broker.fillna('other') \n",
    "data.Broker = np.where(data.Broker=='գործակալություն', 'գործակալ', data.Broker)\n",
    "#lets check again, whether everything worked\n",
    "data.Broker.value_counts()"
   ]
  },
  {
   "cell_type": "code",
   "execution_count": 452,
   "metadata": {},
   "outputs": [],
   "source": [
    "# we see that for the city feature we have only Yerevan\n",
    "# HTML_ID & ID are actually categorical values and they do not have numeric meaning \n",
    "# usually id-type columns do not have numerical meaning, so we need to remove them\n",
    "# price_per_sqm convery information from Y and result in reverse causality\n",
    "data = data.drop(['City','Currency','HTML_ID','ID','price_per_sqm','Price'], axis=1)"
   ]
  },
  {
   "cell_type": "code",
   "execution_count": 453,
   "metadata": {},
   "outputs": [],
   "source": [
    "# separate data into numeric and object parts\n",
    "data_num = data.select_dtypes(exclude=[\"object\"])\n",
    "data_obj = data.select_dtypes(include=\"object\")"
   ]
  },
  {
   "cell_type": "code",
   "execution_count": 454,
   "metadata": {},
   "outputs": [
    {
     "data": {
      "text/html": [
       "<div>\n",
       "<style scoped>\n",
       "    .dataframe tbody tr th:only-of-type {\n",
       "        vertical-align: middle;\n",
       "    }\n",
       "\n",
       "    .dataframe tbody tr th {\n",
       "        vertical-align: top;\n",
       "    }\n",
       "\n",
       "    .dataframe thead th {\n",
       "        text-align: right;\n",
       "    }\n",
       "</style>\n",
       "<table border=\"1\" class=\"dataframe\">\n",
       "  <thead>\n",
       "    <tr style=\"text-align: right;\">\n",
       "      <th></th>\n",
       "      <th>District</th>\n",
       "      <th>Broker</th>\n",
       "      <th>Type</th>\n",
       "      <th>Source</th>\n",
       "    </tr>\n",
       "  </thead>\n",
       "  <tbody>\n",
       "    <tr>\n",
       "      <th>0</th>\n",
       "      <td>կենտրոն</td>\n",
       "      <td>գործակալ</td>\n",
       "      <td>Մոնոլիտ</td>\n",
       "      <td>my_realty</td>\n",
       "    </tr>\n",
       "    <tr>\n",
       "      <th>1</th>\n",
       "      <td>քանաքեռ_զեյթուն</td>\n",
       "      <td>գործակալ</td>\n",
       "      <td>Քարե</td>\n",
       "      <td>my_realty</td>\n",
       "    </tr>\n",
       "    <tr>\n",
       "      <th>2</th>\n",
       "      <td>մալաթիա_սեբաստիա</td>\n",
       "      <td>գործակալ</td>\n",
       "      <td>Պանելային</td>\n",
       "      <td>my_realty</td>\n",
       "    </tr>\n",
       "    <tr>\n",
       "      <th>3</th>\n",
       "      <td>արաբկիր</td>\n",
       "      <td>գործակալ</td>\n",
       "      <td>Քարե</td>\n",
       "      <td>my_realty</td>\n",
       "    </tr>\n",
       "    <tr>\n",
       "      <th>4</th>\n",
       "      <td>կենտրոն</td>\n",
       "      <td>գործակալ</td>\n",
       "      <td>Քարե</td>\n",
       "      <td>my_realty</td>\n",
       "    </tr>\n",
       "  </tbody>\n",
       "</table>\n",
       "</div>"
      ],
      "text/plain": [
       "           District    Broker       Type     Source\n",
       "0           կենտրոն  գործակալ    Մոնոլիտ  my_realty\n",
       "1   քանաքեռ_զեյթուն  գործակալ       Քարե  my_realty\n",
       "2  մալաթիա_սեբաստիա  գործակալ  Պանելային  my_realty\n",
       "3           արաբկիր  գործակալ       Քարե  my_realty\n",
       "4           կենտրոն  գործակալ       Քարե  my_realty"
      ]
     },
     "execution_count": 454,
     "metadata": {},
     "output_type": "execute_result"
    }
   ],
   "source": [
    "data_obj.head()"
   ]
  },
  {
   "cell_type": "code",
   "execution_count": 455,
   "metadata": {},
   "outputs": [
    {
     "data": {
      "text/html": [
       "<div>\n",
       "<style scoped>\n",
       "    .dataframe tbody tr th:only-of-type {\n",
       "        vertical-align: middle;\n",
       "    }\n",
       "\n",
       "    .dataframe tbody tr th {\n",
       "        vertical-align: top;\n",
       "    }\n",
       "\n",
       "    .dataframe thead th {\n",
       "        text-align: right;\n",
       "    }\n",
       "</style>\n",
       "<table border=\"1\" class=\"dataframe\">\n",
       "  <thead>\n",
       "    <tr style=\"text-align: right;\">\n",
       "      <th></th>\n",
       "      <th>Floor</th>\n",
       "      <th>Rooms</th>\n",
       "      <th>Sqm</th>\n",
       "      <th>Agency</th>\n",
       "      <th>nFloor</th>\n",
       "      <th>Price_USD</th>\n",
       "    </tr>\n",
       "  </thead>\n",
       "  <tbody>\n",
       "    <tr>\n",
       "      <th>0</th>\n",
       "      <td>9.0</td>\n",
       "      <td>3.0</td>\n",
       "      <td>124.0</td>\n",
       "      <td>1.0</td>\n",
       "      <td>10.0</td>\n",
       "      <td>250000.0</td>\n",
       "    </tr>\n",
       "    <tr>\n",
       "      <th>1</th>\n",
       "      <td>1.0</td>\n",
       "      <td>4.0</td>\n",
       "      <td>84.0</td>\n",
       "      <td>1.0</td>\n",
       "      <td>2.0</td>\n",
       "      <td>70000.0</td>\n",
       "    </tr>\n",
       "    <tr>\n",
       "      <th>2</th>\n",
       "      <td>1.0</td>\n",
       "      <td>2.0</td>\n",
       "      <td>58.0</td>\n",
       "      <td>1.0</td>\n",
       "      <td>9.0</td>\n",
       "      <td>48000.0</td>\n",
       "    </tr>\n",
       "    <tr>\n",
       "      <th>3</th>\n",
       "      <td>5.0</td>\n",
       "      <td>2.0</td>\n",
       "      <td>64.0</td>\n",
       "      <td>1.0</td>\n",
       "      <td>5.0</td>\n",
       "      <td>80000.0</td>\n",
       "    </tr>\n",
       "    <tr>\n",
       "      <th>4</th>\n",
       "      <td>1.0</td>\n",
       "      <td>3.0</td>\n",
       "      <td>65.0</td>\n",
       "      <td>1.0</td>\n",
       "      <td>14.0</td>\n",
       "      <td>62000.0</td>\n",
       "    </tr>\n",
       "  </tbody>\n",
       "</table>\n",
       "</div>"
      ],
      "text/plain": [
       "   Floor  Rooms    Sqm  Agency  nFloor  Price_USD\n",
       "0    9.0    3.0  124.0     1.0    10.0   250000.0\n",
       "1    1.0    4.0   84.0     1.0     2.0    70000.0\n",
       "2    1.0    2.0   58.0     1.0     9.0    48000.0\n",
       "3    5.0    2.0   64.0     1.0     5.0    80000.0\n",
       "4    1.0    3.0   65.0     1.0    14.0    62000.0"
      ]
     },
     "execution_count": 455,
     "metadata": {},
     "output_type": "execute_result"
    }
   ],
   "source": [
    "data_num.head()"
   ]
  },
  {
   "cell_type": "code",
   "execution_count": 456,
   "metadata": {},
   "outputs": [
    {
     "data": {
      "text/plain": [
       "<matplotlib.axes._subplots.AxesSubplot at 0x1250913a0>"
      ]
     },
     "execution_count": 456,
     "metadata": {},
     "output_type": "execute_result"
    },
    {
     "data": {
      "image/png": "[encoded data removed]",
      "text/plain": [
       "<Figure size 720x360 with 2 Axes>"
      ]
     },
     "metadata": {
      "needs_background": "light"
     },
     "output_type": "display_data"
    }
   ],
   "source": [
    "# correlation heatpa for examining multicollinearity\n",
    "plt.figure(figsize=(10,5))\n",
    "sns.heatmap(data_num.corr().abs().round(2),annot=True)"
   ]
  },
  {
   "cell_type": "code",
   "execution_count": 457,
   "metadata": {},
   "outputs": [
    {
     "data": {
      "text/plain": [
       "<matplotlib.axes._subplots.AxesSubplot at 0x1294bf910>"
      ]
     },
     "execution_count": 457,
     "metadata": {},
     "output_type": "execute_result"
    },
    {
     "data": {
      "image/png": "[encoded data removed]",
      "text/plain": [
       "<Figure size 720x360 with 2 Axes>"
      ]
     },
     "metadata": {
      "needs_background": "light"
     },
     "output_type": "display_data"
    }
   ],
   "source": [
    "#plot correlation heatmap to see any correlations above or equal to 80% in absolute values\n",
    "plt.figure(figsize=(10,5))\n",
    "sns.heatmap(data_num.corr().abs()>=0.8)"
   ]
  },
  {
   "cell_type": "markdown",
   "metadata": {},
   "source": [
    "# Model Building #1"
   ]
  },
  {
   "cell_type": "code",
   "execution_count": 458,
   "metadata": {},
   "outputs": [
    {
     "data": {
      "text/html": [
       "<div>\n",
       "<style scoped>\n",
       "    .dataframe tbody tr th:only-of-type {\n",
       "        vertical-align: middle;\n",
       "    }\n",
       "\n",
       "    .dataframe tbody tr th {\n",
       "        vertical-align: top;\n",
       "    }\n",
       "\n",
       "    .dataframe thead th {\n",
       "        text-align: right;\n",
       "    }\n",
       "</style>\n",
       "<table border=\"1\" class=\"dataframe\">\n",
       "  <thead>\n",
       "    <tr style=\"text-align: right;\">\n",
       "      <th></th>\n",
       "      <th>District_աջափնյակ</th>\n",
       "      <th>District_ավան</th>\n",
       "      <th>District_արաբկիր</th>\n",
       "      <th>District_դավթաշեն</th>\n",
       "      <th>District_էրեբունի</th>\n",
       "      <th>District_կենտրոն</th>\n",
       "      <th>District_մալաթիա</th>\n",
       "      <th>District_մալաթիա_սեբաստիա</th>\n",
       "      <th>District_նոր_նորք</th>\n",
       "      <th>District_նորք</th>\n",
       "      <th>...</th>\n",
       "      <th>Broker_ՍևակՄելիքսեթյան</th>\n",
       "      <th>Broker_ՏիգրանԹավադյան</th>\n",
       "      <th>Broker_գործակալ</th>\n",
       "      <th>Type_Այլ</th>\n",
       "      <th>Type_Կասետային</th>\n",
       "      <th>Type_Մոնոլիտ</th>\n",
       "      <th>Type_Պանելային</th>\n",
       "      <th>Type_Քարե</th>\n",
       "      <th>Source_my_realty</th>\n",
       "      <th>Source_real_estate</th>\n",
       "    </tr>\n",
       "  </thead>\n",
       "  <tbody>\n",
       "    <tr>\n",
       "      <th>0</th>\n",
       "      <td>0</td>\n",
       "      <td>0</td>\n",
       "      <td>0</td>\n",
       "      <td>0</td>\n",
       "      <td>0</td>\n",
       "      <td>1</td>\n",
       "      <td>0</td>\n",
       "      <td>0</td>\n",
       "      <td>0</td>\n",
       "      <td>0</td>\n",
       "      <td>...</td>\n",
       "      <td>0</td>\n",
       "      <td>0</td>\n",
       "      <td>1</td>\n",
       "      <td>0</td>\n",
       "      <td>0</td>\n",
       "      <td>1</td>\n",
       "      <td>0</td>\n",
       "      <td>0</td>\n",
       "      <td>1</td>\n",
       "      <td>0</td>\n",
       "    </tr>\n",
       "    <tr>\n",
       "      <th>1</th>\n",
       "      <td>0</td>\n",
       "      <td>0</td>\n",
       "      <td>0</td>\n",
       "      <td>0</td>\n",
       "      <td>0</td>\n",
       "      <td>0</td>\n",
       "      <td>0</td>\n",
       "      <td>0</td>\n",
       "      <td>0</td>\n",
       "      <td>0</td>\n",
       "      <td>...</td>\n",
       "      <td>0</td>\n",
       "      <td>0</td>\n",
       "      <td>1</td>\n",
       "      <td>0</td>\n",
       "      <td>0</td>\n",
       "      <td>0</td>\n",
       "      <td>0</td>\n",
       "      <td>1</td>\n",
       "      <td>1</td>\n",
       "      <td>0</td>\n",
       "    </tr>\n",
       "    <tr>\n",
       "      <th>2</th>\n",
       "      <td>0</td>\n",
       "      <td>0</td>\n",
       "      <td>0</td>\n",
       "      <td>0</td>\n",
       "      <td>0</td>\n",
       "      <td>0</td>\n",
       "      <td>0</td>\n",
       "      <td>1</td>\n",
       "      <td>0</td>\n",
       "      <td>0</td>\n",
       "      <td>...</td>\n",
       "      <td>0</td>\n",
       "      <td>0</td>\n",
       "      <td>1</td>\n",
       "      <td>0</td>\n",
       "      <td>0</td>\n",
       "      <td>0</td>\n",
       "      <td>1</td>\n",
       "      <td>0</td>\n",
       "      <td>1</td>\n",
       "      <td>0</td>\n",
       "    </tr>\n",
       "    <tr>\n",
       "      <th>3</th>\n",
       "      <td>0</td>\n",
       "      <td>0</td>\n",
       "      <td>1</td>\n",
       "      <td>0</td>\n",
       "      <td>0</td>\n",
       "      <td>0</td>\n",
       "      <td>0</td>\n",
       "      <td>0</td>\n",
       "      <td>0</td>\n",
       "      <td>0</td>\n",
       "      <td>...</td>\n",
       "      <td>0</td>\n",
       "      <td>0</td>\n",
       "      <td>1</td>\n",
       "      <td>0</td>\n",
       "      <td>0</td>\n",
       "      <td>0</td>\n",
       "      <td>0</td>\n",
       "      <td>1</td>\n",
       "      <td>1</td>\n",
       "      <td>0</td>\n",
       "    </tr>\n",
       "    <tr>\n",
       "      <th>4</th>\n",
       "      <td>0</td>\n",
       "      <td>0</td>\n",
       "      <td>0</td>\n",
       "      <td>0</td>\n",
       "      <td>0</td>\n",
       "      <td>1</td>\n",
       "      <td>0</td>\n",
       "      <td>0</td>\n",
       "      <td>0</td>\n",
       "      <td>0</td>\n",
       "      <td>...</td>\n",
       "      <td>0</td>\n",
       "      <td>0</td>\n",
       "      <td>1</td>\n",
       "      <td>0</td>\n",
       "      <td>0</td>\n",
       "      <td>0</td>\n",
       "      <td>0</td>\n",
       "      <td>1</td>\n",
       "      <td>1</td>\n",
       "      <td>0</td>\n",
       "    </tr>\n",
       "  </tbody>\n",
       "</table>\n",
       "<p>5 rows × 37 columns</p>\n",
       "</div>"
      ],
      "text/plain": [
       "   District_աջափնյակ  District_ավան  District_արաբկիր  District_դավթաշեն  \\\n",
       "0                  0              0                 0                  0   \n",
       "1                  0              0                 0                  0   \n",
       "2                  0              0                 0                  0   \n",
       "3                  0              0                 1                  0   \n",
       "4                  0              0                 0                  0   \n",
       "\n",
       "   District_էրեբունի  District_կենտրոն  District_մալաթիա  \\\n",
       "0                  0                 1                 0   \n",
       "1                  0                 0                 0   \n",
       "2                  0                 0                 0   \n",
       "3                  0                 0                 0   \n",
       "4                  0                 1                 0   \n",
       "\n",
       "   District_մալաթիա_սեբաստիա  District_նոր_նորք  District_նորք  ...  \\\n",
       "0                          0                  0              0  ...   \n",
       "1                          0                  0              0  ...   \n",
       "2                          1                  0              0  ...   \n",
       "3                          0                  0              0  ...   \n",
       "4                          0                  0              0  ...   \n",
       "\n",
       "   Broker_ՍևակՄելիքսեթյան  Broker_ՏիգրանԹավադյան  Broker_գործակալ  Type_Այլ  \\\n",
       "0                       0                      0                1         0   \n",
       "1                       0                      0                1         0   \n",
       "2                       0                      0                1         0   \n",
       "3                       0                      0                1         0   \n",
       "4                       0                      0                1         0   \n",
       "\n",
       "   Type_Կասետային  Type_Մոնոլիտ  Type_Պանելային  Type_Քարե  Source_my_realty  \\\n",
       "0               0             1               0          0                 1   \n",
       "1               0             0               0          1                 1   \n",
       "2               0             0               1          0                 1   \n",
       "3               0             0               0          1                 1   \n",
       "4               0             0               0          1                 1   \n",
       "\n",
       "   Source_real_estate  \n",
       "0                   0  \n",
       "1                   0  \n",
       "2                   0  \n",
       "3                   0  \n",
       "4                   0  \n",
       "\n",
       "[5 rows x 37 columns]"
      ]
     },
     "execution_count": 458,
     "metadata": {},
     "output_type": "execute_result"
    }
   ],
   "source": [
    "# dummy\n",
    "data_dummies = pd.get_dummies(data_obj, drop_first=True)\n",
    "data_dummies.head()"
   ]
  },
  {
   "cell_type": "code",
   "execution_count": 459,
   "metadata": {},
   "outputs": [
    {
     "data": {
      "text/html": [
       "<div>\n",
       "<style scoped>\n",
       "    .dataframe tbody tr th:only-of-type {\n",
       "        vertical-align: middle;\n",
       "    }\n",
       "\n",
       "    .dataframe tbody tr th {\n",
       "        vertical-align: top;\n",
       "    }\n",
       "\n",
       "    .dataframe thead th {\n",
       "        text-align: right;\n",
       "    }\n",
       "</style>\n",
       "<table border=\"1\" class=\"dataframe\">\n",
       "  <thead>\n",
       "    <tr style=\"text-align: right;\">\n",
       "      <th></th>\n",
       "      <th>Floor</th>\n",
       "      <th>Rooms</th>\n",
       "      <th>Sqm</th>\n",
       "      <th>Agency</th>\n",
       "      <th>nFloor</th>\n",
       "      <th>Price_USD</th>\n",
       "      <th>District_աջափնյակ</th>\n",
       "      <th>District_ավան</th>\n",
       "      <th>District_արաբկիր</th>\n",
       "      <th>District_դավթաշեն</th>\n",
       "      <th>...</th>\n",
       "      <th>Broker_ՍևակՄելիքսեթյան</th>\n",
       "      <th>Broker_ՏիգրանԹավադյան</th>\n",
       "      <th>Broker_գործակալ</th>\n",
       "      <th>Type_Այլ</th>\n",
       "      <th>Type_Կասետային</th>\n",
       "      <th>Type_Մոնոլիտ</th>\n",
       "      <th>Type_Պանելային</th>\n",
       "      <th>Type_Քարե</th>\n",
       "      <th>Source_my_realty</th>\n",
       "      <th>Source_real_estate</th>\n",
       "    </tr>\n",
       "  </thead>\n",
       "  <tbody>\n",
       "    <tr>\n",
       "      <th>0</th>\n",
       "      <td>9.0</td>\n",
       "      <td>3.0</td>\n",
       "      <td>124.0</td>\n",
       "      <td>1.0</td>\n",
       "      <td>10.0</td>\n",
       "      <td>250000.0</td>\n",
       "      <td>0</td>\n",
       "      <td>0</td>\n",
       "      <td>0</td>\n",
       "      <td>0</td>\n",
       "      <td>...</td>\n",
       "      <td>0</td>\n",
       "      <td>0</td>\n",
       "      <td>1</td>\n",
       "      <td>0</td>\n",
       "      <td>0</td>\n",
       "      <td>1</td>\n",
       "      <td>0</td>\n",
       "      <td>0</td>\n",
       "      <td>1</td>\n",
       "      <td>0</td>\n",
       "    </tr>\n",
       "    <tr>\n",
       "      <th>1</th>\n",
       "      <td>1.0</td>\n",
       "      <td>4.0</td>\n",
       "      <td>84.0</td>\n",
       "      <td>1.0</td>\n",
       "      <td>2.0</td>\n",
       "      <td>70000.0</td>\n",
       "      <td>0</td>\n",
       "      <td>0</td>\n",
       "      <td>0</td>\n",
       "      <td>0</td>\n",
       "      <td>...</td>\n",
       "      <td>0</td>\n",
       "      <td>0</td>\n",
       "      <td>1</td>\n",
       "      <td>0</td>\n",
       "      <td>0</td>\n",
       "      <td>0</td>\n",
       "      <td>0</td>\n",
       "      <td>1</td>\n",
       "      <td>1</td>\n",
       "      <td>0</td>\n",
       "    </tr>\n",
       "    <tr>\n",
       "      <th>2</th>\n",
       "      <td>1.0</td>\n",
       "      <td>2.0</td>\n",
       "      <td>58.0</td>\n",
       "      <td>1.0</td>\n",
       "      <td>9.0</td>\n",
       "      <td>48000.0</td>\n",
       "      <td>0</td>\n",
       "      <td>0</td>\n",
       "      <td>0</td>\n",
       "      <td>0</td>\n",
       "      <td>...</td>\n",
       "      <td>0</td>\n",
       "      <td>0</td>\n",
       "      <td>1</td>\n",
       "      <td>0</td>\n",
       "      <td>0</td>\n",
       "      <td>0</td>\n",
       "      <td>1</td>\n",
       "      <td>0</td>\n",
       "      <td>1</td>\n",
       "      <td>0</td>\n",
       "    </tr>\n",
       "    <tr>\n",
       "      <th>3</th>\n",
       "      <td>5.0</td>\n",
       "      <td>2.0</td>\n",
       "      <td>64.0</td>\n",
       "      <td>1.0</td>\n",
       "      <td>5.0</td>\n",
       "      <td>80000.0</td>\n",
       "      <td>0</td>\n",
       "      <td>0</td>\n",
       "      <td>1</td>\n",
       "      <td>0</td>\n",
       "      <td>...</td>\n",
       "      <td>0</td>\n",
       "      <td>0</td>\n",
       "      <td>1</td>\n",
       "      <td>0</td>\n",
       "      <td>0</td>\n",
       "      <td>0</td>\n",
       "      <td>0</td>\n",
       "      <td>1</td>\n",
       "      <td>1</td>\n",
       "      <td>0</td>\n",
       "    </tr>\n",
       "    <tr>\n",
       "      <th>4</th>\n",
       "      <td>1.0</td>\n",
       "      <td>3.0</td>\n",
       "      <td>65.0</td>\n",
       "      <td>1.0</td>\n",
       "      <td>14.0</td>\n",
       "      <td>62000.0</td>\n",
       "      <td>0</td>\n",
       "      <td>0</td>\n",
       "      <td>0</td>\n",
       "      <td>0</td>\n",
       "      <td>...</td>\n",
       "      <td>0</td>\n",
       "      <td>0</td>\n",
       "      <td>1</td>\n",
       "      <td>0</td>\n",
       "      <td>0</td>\n",
       "      <td>0</td>\n",
       "      <td>0</td>\n",
       "      <td>1</td>\n",
       "      <td>1</td>\n",
       "      <td>0</td>\n",
       "    </tr>\n",
       "  </tbody>\n",
       "</table>\n",
       "<p>5 rows × 43 columns</p>\n",
       "</div>"
      ],
      "text/plain": [
       "   Floor  Rooms    Sqm  Agency  nFloor  Price_USD  District_աջափնյակ  \\\n",
       "0    9.0    3.0  124.0     1.0    10.0   250000.0                  0   \n",
       "1    1.0    4.0   84.0     1.0     2.0    70000.0                  0   \n",
       "2    1.0    2.0   58.0     1.0     9.0    48000.0                  0   \n",
       "3    5.0    2.0   64.0     1.0     5.0    80000.0                  0   \n",
       "4    1.0    3.0   65.0     1.0    14.0    62000.0                  0   \n",
       "\n",
       "   District_ավան  District_արաբկիր  District_դավթաշեն  ...  \\\n",
       "0              0                 0                  0  ...   \n",
       "1              0                 0                  0  ...   \n",
       "2              0                 0                  0  ...   \n",
       "3              0                 1                  0  ...   \n",
       "4              0                 0                  0  ...   \n",
       "\n",
       "   Broker_ՍևակՄելիքսեթյան  Broker_ՏիգրանԹավադյան  Broker_գործակալ  Type_Այլ  \\\n",
       "0                       0                      0                1         0   \n",
       "1                       0                      0                1         0   \n",
       "2                       0                      0                1         0   \n",
       "3                       0                      0                1         0   \n",
       "4                       0                      0                1         0   \n",
       "\n",
       "   Type_Կասետային  Type_Մոնոլիտ  Type_Պանելային  Type_Քարե  Source_my_realty  \\\n",
       "0               0             1               0          0                 1   \n",
       "1               0             0               0          1                 1   \n",
       "2               0             0               1          0                 1   \n",
       "3               0             0               0          1                 1   \n",
       "4               0             0               0          1                 1   \n",
       "\n",
       "   Source_real_estate  \n",
       "0                   0  \n",
       "1                   0  \n",
       "2                   0  \n",
       "3                   0  \n",
       "4                   0  \n",
       "\n",
       "[5 rows x 43 columns]"
      ]
     },
     "execution_count": 459,
     "metadata": {},
     "output_type": "execute_result"
    }
   ],
   "source": [
    "data_model = data_num.join(data_dummies, how='left')\n",
    "data_model.head()"
   ]
  },
  {
   "cell_type": "code",
   "execution_count": 460,
   "metadata": {},
   "outputs": [],
   "source": [
    "Y = data_model.Price_USD\n",
    "X = data_model.drop('Price_USD', axis = 1)\n",
    "X = sm.add_constant(X)"
   ]
  },
  {
   "cell_type": "code",
   "execution_count": 461,
   "metadata": {},
   "outputs": [],
   "source": [
    "# train-test split data\n",
    "X0, X1, Y0, Y1 = train_test_split(X, Y, test_size=0.25, random_state=42)"
   ]
  },
  {
   "cell_type": "code",
   "execution_count": 462,
   "metadata": {
    "scrolled": true
   },
   "outputs": [
    {
     "data": {
      "text/html": [
       "<table class=\"simpletable\">\n",
       "<caption>OLS Regression Results</caption>\n",
       "<tr>\n",
       "  <th>Dep. Variable:</th>        <td>Price_USD</td>    <th>  R-squared:         </th>  <td>   0.685</td>  \n",
       "</tr>\n",
       "<tr>\n",
       "  <th>Model:</th>                   <td>OLS</td>       <th>  Adj. R-squared:    </th>  <td>   0.684</td>  \n",
       "</tr>\n",
       "<tr>\n",
       "  <th>Method:</th>             <td>Least Squares</td>  <th>  F-statistic:       </th>  <td>   1265.</td>  \n",
       "</tr>\n",
       "<tr>\n",
       "  <th>Date:</th>             <td>Sat, 26 Sep 2020</td> <th>  Prob (F-statistic):</th>   <td>  0.00</td>   \n",
       "</tr>\n",
       "<tr>\n",
       "  <th>Time:</th>                 <td>20:07:07</td>     <th>  Log-Likelihood:    </th> <td>-2.8595e+05</td>\n",
       "</tr>\n",
       "<tr>\n",
       "  <th>No. Observations:</th>      <td> 23336</td>      <th>  AIC:               </th>  <td>5.720e+05</td> \n",
       "</tr>\n",
       "<tr>\n",
       "  <th>Df Residuals:</th>          <td> 23295</td>      <th>  BIC:               </th>  <td>5.723e+05</td> \n",
       "</tr>\n",
       "<tr>\n",
       "  <th>Df Model:</th>              <td>    40</td>      <th>                     </th>      <td> </td>     \n",
       "</tr>\n",
       "<tr>\n",
       "  <th>Covariance Type:</th>      <td>nonrobust</td>    <th>                     </th>      <td> </td>     \n",
       "</tr>\n",
       "</table>\n",
       "<table class=\"simpletable\">\n",
       "<tr>\n",
       "              <td></td>                 <th>coef</th>     <th>std err</th>      <th>t</th>      <th>P>|t|</th>  <th>[0.025</th>    <th>0.975]</th>  \n",
       "</tr>\n",
       "<tr>\n",
       "  <th>const</th>                     <td>-2.202e+04</td> <td> 2.94e+04</td> <td>   -0.748</td> <td> 0.454</td> <td>-7.97e+04</td> <td> 3.57e+04</td>\n",
       "</tr>\n",
       "<tr>\n",
       "  <th>Floor</th>                     <td>   75.2416</td> <td>  125.711</td> <td>    0.599</td> <td> 0.549</td> <td> -171.161</td> <td>  321.644</td>\n",
       "</tr>\n",
       "<tr>\n",
       "  <th>Rooms</th>                     <td>-1.548e+04</td> <td>  552.805</td> <td>  -27.998</td> <td> 0.000</td> <td>-1.66e+04</td> <td>-1.44e+04</td>\n",
       "</tr>\n",
       "<tr>\n",
       "  <th>Sqm</th>                       <td> 1810.6996</td> <td>   15.974</td> <td>  113.352</td> <td> 0.000</td> <td> 1779.389</td> <td> 1842.010</td>\n",
       "</tr>\n",
       "<tr>\n",
       "  <th>Agency</th>                    <td> 4500.9127</td> <td> 2746.550</td> <td>    1.639</td> <td> 0.101</td> <td> -882.506</td> <td> 9884.331</td>\n",
       "</tr>\n",
       "<tr>\n",
       "  <th>nFloor</th>                    <td>  458.6333</td> <td>  138.262</td> <td>    3.317</td> <td> 0.001</td> <td>  187.631</td> <td>  729.636</td>\n",
       "</tr>\n",
       "<tr>\n",
       "  <th>District_աջափնյակ</th>         <td>-1.748e+04</td> <td> 1866.017</td> <td>   -9.366</td> <td> 0.000</td> <td>-2.11e+04</td> <td>-1.38e+04</td>\n",
       "</tr>\n",
       "<tr>\n",
       "  <th>District_ավան</th>             <td>-1.359e+04</td> <td> 2279.844</td> <td>   -5.959</td> <td> 0.000</td> <td>-1.81e+04</td> <td>-9117.714</td>\n",
       "</tr>\n",
       "<tr>\n",
       "  <th>District_արաբկիր</th>          <td> 4558.1372</td> <td> 1365.466</td> <td>    3.338</td> <td> 0.001</td> <td> 1881.734</td> <td> 7234.540</td>\n",
       "</tr>\n",
       "<tr>\n",
       "  <th>District_դավթաշեն</th>         <td>-1.154e+04</td> <td> 1954.363</td> <td>   -5.907</td> <td> 0.000</td> <td>-1.54e+04</td> <td>-7712.914</td>\n",
       "</tr>\n",
       "<tr>\n",
       "  <th>District_էրեբունի</th>         <td>-1.145e+04</td> <td> 2964.433</td> <td>   -3.861</td> <td> 0.000</td> <td>-1.73e+04</td> <td>-5634.946</td>\n",
       "</tr>\n",
       "<tr>\n",
       "  <th>District_կենտրոն</th>          <td> 5.303e+04</td> <td> 1346.521</td> <td>   39.380</td> <td> 0.000</td> <td> 5.04e+04</td> <td> 5.57e+04</td>\n",
       "</tr>\n",
       "<tr>\n",
       "  <th>District_մալաթիա</th>          <td>-1.465e+04</td> <td> 2033.042</td> <td>   -7.207</td> <td> 0.000</td> <td>-1.86e+04</td> <td>-1.07e+04</td>\n",
       "</tr>\n",
       "<tr>\n",
       "  <th>District_մալաթիա_սեբաստիա</th> <td>-1.847e+04</td> <td> 3575.057</td> <td>   -5.167</td> <td> 0.000</td> <td>-2.55e+04</td> <td>-1.15e+04</td>\n",
       "</tr>\n",
       "<tr>\n",
       "  <th>District_նոր_նորք</th>         <td>-1.883e+04</td> <td> 2959.040</td> <td>   -6.364</td> <td> 0.000</td> <td>-2.46e+04</td> <td> -1.3e+04</td>\n",
       "</tr>\n",
       "<tr>\n",
       "  <th>District_նորք</th>             <td>-1.129e+04</td> <td> 1910.894</td> <td>   -5.907</td> <td> 0.000</td> <td> -1.5e+04</td> <td>-7542.863</td>\n",
       "</tr>\n",
       "<tr>\n",
       "  <th>District_շենգավիթ</th>         <td>-9497.0847</td> <td> 1670.628</td> <td>   -5.685</td> <td> 0.000</td> <td>-1.28e+04</td> <td>-6222.543</td>\n",
       "</tr>\n",
       "<tr>\n",
       "  <th>District_քանաքեռ</th>          <td>-8575.9267</td> <td> 2261.223</td> <td>   -3.793</td> <td> 0.000</td> <td> -1.3e+04</td> <td>-4143.781</td>\n",
       "</tr>\n",
       "<tr>\n",
       "  <th>District_քանաքեռ_զեյթուն</th>  <td>-1.983e+04</td> <td> 3216.901</td> <td>   -6.163</td> <td> 0.000</td> <td>-2.61e+04</td> <td>-1.35e+04</td>\n",
       "</tr>\n",
       "<tr>\n",
       "  <th>Broker_Աղաս</th>               <td>-1409.4488</td> <td> 4005.467</td> <td>   -0.352</td> <td> 0.725</td> <td>-9260.427</td> <td> 6441.530</td>\n",
       "</tr>\n",
       "<tr>\n",
       "  <th>Broker_Արամ</th>               <td> 3910.9139</td> <td> 4327.784</td> <td>    0.904</td> <td> 0.366</td> <td>-4571.827</td> <td> 1.24e+04</td>\n",
       "</tr>\n",
       "<tr>\n",
       "  <th>Broker_ԱրամԱվագյան</th>        <td> 2452.8369</td> <td> 9507.052</td> <td>    0.258</td> <td> 0.796</td> <td>-1.62e+04</td> <td> 2.11e+04</td>\n",
       "</tr>\n",
       "<tr>\n",
       "  <th>Broker_Արզուման</th>           <td> 1.382e+04</td> <td> 4174.484</td> <td>    3.310</td> <td> 0.001</td> <td> 5635.966</td> <td>  2.2e+04</td>\n",
       "</tr>\n",
       "<tr>\n",
       "  <th>Broker_Արիս</th>               <td> 5251.3400</td> <td> 4809.773</td> <td>    1.092</td> <td> 0.275</td> <td>-4176.132</td> <td> 1.47e+04</td>\n",
       "</tr>\n",
       "<tr>\n",
       "  <th>Broker_Գայանե</th>             <td> 5787.7719</td> <td> 4851.393</td> <td>    1.193</td> <td> 0.233</td> <td>-3721.278</td> <td> 1.53e+04</td>\n",
       "</tr>\n",
       "<tr>\n",
       "  <th>Broker_Գրիգոր</th>             <td> 1.736e+04</td> <td> 3673.331</td> <td>    4.726</td> <td> 0.000</td> <td> 1.02e+04</td> <td> 2.46e+04</td>\n",
       "</tr>\n",
       "<tr>\n",
       "  <th>Broker_Գևորգ</th>              <td>-5754.9661</td> <td> 1.29e+04</td> <td>   -0.447</td> <td> 0.655</td> <td> -3.1e+04</td> <td> 1.95e+04</td>\n",
       "</tr>\n",
       "<tr>\n",
       "  <th>Broker_Լիլիթ</th>              <td>-4237.2082</td> <td> 6763.672</td> <td>   -0.626</td> <td> 0.531</td> <td>-1.75e+04</td> <td> 9020.035</td>\n",
       "</tr>\n",
       "<tr>\n",
       "  <th>Broker_ԿԵՆՏՐՈՆ</th>            <td> -457.7342</td> <td> 2467.277</td> <td>   -0.186</td> <td> 0.853</td> <td>-5293.759</td> <td> 4378.291</td>\n",
       "</tr>\n",
       "<tr>\n",
       "  <th>Broker_ՆաիրաԴանիելյան</th>     <td> -489.3075</td> <td> 4309.192</td> <td>   -0.114</td> <td> 0.910</td> <td>-8935.608</td> <td> 7956.993</td>\n",
       "</tr>\n",
       "<tr>\n",
       "  <th>Broker_Նարեկ</th>              <td>-3157.4445</td> <td> 5098.853</td> <td>   -0.619</td> <td> 0.536</td> <td>-1.32e+04</td> <td> 6836.644</td>\n",
       "</tr>\n",
       "<tr>\n",
       "  <th>Broker_ՆվերՎանեսյան</th>       <td>-1.218e+04</td> <td> 3602.058</td> <td>   -3.382</td> <td> 0.001</td> <td>-1.92e+04</td> <td>-5122.951</td>\n",
       "</tr>\n",
       "<tr>\n",
       "  <th>Broker_Սյուզի</th>             <td>-2.005e+04</td> <td> 1.14e+04</td> <td>   -1.763</td> <td> 0.078</td> <td>-4.23e+04</td> <td> 2241.878</td>\n",
       "</tr>\n",
       "<tr>\n",
       "  <th>Broker_ՍևակՄելիքսեթյան</th>    <td> 2175.9278</td> <td> 6605.359</td> <td>    0.329</td> <td> 0.742</td> <td>-1.08e+04</td> <td> 1.51e+04</td>\n",
       "</tr>\n",
       "<tr>\n",
       "  <th>Broker_ՏիգրանԹավադյան</th>     <td> 4012.5562</td> <td> 9702.289</td> <td>    0.414</td> <td> 0.679</td> <td> -1.5e+04</td> <td>  2.3e+04</td>\n",
       "</tr>\n",
       "<tr>\n",
       "  <th>Broker_գործակալ</th>           <td> 2818.8695</td> <td>  452.348</td> <td>    6.232</td> <td> 0.000</td> <td> 1932.237</td> <td> 3705.502</td>\n",
       "</tr>\n",
       "<tr>\n",
       "  <th>Type_Այլ</th>                  <td>-4734.6741</td> <td> 2.94e+04</td> <td>   -0.161</td> <td> 0.872</td> <td>-6.24e+04</td> <td>  5.3e+04</td>\n",
       "</tr>\n",
       "<tr>\n",
       "  <th>Type_Կասետային</th>            <td>  925.9933</td> <td> 2.98e+04</td> <td>    0.031</td> <td> 0.975</td> <td>-5.75e+04</td> <td> 5.93e+04</td>\n",
       "</tr>\n",
       "<tr>\n",
       "  <th>Type_Մոնոլիտ</th>              <td> 2.877e+04</td> <td> 2.94e+04</td> <td>    0.980</td> <td> 0.327</td> <td>-2.88e+04</td> <td> 8.63e+04</td>\n",
       "</tr>\n",
       "<tr>\n",
       "  <th>Type_Պանելային</th>            <td>-1.818e+04</td> <td> 2.94e+04</td> <td>   -0.619</td> <td> 0.536</td> <td>-7.57e+04</td> <td> 3.94e+04</td>\n",
       "</tr>\n",
       "<tr>\n",
       "  <th>Type_Քարե</th>                 <td>-5989.1888</td> <td> 2.93e+04</td> <td>   -0.204</td> <td> 0.838</td> <td>-6.35e+04</td> <td> 5.15e+04</td>\n",
       "</tr>\n",
       "<tr>\n",
       "  <th>Source_my_realty</th>          <td> 2818.8695</td> <td>  452.348</td> <td>    6.232</td> <td> 0.000</td> <td> 1932.237</td> <td> 3705.502</td>\n",
       "</tr>\n",
       "<tr>\n",
       "  <th>Source_real_estate</th>        <td> 7030.7090</td> <td> 1749.479</td> <td>    4.019</td> <td> 0.000</td> <td> 3601.615</td> <td> 1.05e+04</td>\n",
       "</tr>\n",
       "</table>\n",
       "<table class=\"simpletable\">\n",
       "<tr>\n",
       "  <th>Omnibus:</th>       <td>13948.135</td> <th>  Durbin-Watson:     </th>  <td>   1.985</td> \n",
       "</tr>\n",
       "<tr>\n",
       "  <th>Prob(Omnibus):</th>  <td> 0.000</td>   <th>  Jarque-Bera (JB):  </th> <td>413870.518</td>\n",
       "</tr>\n",
       "<tr>\n",
       "  <th>Skew:</th>           <td> 2.362</td>   <th>  Prob(JB):          </th>  <td>    0.00</td> \n",
       "</tr>\n",
       "<tr>\n",
       "  <th>Kurtosis:</th>       <td>23.083</td>   <th>  Cond. No.          </th>  <td>1.08e+16</td> \n",
       "</tr>\n",
       "</table><br/><br/>Warnings:<br/>[1] Standard Errors assume that the covariance matrix of the errors is correctly specified.<br/>[2] The smallest eigenvalue is 1.68e-24. This might indicate that there are<br/>strong multicollinearity problems or that the design matrix is singular."
      ],
      "text/plain": [
       "<class 'statsmodels.iolib.summary.Summary'>\n",
       "\"\"\"\n",
       "                            OLS Regression Results                            \n",
       "==============================================================================\n",
       "Dep. Variable:              Price_USD   R-squared:                       0.685\n",
       "Model:                            OLS   Adj. R-squared:                  0.684\n",
       "Method:                 Least Squares   F-statistic:                     1265.\n",
       "Date:                Sat, 26 Sep 2020   Prob (F-statistic):               0.00\n",
       "Time:                        20:07:07   Log-Likelihood:            -2.8595e+05\n",
       "No. Observations:               23336   AIC:                         5.720e+05\n",
       "Df Residuals:                   23295   BIC:                         5.723e+05\n",
       "Df Model:                          40                                         \n",
       "Covariance Type:            nonrobust                                         \n",
       "=============================================================================================\n",
       "                                coef    std err          t      P>|t|      [0.025      0.975]\n",
       "---------------------------------------------------------------------------------------------\n",
       "const                     -2.202e+04   2.94e+04     -0.748      0.454   -7.97e+04    3.57e+04\n",
       "Floor                        75.2416    125.711      0.599      0.549    -171.161     321.644\n",
       "Rooms                     -1.548e+04    552.805    -27.998      0.000   -1.66e+04   -1.44e+04\n",
       "Sqm                        1810.6996     15.974    113.352      0.000    1779.389    1842.010\n",
       "Agency                     4500.9127   2746.550      1.639      0.101    -882.506    9884.331\n",
       "nFloor                      458.6333    138.262      3.317      0.001     187.631     729.636\n",
       "District_աջափնյակ         -1.748e+04   1866.017     -9.366      0.000   -2.11e+04   -1.38e+04\n",
       "District_ավան             -1.359e+04   2279.844     -5.959      0.000   -1.81e+04   -9117.714\n",
       "District_արաբկիր           4558.1372   1365.466      3.338      0.001    1881.734    7234.540\n",
       "District_դավթաշեն         -1.154e+04   1954.363     -5.907      0.000   -1.54e+04   -7712.914\n",
       "District_էրեբունի         -1.145e+04   2964.433     -3.861      0.000   -1.73e+04   -5634.946\n",
       "District_կենտրոն           5.303e+04   1346.521     39.380      0.000    5.04e+04    5.57e+04\n",
       "District_մալաթիա          -1.465e+04   2033.042     -7.207      0.000   -1.86e+04   -1.07e+04\n",
       "District_մալաթիա_սեբաստիա -1.847e+04   3575.057     -5.167      0.000   -2.55e+04   -1.15e+04\n",
       "District_նոր_նորք         -1.883e+04   2959.040     -6.364      0.000   -2.46e+04    -1.3e+04\n",
       "District_նորք             -1.129e+04   1910.894     -5.907      0.000    -1.5e+04   -7542.863\n",
       "District_շենգավիթ         -9497.0847   1670.628     -5.685      0.000   -1.28e+04   -6222.543\n",
       "District_քանաքեռ          -8575.9267   2261.223     -3.793      0.000    -1.3e+04   -4143.781\n",
       "District_քանաքեռ_զեյթուն  -1.983e+04   3216.901     -6.163      0.000   -2.61e+04   -1.35e+04\n",
       "Broker_Աղաս               -1409.4488   4005.467     -0.352      0.725   -9260.427    6441.530\n",
       "Broker_Արամ                3910.9139   4327.784      0.904      0.366   -4571.827    1.24e+04\n",
       "Broker_ԱրամԱվագյան         2452.8369   9507.052      0.258      0.796   -1.62e+04    2.11e+04\n",
       "Broker_Արզուման            1.382e+04   4174.484      3.310      0.001    5635.966     2.2e+04\n",
       "Broker_Արիս                5251.3400   4809.773      1.092      0.275   -4176.132    1.47e+04\n",
       "Broker_Գայանե              5787.7719   4851.393      1.193      0.233   -3721.278    1.53e+04\n",
       "Broker_Գրիգոր              1.736e+04   3673.331      4.726      0.000    1.02e+04    2.46e+04\n",
       "Broker_Գևորգ              -5754.9661   1.29e+04     -0.447      0.655    -3.1e+04    1.95e+04\n",
       "Broker_Լիլիթ              -4237.2082   6763.672     -0.626      0.531   -1.75e+04    9020.035\n",
       "Broker_ԿԵՆՏՐՈՆ             -457.7342   2467.277     -0.186      0.853   -5293.759    4378.291\n",
       "Broker_ՆաիրաԴանիելյան      -489.3075   4309.192     -0.114      0.910   -8935.608    7956.993\n",
       "Broker_Նարեկ              -3157.4445   5098.853     -0.619      0.536   -1.32e+04    6836.644\n",
       "Broker_ՆվերՎանեսյան       -1.218e+04   3602.058     -3.382      0.001   -1.92e+04   -5122.951\n",
       "Broker_Սյուզի             -2.005e+04   1.14e+04     -1.763      0.078   -4.23e+04    2241.878\n",
       "Broker_ՍևակՄելիքսեթյան     2175.9278   6605.359      0.329      0.742   -1.08e+04    1.51e+04\n",
       "Broker_ՏիգրանԹավադյան      4012.5562   9702.289      0.414      0.679    -1.5e+04     2.3e+04\n",
       "Broker_գործակալ            2818.8695    452.348      6.232      0.000    1932.237    3705.502\n",
       "Type_Այլ                  -4734.6741   2.94e+04     -0.161      0.872   -6.24e+04     5.3e+04\n",
       "Type_Կասետային              925.9933   2.98e+04      0.031      0.975   -5.75e+04    5.93e+04\n",
       "Type_Մոնոլիտ               2.877e+04   2.94e+04      0.980      0.327   -2.88e+04    8.63e+04\n",
       "Type_Պանելային            -1.818e+04   2.94e+04     -0.619      0.536   -7.57e+04    3.94e+04\n",
       "Type_Քարե                 -5989.1888   2.93e+04     -0.204      0.838   -6.35e+04    5.15e+04\n",
       "Source_my_realty           2818.8695    452.348      6.232      0.000    1932.237    3705.502\n",
       "Source_real_estate         7030.7090   1749.479      4.019      0.000    3601.615    1.05e+04\n",
       "==============================================================================\n",
       "Omnibus:                    13948.135   Durbin-Watson:                   1.985\n",
       "Prob(Omnibus):                  0.000   Jarque-Bera (JB):           413870.518\n",
       "Skew:                           2.362   Prob(JB):                         0.00\n",
       "Kurtosis:                      23.083   Cond. No.                     1.08e+16\n",
       "==============================================================================\n",
       "\n",
       "Warnings:\n",
       "[1] Standard Errors assume that the covariance matrix of the errors is correctly specified.\n",
       "[2] The smallest eigenvalue is 1.68e-24. This might indicate that there are\n",
       "strong multicollinearity problems or that the design matrix is singular.\n",
       "\"\"\""
      ]
     },
     "execution_count": 462,
     "metadata": {},
     "output_type": "execute_result"
    }
   ],
   "source": [
    "# linear model\n",
    "model_linear = sm.OLS(Y0, X0)\n",
    "results = model_linear.fit()\n",
    "results.summary()"
   ]
  },
  {
   "cell_type": "code",
   "execution_count": 463,
   "metadata": {},
   "outputs": [
    {
     "name": "stdout",
     "output_type": "stream",
     "text": [
      "R^2_test: 0.6785539754079238\n"
     ]
    }
   ],
   "source": [
    "# check prediction on the test set\n",
    "Y1_pred=results.predict(X1)\n",
    "print('R^2_test:', r2_score(Y1, Y1_pred))"
   ]
  },
  {
   "cell_type": "markdown",
   "metadata": {},
   "source": [
    "Test and train R^2 are very similar, so we can conclude that there is no overfitting"
   ]
  },
  {
   "cell_type": "markdown",
   "metadata": {},
   "source": [
    "# Feature Engineering "
   ]
  },
  {
   "cell_type": "code",
   "execution_count": 464,
   "metadata": {},
   "outputs": [
    {
     "name": "stderr",
     "output_type": "stream",
     "text": [
      "/Users/zaranavasardyan/opt/anaconda3/lib/python3.8/site-packages/pandas/core/generic.py:5303: SettingWithCopyWarning: \n",
      "A value is trying to be set on a copy of a slice from a DataFrame.\n",
      "Try using .loc[row_indexer,col_indexer] = value instead\n",
      "\n",
      "See the caveats in the documentation: https://pandas.pydata.org/pandas-docs/stable/user_guide/indexing.html#returning-a-view-versus-a-copy\n",
      "  self[name] = value\n"
     ]
    }
   ],
   "source": [
    "# transformm to the binary feature\n",
    "data_obj.Broker = np.where(data_obj.Broker =='գործակալ', 1, 0)"
   ]
  },
  {
   "cell_type": "code",
   "execution_count": 465,
   "metadata": {},
   "outputs": [
    {
     "data": {
      "text/plain": [
       "Քարե         12355\n",
       "Պանելային    11546\n",
       "Մոնոլիտ       6350\n",
       "Այլ            717\n",
       "Կասետային      141\n",
       "Աղյուսե          6\n",
       "Name: Type, dtype: int64"
      ]
     },
     "execution_count": 465,
     "metadata": {},
     "output_type": "execute_result"
    }
   ],
   "source": [
    "data_obj.Type.value_counts()"
   ]
  },
  {
   "cell_type": "code",
   "execution_count": 466,
   "metadata": {},
   "outputs": [],
   "source": [
    "data_obj.Type = np.where(data_obj.Type.isin(['Կասետային','Աղյուսե']), 'Այլ', data_obj.Type)"
   ]
  },
  {
   "cell_type": "code",
   "execution_count": 467,
   "metadata": {
    "scrolled": true
   },
   "outputs": [
    {
     "data": {
      "image/png": "[encoded data removed]",
      "text/plain": [
       "<Figure size 432x288 with 1 Axes>"
      ]
     },
     "metadata": {
      "needs_background": "light"
     },
     "output_type": "display_data"
    },
    {
     "data": {
      "image/png": "[encoded data removed]",
      "text/plain": [
       "<Figure size 432x288 with 1 Axes>"
      ]
     },
     "metadata": {
      "needs_background": "light"
     },
     "output_type": "display_data"
    },
    {
     "data": {
      "image/png": "[encoded data removed]",
      "text/plain": [
       "<Figure size 432x288 with 1 Axes>"
      ]
     },
     "metadata": {
      "needs_background": "light"
     },
     "output_type": "display_data"
    },
    {
     "name": "stderr",
     "output_type": "stream",
     "text": [
      "/Users/zaranavasardyan/opt/anaconda3/lib/python3.8/site-packages/seaborn/distributions.py:369: UserWarning: Default bandwidth for data is 0; skipping density estimation.\n",
      "  warnings.warn(msg, UserWarning)\n"
     ]
    },
    {
     "data": {
      "image/png": "[encoded data removed]",
      "text/plain": [
       "<Figure size 432x288 with 1 Axes>"
      ]
     },
     "metadata": {
      "needs_background": "light"
     },
     "output_type": "display_data"
    },
    {
     "data": {
      "image/png": "[encoded data removed]",
      "text/plain": [
       "<Figure size 432x288 with 1 Axes>"
      ]
     },
     "metadata": {
      "needs_background": "light"
     },
     "output_type": "display_data"
    },
    {
     "data": {
      "image/png": "[encoded data removed]",
      "text/plain": [
       "<Figure size 432x288 with 1 Axes>"
      ]
     },
     "metadata": {
      "needs_background": "light"
     },
     "output_type": "display_data"
    }
   ],
   "source": [
    "# let's examine the value distribution of numeric features\n",
    "for i in data_num.columns.tolist():\n",
    "    sns.distplot(data_num[i])\n",
    "    plt.xlabel(i)\n",
    "    plt.show()"
   ]
  },
  {
   "cell_type": "code",
   "execution_count": 468,
   "metadata": {
    "scrolled": true
   },
   "outputs": [
    {
     "data": {
      "image/png": "[encoded data removed]",
      "text/plain": [
       "<Figure size 432x288 with 1 Axes>"
      ]
     },
     "metadata": {
      "needs_background": "light"
     },
     "output_type": "display_data"
    },
    {
     "data": {
      "image/png": "[encoded data removed]",
      "text/plain": [
       "<Figure size 432x288 with 1 Axes>"
      ]
     },
     "metadata": {
      "needs_background": "light"
     },
     "output_type": "display_data"
    },
    {
     "data": {
      "image/png": "[encoded data removed]",
      "text/plain": [
       "<Figure size 432x288 with 1 Axes>"
      ]
     },
     "metadata": {
      "needs_background": "light"
     },
     "output_type": "display_data"
    },
    {
     "data": {
      "image/png": "[encoded data removed]",
      "text/plain": [
       "<Figure size 432x288 with 1 Axes>"
      ]
     },
     "metadata": {
      "needs_background": "light"
     },
     "output_type": "display_data"
    }
   ],
   "source": [
    "# boxplot for relationship between target and some object variables\n",
    "for i in data_num[['Rooms','Agency', 'nFloor', 'Floor']]:\n",
    "    sns.boxplot(x=data[i],y=data['Price_USD'])\n",
    "    plt.title(f\"{i}_Price\")\n",
    "    plt.show()"
   ]
  },
  {
   "cell_type": "code",
   "execution_count": 469,
   "metadata": {},
   "outputs": [
    {
     "data": {
      "image/png": "[encoded data removed]",
      "text/plain": [
       "<Figure size 792x504 with 1 Axes>"
      ]
     },
     "metadata": {
      "needs_background": "light"
     },
     "output_type": "display_data"
    }
   ],
   "source": [
    "# scatterplot of SQM and Price to see the relationship\n",
    "plt.figure(figsize = (11,7))\n",
    "plt.scatter(data_num.Sqm, data_num.Price_USD, color='navy')\n",
    "plt.xlabel('Sqm')\n",
    "plt.ylabel('Price')\n",
    "plt.show()"
   ]
  },
  {
   "cell_type": "code",
   "execution_count": 470,
   "metadata": {},
   "outputs": [
    {
     "data": {
      "text/html": [
       "<div>\n",
       "<style scoped>\n",
       "    .dataframe tbody tr th:only-of-type {\n",
       "        vertical-align: middle;\n",
       "    }\n",
       "\n",
       "    .dataframe tbody tr th {\n",
       "        vertical-align: top;\n",
       "    }\n",
       "\n",
       "    .dataframe thead th {\n",
       "        text-align: right;\n",
       "    }\n",
       "</style>\n",
       "<table border=\"1\" class=\"dataframe\">\n",
       "  <thead>\n",
       "    <tr style=\"text-align: right;\">\n",
       "      <th></th>\n",
       "      <th>Price_USD</th>\n",
       "    </tr>\n",
       "    <tr>\n",
       "      <th>Rooms</th>\n",
       "      <th></th>\n",
       "    </tr>\n",
       "  </thead>\n",
       "  <tbody>\n",
       "    <tr>\n",
       "      <th>1.0</th>\n",
       "      <td>53214.794863</td>\n",
       "    </tr>\n",
       "    <tr>\n",
       "      <th>2.0</th>\n",
       "      <td>79066.559856</td>\n",
       "    </tr>\n",
       "    <tr>\n",
       "      <th>3.0</th>\n",
       "      <td>110019.081526</td>\n",
       "    </tr>\n",
       "    <tr>\n",
       "      <th>4.0</th>\n",
       "      <td>162721.125483</td>\n",
       "    </tr>\n",
       "    <tr>\n",
       "      <th>5.0</th>\n",
       "      <td>244837.837838</td>\n",
       "    </tr>\n",
       "    <tr>\n",
       "      <th>6.0</th>\n",
       "      <td>306537.974684</td>\n",
       "    </tr>\n",
       "    <tr>\n",
       "      <th>7.0</th>\n",
       "      <td>336300.000000</td>\n",
       "    </tr>\n",
       "  </tbody>\n",
       "</table>\n",
       "</div>"
      ],
      "text/plain": [
       "           Price_USD\n",
       "Rooms               \n",
       "1.0     53214.794863\n",
       "2.0     79066.559856\n",
       "3.0    110019.081526\n",
       "4.0    162721.125483\n",
       "5.0    244837.837838\n",
       "6.0    306537.974684\n",
       "7.0    336300.000000"
      ]
     },
     "execution_count": 470,
     "metadata": {},
     "output_type": "execute_result"
    }
   ],
   "source": [
    "# create a sumary of average price value per room type and see the relationship\n",
    "table = pd.pivot_table(data=data_num, index='Rooms', values='Price_USD', aggfunc='mean')\n",
    "table"
   ]
  },
  {
   "cell_type": "code",
   "execution_count": 471,
   "metadata": {},
   "outputs": [
    {
     "data": {
      "image/png": "[encoded data removed]",
      "text/plain": [
       "<Figure size 792x360 with 1 Axes>"
      ]
     },
     "metadata": {
      "needs_background": "light"
     },
     "output_type": "display_data"
    }
   ],
   "source": [
    "plt.figure(figsize = (11,5))\n",
    "plt.bar(table.index, table['Price_USD'])\n",
    "plt.ylabel('Price_USD Mean')\n",
    "plt.xlabel('Rooms')\n",
    "plt.show()"
   ]
  },
  {
   "cell_type": "code",
   "execution_count": 472,
   "metadata": {},
   "outputs": [
    {
     "data": {
      "text/html": [
       "<div>\n",
       "<style scoped>\n",
       "    .dataframe tbody tr th:only-of-type {\n",
       "        vertical-align: middle;\n",
       "    }\n",
       "\n",
       "    .dataframe tbody tr th {\n",
       "        vertical-align: top;\n",
       "    }\n",
       "\n",
       "    .dataframe thead th {\n",
       "        text-align: right;\n",
       "    }\n",
       "</style>\n",
       "<table border=\"1\" class=\"dataframe\">\n",
       "  <thead>\n",
       "    <tr style=\"text-align: right;\">\n",
       "      <th></th>\n",
       "      <th>Floor</th>\n",
       "      <th>Rooms</th>\n",
       "      <th>Sqm</th>\n",
       "      <th>Agency</th>\n",
       "      <th>nFloor</th>\n",
       "      <th>Price_USD</th>\n",
       "    </tr>\n",
       "  </thead>\n",
       "  <tbody>\n",
       "    <tr>\n",
       "      <th>0</th>\n",
       "      <td>9.0</td>\n",
       "      <td>3.0</td>\n",
       "      <td>124.0</td>\n",
       "      <td>1.0</td>\n",
       "      <td>10.0</td>\n",
       "      <td>250000.0</td>\n",
       "    </tr>\n",
       "    <tr>\n",
       "      <th>1</th>\n",
       "      <td>1.0</td>\n",
       "      <td>4.0</td>\n",
       "      <td>84.0</td>\n",
       "      <td>1.0</td>\n",
       "      <td>2.0</td>\n",
       "      <td>70000.0</td>\n",
       "    </tr>\n",
       "    <tr>\n",
       "      <th>2</th>\n",
       "      <td>1.0</td>\n",
       "      <td>2.0</td>\n",
       "      <td>58.0</td>\n",
       "      <td>1.0</td>\n",
       "      <td>9.0</td>\n",
       "      <td>48000.0</td>\n",
       "    </tr>\n",
       "    <tr>\n",
       "      <th>3</th>\n",
       "      <td>5.0</td>\n",
       "      <td>2.0</td>\n",
       "      <td>64.0</td>\n",
       "      <td>1.0</td>\n",
       "      <td>5.0</td>\n",
       "      <td>80000.0</td>\n",
       "    </tr>\n",
       "    <tr>\n",
       "      <th>4</th>\n",
       "      <td>1.0</td>\n",
       "      <td>3.0</td>\n",
       "      <td>65.0</td>\n",
       "      <td>1.0</td>\n",
       "      <td>14.0</td>\n",
       "      <td>62000.0</td>\n",
       "    </tr>\n",
       "    <tr>\n",
       "      <th>...</th>\n",
       "      <td>...</td>\n",
       "      <td>...</td>\n",
       "      <td>...</td>\n",
       "      <td>...</td>\n",
       "      <td>...</td>\n",
       "      <td>...</td>\n",
       "    </tr>\n",
       "    <tr>\n",
       "      <th>31110</th>\n",
       "      <td>3.0</td>\n",
       "      <td>1.0</td>\n",
       "      <td>32.0</td>\n",
       "      <td>1.0</td>\n",
       "      <td>5.0</td>\n",
       "      <td>49000.0</td>\n",
       "    </tr>\n",
       "    <tr>\n",
       "      <th>31111</th>\n",
       "      <td>8.0</td>\n",
       "      <td>4.0</td>\n",
       "      <td>92.0</td>\n",
       "      <td>1.0</td>\n",
       "      <td>10.0</td>\n",
       "      <td>150000.0</td>\n",
       "    </tr>\n",
       "    <tr>\n",
       "      <th>31112</th>\n",
       "      <td>3.0</td>\n",
       "      <td>3.0</td>\n",
       "      <td>90.0</td>\n",
       "      <td>1.0</td>\n",
       "      <td>5.0</td>\n",
       "      <td>79000.0</td>\n",
       "    </tr>\n",
       "    <tr>\n",
       "      <th>31113</th>\n",
       "      <td>2.0</td>\n",
       "      <td>2.0</td>\n",
       "      <td>70.0</td>\n",
       "      <td>1.0</td>\n",
       "      <td>4.0</td>\n",
       "      <td>81000.0</td>\n",
       "    </tr>\n",
       "    <tr>\n",
       "      <th>31114</th>\n",
       "      <td>6.0</td>\n",
       "      <td>1.0</td>\n",
       "      <td>43.0</td>\n",
       "      <td>1.0</td>\n",
       "      <td>10.0</td>\n",
       "      <td>71000.0</td>\n",
       "    </tr>\n",
       "  </tbody>\n",
       "</table>\n",
       "<p>31115 rows × 6 columns</p>\n",
       "</div>"
      ],
      "text/plain": [
       "       Floor  Rooms    Sqm  Agency  nFloor  Price_USD\n",
       "0        9.0    3.0  124.0     1.0    10.0   250000.0\n",
       "1        1.0    4.0   84.0     1.0     2.0    70000.0\n",
       "2        1.0    2.0   58.0     1.0     9.0    48000.0\n",
       "3        5.0    2.0   64.0     1.0     5.0    80000.0\n",
       "4        1.0    3.0   65.0     1.0    14.0    62000.0\n",
       "...      ...    ...    ...     ...     ...        ...\n",
       "31110    3.0    1.0   32.0     1.0     5.0    49000.0\n",
       "31111    8.0    4.0   92.0     1.0    10.0   150000.0\n",
       "31112    3.0    3.0   90.0     1.0     5.0    79000.0\n",
       "31113    2.0    2.0   70.0     1.0     4.0    81000.0\n",
       "31114    6.0    1.0   43.0     1.0    10.0    71000.0\n",
       "\n",
       "[31115 rows x 6 columns]"
      ]
     },
     "execution_count": 472,
     "metadata": {},
     "output_type": "execute_result"
    }
   ],
   "source": [
    "data_num"
   ]
  },
  {
   "cell_type": "code",
   "execution_count": 473,
   "metadata": {
    "scrolled": true
   },
   "outputs": [
    {
     "name": "stderr",
     "output_type": "stream",
     "text": [
      "<ipython-input-473-f71937ed6e79>:2: SettingWithCopyWarning: \n",
      "A value is trying to be set on a copy of a slice from a DataFrame.\n",
      "Try using .loc[row_indexer,col_indexer] = value instead\n",
      "\n",
      "See the caveats in the documentation: https://pandas.pydata.org/pandas-docs/stable/user_guide/indexing.html#returning-a-view-versus-a-copy\n",
      "  data_num['bardzrahark'] = np.where(data.Floor>=10, 1, 0)\n",
      "<ipython-input-473-f71937ed6e79>:3: SettingWithCopyWarning: \n",
      "A value is trying to be set on a copy of a slice from a DataFrame.\n",
      "Try using .loc[row_indexer,col_indexer] = value instead\n",
      "\n",
      "See the caveats in the documentation: https://pandas.pydata.org/pandas-docs/stable/user_guide/indexing.html#returning-a-view-versus-a-copy\n",
      "  data_num['sqm_per_room'] = data_num['Sqm']/data_num['Rooms']\n",
      "<ipython-input-473-f71937ed6e79>:6: SettingWithCopyWarning: \n",
      "A value is trying to be set on a copy of a slice from a DataFrame.\n",
      "Try using .loc[row_indexer,col_indexer] = value instead\n",
      "\n",
      "See the caveats in the documentation: https://pandas.pydata.org/pandas-docs/stable/user_guide/indexing.html#returning-a-view-versus-a-copy\n",
      "  data_num['Room_groupings'] = np.where(data_num.Rooms<=2,1,np.where(data_num.Rooms >= 6,3,2))\n"
     ]
    }
   ],
   "source": [
    "# features created based on the domain knowledge\n",
    "data_num['bardzrahark'] = np.where(data.Floor>=10, 1, 0)\n",
    "data_num['sqm_per_room'] = data_num['Sqm']/data_num['Rooms']\n",
    "\n",
    "# features created based on the insights from visualizations\n",
    "data_num['Room_groupings'] = np.where(data_num.Rooms<=2,1,np.where(data_num.Rooms >= 6,3,2))\n",
    "data_num['log_SQM'] = np.log(data_num.Sqm)\n",
    "data_num['Price_USD'] = np.log(data_num.Price_USD)"
   ]
  },
  {
   "cell_type": "markdown",
   "metadata": {},
   "source": [
    "# Model Building #2"
   ]
  },
  {
   "cell_type": "code",
   "execution_count": 474,
   "metadata": {},
   "outputs": [
    {
     "data": {
      "text/html": [
       "<div>\n",
       "<style scoped>\n",
       "    .dataframe tbody tr th:only-of-type {\n",
       "        vertical-align: middle;\n",
       "    }\n",
       "\n",
       "    .dataframe tbody tr th {\n",
       "        vertical-align: top;\n",
       "    }\n",
       "\n",
       "    .dataframe thead th {\n",
       "        text-align: right;\n",
       "    }\n",
       "</style>\n",
       "<table border=\"1\" class=\"dataframe\">\n",
       "  <thead>\n",
       "    <tr style=\"text-align: right;\">\n",
       "      <th></th>\n",
       "      <th>Broker</th>\n",
       "      <th>District_աջափնյակ</th>\n",
       "      <th>District_ավան</th>\n",
       "      <th>District_արաբկիր</th>\n",
       "      <th>District_դավթաշեն</th>\n",
       "      <th>District_էրեբունի</th>\n",
       "      <th>District_կենտրոն</th>\n",
       "      <th>District_մալաթիա</th>\n",
       "      <th>District_մալաթիա_սեբաստիա</th>\n",
       "      <th>District_նոր_նորք</th>\n",
       "      <th>District_նորք</th>\n",
       "      <th>District_շենգավիթ</th>\n",
       "      <th>District_քանաքեռ</th>\n",
       "      <th>District_քանաքեռ_զեյթուն</th>\n",
       "      <th>Type_Մոնոլիտ</th>\n",
       "      <th>Type_Պանելային</th>\n",
       "      <th>Type_Քարե</th>\n",
       "      <th>Source_my_realty</th>\n",
       "      <th>Source_real_estate</th>\n",
       "    </tr>\n",
       "  </thead>\n",
       "  <tbody>\n",
       "    <tr>\n",
       "      <th>0</th>\n",
       "      <td>1</td>\n",
       "      <td>0</td>\n",
       "      <td>0</td>\n",
       "      <td>0</td>\n",
       "      <td>0</td>\n",
       "      <td>0</td>\n",
       "      <td>1</td>\n",
       "      <td>0</td>\n",
       "      <td>0</td>\n",
       "      <td>0</td>\n",
       "      <td>0</td>\n",
       "      <td>0</td>\n",
       "      <td>0</td>\n",
       "      <td>0</td>\n",
       "      <td>1</td>\n",
       "      <td>0</td>\n",
       "      <td>0</td>\n",
       "      <td>1</td>\n",
       "      <td>0</td>\n",
       "    </tr>\n",
       "    <tr>\n",
       "      <th>1</th>\n",
       "      <td>1</td>\n",
       "      <td>0</td>\n",
       "      <td>0</td>\n",
       "      <td>0</td>\n",
       "      <td>0</td>\n",
       "      <td>0</td>\n",
       "      <td>0</td>\n",
       "      <td>0</td>\n",
       "      <td>0</td>\n",
       "      <td>0</td>\n",
       "      <td>0</td>\n",
       "      <td>0</td>\n",
       "      <td>0</td>\n",
       "      <td>1</td>\n",
       "      <td>0</td>\n",
       "      <td>0</td>\n",
       "      <td>1</td>\n",
       "      <td>1</td>\n",
       "      <td>0</td>\n",
       "    </tr>\n",
       "    <tr>\n",
       "      <th>2</th>\n",
       "      <td>1</td>\n",
       "      <td>0</td>\n",
       "      <td>0</td>\n",
       "      <td>0</td>\n",
       "      <td>0</td>\n",
       "      <td>0</td>\n",
       "      <td>0</td>\n",
       "      <td>0</td>\n",
       "      <td>1</td>\n",
       "      <td>0</td>\n",
       "      <td>0</td>\n",
       "      <td>0</td>\n",
       "      <td>0</td>\n",
       "      <td>0</td>\n",
       "      <td>0</td>\n",
       "      <td>1</td>\n",
       "      <td>0</td>\n",
       "      <td>1</td>\n",
       "      <td>0</td>\n",
       "    </tr>\n",
       "    <tr>\n",
       "      <th>3</th>\n",
       "      <td>1</td>\n",
       "      <td>0</td>\n",
       "      <td>0</td>\n",
       "      <td>1</td>\n",
       "      <td>0</td>\n",
       "      <td>0</td>\n",
       "      <td>0</td>\n",
       "      <td>0</td>\n",
       "      <td>0</td>\n",
       "      <td>0</td>\n",
       "      <td>0</td>\n",
       "      <td>0</td>\n",
       "      <td>0</td>\n",
       "      <td>0</td>\n",
       "      <td>0</td>\n",
       "      <td>0</td>\n",
       "      <td>1</td>\n",
       "      <td>1</td>\n",
       "      <td>0</td>\n",
       "    </tr>\n",
       "    <tr>\n",
       "      <th>4</th>\n",
       "      <td>1</td>\n",
       "      <td>0</td>\n",
       "      <td>0</td>\n",
       "      <td>0</td>\n",
       "      <td>0</td>\n",
       "      <td>0</td>\n",
       "      <td>1</td>\n",
       "      <td>0</td>\n",
       "      <td>0</td>\n",
       "      <td>0</td>\n",
       "      <td>0</td>\n",
       "      <td>0</td>\n",
       "      <td>0</td>\n",
       "      <td>0</td>\n",
       "      <td>0</td>\n",
       "      <td>0</td>\n",
       "      <td>1</td>\n",
       "      <td>1</td>\n",
       "      <td>0</td>\n",
       "    </tr>\n",
       "  </tbody>\n",
       "</table>\n",
       "</div>"
      ],
      "text/plain": [
       "   Broker  District_աջափնյակ  District_ավան  District_արաբկիր  \\\n",
       "0       1                  0              0                 0   \n",
       "1       1                  0              0                 0   \n",
       "2       1                  0              0                 0   \n",
       "3       1                  0              0                 1   \n",
       "4       1                  0              0                 0   \n",
       "\n",
       "   District_դավթաշեն  District_էրեբունի  District_կենտրոն  District_մալաթիա  \\\n",
       "0                  0                  0                 1                 0   \n",
       "1                  0                  0                 0                 0   \n",
       "2                  0                  0                 0                 0   \n",
       "3                  0                  0                 0                 0   \n",
       "4                  0                  0                 1                 0   \n",
       "\n",
       "   District_մալաթիա_սեբաստիա  District_նոր_նորք  District_նորք  \\\n",
       "0                          0                  0              0   \n",
       "1                          0                  0              0   \n",
       "2                          1                  0              0   \n",
       "3                          0                  0              0   \n",
       "4                          0                  0              0   \n",
       "\n",
       "   District_շենգավիթ  District_քանաքեռ  District_քանաքեռ_զեյթուն  \\\n",
       "0                  0                 0                         0   \n",
       "1                  0                 0                         1   \n",
       "2                  0                 0                         0   \n",
       "3                  0                 0                         0   \n",
       "4                  0                 0                         0   \n",
       "\n",
       "   Type_Մոնոլիտ  Type_Պանելային  Type_Քարե  Source_my_realty  \\\n",
       "0             1               0          0                 1   \n",
       "1             0               0          1                 1   \n",
       "2             0               1          0                 1   \n",
       "3             0               0          1                 1   \n",
       "4             0               0          1                 1   \n",
       "\n",
       "   Source_real_estate  \n",
       "0                   0  \n",
       "1                   0  \n",
       "2                   0  \n",
       "3                   0  \n",
       "4                   0  "
      ]
     },
     "execution_count": 474,
     "metadata": {},
     "output_type": "execute_result"
    }
   ],
   "source": [
    "# create dummies\n",
    "data_dummies = pd.get_dummies(data_obj,drop_first = True)\n",
    "data_dummies.head()"
   ]
  },
  {
   "cell_type": "code",
   "execution_count": 475,
   "metadata": {},
   "outputs": [],
   "source": [
    "# merging all variables together\n",
    "data_model = data_num.join(data_dummies, how='left')"
   ]
  },
  {
   "cell_type": "code",
   "execution_count": 476,
   "metadata": {},
   "outputs": [
    {
     "data": {
      "text/html": [
       "<div>\n",
       "<style scoped>\n",
       "    .dataframe tbody tr th:only-of-type {\n",
       "        vertical-align: middle;\n",
       "    }\n",
       "\n",
       "    .dataframe tbody tr th {\n",
       "        vertical-align: top;\n",
       "    }\n",
       "\n",
       "    .dataframe thead th {\n",
       "        text-align: right;\n",
       "    }\n",
       "</style>\n",
       "<table border=\"1\" class=\"dataframe\">\n",
       "  <thead>\n",
       "    <tr style=\"text-align: right;\">\n",
       "      <th></th>\n",
       "      <th>Floor</th>\n",
       "      <th>Rooms</th>\n",
       "      <th>Sqm</th>\n",
       "      <th>Agency</th>\n",
       "      <th>nFloor</th>\n",
       "      <th>Price_USD</th>\n",
       "      <th>bardzrahark</th>\n",
       "      <th>sqm_per_room</th>\n",
       "      <th>Room_groupings</th>\n",
       "      <th>log_SQM</th>\n",
       "      <th>...</th>\n",
       "      <th>District_նոր_նորք</th>\n",
       "      <th>District_նորք</th>\n",
       "      <th>District_շենգավիթ</th>\n",
       "      <th>District_քանաքեռ</th>\n",
       "      <th>District_քանաքեռ_զեյթուն</th>\n",
       "      <th>Type_Մոնոլիտ</th>\n",
       "      <th>Type_Պանելային</th>\n",
       "      <th>Type_Քարե</th>\n",
       "      <th>Source_my_realty</th>\n",
       "      <th>Source_real_estate</th>\n",
       "    </tr>\n",
       "  </thead>\n",
       "  <tbody>\n",
       "    <tr>\n",
       "      <th>0</th>\n",
       "      <td>9.0</td>\n",
       "      <td>3.0</td>\n",
       "      <td>124.0</td>\n",
       "      <td>1.0</td>\n",
       "      <td>10.0</td>\n",
       "      <td>12.429216</td>\n",
       "      <td>0</td>\n",
       "      <td>41.333333</td>\n",
       "      <td>2</td>\n",
       "      <td>4.820282</td>\n",
       "      <td>...</td>\n",
       "      <td>0</td>\n",
       "      <td>0</td>\n",
       "      <td>0</td>\n",
       "      <td>0</td>\n",
       "      <td>0</td>\n",
       "      <td>1</td>\n",
       "      <td>0</td>\n",
       "      <td>0</td>\n",
       "      <td>1</td>\n",
       "      <td>0</td>\n",
       "    </tr>\n",
       "    <tr>\n",
       "      <th>1</th>\n",
       "      <td>1.0</td>\n",
       "      <td>4.0</td>\n",
       "      <td>84.0</td>\n",
       "      <td>1.0</td>\n",
       "      <td>2.0</td>\n",
       "      <td>11.156251</td>\n",
       "      <td>0</td>\n",
       "      <td>21.000000</td>\n",
       "      <td>2</td>\n",
       "      <td>4.430817</td>\n",
       "      <td>...</td>\n",
       "      <td>0</td>\n",
       "      <td>0</td>\n",
       "      <td>0</td>\n",
       "      <td>0</td>\n",
       "      <td>1</td>\n",
       "      <td>0</td>\n",
       "      <td>0</td>\n",
       "      <td>1</td>\n",
       "      <td>1</td>\n",
       "      <td>0</td>\n",
       "    </tr>\n",
       "    <tr>\n",
       "      <th>2</th>\n",
       "      <td>1.0</td>\n",
       "      <td>2.0</td>\n",
       "      <td>58.0</td>\n",
       "      <td>1.0</td>\n",
       "      <td>9.0</td>\n",
       "      <td>10.778956</td>\n",
       "      <td>0</td>\n",
       "      <td>29.000000</td>\n",
       "      <td>1</td>\n",
       "      <td>4.060443</td>\n",
       "      <td>...</td>\n",
       "      <td>0</td>\n",
       "      <td>0</td>\n",
       "      <td>0</td>\n",
       "      <td>0</td>\n",
       "      <td>0</td>\n",
       "      <td>0</td>\n",
       "      <td>1</td>\n",
       "      <td>0</td>\n",
       "      <td>1</td>\n",
       "      <td>0</td>\n",
       "    </tr>\n",
       "    <tr>\n",
       "      <th>3</th>\n",
       "      <td>5.0</td>\n",
       "      <td>2.0</td>\n",
       "      <td>64.0</td>\n",
       "      <td>1.0</td>\n",
       "      <td>5.0</td>\n",
       "      <td>11.289782</td>\n",
       "      <td>0</td>\n",
       "      <td>32.000000</td>\n",
       "      <td>1</td>\n",
       "      <td>4.158883</td>\n",
       "      <td>...</td>\n",
       "      <td>0</td>\n",
       "      <td>0</td>\n",
       "      <td>0</td>\n",
       "      <td>0</td>\n",
       "      <td>0</td>\n",
       "      <td>0</td>\n",
       "      <td>0</td>\n",
       "      <td>1</td>\n",
       "      <td>1</td>\n",
       "      <td>0</td>\n",
       "    </tr>\n",
       "    <tr>\n",
       "      <th>4</th>\n",
       "      <td>1.0</td>\n",
       "      <td>3.0</td>\n",
       "      <td>65.0</td>\n",
       "      <td>1.0</td>\n",
       "      <td>14.0</td>\n",
       "      <td>11.034890</td>\n",
       "      <td>0</td>\n",
       "      <td>21.666667</td>\n",
       "      <td>2</td>\n",
       "      <td>4.174387</td>\n",
       "      <td>...</td>\n",
       "      <td>0</td>\n",
       "      <td>0</td>\n",
       "      <td>0</td>\n",
       "      <td>0</td>\n",
       "      <td>0</td>\n",
       "      <td>0</td>\n",
       "      <td>0</td>\n",
       "      <td>1</td>\n",
       "      <td>1</td>\n",
       "      <td>0</td>\n",
       "    </tr>\n",
       "  </tbody>\n",
       "</table>\n",
       "<p>5 rows × 29 columns</p>\n",
       "</div>"
      ],
      "text/plain": [
       "   Floor  Rooms    Sqm  Agency  nFloor  Price_USD  bardzrahark  sqm_per_room  \\\n",
       "0    9.0    3.0  124.0     1.0    10.0  12.429216            0     41.333333   \n",
       "1    1.0    4.0   84.0     1.0     2.0  11.156251            0     21.000000   \n",
       "2    1.0    2.0   58.0     1.0     9.0  10.778956            0     29.000000   \n",
       "3    5.0    2.0   64.0     1.0     5.0  11.289782            0     32.000000   \n",
       "4    1.0    3.0   65.0     1.0    14.0  11.034890            0     21.666667   \n",
       "\n",
       "   Room_groupings   log_SQM  ...  District_նոր_նորք  District_նորք  \\\n",
       "0               2  4.820282  ...                  0              0   \n",
       "1               2  4.430817  ...                  0              0   \n",
       "2               1  4.060443  ...                  0              0   \n",
       "3               1  4.158883  ...                  0              0   \n",
       "4               2  4.174387  ...                  0              0   \n",
       "\n",
       "   District_շենգավիթ  District_քանաքեռ  District_քանաքեռ_զեյթուն  \\\n",
       "0                  0                 0                         0   \n",
       "1                  0                 0                         1   \n",
       "2                  0                 0                         0   \n",
       "3                  0                 0                         0   \n",
       "4                  0                 0                         0   \n",
       "\n",
       "   Type_Մոնոլիտ  Type_Պանելային  Type_Քարե  Source_my_realty  \\\n",
       "0             1               0          0                 1   \n",
       "1             0               0          1                 1   \n",
       "2             0               1          0                 1   \n",
       "3             0               0          1                 1   \n",
       "4             0               0          1                 1   \n",
       "\n",
       "   Source_real_estate  \n",
       "0                   0  \n",
       "1                   0  \n",
       "2                   0  \n",
       "3                   0  \n",
       "4                   0  \n",
       "\n",
       "[5 rows x 29 columns]"
      ]
     },
     "execution_count": 476,
     "metadata": {},
     "output_type": "execute_result"
    }
   ],
   "source": [
    "data_model.head()"
   ]
  },
  {
   "cell_type": "code",
   "execution_count": 477,
   "metadata": {},
   "outputs": [],
   "source": [
    "Y = data_model[\"Price_USD\"]\n",
    "X = data_model.drop(\"Price_USD\", axis=1)\n",
    "X = sm.add_constant(X)"
   ]
  },
  {
   "cell_type": "code",
   "execution_count": 478,
   "metadata": {},
   "outputs": [],
   "source": [
    "X0, X1, Y0, Y1 = train_test_split(X, Y, test_size=0.25, random_state=42)"
   ]
  },
  {
   "cell_type": "code",
   "execution_count": 479,
   "metadata": {
    "scrolled": true
   },
   "outputs": [
    {
     "data": {
      "text/html": [
       "<table class=\"simpletable\">\n",
       "<caption>OLS Regression Results</caption>\n",
       "<tr>\n",
       "  <th>Dep. Variable:</th>        <td>Price_USD</td>    <th>  R-squared:         </th> <td>   0.794</td>\n",
       "</tr>\n",
       "<tr>\n",
       "  <th>Model:</th>                   <td>OLS</td>       <th>  Adj. R-squared:    </th> <td>   0.794</td>\n",
       "</tr>\n",
       "<tr>\n",
       "  <th>Method:</th>             <td>Least Squares</td>  <th>  F-statistic:       </th> <td>   3331.</td>\n",
       "</tr>\n",
       "<tr>\n",
       "  <th>Date:</th>             <td>Sat, 26 Sep 2020</td> <th>  Prob (F-statistic):</th>  <td>  0.00</td> \n",
       "</tr>\n",
       "<tr>\n",
       "  <th>Time:</th>                 <td>20:07:11</td>     <th>  Log-Likelihood:    </th> <td> -2770.3</td>\n",
       "</tr>\n",
       "<tr>\n",
       "  <th>No. Observations:</th>      <td> 23336</td>      <th>  AIC:               </th> <td>   5597.</td>\n",
       "</tr>\n",
       "<tr>\n",
       "  <th>Df Residuals:</th>          <td> 23308</td>      <th>  BIC:               </th> <td>   5822.</td>\n",
       "</tr>\n",
       "<tr>\n",
       "  <th>Df Model:</th>              <td>    27</td>      <th>                     </th>     <td> </td>   \n",
       "</tr>\n",
       "<tr>\n",
       "  <th>Covariance Type:</th>      <td>nonrobust</td>    <th>                     </th>     <td> </td>   \n",
       "</tr>\n",
       "</table>\n",
       "<table class=\"simpletable\">\n",
       "<tr>\n",
       "              <td></td>                 <th>coef</th>     <th>std err</th>      <th>t</th>      <th>P>|t|</th>  <th>[0.025</th>    <th>0.975]</th>  \n",
       "</tr>\n",
       "<tr>\n",
       "  <th>const</th>                     <td>    8.5666</td> <td>    0.062</td> <td>  138.727</td> <td> 0.000</td> <td>    8.446</td> <td>    8.688</td>\n",
       "</tr>\n",
       "<tr>\n",
       "  <th>Floor</th>                     <td>   -0.0009</td> <td>    0.001</td> <td>   -1.006</td> <td> 0.314</td> <td>   -0.003</td> <td>    0.001</td>\n",
       "</tr>\n",
       "<tr>\n",
       "  <th>Rooms</th>                     <td>   -0.0791</td> <td>    0.008</td> <td>   -9.883</td> <td> 0.000</td> <td>   -0.095</td> <td>   -0.063</td>\n",
       "</tr>\n",
       "<tr>\n",
       "  <th>Sqm</th>                       <td>    0.0047</td> <td>    0.000</td> <td>   21.585</td> <td> 0.000</td> <td>    0.004</td> <td>    0.005</td>\n",
       "</tr>\n",
       "<tr>\n",
       "  <th>Agency</th>                    <td>    0.0536</td> <td>    0.015</td> <td>    3.634</td> <td> 0.000</td> <td>    0.025</td> <td>    0.082</td>\n",
       "</tr>\n",
       "<tr>\n",
       "  <th>nFloor</th>                    <td>    0.0063</td> <td>    0.001</td> <td>    8.250</td> <td> 0.000</td> <td>    0.005</td> <td>    0.008</td>\n",
       "</tr>\n",
       "<tr>\n",
       "  <th>bardzrahark</th>               <td>   -0.0486</td> <td>    0.009</td> <td>   -5.470</td> <td> 0.000</td> <td>   -0.066</td> <td>   -0.031</td>\n",
       "</tr>\n",
       "<tr>\n",
       "  <th>sqm_per_room</th>              <td>   -0.0036</td> <td>    0.001</td> <td>   -7.125</td> <td> 0.000</td> <td>   -0.005</td> <td>   -0.003</td>\n",
       "</tr>\n",
       "<tr>\n",
       "  <th>Room_groupings</th>            <td>    0.0416</td> <td>    0.007</td> <td>    5.941</td> <td> 0.000</td> <td>    0.028</td> <td>    0.055</td>\n",
       "</tr>\n",
       "<tr>\n",
       "  <th>log_SQM</th>                   <td>    0.5645</td> <td>    0.018</td> <td>   30.890</td> <td> 0.000</td> <td>    0.529</td> <td>    0.600</td>\n",
       "</tr>\n",
       "<tr>\n",
       "  <th>Broker</th>                    <td>    0.0380</td> <td>    0.002</td> <td>   15.720</td> <td> 0.000</td> <td>    0.033</td> <td>    0.043</td>\n",
       "</tr>\n",
       "<tr>\n",
       "  <th>District_աջափնյակ</th>         <td>   -0.2498</td> <td>    0.010</td> <td>  -24.960</td> <td> 0.000</td> <td>   -0.269</td> <td>   -0.230</td>\n",
       "</tr>\n",
       "<tr>\n",
       "  <th>District_ավան</th>             <td>   -0.1497</td> <td>    0.012</td> <td>  -12.229</td> <td> 0.000</td> <td>   -0.174</td> <td>   -0.126</td>\n",
       "</tr>\n",
       "<tr>\n",
       "  <th>District_արաբկիր</th>          <td>    0.1078</td> <td>    0.007</td> <td>   14.709</td> <td> 0.000</td> <td>    0.093</td> <td>    0.122</td>\n",
       "</tr>\n",
       "<tr>\n",
       "  <th>District_դավթաշեն</th>         <td>   -0.0437</td> <td>    0.010</td> <td>   -4.162</td> <td> 0.000</td> <td>   -0.064</td> <td>   -0.023</td>\n",
       "</tr>\n",
       "<tr>\n",
       "  <th>District_էրեբունի</th>         <td>   -0.2205</td> <td>    0.016</td> <td>  -13.857</td> <td> 0.000</td> <td>   -0.252</td> <td>   -0.189</td>\n",
       "</tr>\n",
       "<tr>\n",
       "  <th>District_կենտրոն</th>          <td>    0.4400</td> <td>    0.007</td> <td>   60.853</td> <td> 0.000</td> <td>    0.426</td> <td>    0.454</td>\n",
       "</tr>\n",
       "<tr>\n",
       "  <th>District_մալաթիա</th>          <td>   -0.2252</td> <td>    0.011</td> <td>  -20.620</td> <td> 0.000</td> <td>   -0.247</td> <td>   -0.204</td>\n",
       "</tr>\n",
       "<tr>\n",
       "  <th>District_մալաթիա_սեբաստիա</th> <td>   -0.2518</td> <td>    0.019</td> <td>  -13.141</td> <td> 0.000</td> <td>   -0.289</td> <td>   -0.214</td>\n",
       "</tr>\n",
       "<tr>\n",
       "  <th>District_նոր_նորք</th>         <td>   -0.2156</td> <td>    0.016</td> <td>  -13.691</td> <td> 0.000</td> <td>   -0.246</td> <td>   -0.185</td>\n",
       "</tr>\n",
       "<tr>\n",
       "  <th>District_նորք</th>             <td>   -0.2251</td> <td>    0.010</td> <td>  -22.071</td> <td> 0.000</td> <td>   -0.245</td> <td>   -0.205</td>\n",
       "</tr>\n",
       "<tr>\n",
       "  <th>District_շենգավիթ</th>         <td>   -0.2485</td> <td>    0.009</td> <td>  -27.690</td> <td> 0.000</td> <td>   -0.266</td> <td>   -0.231</td>\n",
       "</tr>\n",
       "<tr>\n",
       "  <th>District_քանաքեռ</th>          <td>   -0.1586</td> <td>    0.012</td> <td>  -13.062</td> <td> 0.000</td> <td>   -0.182</td> <td>   -0.135</td>\n",
       "</tr>\n",
       "<tr>\n",
       "  <th>District_քանաքեռ_զեյթուն</th>  <td>   -0.1901</td> <td>    0.017</td> <td>  -11.032</td> <td> 0.000</td> <td>   -0.224</td> <td>   -0.156</td>\n",
       "</tr>\n",
       "<tr>\n",
       "  <th>Type_Մոնոլիտ</th>              <td>    0.2462</td> <td>    0.012</td> <td>   20.841</td> <td> 0.000</td> <td>    0.223</td> <td>    0.269</td>\n",
       "</tr>\n",
       "<tr>\n",
       "  <th>Type_Պանելային</th>            <td>   -0.1108</td> <td>    0.011</td> <td>   -9.693</td> <td> 0.000</td> <td>   -0.133</td> <td>   -0.088</td>\n",
       "</tr>\n",
       "<tr>\n",
       "  <th>Type_Քարե</th>                 <td>    0.0207</td> <td>    0.011</td> <td>    1.806</td> <td> 0.071</td> <td>   -0.002</td> <td>    0.043</td>\n",
       "</tr>\n",
       "<tr>\n",
       "  <th>Source_my_realty</th>          <td>    0.0380</td> <td>    0.002</td> <td>   15.720</td> <td> 0.000</td> <td>    0.033</td> <td>    0.043</td>\n",
       "</tr>\n",
       "<tr>\n",
       "  <th>Source_real_estate</th>        <td>    0.0745</td> <td>    0.007</td> <td>   11.266</td> <td> 0.000</td> <td>    0.062</td> <td>    0.088</td>\n",
       "</tr>\n",
       "</table>\n",
       "<table class=\"simpletable\">\n",
       "<tr>\n",
       "  <th>Omnibus:</th>       <td>1402.521</td> <th>  Durbin-Watson:     </th> <td>   1.996</td>\n",
       "</tr>\n",
       "<tr>\n",
       "  <th>Prob(Omnibus):</th>  <td> 0.000</td>  <th>  Jarque-Bera (JB):  </th> <td>6322.391</td>\n",
       "</tr>\n",
       "<tr>\n",
       "  <th>Skew:</th>           <td> 0.005</td>  <th>  Prob(JB):          </th> <td>    0.00</td>\n",
       "</tr>\n",
       "<tr>\n",
       "  <th>Kurtosis:</th>       <td> 5.550</td>  <th>  Cond. No.          </th> <td>1.07e+16</td>\n",
       "</tr>\n",
       "</table><br/><br/>Warnings:<br/>[1] Standard Errors assume that the covariance matrix of the errors is correctly specified.<br/>[2] The smallest eigenvalue is 1.91e-24. This might indicate that there are<br/>strong multicollinearity problems or that the design matrix is singular."
      ],
      "text/plain": [
       "<class 'statsmodels.iolib.summary.Summary'>\n",
       "\"\"\"\n",
       "                            OLS Regression Results                            \n",
       "==============================================================================\n",
       "Dep. Variable:              Price_USD   R-squared:                       0.794\n",
       "Model:                            OLS   Adj. R-squared:                  0.794\n",
       "Method:                 Least Squares   F-statistic:                     3331.\n",
       "Date:                Sat, 26 Sep 2020   Prob (F-statistic):               0.00\n",
       "Time:                        20:07:11   Log-Likelihood:                -2770.3\n",
       "No. Observations:               23336   AIC:                             5597.\n",
       "Df Residuals:                   23308   BIC:                             5822.\n",
       "Df Model:                          27                                         \n",
       "Covariance Type:            nonrobust                                         \n",
       "=============================================================================================\n",
       "                                coef    std err          t      P>|t|      [0.025      0.975]\n",
       "---------------------------------------------------------------------------------------------\n",
       "const                         8.5666      0.062    138.727      0.000       8.446       8.688\n",
       "Floor                        -0.0009      0.001     -1.006      0.314      -0.003       0.001\n",
       "Rooms                        -0.0791      0.008     -9.883      0.000      -0.095      -0.063\n",
       "Sqm                           0.0047      0.000     21.585      0.000       0.004       0.005\n",
       "Agency                        0.0536      0.015      3.634      0.000       0.025       0.082\n",
       "nFloor                        0.0063      0.001      8.250      0.000       0.005       0.008\n",
       "bardzrahark                  -0.0486      0.009     -5.470      0.000      -0.066      -0.031\n",
       "sqm_per_room                 -0.0036      0.001     -7.125      0.000      -0.005      -0.003\n",
       "Room_groupings                0.0416      0.007      5.941      0.000       0.028       0.055\n",
       "log_SQM                       0.5645      0.018     30.890      0.000       0.529       0.600\n",
       "Broker                        0.0380      0.002     15.720      0.000       0.033       0.043\n",
       "District_աջափնյակ            -0.2498      0.010    -24.960      0.000      -0.269      -0.230\n",
       "District_ավան                -0.1497      0.012    -12.229      0.000      -0.174      -0.126\n",
       "District_արաբկիր              0.1078      0.007     14.709      0.000       0.093       0.122\n",
       "District_դավթաշեն            -0.0437      0.010     -4.162      0.000      -0.064      -0.023\n",
       "District_էրեբունի            -0.2205      0.016    -13.857      0.000      -0.252      -0.189\n",
       "District_կենտրոն              0.4400      0.007     60.853      0.000       0.426       0.454\n",
       "District_մալաթիա             -0.2252      0.011    -20.620      0.000      -0.247      -0.204\n",
       "District_մալաթիա_սեբաստիա    -0.2518      0.019    -13.141      0.000      -0.289      -0.214\n",
       "District_նոր_նորք            -0.2156      0.016    -13.691      0.000      -0.246      -0.185\n",
       "District_նորք                -0.2251      0.010    -22.071      0.000      -0.245      -0.205\n",
       "District_շենգավիթ            -0.2485      0.009    -27.690      0.000      -0.266      -0.231\n",
       "District_քանաքեռ             -0.1586      0.012    -13.062      0.000      -0.182      -0.135\n",
       "District_քանաքեռ_զեյթուն     -0.1901      0.017    -11.032      0.000      -0.224      -0.156\n",
       "Type_Մոնոլիտ                  0.2462      0.012     20.841      0.000       0.223       0.269\n",
       "Type_Պանելային               -0.1108      0.011     -9.693      0.000      -0.133      -0.088\n",
       "Type_Քարե                     0.0207      0.011      1.806      0.071      -0.002       0.043\n",
       "Source_my_realty              0.0380      0.002     15.720      0.000       0.033       0.043\n",
       "Source_real_estate            0.0745      0.007     11.266      0.000       0.062       0.088\n",
       "==============================================================================\n",
       "Omnibus:                     1402.521   Durbin-Watson:                   1.996\n",
       "Prob(Omnibus):                  0.000   Jarque-Bera (JB):             6322.391\n",
       "Skew:                           0.005   Prob(JB):                         0.00\n",
       "Kurtosis:                       5.550   Cond. No.                     1.07e+16\n",
       "==============================================================================\n",
       "\n",
       "Warnings:\n",
       "[1] Standard Errors assume that the covariance matrix of the errors is correctly specified.\n",
       "[2] The smallest eigenvalue is 1.91e-24. This might indicate that there are\n",
       "strong multicollinearity problems or that the design matrix is singular.\n",
       "\"\"\""
      ]
     },
     "execution_count": 479,
     "metadata": {},
     "output_type": "execute_result"
    }
   ],
   "source": [
    "# linear model\n",
    "model_linear = sm.OLS(Y0, X0)\n",
    "results = model_linear.fit()\n",
    "results.summary()"
   ]
  },
  {
   "cell_type": "code",
   "execution_count": 480,
   "metadata": {},
   "outputs": [
    {
     "name": "stdout",
     "output_type": "stream",
     "text": [
      "R^2_test: 0.7954684152601414\n"
     ]
    }
   ],
   "source": [
    "# check prediction on the test set\n",
    "Y1_pred=results.predict(X1)\n",
    "print('R^2_test:', r2_score(Y1, Y1_pred))"
   ]
  },
  {
   "cell_type": "markdown",
   "metadata": {},
   "source": [
    "We have seen how we can significantly improve the sxame model based solely on feature engineering"
   ]
  },
  {
   "cell_type": "markdown",
   "metadata": {},
   "source": [
    "### Interpretation of the results of Linear Regression\n",
    "R-squared and F-statistics: As Prob (F-statistic) shows our model is statistically significant at 5%(even 1%) significance level, so there is at least one estimated coefficient (besides intercept) that is not null. R-squared shows that 79% of variance in car prices is explained by the variables included in the model.\n",
    "\n",
    "Adj. R-squared (79%) is the same as R-squared, which means that included variables are important.\n",
    "\n",
    "<b>CStatistically significant variables:</b>\n",
    "<ul>\n",
    "<li>All vairables, except the Fllor as statistically significant, they have p-value smaller than 0.05. </li>\n",
    "</ul>\n",
    "\n",
    "\n",
    "<b>Coefficients (continous variable):</b>\n",
    "<ul>\n",
    "<li>For each unit increase in SQM we will experience on average about 0.0047 increase in log price of a house. Please not that we are interpreting the effect on the LOGARITHM of the price.</li>\n",
    "</ul>\n",
    "\n",
    "<b>CCoefficients (categorical variable)</b>\n",
    "<ul>\n",
    "<li>the reference category for type is 'other'. So if a house type is stone rather than smth else then on average 0.0207 unit increase is expected in mean log of a house. </li>\n",
    "</ul>\n",
    "\n",
    "CPlease note that if the variable is in the model and you have no possibility or you do not want to remove it it should be in the final model formulation even if it is not statistically significant\n",
    "\n",
    "<b>lOG_Price = 8.5666 - 0.0009*Floor - 0.0791*Rooms + 0.0047*SQM ............</b>"
   ]
  },
  {
   "cell_type": "markdown",
   "metadata": {},
   "source": [
    "## Sklearn linear regression"
   ]
  },
  {
   "cell_type": "code",
   "execution_count": 481,
   "metadata": {},
   "outputs": [
    {
     "name": "stdout",
     "output_type": "stream",
     "text": [
      "R^2_train: 0.7942032785052594\n",
      "R^2_test: 0.7954684152601316\n"
     ]
    }
   ],
   "source": [
    "# we specify do not fit intercept because we already have the constant feature\n",
    "reg = linear_model.LinearRegression(fit_intercept=False).fit(X0, Y0)\n",
    "print('R^2_train:', reg.score(X0, Y0))\n",
    "print('R^2_test:', reg.score(X1, Y1))"
   ]
  },
  {
   "cell_type": "code",
   "execution_count": 482,
   "metadata": {},
   "outputs": [
    {
     "data": {
      "text/plain": [
       "array([ 8.56659403e+00, -8.77026469e-04, -7.91041072e-02,  4.67821824e-03,\n",
       "        5.35877029e-02,  6.26618741e-03, -4.86298736e-02, -3.63855880e-03,\n",
       "        4.16069636e-02,  5.64474572e-01,  3.80386069e-02, -2.49827131e-01,\n",
       "       -1.49702680e-01,  1.07824065e-01, -4.36520298e-02, -2.20455986e-01,\n",
       "        4.39990433e-01, -2.25204767e-01, -2.51847131e-01, -2.15583637e-01,\n",
       "       -2.25060126e-01, -2.48456642e-01, -1.58622773e-01, -1.90140140e-01,\n",
       "        2.46162835e-01, -1.10787842e-01,  2.07242964e-02,  3.80386069e-02,\n",
       "        7.45493778e-02])"
      ]
     },
     "execution_count": 482,
     "metadata": {},
     "output_type": "execute_result"
    }
   ],
   "source": [
    "reg.coef_"
   ]
  },
  {
   "cell_type": "code",
   "execution_count": 483,
   "metadata": {
    "scrolled": true
   },
   "outputs": [
    {
     "data": {
      "text/html": [
       "<div>\n",
       "<style scoped>\n",
       "    .dataframe tbody tr th:only-of-type {\n",
       "        vertical-align: middle;\n",
       "    }\n",
       "\n",
       "    .dataframe tbody tr th {\n",
       "        vertical-align: top;\n",
       "    }\n",
       "\n",
       "    .dataframe thead th {\n",
       "        text-align: right;\n",
       "    }\n",
       "</style>\n",
       "<table border=\"1\" class=\"dataframe\">\n",
       "  <thead>\n",
       "    <tr style=\"text-align: right;\">\n",
       "      <th></th>\n",
       "      <th>coef</th>\n",
       "    </tr>\n",
       "  </thead>\n",
       "  <tbody>\n",
       "    <tr>\n",
       "      <th>const</th>\n",
       "      <td>8.566594</td>\n",
       "    </tr>\n",
       "    <tr>\n",
       "      <th>Floor</th>\n",
       "      <td>-0.000877</td>\n",
       "    </tr>\n",
       "    <tr>\n",
       "      <th>Rooms</th>\n",
       "      <td>-0.079104</td>\n",
       "    </tr>\n",
       "    <tr>\n",
       "      <th>Sqm</th>\n",
       "      <td>0.004678</td>\n",
       "    </tr>\n",
       "    <tr>\n",
       "      <th>Agency</th>\n",
       "      <td>0.053588</td>\n",
       "    </tr>\n",
       "    <tr>\n",
       "      <th>nFloor</th>\n",
       "      <td>0.006266</td>\n",
       "    </tr>\n",
       "    <tr>\n",
       "      <th>bardzrahark</th>\n",
       "      <td>-0.048630</td>\n",
       "    </tr>\n",
       "    <tr>\n",
       "      <th>sqm_per_room</th>\n",
       "      <td>-0.003639</td>\n",
       "    </tr>\n",
       "    <tr>\n",
       "      <th>Room_groupings</th>\n",
       "      <td>0.041607</td>\n",
       "    </tr>\n",
       "    <tr>\n",
       "      <th>log_SQM</th>\n",
       "      <td>0.564475</td>\n",
       "    </tr>\n",
       "    <tr>\n",
       "      <th>Broker</th>\n",
       "      <td>0.038039</td>\n",
       "    </tr>\n",
       "    <tr>\n",
       "      <th>District_աջափնյակ</th>\n",
       "      <td>-0.249827</td>\n",
       "    </tr>\n",
       "    <tr>\n",
       "      <th>District_ավան</th>\n",
       "      <td>-0.149703</td>\n",
       "    </tr>\n",
       "    <tr>\n",
       "      <th>District_արաբկիր</th>\n",
       "      <td>0.107824</td>\n",
       "    </tr>\n",
       "    <tr>\n",
       "      <th>District_դավթաշեն</th>\n",
       "      <td>-0.043652</td>\n",
       "    </tr>\n",
       "    <tr>\n",
       "      <th>District_էրեբունի</th>\n",
       "      <td>-0.220456</td>\n",
       "    </tr>\n",
       "    <tr>\n",
       "      <th>District_կենտրոն</th>\n",
       "      <td>0.439990</td>\n",
       "    </tr>\n",
       "    <tr>\n",
       "      <th>District_մալաթիա</th>\n",
       "      <td>-0.225205</td>\n",
       "    </tr>\n",
       "    <tr>\n",
       "      <th>District_մալաթիա_սեբաստիա</th>\n",
       "      <td>-0.251847</td>\n",
       "    </tr>\n",
       "    <tr>\n",
       "      <th>District_նոր_նորք</th>\n",
       "      <td>-0.215584</td>\n",
       "    </tr>\n",
       "    <tr>\n",
       "      <th>District_նորք</th>\n",
       "      <td>-0.225060</td>\n",
       "    </tr>\n",
       "    <tr>\n",
       "      <th>District_շենգավիթ</th>\n",
       "      <td>-0.248457</td>\n",
       "    </tr>\n",
       "    <tr>\n",
       "      <th>District_քանաքեռ</th>\n",
       "      <td>-0.158623</td>\n",
       "    </tr>\n",
       "    <tr>\n",
       "      <th>District_քանաքեռ_զեյթուն</th>\n",
       "      <td>-0.190140</td>\n",
       "    </tr>\n",
       "    <tr>\n",
       "      <th>Type_Մոնոլիտ</th>\n",
       "      <td>0.246163</td>\n",
       "    </tr>\n",
       "    <tr>\n",
       "      <th>Type_Պանելային</th>\n",
       "      <td>-0.110788</td>\n",
       "    </tr>\n",
       "    <tr>\n",
       "      <th>Type_Քարե</th>\n",
       "      <td>0.020724</td>\n",
       "    </tr>\n",
       "    <tr>\n",
       "      <th>Source_my_realty</th>\n",
       "      <td>0.038039</td>\n",
       "    </tr>\n",
       "    <tr>\n",
       "      <th>Source_real_estate</th>\n",
       "      <td>0.074549</td>\n",
       "    </tr>\n",
       "  </tbody>\n",
       "</table>\n",
       "</div>"
      ],
      "text/plain": [
       "                               coef\n",
       "const                      8.566594\n",
       "Floor                     -0.000877\n",
       "Rooms                     -0.079104\n",
       "Sqm                        0.004678\n",
       "Agency                     0.053588\n",
       "nFloor                     0.006266\n",
       "bardzrahark               -0.048630\n",
       "sqm_per_room              -0.003639\n",
       "Room_groupings             0.041607\n",
       "log_SQM                    0.564475\n",
       "Broker                     0.038039\n",
       "District_աջափնյակ         -0.249827\n",
       "District_ավան             -0.149703\n",
       "District_արաբկիր           0.107824\n",
       "District_դավթաշեն         -0.043652\n",
       "District_էրեբունի         -0.220456\n",
       "District_կենտրոն           0.439990\n",
       "District_մալաթիա          -0.225205\n",
       "District_մալաթիա_սեբաստիա -0.251847\n",
       "District_նոր_նորք         -0.215584\n",
       "District_նորք             -0.225060\n",
       "District_շենգավիթ         -0.248457\n",
       "District_քանաքեռ          -0.158623\n",
       "District_քանաքեռ_զեյթուն  -0.190140\n",
       "Type_Մոնոլիտ               0.246163\n",
       "Type_Պանելային            -0.110788\n",
       "Type_Քարե                  0.020724\n",
       "Source_my_realty           0.038039\n",
       "Source_real_estate         0.074549"
      ]
     },
     "execution_count": 483,
     "metadata": {},
     "output_type": "execute_result"
    }
   ],
   "source": [
    "# the package do not have the same summary, and the code below only provides the features and respective coefficients\n",
    "coef = pd.DataFrame(dict(zip(X0.columns, reg.coef_)), index=[0]).T\n",
    "coef.columns=['coef']\n",
    "coef"
   ]
  },
  {
   "cell_type": "markdown",
   "metadata": {},
   "source": [
    "For implementing Lasso regression change <i>LinearRegression</i> to <i>Lasso</i> "
   ]
  },
  {
   "cell_type": "markdown",
   "metadata": {},
   "source": [
    "# Model diagnostics"
   ]
  },
  {
   "cell_type": "code",
   "execution_count": 484,
   "metadata": {},
   "outputs": [
    {
     "data": {
      "text/plain": [
       "15468    0.086244\n",
       "20030   -0.014716\n",
       "24882   -0.108770\n",
       "30928   -0.243505\n",
       "19885   -0.063008\n",
       "20053    0.318932\n",
       "16716    0.112945\n",
       "9918     0.413869\n",
       "25902   -0.027377\n",
       "2766     0.152443\n",
       "dtype: float64"
      ]
     },
     "execution_count": 484,
     "metadata": {},
     "output_type": "execute_result"
    }
   ],
   "source": [
    "#residuals of the model\n",
    "residuals=results.resid\n",
    "residuals.head(10)"
   ]
  },
  {
   "cell_type": "code",
   "execution_count": 485,
   "metadata": {},
   "outputs": [],
   "source": [
    "pred_values=results.predict()"
   ]
  },
  {
   "cell_type": "markdown",
   "metadata": {},
   "source": [
    "## Linearity and Equal variance"
   ]
  },
  {
   "cell_type": "code",
   "execution_count": 486,
   "metadata": {},
   "outputs": [
    {
     "data": {
      "image/png": "[encoded data removed]",
      "text/plain": [
       "<Figure size 720x360 with 1 Axes>"
      ]
     },
     "metadata": {
      "needs_background": "light"
     },
     "output_type": "display_data"
    }
   ],
   "source": [
    "#lets plot predicted values vs residuals to see whether there is any pattern or no\n",
    "plt.figure(figsize=(10,5))\n",
    "plt.scatter(pred_values,residuals)\n",
    "plt.axhline(y=0, c=\"red\")\n",
    "plt.title(\"Residual vs Pred values\")\n",
    "plt.ylabel(\"Residuals\")\n",
    "plt.xlabel(\"Predicted values\")\n",
    "plt.show()"
   ]
  },
  {
   "cell_type": "code",
   "execution_count": 487,
   "metadata": {},
   "outputs": [
    {
     "name": "stdout",
     "output_type": "stream",
     "text": [
      "[('Lagrange multiplier statistic', 1758.4217333586064), ('p-value', 0.0), ('f-value', 70.34959272289137), ('f p-value', 0.0)]\n"
     ]
    }
   ],
   "source": [
    "#Breusch-Pagan test for homoscedasticity\n",
    "#The null hypothesis assumes homoskedasticity\n",
    "bnames = ['Lagrange multiplier statistic', 'p-value',\n",
    "        'f-value', 'f p-value']\n",
    "breush = het_breuschpagan(residuals, results.model.exog)\n",
    "print(list(zip(bnames, breush)))"
   ]
  },
  {
   "cell_type": "markdown",
   "metadata": {},
   "source": [
    "We have a small p-value, so we have enough evidence to reject the homoscedasticity assumtion. \n",
    "Homoscedasticity assumption is NOT held."
   ]
  },
  {
   "cell_type": "code",
   "execution_count": 488,
   "metadata": {},
   "outputs": [
    {
     "name": "stdout",
     "output_type": "stream",
     "text": [
      "[('fstat', 1.0122595043463511), ('p-value', 0.25537177232956765)]\n"
     ]
    }
   ],
   "source": [
    "# Rainbow test for linearity \n",
    "# The null hypothesis assumes linearity\n",
    "rnames=[\"fstat\", \"p-value\"]\n",
    "rainbow=linear_rainbow(results)\n",
    "print(list(zip(rnames, rainbow)))"
   ]
  },
  {
   "cell_type": "markdown",
   "metadata": {},
   "source": [
    "Linearity assumption is  held (fail to reject), since we have a p-value>0.05."
   ]
  },
  {
   "cell_type": "markdown",
   "metadata": {},
   "source": [
    "## Normality"
   ]
  },
  {
   "cell_type": "code",
   "execution_count": 489,
   "metadata": {},
   "outputs": [
    {
     "data": {
      "image/png": "[encoded data removed]",
      "text/plain": [
       "<Figure size 432x288 with 1 Axes>"
      ]
     },
     "metadata": {
      "needs_background": "light"
     },
     "output_type": "display_data"
    }
   ],
   "source": [
    "#distribution of residuals\n",
    "sns.distplot(residuals)\n",
    "plt.show()"
   ]
  },
  {
   "cell_type": "code",
   "execution_count": 490,
   "metadata": {},
   "outputs": [
    {
     "data": {
      "image/png": "[encoded data removed]",
      "text/plain": [
       "<Figure size 432x288 with 1 Axes>"
      ]
     },
     "metadata": {
      "needs_background": "light"
     },
     "output_type": "display_data"
    }
   ],
   "source": [
    "#QQ plot\n",
    "qqplot(residuals,fit=True, line='45')\n",
    "plt.show()"
   ]
  },
  {
   "cell_type": "code",
   "execution_count": 491,
   "metadata": {},
   "outputs": [
    {
     "name": "stdout",
     "output_type": "stream",
     "text": [
      "[('The test statistic', 0.986011266708374), ('p-value', 4.4042810733729e-42)]\n"
     ]
    },
    {
     "name": "stderr",
     "output_type": "stream",
     "text": [
      "/Users/zaranavasardyan/opt/anaconda3/lib/python3.8/site-packages/scipy/stats/morestats.py:1681: UserWarning: p-value may not be accurate for N > 5000.\n",
      "  warnings.warn(\"p-value may not be accurate for N > 5000.\")\n"
     ]
    }
   ],
   "source": [
    "#Shapiro-Wilk normality test. \n",
    "#The null-hypothesis of this test is that the data was drawn from a normal distribution\n",
    "snames=['The test statistic', 'p-value']\n",
    "shapiro=shapiro(residuals)\n",
    "print(list(zip(snames, shapiro)))"
   ]
  },
  {
   "cell_type": "markdown",
   "metadata": {},
   "source": [
    "Shapiro-Wilk test shows that we have enough evidence to reject H0, so the normality assumption is not held."
   ]
  },
  {
   "cell_type": "markdown",
   "metadata": {},
   "source": [
    "### Multicolinearity (VIF)"
   ]
  },
  {
   "cell_type": "code",
   "execution_count": 492,
   "metadata": {},
   "outputs": [],
   "source": [
    "features = X0.columns.tolist()"
   ]
  },
  {
   "cell_type": "code",
   "execution_count": 493,
   "metadata": {},
   "outputs": [
    {
     "name": "stderr",
     "output_type": "stream",
     "text": [
      "/Users/zaranavasardyan/opt/anaconda3/lib/python3.8/site-packages/statsmodels/stats/outliers_influence.py:193: RuntimeWarning: divide by zero encountered in double_scalars\n",
      "  vif = 1. / (1. - r_squared_i)\n"
     ]
    },
    {
     "data": {
      "text/plain": [
       "{'Broker': inf,\n",
       " 'Source_my_realty': inf,\n",
       " 'const': 1208.0475275569452,\n",
       " 'Rooms': 18.594609233514685,\n",
       " 'Sqm': 18.179186720339818,\n",
       " 'log_SQM': 15.63521687530344,\n",
       " 'Type_Քարե': 10.01522313245293,\n",
       " 'Type_Պանելային': 9.661385335399746,\n",
       " 'Type_Մոնոլիտ': 7.167291343401484,\n",
       " 'sqm_per_room': 6.111485888280495,\n",
       " 'Room_groupings': 3.7717496476543073,\n",
       " 'District_կենտրոն': 3.5074712896967846,\n",
       " 'nFloor': 3.124343771310194,\n",
       " 'District_արաբկիր': 2.967355322758391,\n",
       " 'Floor': 2.831882577322717,\n",
       " 'bardzrahark': 2.4523797011812514,\n",
       " 'District_շենգավիթ': 1.7827720415430388,\n",
       " 'District_աջափնյակ': 1.545749705599157,\n",
       " 'District_դավթաշեն': 1.538008944586062,\n",
       " 'District_նորք': 1.5086242585537946,\n",
       " 'District_մալաթիա': 1.437547247749316,\n",
       " 'District_ավան': 1.3312928390582621,\n",
       " 'District_քանաքեռ': 1.3016235106040515,\n",
       " 'District_նոր_նորք': 1.2717588325177847,\n",
       " 'District_քանաքեռ_զեյթուն': 1.2140738556167459,\n",
       " 'Source_real_estate': 1.1998382954777855,\n",
       " 'District_մալաթիա_սեբաստիա': 1.184024368922852,\n",
       " 'District_էրեբունի': 1.168946079057015,\n",
       " 'Agency': 1.0162411768032302}"
      ]
     },
     "execution_count": 493,
     "metadata": {},
     "output_type": "execute_result"
    }
   ],
   "source": [
    "#Calculating VIF for all features\n",
    "vif = [variance_inflation_factor(X[features].values,i) for i in range(len(features))]\n",
    "vif = dict(zip(features,vif))\n",
    "vif = {k:v for k,v in sorted(vif.items(),key=lambda item: item[1],reverse=True)}\n",
    "vif"
   ]
  },
  {
   "cell_type": "code",
   "execution_count": 494,
   "metadata": {},
   "outputs": [],
   "source": [
    "# creating a list of features to drop based on VIF\n",
    "to_drop = ['Broker','Source_my_realty','Rooms','Sqm','Type_Քարե','Type_Պանելային']"
   ]
  },
  {
   "cell_type": "code",
   "execution_count": 495,
   "metadata": {},
   "outputs": [],
   "source": [
    "# new features list\n",
    "features1 = list(set(features)-set(to_drop))"
   ]
  },
  {
   "cell_type": "code",
   "execution_count": 496,
   "metadata": {},
   "outputs": [],
   "source": [
    "vif = [variance_inflation_factor(X[features1].values,i) for i in range(len(features1))]\n",
    "vif = dict(zip(features1,vif))\n",
    "vif = {k:v for k,v in sorted(vif.items(),key=lambda item: item[1],reverse=True)}"
   ]
  },
  {
   "cell_type": "code",
   "execution_count": 497,
   "metadata": {},
   "outputs": [
    {
     "data": {
      "text/plain": [
       "{'const': 276.0865427786331,\n",
       " 'log_SQM': 3.244380261895143,\n",
       " 'District_կենտրոն': 3.2346123675060436,\n",
       " 'Room_groupings': 3.156448153329968,\n",
       " 'Floor': 2.8160086913746127,\n",
       " 'District_արաբկիր': 2.815574156553201,\n",
       " 'bardzrahark': 2.3772586876242956,\n",
       " 'nFloor': 2.0067886841211426,\n",
       " 'District_շենգավիթ': 1.7730675540724143,\n",
       " 'sqm_per_room': 1.6764704372258388,\n",
       " 'District_աջափնյակ': 1.5284866690465113,\n",
       " 'District_դավթաշեն': 1.4979834988645966,\n",
       " 'District_նորք': 1.4957924255043067,\n",
       " 'District_մալաթիա': 1.4181577674589236,\n",
       " 'Type_Մոնոլիտ': 1.389875269552156,\n",
       " 'District_ավան': 1.304874562351572,\n",
       " 'District_քանաքեռ': 1.29560899780415,\n",
       " 'District_նոր_նորք': 1.1973466651333378,\n",
       " 'District_էրեբունի': 1.1602626303035704,\n",
       " 'District_քանաքեռ_զեյթուն': 1.1530473283948832,\n",
       " 'District_մալաթիա_սեբաստիա': 1.1205316711764546,\n",
       " 'Source_real_estate': 1.0645973097102839,\n",
       " 'Agency': 1.011762232027846}"
      ]
     },
     "execution_count": 497,
     "metadata": {},
     "output_type": "execute_result"
    }
   ],
   "source": [
    "# no need to remove other features, all of them have VIF<5\n",
    "vif"
   ]
  },
  {
   "cell_type": "code",
   "execution_count": 498,
   "metadata": {},
   "outputs": [
    {
     "data": {
      "text/html": [
       "<table class=\"simpletable\">\n",
       "<caption>OLS Regression Results</caption>\n",
       "<tr>\n",
       "  <th>Dep. Variable:</th>        <td>Price_USD</td>    <th>  R-squared:         </th> <td>   0.782</td>\n",
       "</tr>\n",
       "<tr>\n",
       "  <th>Model:</th>                   <td>OLS</td>       <th>  Adj. R-squared:    </th> <td>   0.782</td>\n",
       "</tr>\n",
       "<tr>\n",
       "  <th>Method:</th>             <td>Least Squares</td>  <th>  F-statistic:       </th> <td>   3808.</td>\n",
       "</tr>\n",
       "<tr>\n",
       "  <th>Date:</th>             <td>Sat, 26 Sep 2020</td> <th>  Prob (F-statistic):</th>  <td>  0.00</td> \n",
       "</tr>\n",
       "<tr>\n",
       "  <th>Time:</th>                 <td>20:07:14</td>     <th>  Log-Likelihood:    </th> <td> -3425.8</td>\n",
       "</tr>\n",
       "<tr>\n",
       "  <th>No. Observations:</th>      <td> 23336</td>      <th>  AIC:               </th> <td>   6898.</td>\n",
       "</tr>\n",
       "<tr>\n",
       "  <th>Df Residuals:</th>          <td> 23313</td>      <th>  BIC:               </th> <td>   7083.</td>\n",
       "</tr>\n",
       "<tr>\n",
       "  <th>Df Model:</th>              <td>    22</td>      <th>                     </th>     <td> </td>   \n",
       "</tr>\n",
       "<tr>\n",
       "  <th>Covariance Type:</th>      <td>nonrobust</td>    <th>                     </th>     <td> </td>   \n",
       "</tr>\n",
       "</table>\n",
       "<table class=\"simpletable\">\n",
       "<tr>\n",
       "              <td></td>                 <th>coef</th>     <th>std err</th>      <th>t</th>      <th>P>|t|</th>  <th>[0.025</th>    <th>0.975]</th>  \n",
       "</tr>\n",
       "<tr>\n",
       "  <th>District_կենտրոն</th>          <td>    0.4877</td> <td>    0.007</td> <td>   68.346</td> <td> 0.000</td> <td>    0.474</td> <td>    0.502</td>\n",
       "</tr>\n",
       "<tr>\n",
       "  <th>Source_real_estate</th>        <td>    0.0465</td> <td>    0.006</td> <td>    7.251</td> <td> 0.000</td> <td>    0.034</td> <td>    0.059</td>\n",
       "</tr>\n",
       "<tr>\n",
       "  <th>Room_groupings</th>            <td>    0.0114</td> <td>    0.007</td> <td>    1.724</td> <td> 0.085</td> <td>   -0.002</td> <td>    0.024</td>\n",
       "</tr>\n",
       "<tr>\n",
       "  <th>sqm_per_room</th>              <td>    0.0022</td> <td>    0.000</td> <td>    8.039</td> <td> 0.000</td> <td>    0.002</td> <td>    0.003</td>\n",
       "</tr>\n",
       "<tr>\n",
       "  <th>District_քանաքեռ</th>          <td>   -0.1764</td> <td>    0.012</td> <td>  -14.155</td> <td> 0.000</td> <td>   -0.201</td> <td>   -0.152</td>\n",
       "</tr>\n",
       "<tr>\n",
       "  <th>Type_Մոնոլիտ</th>              <td>    0.3457</td> <td>    0.005</td> <td>   64.438</td> <td> 0.000</td> <td>    0.335</td> <td>    0.356</td>\n",
       "</tr>\n",
       "<tr>\n",
       "  <th>District_մալաթիա</th>          <td>   -0.2604</td> <td>    0.011</td> <td>  -23.343</td> <td> 0.000</td> <td>   -0.282</td> <td>   -0.239</td>\n",
       "</tr>\n",
       "<tr>\n",
       "  <th>District_դավթաշեն</th>         <td>   -0.0433</td> <td>    0.011</td> <td>   -4.064</td> <td> 0.000</td> <td>   -0.064</td> <td>   -0.022</td>\n",
       "</tr>\n",
       "<tr>\n",
       "  <th>bardzrahark</th>               <td>   -0.0079</td> <td>    0.009</td> <td>   -0.877</td> <td> 0.381</td> <td>   -0.026</td> <td>    0.010</td>\n",
       "</tr>\n",
       "<tr>\n",
       "  <th>District_էրեբունի</th>         <td>   -0.2050</td> <td>    0.016</td> <td>  -12.577</td> <td> 0.000</td> <td>   -0.237</td> <td>   -0.173</td>\n",
       "</tr>\n",
       "<tr>\n",
       "  <th>District_արաբկիր</th>          <td>    0.1472</td> <td>    0.007</td> <td>   20.060</td> <td> 0.000</td> <td>    0.133</td> <td>    0.162</td>\n",
       "</tr>\n",
       "<tr>\n",
       "  <th>District_մալաթիա_սեբաստիա</th> <td>   -0.2012</td> <td>    0.019</td> <td>  -10.484</td> <td> 0.000</td> <td>   -0.239</td> <td>   -0.164</td>\n",
       "</tr>\n",
       "<tr>\n",
       "  <th>District_շենգավիթ</th>         <td>   -0.2361</td> <td>    0.009</td> <td>  -25.652</td> <td> 0.000</td> <td>   -0.254</td> <td>   -0.218</td>\n",
       "</tr>\n",
       "<tr>\n",
       "  <th>District_աջափնյակ</th>         <td>   -0.2240</td> <td>    0.010</td> <td>  -21.889</td> <td> 0.000</td> <td>   -0.244</td> <td>   -0.204</td>\n",
       "</tr>\n",
       "<tr>\n",
       "  <th>District_նոր_նորք</th>         <td>   -0.1634</td> <td>    0.016</td> <td>  -10.402</td> <td> 0.000</td> <td>   -0.194</td> <td>   -0.133</td>\n",
       "</tr>\n",
       "<tr>\n",
       "  <th>const</th>                     <td>    7.5290</td> <td>    0.031</td> <td>  246.781</td> <td> 0.000</td> <td>    7.469</td> <td>    7.589</td>\n",
       "</tr>\n",
       "<tr>\n",
       "  <th>District_նորք</th>             <td>   -0.2384</td> <td>    0.010</td> <td>  -22.816</td> <td> 0.000</td> <td>   -0.259</td> <td>   -0.218</td>\n",
       "</tr>\n",
       "<tr>\n",
       "  <th>Floor</th>                     <td>   -0.0021</td> <td>    0.001</td> <td>   -2.386</td> <td> 0.017</td> <td>   -0.004</td> <td>   -0.000</td>\n",
       "</tr>\n",
       "<tr>\n",
       "  <th>log_SQM</th>                   <td>    0.8222</td> <td>    0.009</td> <td>   95.797</td> <td> 0.000</td> <td>    0.805</td> <td>    0.839</td>\n",
       "</tr>\n",
       "<tr>\n",
       "  <th>Agency</th>                    <td>    0.0541</td> <td>    0.015</td> <td>    3.573</td> <td> 0.000</td> <td>    0.024</td> <td>    0.084</td>\n",
       "</tr>\n",
       "<tr>\n",
       "  <th>District_քանաքեռ_զեյթուն</th>  <td>   -0.1376</td> <td>    0.017</td> <td>   -7.973</td> <td> 0.000</td> <td>   -0.171</td> <td>   -0.104</td>\n",
       "</tr>\n",
       "<tr>\n",
       "  <th>District_ավան</th>             <td>   -0.1616</td> <td>    0.012</td> <td>  -12.959</td> <td> 0.000</td> <td>   -0.186</td> <td>   -0.137</td>\n",
       "</tr>\n",
       "<tr>\n",
       "  <th>nFloor</th>                    <td>   -0.0054</td> <td>    0.001</td> <td>   -8.678</td> <td> 0.000</td> <td>   -0.007</td> <td>   -0.004</td>\n",
       "</tr>\n",
       "</table>\n",
       "<table class=\"simpletable\">\n",
       "<tr>\n",
       "  <th>Omnibus:</th>       <td>1264.003</td> <th>  Durbin-Watson:     </th> <td>   1.995</td>\n",
       "</tr>\n",
       "<tr>\n",
       "  <th>Prob(Omnibus):</th>  <td> 0.000</td>  <th>  Jarque-Bera (JB):  </th> <td>4950.820</td>\n",
       "</tr>\n",
       "<tr>\n",
       "  <th>Skew:</th>           <td> 0.095</td>  <th>  Prob(JB):          </th> <td>    0.00</td>\n",
       "</tr>\n",
       "<tr>\n",
       "  <th>Kurtosis:</th>       <td> 5.249</td>  <th>  Cond. No.          </th> <td>    617.</td>\n",
       "</tr>\n",
       "</table><br/><br/>Warnings:<br/>[1] Standard Errors assume that the covariance matrix of the errors is correctly specified."
      ],
      "text/plain": [
       "<class 'statsmodels.iolib.summary.Summary'>\n",
       "\"\"\"\n",
       "                            OLS Regression Results                            \n",
       "==============================================================================\n",
       "Dep. Variable:              Price_USD   R-squared:                       0.782\n",
       "Model:                            OLS   Adj. R-squared:                  0.782\n",
       "Method:                 Least Squares   F-statistic:                     3808.\n",
       "Date:                Sat, 26 Sep 2020   Prob (F-statistic):               0.00\n",
       "Time:                        20:07:14   Log-Likelihood:                -3425.8\n",
       "No. Observations:               23336   AIC:                             6898.\n",
       "Df Residuals:                   23313   BIC:                             7083.\n",
       "Df Model:                          22                                         \n",
       "Covariance Type:            nonrobust                                         \n",
       "=============================================================================================\n",
       "                                coef    std err          t      P>|t|      [0.025      0.975]\n",
       "---------------------------------------------------------------------------------------------\n",
       "District_կենտրոն              0.4877      0.007     68.346      0.000       0.474       0.502\n",
       "Source_real_estate            0.0465      0.006      7.251      0.000       0.034       0.059\n",
       "Room_groupings                0.0114      0.007      1.724      0.085      -0.002       0.024\n",
       "sqm_per_room                  0.0022      0.000      8.039      0.000       0.002       0.003\n",
       "District_քանաքեռ             -0.1764      0.012    -14.155      0.000      -0.201      -0.152\n",
       "Type_Մոնոլիտ                  0.3457      0.005     64.438      0.000       0.335       0.356\n",
       "District_մալաթիա             -0.2604      0.011    -23.343      0.000      -0.282      -0.239\n",
       "District_դավթաշեն            -0.0433      0.011     -4.064      0.000      -0.064      -0.022\n",
       "bardzrahark                  -0.0079      0.009     -0.877      0.381      -0.026       0.010\n",
       "District_էրեբունի            -0.2050      0.016    -12.577      0.000      -0.237      -0.173\n",
       "District_արաբկիր              0.1472      0.007     20.060      0.000       0.133       0.162\n",
       "District_մալաթիա_սեբաստիա    -0.2012      0.019    -10.484      0.000      -0.239      -0.164\n",
       "District_շենգավիթ            -0.2361      0.009    -25.652      0.000      -0.254      -0.218\n",
       "District_աջափնյակ            -0.2240      0.010    -21.889      0.000      -0.244      -0.204\n",
       "District_նոր_նորք            -0.1634      0.016    -10.402      0.000      -0.194      -0.133\n",
       "const                         7.5290      0.031    246.781      0.000       7.469       7.589\n",
       "District_նորք                -0.2384      0.010    -22.816      0.000      -0.259      -0.218\n",
       "Floor                        -0.0021      0.001     -2.386      0.017      -0.004      -0.000\n",
       "log_SQM                       0.8222      0.009     95.797      0.000       0.805       0.839\n",
       "Agency                        0.0541      0.015      3.573      0.000       0.024       0.084\n",
       "District_քանաքեռ_զեյթուն     -0.1376      0.017     -7.973      0.000      -0.171      -0.104\n",
       "District_ավան                -0.1616      0.012    -12.959      0.000      -0.186      -0.137\n",
       "nFloor                       -0.0054      0.001     -8.678      0.000      -0.007      -0.004\n",
       "==============================================================================\n",
       "Omnibus:                     1264.003   Durbin-Watson:                   1.995\n",
       "Prob(Omnibus):                  0.000   Jarque-Bera (JB):             4950.820\n",
       "Skew:                           0.095   Prob(JB):                         0.00\n",
       "Kurtosis:                       5.249   Cond. No.                         617.\n",
       "==============================================================================\n",
       "\n",
       "Warnings:\n",
       "[1] Standard Errors assume that the covariance matrix of the errors is correctly specified.\n",
       "\"\"\""
      ]
     },
     "execution_count": 498,
     "metadata": {},
     "output_type": "execute_result"
    }
   ],
   "source": [
    "# Creating another model with new featureset\n",
    "model_vif = sm.OLS(Y0,X0[features1])\n",
    "results_vif = model_vif.fit()\n",
    "results_vif.summary()"
   ]
  },
  {
   "cell_type": "markdown",
   "metadata": {},
   "source": [
    "## Backward selection"
   ]
  },
  {
   "cell_type": "code",
   "execution_count": 499,
   "metadata": {},
   "outputs": [],
   "source": [
    "X0 = X0[features1]\n",
    "X1 = X1[features1]"
   ]
  },
  {
   "cell_type": "code",
   "execution_count": 500,
   "metadata": {},
   "outputs": [
    {
     "data": {
      "text/html": [
       "<table class=\"simpletable\">\n",
       "<caption>OLS Regression Results</caption>\n",
       "<tr>\n",
       "  <th>Dep. Variable:</th>        <td>Price_USD</td>    <th>  R-squared:         </th> <td>   0.782</td>\n",
       "</tr>\n",
       "<tr>\n",
       "  <th>Model:</th>                   <td>OLS</td>       <th>  Adj. R-squared:    </th> <td>   0.782</td>\n",
       "</tr>\n",
       "<tr>\n",
       "  <th>Method:</th>             <td>Least Squares</td>  <th>  F-statistic:       </th> <td>   3990.</td>\n",
       "</tr>\n",
       "<tr>\n",
       "  <th>Date:</th>             <td>Sat, 26 Sep 2020</td> <th>  Prob (F-statistic):</th>  <td>  0.00</td> \n",
       "</tr>\n",
       "<tr>\n",
       "  <th>Time:</th>                 <td>20:07:14</td>     <th>  Log-Likelihood:    </th> <td> -3426.1</td>\n",
       "</tr>\n",
       "<tr>\n",
       "  <th>No. Observations:</th>      <td> 23336</td>      <th>  AIC:               </th> <td>   6896.</td>\n",
       "</tr>\n",
       "<tr>\n",
       "  <th>Df Residuals:</th>          <td> 23314</td>      <th>  BIC:               </th> <td>   7074.</td>\n",
       "</tr>\n",
       "<tr>\n",
       "  <th>Df Model:</th>              <td>    21</td>      <th>                     </th>     <td> </td>   \n",
       "</tr>\n",
       "<tr>\n",
       "  <th>Covariance Type:</th>      <td>nonrobust</td>    <th>                     </th>     <td> </td>   \n",
       "</tr>\n",
       "</table>\n",
       "<table class=\"simpletable\">\n",
       "<tr>\n",
       "              <td></td>                 <th>coef</th>     <th>std err</th>      <th>t</th>      <th>P>|t|</th>  <th>[0.025</th>    <th>0.975]</th>  \n",
       "</tr>\n",
       "<tr>\n",
       "  <th>District_կենտրոն</th>          <td>    0.4878</td> <td>    0.007</td> <td>   68.367</td> <td> 0.000</td> <td>    0.474</td> <td>    0.502</td>\n",
       "</tr>\n",
       "<tr>\n",
       "  <th>Source_real_estate</th>        <td>    0.0465</td> <td>    0.006</td> <td>    7.251</td> <td> 0.000</td> <td>    0.034</td> <td>    0.059</td>\n",
       "</tr>\n",
       "<tr>\n",
       "  <th>Room_groupings</th>            <td>    0.0113</td> <td>    0.007</td> <td>    1.719</td> <td> 0.086</td> <td>   -0.002</td> <td>    0.024</td>\n",
       "</tr>\n",
       "<tr>\n",
       "  <th>sqm_per_room</th>              <td>    0.0022</td> <td>    0.000</td> <td>    8.025</td> <td> 0.000</td> <td>    0.002</td> <td>    0.003</td>\n",
       "</tr>\n",
       "<tr>\n",
       "  <th>District_քանաքեռ</th>          <td>   -0.1766</td> <td>    0.012</td> <td>  -14.173</td> <td> 0.000</td> <td>   -0.201</td> <td>   -0.152</td>\n",
       "</tr>\n",
       "<tr>\n",
       "  <th>Type_Մոնոլիտ</th>              <td>    0.3456</td> <td>    0.005</td> <td>   64.433</td> <td> 0.000</td> <td>    0.335</td> <td>    0.356</td>\n",
       "</tr>\n",
       "<tr>\n",
       "  <th>District_մալաթիա</th>          <td>   -0.2601</td> <td>    0.011</td> <td>  -23.327</td> <td> 0.000</td> <td>   -0.282</td> <td>   -0.238</td>\n",
       "</tr>\n",
       "<tr>\n",
       "  <th>District_դավթաշեն</th>         <td>   -0.0431</td> <td>    0.011</td> <td>   -4.050</td> <td> 0.000</td> <td>   -0.064</td> <td>   -0.022</td>\n",
       "</tr>\n",
       "<tr>\n",
       "  <th>District_էրեբունի</th>         <td>   -0.2048</td> <td>    0.016</td> <td>  -12.567</td> <td> 0.000</td> <td>   -0.237</td> <td>   -0.173</td>\n",
       "</tr>\n",
       "<tr>\n",
       "  <th>District_արաբկիր</th>          <td>    0.1472</td> <td>    0.007</td> <td>   20.053</td> <td> 0.000</td> <td>    0.133</td> <td>    0.162</td>\n",
       "</tr>\n",
       "<tr>\n",
       "  <th>District_մալաթիա_սեբաստիա</th> <td>   -0.2009</td> <td>    0.019</td> <td>  -10.469</td> <td> 0.000</td> <td>   -0.238</td> <td>   -0.163</td>\n",
       "</tr>\n",
       "<tr>\n",
       "  <th>District_շենգավիթ</th>         <td>   -0.2361</td> <td>    0.009</td> <td>  -25.659</td> <td> 0.000</td> <td>   -0.254</td> <td>   -0.218</td>\n",
       "</tr>\n",
       "<tr>\n",
       "  <th>District_աջափնյակ</th>         <td>   -0.2241</td> <td>    0.010</td> <td>  -21.909</td> <td> 0.000</td> <td>   -0.244</td> <td>   -0.204</td>\n",
       "</tr>\n",
       "<tr>\n",
       "  <th>District_նոր_նորք</th>         <td>   -0.1635</td> <td>    0.016</td> <td>  -10.405</td> <td> 0.000</td> <td>   -0.194</td> <td>   -0.133</td>\n",
       "</tr>\n",
       "<tr>\n",
       "  <th>const</th>                     <td>    7.5310</td> <td>    0.030</td> <td>  247.516</td> <td> 0.000</td> <td>    7.471</td> <td>    7.591</td>\n",
       "</tr>\n",
       "<tr>\n",
       "  <th>District_նորք</th>             <td>   -0.2383</td> <td>    0.010</td> <td>  -22.812</td> <td> 0.000</td> <td>   -0.259</td> <td>   -0.218</td>\n",
       "</tr>\n",
       "<tr>\n",
       "  <th>Floor</th>                     <td>   -0.0026</td> <td>    0.001</td> <td>   -3.794</td> <td> 0.000</td> <td>   -0.004</td> <td>   -0.001</td>\n",
       "</tr>\n",
       "<tr>\n",
       "  <th>log_SQM</th>                   <td>    0.8223</td> <td>    0.009</td> <td>   95.812</td> <td> 0.000</td> <td>    0.805</td> <td>    0.839</td>\n",
       "</tr>\n",
       "<tr>\n",
       "  <th>Agency</th>                    <td>    0.0541</td> <td>    0.015</td> <td>    3.573</td> <td> 0.000</td> <td>    0.024</td> <td>    0.084</td>\n",
       "</tr>\n",
       "<tr>\n",
       "  <th>District_քանաքեռ_զեյթուն</th>  <td>   -0.1378</td> <td>    0.017</td> <td>   -7.982</td> <td> 0.000</td> <td>   -0.172</td> <td>   -0.104</td>\n",
       "</tr>\n",
       "<tr>\n",
       "  <th>District_ավան</th>             <td>   -0.1612</td> <td>    0.012</td> <td>  -12.938</td> <td> 0.000</td> <td>   -0.186</td> <td>   -0.137</td>\n",
       "</tr>\n",
       "<tr>\n",
       "  <th>nFloor</th>                    <td>   -0.0055</td> <td>    0.001</td> <td>   -8.835</td> <td> 0.000</td> <td>   -0.007</td> <td>   -0.004</td>\n",
       "</tr>\n",
       "</table>\n",
       "<table class=\"simpletable\">\n",
       "<tr>\n",
       "  <th>Omnibus:</th>       <td>1261.702</td> <th>  Durbin-Watson:     </th> <td>   1.995</td>\n",
       "</tr>\n",
       "<tr>\n",
       "  <th>Prob(Omnibus):</th>  <td> 0.000</td>  <th>  Jarque-Bera (JB):  </th> <td>4938.057</td>\n",
       "</tr>\n",
       "<tr>\n",
       "  <th>Skew:</th>           <td> 0.094</td>  <th>  Prob(JB):          </th> <td>    0.00</td>\n",
       "</tr>\n",
       "<tr>\n",
       "  <th>Kurtosis:</th>       <td> 5.246</td>  <th>  Cond. No.          </th> <td>    616.</td>\n",
       "</tr>\n",
       "</table><br/><br/>Warnings:<br/>[1] Standard Errors assume that the covariance matrix of the errors is correctly specified."
      ],
      "text/plain": [
       "<class 'statsmodels.iolib.summary.Summary'>\n",
       "\"\"\"\n",
       "                            OLS Regression Results                            \n",
       "==============================================================================\n",
       "Dep. Variable:              Price_USD   R-squared:                       0.782\n",
       "Model:                            OLS   Adj. R-squared:                  0.782\n",
       "Method:                 Least Squares   F-statistic:                     3990.\n",
       "Date:                Sat, 26 Sep 2020   Prob (F-statistic):               0.00\n",
       "Time:                        20:07:14   Log-Likelihood:                -3426.1\n",
       "No. Observations:               23336   AIC:                             6896.\n",
       "Df Residuals:                   23314   BIC:                             7074.\n",
       "Df Model:                          21                                         \n",
       "Covariance Type:            nonrobust                                         \n",
       "=============================================================================================\n",
       "                                coef    std err          t      P>|t|      [0.025      0.975]\n",
       "---------------------------------------------------------------------------------------------\n",
       "District_կենտրոն              0.4878      0.007     68.367      0.000       0.474       0.502\n",
       "Source_real_estate            0.0465      0.006      7.251      0.000       0.034       0.059\n",
       "Room_groupings                0.0113      0.007      1.719      0.086      -0.002       0.024\n",
       "sqm_per_room                  0.0022      0.000      8.025      0.000       0.002       0.003\n",
       "District_քանաքեռ             -0.1766      0.012    -14.173      0.000      -0.201      -0.152\n",
       "Type_Մոնոլիտ                  0.3456      0.005     64.433      0.000       0.335       0.356\n",
       "District_մալաթիա             -0.2601      0.011    -23.327      0.000      -0.282      -0.238\n",
       "District_դավթաշեն            -0.0431      0.011     -4.050      0.000      -0.064      -0.022\n",
       "District_էրեբունի            -0.2048      0.016    -12.567      0.000      -0.237      -0.173\n",
       "District_արաբկիր              0.1472      0.007     20.053      0.000       0.133       0.162\n",
       "District_մալաթիա_սեբաստիա    -0.2009      0.019    -10.469      0.000      -0.238      -0.163\n",
       "District_շենգավիթ            -0.2361      0.009    -25.659      0.000      -0.254      -0.218\n",
       "District_աջափնյակ            -0.2241      0.010    -21.909      0.000      -0.244      -0.204\n",
       "District_նոր_նորք            -0.1635      0.016    -10.405      0.000      -0.194      -0.133\n",
       "const                         7.5310      0.030    247.516      0.000       7.471       7.591\n",
       "District_նորք                -0.2383      0.010    -22.812      0.000      -0.259      -0.218\n",
       "Floor                        -0.0026      0.001     -3.794      0.000      -0.004      -0.001\n",
       "log_SQM                       0.8223      0.009     95.812      0.000       0.805       0.839\n",
       "Agency                        0.0541      0.015      3.573      0.000       0.024       0.084\n",
       "District_քանաքեռ_զեյթուն     -0.1378      0.017     -7.982      0.000      -0.172      -0.104\n",
       "District_ավան                -0.1612      0.012    -12.938      0.000      -0.186      -0.137\n",
       "nFloor                       -0.0055      0.001     -8.835      0.000      -0.007      -0.004\n",
       "==============================================================================\n",
       "Omnibus:                     1261.702   Durbin-Watson:                   1.995\n",
       "Prob(Omnibus):                  0.000   Jarque-Bera (JB):             4938.057\n",
       "Skew:                           0.094   Prob(JB):                         0.00\n",
       "Kurtosis:                       5.246   Cond. No.                         616.\n",
       "==============================================================================\n",
       "\n",
       "Warnings:\n",
       "[1] Standard Errors assume that the covariance matrix of the errors is correctly specified.\n",
       "\"\"\""
      ]
     },
     "execution_count": 500,
     "metadata": {},
     "output_type": "execute_result"
    }
   ],
   "source": [
    "model_1 = sm.OLS(Y0,X0.drop('bardzrahark',axis=1))\n",
    "results_1 = model_1.fit()\n",
    "results_1.summary()"
   ]
  },
  {
   "cell_type": "code",
   "execution_count": 501,
   "metadata": {},
   "outputs": [
    {
     "data": {
      "text/html": [
       "<table class=\"simpletable\">\n",
       "<caption>OLS Regression Results</caption>\n",
       "<tr>\n",
       "  <th>Dep. Variable:</th>        <td>Price_USD</td>    <th>  R-squared:         </th> <td>   0.782</td>\n",
       "</tr>\n",
       "<tr>\n",
       "  <th>Model:</th>                   <td>OLS</td>       <th>  Adj. R-squared:    </th> <td>   0.782</td>\n",
       "</tr>\n",
       "<tr>\n",
       "  <th>Method:</th>             <td>Least Squares</td>  <th>  F-statistic:       </th> <td>   4189.</td>\n",
       "</tr>\n",
       "<tr>\n",
       "  <th>Date:</th>             <td>Sat, 26 Sep 2020</td> <th>  Prob (F-statistic):</th>  <td>  0.00</td> \n",
       "</tr>\n",
       "<tr>\n",
       "  <th>Time:</th>                 <td>20:07:14</td>     <th>  Log-Likelihood:    </th> <td> -3427.6</td>\n",
       "</tr>\n",
       "<tr>\n",
       "  <th>No. Observations:</th>      <td> 23336</td>      <th>  AIC:               </th> <td>   6897.</td>\n",
       "</tr>\n",
       "<tr>\n",
       "  <th>Df Residuals:</th>          <td> 23315</td>      <th>  BIC:               </th> <td>   7066.</td>\n",
       "</tr>\n",
       "<tr>\n",
       "  <th>Df Model:</th>              <td>    20</td>      <th>                     </th>     <td> </td>   \n",
       "</tr>\n",
       "<tr>\n",
       "  <th>Covariance Type:</th>      <td>nonrobust</td>    <th>                     </th>     <td> </td>   \n",
       "</tr>\n",
       "</table>\n",
       "<table class=\"simpletable\">\n",
       "<tr>\n",
       "              <td></td>                 <th>coef</th>     <th>std err</th>      <th>t</th>      <th>P>|t|</th>  <th>[0.025</th>    <th>0.975]</th>  \n",
       "</tr>\n",
       "<tr>\n",
       "  <th>District_կենտրոն</th>          <td>    0.4873</td> <td>    0.007</td> <td>   68.347</td> <td> 0.000</td> <td>    0.473</td> <td>    0.501</td>\n",
       "</tr>\n",
       "<tr>\n",
       "  <th>Source_real_estate</th>        <td>    0.0466</td> <td>    0.006</td> <td>    7.269</td> <td> 0.000</td> <td>    0.034</td> <td>    0.059</td>\n",
       "</tr>\n",
       "<tr>\n",
       "  <th>sqm_per_room</th>              <td>    0.0019</td> <td>    0.000</td> <td>    8.676</td> <td> 0.000</td> <td>    0.001</td> <td>    0.002</td>\n",
       "</tr>\n",
       "<tr>\n",
       "  <th>District_քանաքեռ</th>          <td>   -0.1768</td> <td>    0.012</td> <td>  -14.191</td> <td> 0.000</td> <td>   -0.201</td> <td>   -0.152</td>\n",
       "</tr>\n",
       "<tr>\n",
       "  <th>Type_Մոնոլիտ</th>              <td>    0.3449</td> <td>    0.005</td> <td>   64.501</td> <td> 0.000</td> <td>    0.334</td> <td>    0.355</td>\n",
       "</tr>\n",
       "<tr>\n",
       "  <th>District_մալաթիա</th>          <td>   -0.2603</td> <td>    0.011</td> <td>  -23.345</td> <td> 0.000</td> <td>   -0.282</td> <td>   -0.238</td>\n",
       "</tr>\n",
       "<tr>\n",
       "  <th>District_դավթաշեն</th>         <td>   -0.0430</td> <td>    0.011</td> <td>   -4.036</td> <td> 0.000</td> <td>   -0.064</td> <td>   -0.022</td>\n",
       "</tr>\n",
       "<tr>\n",
       "  <th>District_էրեբունի</th>         <td>   -0.2048</td> <td>    0.016</td> <td>  -12.569</td> <td> 0.000</td> <td>   -0.237</td> <td>   -0.173</td>\n",
       "</tr>\n",
       "<tr>\n",
       "  <th>District_արաբկիր</th>          <td>    0.1469</td> <td>    0.007</td> <td>   20.024</td> <td> 0.000</td> <td>    0.133</td> <td>    0.161</td>\n",
       "</tr>\n",
       "<tr>\n",
       "  <th>District_մալաթիա_սեբաստիա</th> <td>   -0.2006</td> <td>    0.019</td> <td>  -10.454</td> <td> 0.000</td> <td>   -0.238</td> <td>   -0.163</td>\n",
       "</tr>\n",
       "<tr>\n",
       "  <th>District_շենգավիթ</th>         <td>   -0.2363</td> <td>    0.009</td> <td>  -25.679</td> <td> 0.000</td> <td>   -0.254</td> <td>   -0.218</td>\n",
       "</tr>\n",
       "<tr>\n",
       "  <th>District_աջափնյակ</th>         <td>   -0.2243</td> <td>    0.010</td> <td>  -21.926</td> <td> 0.000</td> <td>   -0.244</td> <td>   -0.204</td>\n",
       "</tr>\n",
       "<tr>\n",
       "  <th>District_նոր_նորք</th>         <td>   -0.1633</td> <td>    0.016</td> <td>  -10.392</td> <td> 0.000</td> <td>   -0.194</td> <td>   -0.132</td>\n",
       "</tr>\n",
       "<tr>\n",
       "  <th>const</th>                     <td>    7.5072</td> <td>    0.027</td> <td>  277.024</td> <td> 0.000</td> <td>    7.454</td> <td>    7.560</td>\n",
       "</tr>\n",
       "<tr>\n",
       "  <th>District_նորք</th>             <td>   -0.2386</td> <td>    0.010</td> <td>  -22.835</td> <td> 0.000</td> <td>   -0.259</td> <td>   -0.218</td>\n",
       "</tr>\n",
       "<tr>\n",
       "  <th>Floor</th>                     <td>   -0.0026</td> <td>    0.001</td> <td>   -3.780</td> <td> 0.000</td> <td>   -0.004</td> <td>   -0.001</td>\n",
       "</tr>\n",
       "<tr>\n",
       "  <th>log_SQM</th>                   <td>    0.8341</td> <td>    0.005</td> <td>  162.353</td> <td> 0.000</td> <td>    0.824</td> <td>    0.844</td>\n",
       "</tr>\n",
       "<tr>\n",
       "  <th>Agency</th>                    <td>    0.0538</td> <td>    0.015</td> <td>    3.555</td> <td> 0.000</td> <td>    0.024</td> <td>    0.083</td>\n",
       "</tr>\n",
       "<tr>\n",
       "  <th>District_քանաքեռ_զեյթուն</th>  <td>   -0.1381</td> <td>    0.017</td> <td>   -8.004</td> <td> 0.000</td> <td>   -0.172</td> <td>   -0.104</td>\n",
       "</tr>\n",
       "<tr>\n",
       "  <th>District_ավան</th>             <td>   -0.1615</td> <td>    0.012</td> <td>  -12.958</td> <td> 0.000</td> <td>   -0.186</td> <td>   -0.137</td>\n",
       "</tr>\n",
       "<tr>\n",
       "  <th>nFloor</th>                    <td>   -0.0055</td> <td>    0.001</td> <td>   -8.807</td> <td> 0.000</td> <td>   -0.007</td> <td>   -0.004</td>\n",
       "</tr>\n",
       "</table>\n",
       "<table class=\"simpletable\">\n",
       "<tr>\n",
       "  <th>Omnibus:</th>       <td>1262.042</td> <th>  Durbin-Watson:     </th> <td>   1.995</td>\n",
       "</tr>\n",
       "<tr>\n",
       "  <th>Prob(Omnibus):</th>  <td> 0.000</td>  <th>  Jarque-Bera (JB):  </th> <td>4938.598</td>\n",
       "</tr>\n",
       "<tr>\n",
       "  <th>Skew:</th>           <td> 0.094</td>  <th>  Prob(JB):          </th> <td>    0.00</td>\n",
       "</tr>\n",
       "<tr>\n",
       "  <th>Kurtosis:</th>       <td> 5.246</td>  <th>  Cond. No.          </th> <td>    560.</td>\n",
       "</tr>\n",
       "</table><br/><br/>Warnings:<br/>[1] Standard Errors assume that the covariance matrix of the errors is correctly specified."
      ],
      "text/plain": [
       "<class 'statsmodels.iolib.summary.Summary'>\n",
       "\"\"\"\n",
       "                            OLS Regression Results                            \n",
       "==============================================================================\n",
       "Dep. Variable:              Price_USD   R-squared:                       0.782\n",
       "Model:                            OLS   Adj. R-squared:                  0.782\n",
       "Method:                 Least Squares   F-statistic:                     4189.\n",
       "Date:                Sat, 26 Sep 2020   Prob (F-statistic):               0.00\n",
       "Time:                        20:07:14   Log-Likelihood:                -3427.6\n",
       "No. Observations:               23336   AIC:                             6897.\n",
       "Df Residuals:                   23315   BIC:                             7066.\n",
       "Df Model:                          20                                         \n",
       "Covariance Type:            nonrobust                                         \n",
       "=============================================================================================\n",
       "                                coef    std err          t      P>|t|      [0.025      0.975]\n",
       "---------------------------------------------------------------------------------------------\n",
       "District_կենտրոն              0.4873      0.007     68.347      0.000       0.473       0.501\n",
       "Source_real_estate            0.0466      0.006      7.269      0.000       0.034       0.059\n",
       "sqm_per_room                  0.0019      0.000      8.676      0.000       0.001       0.002\n",
       "District_քանաքեռ             -0.1768      0.012    -14.191      0.000      -0.201      -0.152\n",
       "Type_Մոնոլիտ                  0.3449      0.005     64.501      0.000       0.334       0.355\n",
       "District_մալաթիա             -0.2603      0.011    -23.345      0.000      -0.282      -0.238\n",
       "District_դավթաշեն            -0.0430      0.011     -4.036      0.000      -0.064      -0.022\n",
       "District_էրեբունի            -0.2048      0.016    -12.569      0.000      -0.237      -0.173\n",
       "District_արաբկիր              0.1469      0.007     20.024      0.000       0.133       0.161\n",
       "District_մալաթիա_սեբաստիա    -0.2006      0.019    -10.454      0.000      -0.238      -0.163\n",
       "District_շենգավիթ            -0.2363      0.009    -25.679      0.000      -0.254      -0.218\n",
       "District_աջափնյակ            -0.2243      0.010    -21.926      0.000      -0.244      -0.204\n",
       "District_նոր_նորք            -0.1633      0.016    -10.392      0.000      -0.194      -0.132\n",
       "const                         7.5072      0.027    277.024      0.000       7.454       7.560\n",
       "District_նորք                -0.2386      0.010    -22.835      0.000      -0.259      -0.218\n",
       "Floor                        -0.0026      0.001     -3.780      0.000      -0.004      -0.001\n",
       "log_SQM                       0.8341      0.005    162.353      0.000       0.824       0.844\n",
       "Agency                        0.0538      0.015      3.555      0.000       0.024       0.083\n",
       "District_քանաքեռ_զեյթուն     -0.1381      0.017     -8.004      0.000      -0.172      -0.104\n",
       "District_ավան                -0.1615      0.012    -12.958      0.000      -0.186      -0.137\n",
       "nFloor                       -0.0055      0.001     -8.807      0.000      -0.007      -0.004\n",
       "==============================================================================\n",
       "Omnibus:                     1262.042   Durbin-Watson:                   1.995\n",
       "Prob(Omnibus):                  0.000   Jarque-Bera (JB):             4938.598\n",
       "Skew:                           0.094   Prob(JB):                         0.00\n",
       "Kurtosis:                       5.246   Cond. No.                         560.\n",
       "==============================================================================\n",
       "\n",
       "Warnings:\n",
       "[1] Standard Errors assume that the covariance matrix of the errors is correctly specified.\n",
       "\"\"\""
      ]
     },
     "execution_count": 501,
     "metadata": {},
     "output_type": "execute_result"
    }
   ],
   "source": [
    "model_2 = sm.OLS(Y0,X0.drop(['bardzrahark','Room_groupings'],axis=1))\n",
    "results_2 = model_2.fit()\n",
    "results_2.summary()"
   ]
  },
  {
   "cell_type": "code",
   "execution_count": 502,
   "metadata": {},
   "outputs": [],
   "source": [
    "X0 = X0.drop(['bardzrahark','Room_groupings'],axis=1)\n",
    "X1 = X1.drop(['bardzrahark','Room_groupings'],axis=1)"
   ]
  },
  {
   "cell_type": "code",
   "execution_count": 503,
   "metadata": {},
   "outputs": [
    {
     "data": {
      "text/plain": [
       "(23336, 21)"
      ]
     },
     "execution_count": 503,
     "metadata": {},
     "output_type": "execute_result"
    }
   ],
   "source": [
    "X0.shape"
   ]
  },
  {
   "cell_type": "markdown",
   "metadata": {},
   "source": [
    "# Regularizations"
   ]
  },
  {
   "cell_type": "markdown",
   "metadata": {},
   "source": [
    "As our model is not overfitting at all, in fact, regularization is not what we need to improve our model performance, but anyway let's try"
   ]
  },
  {
   "cell_type": "code",
   "execution_count": 504,
   "metadata": {},
   "outputs": [],
   "source": [
    "model_final = sm.OLS(Y0,X0)"
   ]
  },
  {
   "cell_type": "markdown",
   "metadata": {},
   "source": [
    "the method of fit_regularized is Elastic Net which is the weighted average of Lasso(L1) & Ridge(L2)"
   ]
  },
  {
   "cell_type": "code",
   "execution_count": 505,
   "metadata": {},
   "outputs": [],
   "source": [
    "# putting L1_wt( L1 wieght) = 0 we get Ridge\n",
    "results_ridge = model_final.fit_regularized(L1_wt=0,alpha=0.0001)"
   ]
  },
  {
   "cell_type": "code",
   "execution_count": 506,
   "metadata": {},
   "outputs": [
    {
     "data": {
      "text/plain": [
       "array([ 4.93506392e-01,  4.43322251e-02,  2.07505715e-03, -1.65060485e-01,\n",
       "        3.39147147e-01, -2.50913876e-01, -3.57568284e-02, -1.91704181e-01,\n",
       "        1.54872220e-01, -1.91360391e-01, -2.23275212e-01, -2.12742713e-01,\n",
       "       -1.53007279e-01,  7.34824204e+00, -2.25800530e-01, -2.70852808e-03,\n",
       "        8.56917206e-01,  1.00359120e-01, -1.29246279e-01, -1.51950084e-01,\n",
       "       -5.23773935e-03])"
      ]
     },
     "execution_count": 506,
     "metadata": {},
     "output_type": "execute_result"
    }
   ],
   "source": [
    "#coefficients\n",
    "results_ridge.params"
   ]
  },
  {
   "cell_type": "code",
   "execution_count": 507,
   "metadata": {},
   "outputs": [
    {
     "name": "stdout",
     "output_type": "stream",
     "text": [
      "R^2_train 0.7819539871525852\n",
      "R^2_test 0.7855882905998879\n"
     ]
    }
   ],
   "source": [
    "Y0_pred = results_ridge.predict(X0)\n",
    "Y1_pred = results_ridge.predict(X1)\n",
    "print('R^2_train',r2_score(Y0,Y0_pred))\n",
    "print('R^2_test',r2_score(Y1,Y1_pred))"
   ]
  },
  {
   "cell_type": "code",
   "execution_count": 518,
   "metadata": {},
   "outputs": [
    {
     "name": "stdout",
     "output_type": "stream",
     "text": [
      "R^2_train 0.5952979271029593\n",
      "R^2_test 0.6047692146741283\n"
     ]
    }
   ],
   "source": [
    "# putting L1_wt( L1 wieght) = 1 we get Lasso\n",
    "results_lasso = model_final.fit_regularized(L1_wt=1,alpha=0.01)\n",
    "Y0_pred_ls = results_lasso.predict(X0)\n",
    "Y1_pred_ls = results_lasso.predict(X1)\n",
    "print('R^2_train',r2_score(Y0,Y0_pred_ls))\n",
    "print('R^2_test',r2_score(Y1,Y1_pred_ls))"
   ]
  },
  {
   "cell_type": "code",
   "execution_count": 517,
   "metadata": {},
   "outputs": [
    {
     "name": "stdout",
     "output_type": "stream",
     "text": [
      "R^2_train 0.652534286894716\n",
      "R^2_test 0.6590669670549638\n"
     ]
    }
   ],
   "source": [
    "# putting 0 < L1_wt( L1 wieght) < 1 we get Elastic net\n",
    "results_elastic = model_final.fit_regularized(L1_wt=0.1,alpha=0.01)\n",
    "Y0_pred_en = results_elastic.predict(X0)\n",
    "Y1_pred_en = results_elastic.predict(X1)\n",
    "print('R^2_train',r2_score(Y0,Y0_pred_en))\n",
    "print('R^2_test',r2_score(Y1,Y1_pred_en))"
   ]
  }
 ],
 "metadata": {
  "kernelspec": {
   "display_name": "Python 3",
   "language": "python",
   "name": "python3"
  },
  "language_info": {
   "codemirror_mode": {
    "name": "ipython",
    "version": 3
   },
   "file_extension": ".py",
   "mimetype": "text/x-python",
   "name": "python",
   "nbconvert_exporter": "python",
   "pygments_lexer": "ipython3",
   "version": "3.8.3"
  },
  "toc": {
   "base_numbering": 1,
   "nav_menu": {},
   "number_sections": true,
   "sideBar": true,
   "skip_h1_title": false,
   "title_cell": "Table of Contents",
   "title_sidebar": "Contents",
   "toc_cell": false,
   "toc_position": {},
   "toc_section_display": true,
   "toc_window_display": false
  }
 },
 "nbformat": 4,
 "nbformat_minor": 2
}
