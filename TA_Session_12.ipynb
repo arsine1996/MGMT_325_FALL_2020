{
 "cells": [
  {
   "cell_type": "code",
   "execution_count": 172,
   "metadata": {},
   "outputs": [],
   "source": [
    "#!pip install lightgbm"
   ]
  },
  {
   "cell_type": "code",
   "execution_count": 173,
   "metadata": {},
   "outputs": [],
   "source": [
    "import pandas as pd\n",
    "import numpy as np\n",
    "import matplotlib.pyplot as plt\n",
    "from sklearn.preprocessing import StandardScaler,LabelEncoder\n",
    "from sklearn.model_selection import train_test_split, GridSearchCV, cross_val_score\n",
    "from sklearn.metrics import *\n",
    "import lightgbm\n",
    "from lightgbm import LGBMClassifier\n",
    "import joblib  #base package which is used to save the model"
   ]
  },
  {
   "cell_type": "code",
   "execution_count": 174,
   "metadata": {},
   "outputs": [],
   "source": [
    "data=pd.read_csv(\"attrition.csv\")"
   ]
  },
  {
   "cell_type": "code",
   "execution_count": 175,
   "metadata": {},
   "outputs": [
    {
     "data": {
      "text/html": [
       "<div>\n",
       "<style scoped>\n",
       "    .dataframe tbody tr th:only-of-type {\n",
       "        vertical-align: middle;\n",
       "    }\n",
       "\n",
       "    .dataframe tbody tr th {\n",
       "        vertical-align: top;\n",
       "    }\n",
       "\n",
       "    .dataframe thead th {\n",
       "        text-align: right;\n",
       "    }\n",
       "</style>\n",
       "<table border=\"1\" class=\"dataframe\">\n",
       "  <thead>\n",
       "    <tr style=\"text-align: right;\">\n",
       "      <th></th>\n",
       "      <th>Age</th>\n",
       "      <th>Attrition</th>\n",
       "      <th>BusinessTravel</th>\n",
       "      <th>DailyRate</th>\n",
       "      <th>Department</th>\n",
       "      <th>DistanceFromHome</th>\n",
       "      <th>Education</th>\n",
       "      <th>EducationField</th>\n",
       "      <th>EmployeeCount</th>\n",
       "      <th>EmployeeNumber</th>\n",
       "      <th>...</th>\n",
       "      <th>RelationshipSatisfaction</th>\n",
       "      <th>StandardHours</th>\n",
       "      <th>StockOptionLevel</th>\n",
       "      <th>TotalWorkingYears</th>\n",
       "      <th>TrainingTimesLastYear</th>\n",
       "      <th>WorkLifeBalance</th>\n",
       "      <th>YearsAtCompany</th>\n",
       "      <th>YearsInCurrentRole</th>\n",
       "      <th>YearsSinceLastPromotion</th>\n",
       "      <th>YearsWithCurrManager</th>\n",
       "    </tr>\n",
       "  </thead>\n",
       "  <tbody>\n",
       "    <tr>\n",
       "      <th>0</th>\n",
       "      <td>41</td>\n",
       "      <td>Yes</td>\n",
       "      <td>Travel_Rarely</td>\n",
       "      <td>1102</td>\n",
       "      <td>Sales</td>\n",
       "      <td>1</td>\n",
       "      <td>2</td>\n",
       "      <td>Life Sciences</td>\n",
       "      <td>1</td>\n",
       "      <td>1</td>\n",
       "      <td>...</td>\n",
       "      <td>1</td>\n",
       "      <td>80</td>\n",
       "      <td>0</td>\n",
       "      <td>8</td>\n",
       "      <td>0</td>\n",
       "      <td>1</td>\n",
       "      <td>6</td>\n",
       "      <td>4</td>\n",
       "      <td>0</td>\n",
       "      <td>5</td>\n",
       "    </tr>\n",
       "    <tr>\n",
       "      <th>1</th>\n",
       "      <td>49</td>\n",
       "      <td>No</td>\n",
       "      <td>Travel_Frequently</td>\n",
       "      <td>279</td>\n",
       "      <td>Research &amp; Development</td>\n",
       "      <td>8</td>\n",
       "      <td>1</td>\n",
       "      <td>Life Sciences</td>\n",
       "      <td>1</td>\n",
       "      <td>2</td>\n",
       "      <td>...</td>\n",
       "      <td>4</td>\n",
       "      <td>80</td>\n",
       "      <td>1</td>\n",
       "      <td>10</td>\n",
       "      <td>3</td>\n",
       "      <td>3</td>\n",
       "      <td>10</td>\n",
       "      <td>7</td>\n",
       "      <td>1</td>\n",
       "      <td>7</td>\n",
       "    </tr>\n",
       "    <tr>\n",
       "      <th>2</th>\n",
       "      <td>37</td>\n",
       "      <td>Yes</td>\n",
       "      <td>Travel_Rarely</td>\n",
       "      <td>1373</td>\n",
       "      <td>Research &amp; Development</td>\n",
       "      <td>2</td>\n",
       "      <td>2</td>\n",
       "      <td>Other</td>\n",
       "      <td>1</td>\n",
       "      <td>4</td>\n",
       "      <td>...</td>\n",
       "      <td>2</td>\n",
       "      <td>80</td>\n",
       "      <td>0</td>\n",
       "      <td>7</td>\n",
       "      <td>3</td>\n",
       "      <td>3</td>\n",
       "      <td>0</td>\n",
       "      <td>0</td>\n",
       "      <td>0</td>\n",
       "      <td>0</td>\n",
       "    </tr>\n",
       "    <tr>\n",
       "      <th>3</th>\n",
       "      <td>33</td>\n",
       "      <td>No</td>\n",
       "      <td>Travel_Frequently</td>\n",
       "      <td>1392</td>\n",
       "      <td>Research &amp; Development</td>\n",
       "      <td>3</td>\n",
       "      <td>4</td>\n",
       "      <td>Life Sciences</td>\n",
       "      <td>1</td>\n",
       "      <td>5</td>\n",
       "      <td>...</td>\n",
       "      <td>3</td>\n",
       "      <td>80</td>\n",
       "      <td>0</td>\n",
       "      <td>8</td>\n",
       "      <td>3</td>\n",
       "      <td>3</td>\n",
       "      <td>8</td>\n",
       "      <td>7</td>\n",
       "      <td>3</td>\n",
       "      <td>0</td>\n",
       "    </tr>\n",
       "    <tr>\n",
       "      <th>4</th>\n",
       "      <td>27</td>\n",
       "      <td>No</td>\n",
       "      <td>Travel_Rarely</td>\n",
       "      <td>591</td>\n",
       "      <td>Research &amp; Development</td>\n",
       "      <td>2</td>\n",
       "      <td>1</td>\n",
       "      <td>Medical</td>\n",
       "      <td>1</td>\n",
       "      <td>7</td>\n",
       "      <td>...</td>\n",
       "      <td>4</td>\n",
       "      <td>80</td>\n",
       "      <td>1</td>\n",
       "      <td>6</td>\n",
       "      <td>3</td>\n",
       "      <td>3</td>\n",
       "      <td>2</td>\n",
       "      <td>2</td>\n",
       "      <td>2</td>\n",
       "      <td>2</td>\n",
       "    </tr>\n",
       "  </tbody>\n",
       "</table>\n",
       "<p>5 rows × 35 columns</p>\n",
       "</div>"
      ],
      "text/plain": [
       "   Age Attrition     BusinessTravel  DailyRate              Department  \\\n",
       "0   41       Yes      Travel_Rarely       1102                   Sales   \n",
       "1   49        No  Travel_Frequently        279  Research & Development   \n",
       "2   37       Yes      Travel_Rarely       1373  Research & Development   \n",
       "3   33        No  Travel_Frequently       1392  Research & Development   \n",
       "4   27        No      Travel_Rarely        591  Research & Development   \n",
       "\n",
       "   DistanceFromHome  Education EducationField  EmployeeCount  EmployeeNumber  \\\n",
       "0                 1          2  Life Sciences              1               1   \n",
       "1                 8          1  Life Sciences              1               2   \n",
       "2                 2          2          Other              1               4   \n",
       "3                 3          4  Life Sciences              1               5   \n",
       "4                 2          1        Medical              1               7   \n",
       "\n",
       "   ...  RelationshipSatisfaction StandardHours  StockOptionLevel  \\\n",
       "0  ...                         1            80                 0   \n",
       "1  ...                         4            80                 1   \n",
       "2  ...                         2            80                 0   \n",
       "3  ...                         3            80                 0   \n",
       "4  ...                         4            80                 1   \n",
       "\n",
       "   TotalWorkingYears  TrainingTimesLastYear WorkLifeBalance  YearsAtCompany  \\\n",
       "0                  8                      0               1               6   \n",
       "1                 10                      3               3              10   \n",
       "2                  7                      3               3               0   \n",
       "3                  8                      3               3               8   \n",
       "4                  6                      3               3               2   \n",
       "\n",
       "  YearsInCurrentRole  YearsSinceLastPromotion  YearsWithCurrManager  \n",
       "0                  4                        0                     5  \n",
       "1                  7                        1                     7  \n",
       "2                  0                        0                     0  \n",
       "3                  7                        3                     0  \n",
       "4                  2                        2                     2  \n",
       "\n",
       "[5 rows x 35 columns]"
      ]
     },
     "execution_count": 175,
     "metadata": {},
     "output_type": "execute_result"
    }
   ],
   "source": [
    "data.head()"
   ]
  },
  {
   "cell_type": "code",
   "execution_count": 176,
   "metadata": {},
   "outputs": [],
   "source": [
    "data['Attrition'] = np.where(data.Attrition=='Yes', 1, 0)"
   ]
  },
  {
   "cell_type": "code",
   "execution_count": 177,
   "metadata": {},
   "outputs": [
    {
     "name": "stdout",
     "output_type": "stream",
     "text": [
      "Duplicates: 0\n",
      "Missing values: 0\n",
      "Single valued columns: Index(['EmployeeCount', 'Over18', 'StandardHours'], dtype='object')\n"
     ]
    }
   ],
   "source": [
    "print(\"Duplicates:\", data.duplicated().sum())\n",
    "print(\"Missing values:\", data.isna().sum().sum())\n",
    "print(\"Single valued columns:\", data.columns[data.nunique()==1])"
   ]
  },
  {
   "cell_type": "code",
   "execution_count": 178,
   "metadata": {},
   "outputs": [],
   "source": [
    "# drop columns with only one value\n",
    "data = data.drop(data.columns[data.nunique()==1], axis=1)"
   ]
  },
  {
   "cell_type": "code",
   "execution_count": 179,
   "metadata": {},
   "outputs": [
    {
     "data": {
      "text/plain": [
       "0    0.838776\n",
       "1    0.161224\n",
       "Name: Attrition, dtype: float64"
      ]
     },
     "execution_count": 179,
     "metadata": {},
     "output_type": "execute_result"
    }
   ],
   "source": [
    "data.Attrition.value_counts(normalize=True)"
   ]
  },
  {
   "cell_type": "code",
   "execution_count": 180,
   "metadata": {},
   "outputs": [],
   "source": [
    "#separating X and Y\n",
    "Y=data[\"Attrition\"]\n",
    "X=data.drop(\"Attrition\",axis=1)"
   ]
  },
  {
   "cell_type": "code",
   "execution_count": 181,
   "metadata": {},
   "outputs": [
    {
     "data": {
      "text/html": [
       "<div>\n",
       "<style scoped>\n",
       "    .dataframe tbody tr th:only-of-type {\n",
       "        vertical-align: middle;\n",
       "    }\n",
       "\n",
       "    .dataframe tbody tr th {\n",
       "        vertical-align: top;\n",
       "    }\n",
       "\n",
       "    .dataframe thead th {\n",
       "        text-align: right;\n",
       "    }\n",
       "</style>\n",
       "<table border=\"1\" class=\"dataframe\">\n",
       "  <thead>\n",
       "    <tr style=\"text-align: right;\">\n",
       "      <th></th>\n",
       "      <th>BusinessTravel</th>\n",
       "      <th>Department</th>\n",
       "      <th>EducationField</th>\n",
       "      <th>Gender</th>\n",
       "      <th>JobRole</th>\n",
       "      <th>MaritalStatus</th>\n",
       "      <th>OverTime</th>\n",
       "    </tr>\n",
       "  </thead>\n",
       "  <tbody>\n",
       "    <tr>\n",
       "      <th>0</th>\n",
       "      <td>Travel_Rarely</td>\n",
       "      <td>Sales</td>\n",
       "      <td>Life Sciences</td>\n",
       "      <td>Female</td>\n",
       "      <td>Sales Executive</td>\n",
       "      <td>Single</td>\n",
       "      <td>Yes</td>\n",
       "    </tr>\n",
       "    <tr>\n",
       "      <th>1</th>\n",
       "      <td>Travel_Frequently</td>\n",
       "      <td>Research &amp; Development</td>\n",
       "      <td>Life Sciences</td>\n",
       "      <td>Male</td>\n",
       "      <td>Research Scientist</td>\n",
       "      <td>Married</td>\n",
       "      <td>No</td>\n",
       "    </tr>\n",
       "    <tr>\n",
       "      <th>2</th>\n",
       "      <td>Travel_Rarely</td>\n",
       "      <td>Research &amp; Development</td>\n",
       "      <td>Other</td>\n",
       "      <td>Male</td>\n",
       "      <td>Laboratory Technician</td>\n",
       "      <td>Single</td>\n",
       "      <td>Yes</td>\n",
       "    </tr>\n",
       "    <tr>\n",
       "      <th>3</th>\n",
       "      <td>Travel_Frequently</td>\n",
       "      <td>Research &amp; Development</td>\n",
       "      <td>Life Sciences</td>\n",
       "      <td>Female</td>\n",
       "      <td>Research Scientist</td>\n",
       "      <td>Married</td>\n",
       "      <td>Yes</td>\n",
       "    </tr>\n",
       "    <tr>\n",
       "      <th>4</th>\n",
       "      <td>Travel_Rarely</td>\n",
       "      <td>Research &amp; Development</td>\n",
       "      <td>Medical</td>\n",
       "      <td>Male</td>\n",
       "      <td>Laboratory Technician</td>\n",
       "      <td>Married</td>\n",
       "      <td>No</td>\n",
       "    </tr>\n",
       "  </tbody>\n",
       "</table>\n",
       "</div>"
      ],
      "text/plain": [
       "      BusinessTravel              Department EducationField  Gender  \\\n",
       "0      Travel_Rarely                   Sales  Life Sciences  Female   \n",
       "1  Travel_Frequently  Research & Development  Life Sciences    Male   \n",
       "2      Travel_Rarely  Research & Development          Other    Male   \n",
       "3  Travel_Frequently  Research & Development  Life Sciences  Female   \n",
       "4      Travel_Rarely  Research & Development        Medical    Male   \n",
       "\n",
       "                 JobRole MaritalStatus OverTime  \n",
       "0        Sales Executive        Single      Yes  \n",
       "1     Research Scientist       Married       No  \n",
       "2  Laboratory Technician        Single      Yes  \n",
       "3     Research Scientist       Married      Yes  \n",
       "4  Laboratory Technician       Married       No  "
      ]
     },
     "execution_count": 181,
     "metadata": {},
     "output_type": "execute_result"
    }
   ],
   "source": [
    "cats = X.columns[X.dtypes=='O'].tolist()\n",
    "X[cats].head()"
   ]
  },
  {
   "cell_type": "code",
   "execution_count": 182,
   "metadata": {},
   "outputs": [],
   "source": [
    "X0, X1, Y0, Y1 = train_test_split(X, Y, test_size=0.25, random_state=42)"
   ]
  },
  {
   "cell_type": "code",
   "execution_count": 183,
   "metadata": {},
   "outputs": [
    {
     "name": "stderr",
     "output_type": "stream",
     "text": [
      "<ipython-input-183-ee983a5318ce>:4: SettingWithCopyWarning: \n",
      "A value is trying to be set on a copy of a slice from a DataFrame.\n",
      "Try using .loc[row_indexer,col_indexer] = value instead\n",
      "\n",
      "See the caveats in the documentation: https://pandas.pydata.org/pandas-docs/stable/user_guide/indexing.html#returning-a-view-versus-a-copy\n",
      "  X0[i] = le.transform(X0[i])\n",
      "<ipython-input-183-ee983a5318ce>:5: SettingWithCopyWarning: \n",
      "A value is trying to be set on a copy of a slice from a DataFrame.\n",
      "Try using .loc[row_indexer,col_indexer] = value instead\n",
      "\n",
      "See the caveats in the documentation: https://pandas.pydata.org/pandas-docs/stable/user_guide/indexing.html#returning-a-view-versus-a-copy\n",
      "  X1[i] = le.transform(X1[i])\n"
     ]
    }
   ],
   "source": [
    "for i in cats:\n",
    "    le=LabelEncoder()\n",
    "    le.fit(X0[i])\n",
    "    X0[i] = le.transform(X0[i])\n",
    "    X1[i] = le.transform(X1[i])\n",
    "    X[i] = le.transform(X[i])"
   ]
  },
  {
   "cell_type": "markdown",
   "metadata": {},
   "source": [
    "### Gradient Boosting with lightgbm"
   ]
  },
  {
   "cell_type": "code",
   "execution_count": 184,
   "metadata": {},
   "outputs": [
    {
     "name": "stderr",
     "output_type": "stream",
     "text": [
      "/Users/zaranavasardyan/opt/anaconda3/lib/python3.8/site-packages/lightgbm/basic.py:1551: UserWarning: Using categorical_feature in Dataset.\n",
      "  warnings.warn('Using categorical_feature in Dataset.')\n",
      "/Users/zaranavasardyan/opt/anaconda3/lib/python3.8/site-packages/lightgbm/basic.py:1554: UserWarning: categorical_feature in Dataset is overridden.\n",
      "New categorical_feature is ['BusinessTravel', 'Department', 'EducationField', 'Gender', 'JobRole', 'MaritalStatus', 'OverTime']\n",
      "  warnings.warn('categorical_feature in Dataset is overridden.\\n'\n",
      "/Users/zaranavasardyan/opt/anaconda3/lib/python3.8/site-packages/lightgbm/basic.py:1286: UserWarning: Overriding the parameters from Reference Dataset.\n",
      "  warnings.warn('Overriding the parameters from Reference Dataset.')\n",
      "/Users/zaranavasardyan/opt/anaconda3/lib/python3.8/site-packages/lightgbm/basic.py:1098: UserWarning: categorical_column in param dict is overridden.\n",
      "  warnings.warn('{} in param dict is overridden.'.format(cat_alias))\n"
     ]
    },
    {
     "name": "stdout",
     "output_type": "stream",
     "text": [
      "[1]\tvalid_0's auc: 0.681022\tvalid_0's binary_logloss: 0.692072\n",
      "[2]\tvalid_0's auc: 0.681022\tvalid_0's binary_logloss: 0.691006\n",
      "[3]\tvalid_0's auc: 0.681022\tvalid_0's binary_logloss: 0.689951\n",
      "[4]\tvalid_0's auc: 0.681022\tvalid_0's binary_logloss: 0.688906\n",
      "[5]\tvalid_0's auc: 0.681022\tvalid_0's binary_logloss: 0.687871\n",
      "[6]\tvalid_0's auc: 0.681999\tvalid_0's binary_logloss: 0.686837\n",
      "[7]\tvalid_0's auc: 0.681999\tvalid_0's binary_logloss: 0.685812\n",
      "[8]\tvalid_0's auc: 0.681999\tvalid_0's binary_logloss: 0.684806\n",
      "[9]\tvalid_0's auc: 0.681999\tvalid_0's binary_logloss: 0.6838\n",
      "[10]\tvalid_0's auc: 0.688314\tvalid_0's binary_logloss: 0.68284\n",
      "[11]\tvalid_0's auc: 0.688314\tvalid_0's binary_logloss: 0.68186\n",
      "[12]\tvalid_0's auc: 0.684147\tvalid_0's binary_logloss: 0.680915\n",
      "[13]\tvalid_0's auc: 0.684408\tvalid_0's binary_logloss: 0.679941\n",
      "[14]\tvalid_0's auc: 0.682975\tvalid_0's binary_logloss: 0.679012\n",
      "[15]\tvalid_0's auc: 0.682975\tvalid_0's binary_logloss: 0.678063\n",
      "[16]\tvalid_0's auc: 0.684538\tvalid_0's binary_logloss: 0.677149\n",
      "[17]\tvalid_0's auc: 0.685514\tvalid_0's binary_logloss: 0.676206\n",
      "[18]\tvalid_0's auc: 0.685319\tvalid_0's binary_logloss: 0.675308\n",
      "[19]\tvalid_0's auc: 0.685937\tvalid_0's binary_logloss: 0.67435\n",
      "[20]\tvalid_0's auc: 0.6875\tvalid_0's binary_logloss: 0.673466\n",
      "[21]\tvalid_0's auc: 0.686458\tvalid_0's binary_logloss: 0.672552\n",
      "[22]\tvalid_0's auc: 0.686686\tvalid_0's binary_logloss: 0.671688\n",
      "[23]\tvalid_0's auc: 0.686947\tvalid_0's binary_logloss: 0.67076\n",
      "[24]\tvalid_0's auc: 0.688249\tvalid_0's binary_logloss: 0.669904\n",
      "[25]\tvalid_0's auc: 0.689225\tvalid_0's binary_logloss: 0.668981\n",
      "[26]\tvalid_0's auc: 0.688053\tvalid_0's binary_logloss: 0.668145\n",
      "[27]\tvalid_0's auc: 0.689225\tvalid_0's binary_logloss: 0.667282\n",
      "[28]\tvalid_0's auc: 0.688053\tvalid_0's binary_logloss: 0.666453\n",
      "[29]\tvalid_0's auc: 0.688118\tvalid_0's binary_logloss: 0.665559\n",
      "[30]\tvalid_0's auc: 0.690527\tvalid_0's binary_logloss: 0.664749\n",
      "[31]\tvalid_0's auc: 0.689421\tvalid_0's binary_logloss: 0.663877\n",
      "[32]\tvalid_0's auc: 0.693652\tvalid_0's binary_logloss: 0.662914\n",
      "[33]\tvalid_0's auc: 0.693164\tvalid_0's binary_logloss: 0.661986\n",
      "[34]\tvalid_0's auc: 0.69375\tvalid_0's binary_logloss: 0.661141\n",
      "[35]\tvalid_0's auc: 0.693685\tvalid_0's binary_logloss: 0.660367\n",
      "[36]\tvalid_0's auc: 0.694141\tvalid_0's binary_logloss: 0.659458\n",
      "[37]\tvalid_0's auc: 0.695052\tvalid_0's binary_logloss: 0.658696\n",
      "[38]\tvalid_0's auc: 0.69694\tvalid_0's binary_logloss: 0.657941\n",
      "[39]\tvalid_0's auc: 0.69681\tvalid_0's binary_logloss: 0.657193\n",
      "[40]\tvalid_0's auc: 0.697526\tvalid_0's binary_logloss: 0.656309\n",
      "[41]\tvalid_0's auc: 0.69707\tvalid_0's binary_logloss: 0.655587\n",
      "[42]\tvalid_0's auc: 0.697917\tvalid_0's binary_logloss: 0.654857\n",
      "[43]\tvalid_0's auc: 0.701758\tvalid_0's binary_logloss: 0.653995\n",
      "[44]\tvalid_0's auc: 0.701628\tvalid_0's binary_logloss: 0.653269\n",
      "[45]\tvalid_0's auc: 0.702311\tvalid_0's binary_logloss: 0.652507\n",
      "[46]\tvalid_0's auc: 0.702702\tvalid_0's binary_logloss: 0.651662\n",
      "[47]\tvalid_0's auc: 0.703613\tvalid_0's binary_logloss: 0.650954\n",
      "[48]\tvalid_0's auc: 0.704525\tvalid_0's binary_logloss: 0.65012\n",
      "[49]\tvalid_0's auc: 0.705827\tvalid_0's binary_logloss: 0.649424\n",
      "[50]\tvalid_0's auc: 0.705306\tvalid_0's binary_logloss: 0.648593\n",
      "[51]\tvalid_0's auc: 0.706087\tvalid_0's binary_logloss: 0.647908\n",
      "[52]\tvalid_0's auc: 0.706543\tvalid_0's binary_logloss: 0.647098\n",
      "[53]\tvalid_0's auc: 0.705827\tvalid_0's binary_logloss: 0.64641\n",
      "[54]\tvalid_0's auc: 0.705436\tvalid_0's binary_logloss: 0.645754\n",
      "[55]\tvalid_0's auc: 0.705176\tvalid_0's binary_logloss: 0.64509\n",
      "[56]\tvalid_0's auc: 0.707129\tvalid_0's binary_logloss: 0.644378\n",
      "[57]\tvalid_0's auc: 0.707064\tvalid_0's binary_logloss: 0.643593\n",
      "[58]\tvalid_0's auc: 0.70765\tvalid_0's binary_logloss: 0.642945\n",
      "[59]\tvalid_0's auc: 0.708561\tvalid_0's binary_logloss: 0.642171\n",
      "[60]\tvalid_0's auc: 0.708757\tvalid_0's binary_logloss: 0.64152\n",
      "[61]\tvalid_0's auc: 0.709342\tvalid_0's binary_logloss: 0.640826\n",
      "[62]\tvalid_0's auc: 0.710905\tvalid_0's binary_logloss: 0.640067\n",
      "[63]\tvalid_0's auc: 0.710384\tvalid_0's binary_logloss: 0.639454\n",
      "[64]\tvalid_0's auc: 0.709993\tvalid_0's binary_logloss: 0.638813\n",
      "[65]\tvalid_0's auc: 0.709277\tvalid_0's binary_logloss: 0.638165\n",
      "[66]\tvalid_0's auc: 0.708887\tvalid_0's binary_logloss: 0.637425\n",
      "[67]\tvalid_0's auc: 0.709473\tvalid_0's binary_logloss: 0.636799\n",
      "[68]\tvalid_0's auc: 0.709733\tvalid_0's binary_logloss: 0.636069\n",
      "[69]\tvalid_0's auc: 0.709928\tvalid_0's binary_logloss: 0.635483\n",
      "[70]\tvalid_0's auc: 0.710189\tvalid_0's binary_logloss: 0.63487\n",
      "[71]\tvalid_0's auc: 0.709863\tvalid_0's binary_logloss: 0.634251\n",
      "[72]\tvalid_0's auc: 0.711816\tvalid_0's binary_logloss: 0.633554\n",
      "[73]\tvalid_0's auc: 0.713639\tvalid_0's binary_logloss: 0.632845\n",
      "[74]\tvalid_0's auc: 0.712988\tvalid_0's binary_logloss: 0.632238\n",
      "[75]\tvalid_0's auc: 0.712793\tvalid_0's binary_logloss: 0.631551\n",
      "[76]\tvalid_0's auc: 0.713704\tvalid_0's binary_logloss: 0.630865\n",
      "[77]\tvalid_0's auc: 0.713444\tvalid_0's binary_logloss: 0.63019\n",
      "[78]\tvalid_0's auc: 0.713509\tvalid_0's binary_logloss: 0.629612\n",
      "[79]\tvalid_0's auc: 0.713053\tvalid_0's binary_logloss: 0.628943\n",
      "[80]\tvalid_0's auc: 0.712988\tvalid_0's binary_logloss: 0.628272\n",
      "[81]\tvalid_0's auc: 0.713314\tvalid_0's binary_logloss: 0.627611\n",
      "[82]\tvalid_0's auc: 0.712663\tvalid_0's binary_logloss: 0.62706\n",
      "[83]\tvalid_0's auc: 0.713216\tvalid_0's binary_logloss: 0.626387\n",
      "[84]\tvalid_0's auc: 0.712891\tvalid_0's binary_logloss: 0.625769\n",
      "[85]\tvalid_0's auc: 0.712565\tvalid_0's binary_logloss: 0.625241\n",
      "[86]\tvalid_0's auc: 0.712174\tvalid_0's binary_logloss: 0.624657\n",
      "[87]\tvalid_0's auc: 0.713151\tvalid_0's binary_logloss: 0.624047\n",
      "[88]\tvalid_0's auc: 0.713867\tvalid_0's binary_logloss: 0.623405\n",
      "[89]\tvalid_0's auc: 0.714095\tvalid_0's binary_logloss: 0.622782\n",
      "[90]\tvalid_0's auc: 0.712923\tvalid_0's binary_logloss: 0.62226\n",
      "[91]\tvalid_0's auc: 0.713574\tvalid_0's binary_logloss: 0.621665\n",
      "[92]\tvalid_0's auc: 0.713574\tvalid_0's binary_logloss: 0.621037\n",
      "[93]\tvalid_0's auc: 0.713053\tvalid_0's binary_logloss: 0.620514\n",
      "[94]\tvalid_0's auc: 0.714095\tvalid_0's binary_logloss: 0.619911\n",
      "[95]\tvalid_0's auc: 0.714095\tvalid_0's binary_logloss: 0.619322\n",
      "[96]\tvalid_0's auc: 0.713509\tvalid_0's binary_logloss: 0.618743\n",
      "[97]\tvalid_0's auc: 0.713509\tvalid_0's binary_logloss: 0.618245\n",
      "[98]\tvalid_0's auc: 0.713704\tvalid_0's binary_logloss: 0.617658\n",
      "[99]\tvalid_0's auc: 0.713835\tvalid_0's binary_logloss: 0.617167\n",
      "[100]\tvalid_0's auc: 0.713118\tvalid_0's binary_logloss: 0.616605\n",
      "[101]\tvalid_0's auc: 0.7139\tvalid_0's binary_logloss: 0.616021\n",
      "[102]\tvalid_0's auc: 0.713314\tvalid_0's binary_logloss: 0.615552\n",
      "[103]\tvalid_0's auc: 0.713997\tvalid_0's binary_logloss: 0.614974\n",
      "[104]\tvalid_0's auc: 0.714518\tvalid_0's binary_logloss: 0.614399\n",
      "[105]\tvalid_0's auc: 0.714648\tvalid_0's binary_logloss: 0.613836\n",
      "[106]\tvalid_0's auc: 0.715397\tvalid_0's binary_logloss: 0.613243\n",
      "[107]\tvalid_0's auc: 0.716471\tvalid_0's binary_logloss: 0.612696\n",
      "[108]\tvalid_0's auc: 0.716341\tvalid_0's binary_logloss: 0.612097\n",
      "[109]\tvalid_0's auc: 0.716211\tvalid_0's binary_logloss: 0.611552\n",
      "[110]\tvalid_0's auc: 0.716276\tvalid_0's binary_logloss: 0.611026\n",
      "[111]\tvalid_0's auc: 0.717122\tvalid_0's binary_logloss: 0.610474\n",
      "[112]\tvalid_0's auc: 0.716992\tvalid_0's binary_logloss: 0.6099\n",
      "[113]\tvalid_0's auc: 0.717578\tvalid_0's binary_logloss: 0.609433\n",
      "[114]\tvalid_0's auc: 0.717708\tvalid_0's binary_logloss: 0.608906\n",
      "[115]\tvalid_0's auc: 0.717513\tvalid_0's binary_logloss: 0.608432\n",
      "[116]\tvalid_0's auc: 0.717057\tvalid_0's binary_logloss: 0.607854\n",
      "[117]\tvalid_0's auc: 0.717253\tvalid_0's binary_logloss: 0.607399\n",
      "[118]\tvalid_0's auc: 0.716146\tvalid_0's binary_logloss: 0.606892\n",
      "[119]\tvalid_0's auc: 0.71582\tvalid_0's binary_logloss: 0.606431\n",
      "[120]\tvalid_0's auc: 0.716341\tvalid_0's binary_logloss: 0.605869\n",
      "[121]\tvalid_0's auc: 0.716471\tvalid_0's binary_logloss: 0.605427\n",
      "[122]\tvalid_0's auc: 0.716406\tvalid_0's binary_logloss: 0.604883\n",
      "[123]\tvalid_0's auc: 0.71556\tvalid_0's binary_logloss: 0.604434\n",
      "[124]\tvalid_0's auc: 0.716536\tvalid_0's binary_logloss: 0.603878\n",
      "[125]\tvalid_0's auc: 0.716536\tvalid_0's binary_logloss: 0.603344\n",
      "[126]\tvalid_0's auc: 0.716374\tvalid_0's binary_logloss: 0.602902\n",
      "[127]\tvalid_0's auc: 0.716504\tvalid_0's binary_logloss: 0.602362\n",
      "[128]\tvalid_0's auc: 0.716569\tvalid_0's binary_logloss: 0.601952\n",
      "[129]\tvalid_0's auc: 0.716764\tvalid_0's binary_logloss: 0.60141\n",
      "[130]\tvalid_0's auc: 0.717155\tvalid_0's binary_logloss: 0.601006\n",
      "[131]\tvalid_0's auc: 0.716699\tvalid_0's binary_logloss: 0.600488\n",
      "[132]\tvalid_0's auc: 0.716829\tvalid_0's binary_logloss: 0.600089\n",
      "[133]\tvalid_0's auc: 0.717285\tvalid_0's binary_logloss: 0.599566\n",
      "[134]\tvalid_0's auc: 0.717546\tvalid_0's binary_logloss: 0.599045\n",
      "[135]\tvalid_0's auc: 0.716895\tvalid_0's binary_logloss: 0.598653\n",
      "[136]\tvalid_0's auc: 0.716699\tvalid_0's binary_logloss: 0.598149\n",
      "[137]\tvalid_0's auc: 0.716178\tvalid_0's binary_logloss: 0.59774\n",
      "[138]\tvalid_0's auc: 0.716243\tvalid_0's binary_logloss: 0.59723\n",
      "[139]\tvalid_0's auc: 0.716829\tvalid_0's binary_logloss: 0.596904\n",
      "[140]\tvalid_0's auc: 0.716569\tvalid_0's binary_logloss: 0.596409\n",
      "[141]\tvalid_0's auc: 0.715788\tvalid_0's binary_logloss: 0.596066\n",
      "[142]\tvalid_0's auc: 0.715853\tvalid_0's binary_logloss: 0.595565\n",
      "[143]\tvalid_0's auc: 0.716178\tvalid_0's binary_logloss: 0.595068\n",
      "[144]\tvalid_0's auc: 0.715658\tvalid_0's binary_logloss: 0.594751\n",
      "[145]\tvalid_0's auc: 0.715658\tvalid_0's binary_logloss: 0.59427\n",
      "[146]\tvalid_0's auc: 0.715723\tvalid_0's binary_logloss: 0.593937\n",
      "[147]\tvalid_0's auc: 0.716113\tvalid_0's binary_logloss: 0.593397\n",
      "[148]\tvalid_0's auc: 0.715983\tvalid_0's binary_logloss: 0.592923\n",
      "[149]\tvalid_0's auc: 0.715983\tvalid_0's binary_logloss: 0.592616\n",
      "[150]\tvalid_0's auc: 0.716634\tvalid_0's binary_logloss: 0.592085\n",
      "[151]\tvalid_0's auc: 0.71735\tvalid_0's binary_logloss: 0.591707\n",
      "[152]\tvalid_0's auc: 0.716504\tvalid_0's binary_logloss: 0.591233\n",
      "[153]\tvalid_0's auc: 0.71722\tvalid_0's binary_logloss: 0.590914\n",
      "[154]\tvalid_0's auc: 0.71748\tvalid_0's binary_logloss: 0.590549\n",
      "[155]\tvalid_0's auc: 0.716699\tvalid_0's binary_logloss: 0.590082\n",
      "[156]\tvalid_0's auc: 0.716829\tvalid_0's binary_logloss: 0.589787\n",
      "[157]\tvalid_0's auc: 0.717155\tvalid_0's binary_logloss: 0.589271\n",
      "[158]\tvalid_0's auc: 0.717122\tvalid_0's binary_logloss: 0.588813\n",
      "[159]\tvalid_0's auc: 0.717513\tvalid_0's binary_logloss: 0.588505\n",
      "[160]\tvalid_0's auc: 0.717708\tvalid_0's binary_logloss: 0.588015\n",
      "[161]\tvalid_0's auc: 0.717708\tvalid_0's binary_logloss: 0.587729\n",
      "[162]\tvalid_0's auc: 0.717839\tvalid_0's binary_logloss: 0.587246\n",
      "[163]\tvalid_0's auc: 0.717904\tvalid_0's binary_logloss: 0.586945\n",
      "[164]\tvalid_0's auc: 0.718555\tvalid_0's binary_logloss: 0.58641\n",
      "[165]\tvalid_0's auc: 0.71849\tvalid_0's binary_logloss: 0.585966\n",
      "[166]\tvalid_0's auc: 0.71862\tvalid_0's binary_logloss: 0.585671\n",
      "[167]\tvalid_0's auc: 0.718815\tvalid_0's binary_logloss: 0.585199\n",
      "[168]\tvalid_0's auc: 0.71875\tvalid_0's binary_logloss: 0.584842\n",
      "[169]\tvalid_0's auc: 0.71888\tvalid_0's binary_logloss: 0.584317\n",
      "[170]\tvalid_0's auc: 0.71888\tvalid_0's binary_logloss: 0.583853\n",
      "[171]\tvalid_0's auc: 0.718685\tvalid_0's binary_logloss: 0.583581\n",
      "[172]\tvalid_0's auc: 0.719076\tvalid_0's binary_logloss: 0.583253\n",
      "[173]\tvalid_0's auc: 0.719466\tvalid_0's binary_logloss: 0.582986\n",
      "[174]\tvalid_0's auc: 0.719141\tvalid_0's binary_logloss: 0.582524\n",
      "[175]\tvalid_0's auc: 0.719336\tvalid_0's binary_logloss: 0.5821\n",
      "[176]\tvalid_0's auc: 0.719336\tvalid_0's binary_logloss: 0.581821\n",
      "[177]\tvalid_0's auc: 0.719824\tvalid_0's binary_logloss: 0.581258\n",
      "[178]\tvalid_0's auc: 0.719889\tvalid_0's binary_logloss: 0.580752\n",
      "[179]\tvalid_0's auc: 0.720085\tvalid_0's binary_logloss: 0.580493\n",
      "[180]\tvalid_0's auc: 0.720475\tvalid_0's binary_logloss: 0.5802\n",
      "[181]\tvalid_0's auc: 0.720671\tvalid_0's binary_logloss: 0.579646\n",
      "[182]\tvalid_0's auc: 0.72054\tvalid_0's binary_logloss: 0.57924\n",
      "[183]\tvalid_0's auc: 0.720605\tvalid_0's binary_logloss: 0.578692\n",
      "[184]\tvalid_0's auc: 0.720605\tvalid_0's binary_logloss: 0.578414\n",
      "[185]\tvalid_0's auc: 0.720736\tvalid_0's binary_logloss: 0.57792\n",
      "[186]\tvalid_0's auc: 0.721452\tvalid_0's binary_logloss: 0.57738\n",
      "[187]\tvalid_0's auc: 0.722103\tvalid_0's binary_logloss: 0.576892\n",
      "[188]\tvalid_0's auc: 0.721777\tvalid_0's binary_logloss: 0.576645\n",
      "[189]\tvalid_0's auc: 0.721908\tvalid_0's binary_logloss: 0.576112\n",
      "[190]\tvalid_0's auc: 0.721908\tvalid_0's binary_logloss: 0.575836\n",
      "[191]\tvalid_0's auc: 0.722884\tvalid_0's binary_logloss: 0.575386\n",
      "[192]\tvalid_0's auc: 0.72321\tvalid_0's binary_logloss: 0.574861\n",
      "[193]\tvalid_0's auc: 0.722884\tvalid_0's binary_logloss: 0.57462\n",
      "[194]\tvalid_0's auc: 0.722689\tvalid_0's binary_logloss: 0.5743\n",
      "[195]\tvalid_0's auc: 0.723275\tvalid_0's binary_logloss: 0.573781\n",
      "[196]\tvalid_0's auc: 0.723665\tvalid_0's binary_logloss: 0.57334\n",
      "[197]\tvalid_0's auc: 0.724642\tvalid_0's binary_logloss: 0.572827\n",
      "[198]\tvalid_0's auc: 0.724512\tvalid_0's binary_logloss: 0.572592\n",
      "[199]\tvalid_0's auc: 0.724902\tvalid_0's binary_logloss: 0.572174\n",
      "[200]\tvalid_0's auc: 0.725553\tvalid_0's binary_logloss: 0.571668\n"
     ]
    },
    {
     "data": {
      "text/plain": [
       "LGBMClassifier(class_weight='balanced', learning_rate=0.005, max_depth=5,\n",
       "               n_estimators=200, objective='binary', random_state=42,\n",
       "               reg_alpha=10, reg_lambda=1)"
      ]
     },
     "execution_count": 184,
     "metadata": {},
     "output_type": "execute_result"
    }
   ],
   "source": [
    "lgbm = LGBMClassifier(boosting_type= 'gbdt',objective = 'binary',\n",
    "                     max_depth = 5,learning_rate = 0.005,\n",
    "                     n_estimators = 200,class_weight ='balanced',\n",
    "                     reg_alpha = 10,reg_lambda = 1,\n",
    "                     random_state=42,n_jobs=-1)\n",
    "lgbm.fit(X0,Y0,categorical_feature = cats,eval_set = (X1,Y1),eval_metric = 'auc')"
   ]
  },
  {
   "cell_type": "code",
   "execution_count": 185,
   "metadata": {},
   "outputs": [],
   "source": [
    "#for classification you should predict probabilities\n",
    "Y0_pred=lgbm.predict_proba(X0)[:,1]\n",
    "Y1_pred=lgbm.predict_proba(X1)[:,1]"
   ]
  },
  {
   "cell_type": "code",
   "execution_count": 186,
   "metadata": {},
   "outputs": [
    {
     "name": "stdout",
     "output_type": "stream",
     "text": [
      "ROC_AUC Train: 0.8953997809419496\n",
      "ROC_AUC Test : 0.7255533854166666\n"
     ]
    }
   ],
   "source": [
    "print(\"ROC_AUC Train:\", roc_auc_score(Y0, Y0_pred))\n",
    "print(\"ROC_AUC Test :\", roc_auc_score(Y1, Y1_pred))"
   ]
  },
  {
   "cell_type": "code",
   "execution_count": 187,
   "metadata": {},
   "outputs": [
    {
     "data": {
      "text/plain": [
       "<matplotlib.axes._subplots.AxesSubplot at 0x11a914400>"
      ]
     },
     "execution_count": 187,
     "metadata": {},
     "output_type": "execute_result"
    },
    {
     "data": {
      "image/png": "[encoded data removed]",
      "text/plain": [
       "<Figure size 432x288 with 1 Axes>"
      ]
     },
     "metadata": {
      "needs_background": "light"
     },
     "output_type": "display_data"
    }
   ],
   "source": [
    "lightgbm.plot_metric(lgbm, metric='auc')"
   ]
  },
  {
   "cell_type": "code",
   "execution_count": 188,
   "metadata": {},
   "outputs": [],
   "source": [
    "#Gridsearch can take some time"
   ]
  },
  {
   "cell_type": "code",
   "execution_count": 189,
   "metadata": {},
   "outputs": [
    {
     "name": "stdout",
     "output_type": "stream",
     "text": [
      "{'learning_rate': 0.01, 'max_depth': 3, 'n_estimators': 260, 'reg_alpha': 0.5, 'reg_lambda': 0.5}\n"
     ]
    }
   ],
   "source": [
    "gridsearch_lgbm = GridSearchCV(LGBMClassifier(boosting_type = 'gbdt',objective='binary',\n",
    "                               random_state=42,n_jobs=-1,class_weight = 'balanced'),\n",
    "                          param_grid={'max_depth':range(3,6),'n_estimators': range(10,300,50), \n",
    "                                      'learning_rate': np.linspace(0.001,0.01, 5),\n",
    "                                     'reg_alpha':np.linspace(0.5,2, 3),'reg_lambda':np.linspace(0.5,2, 3)},\n",
    "                             \n",
    "                          cv=5,scoring=\"roc_auc\",n_jobs=-1).fit(X,Y,verbose=1)\n",
    "best_lgbm = gridsearch_lgbm.best_params_\n",
    "print(best_lgbm)"
   ]
  },
  {
   "cell_type": "code",
   "execution_count": 197,
   "metadata": {},
   "outputs": [
    {
     "name": "stderr",
     "output_type": "stream",
     "text": [
      "/Users/zaranavasardyan/opt/anaconda3/lib/python3.8/site-packages/lightgbm/basic.py:1551: UserWarning: Using categorical_feature in Dataset.\n",
      "  warnings.warn('Using categorical_feature in Dataset.')\n"
     ]
    },
    {
     "data": {
      "text/plain": [
       "LGBMClassifier(class_weight='balanced', learning_rate=0.01, max_depth=3,\n",
       "               n_estimators=3, objective='binary', random_state=42,\n",
       "               reg_alpha=0.5, reg_lambda=0.5)"
      ]
     },
     "execution_count": 197,
     "metadata": {},
     "output_type": "execute_result"
    }
   ],
   "source": [
    "lgbm_gs = LGBMClassifier(boosting_type = 'gbdt',objective='binary',\n",
    "                      max_depth = best_lgbm['max_depth'],\n",
    "                         learning_rate = best_lgbm['learning_rate'],\n",
    "                     n_estimators = best_lgbm['max_depth'],\n",
    "                         class_weight = 'balanced',\n",
    "                     reg_alpha = best_lgbm['reg_alpha'],\n",
    "                         reg_lambda = best_lgbm['reg_lambda'],\n",
    "                         random_state=42,\n",
    "                     n_jobs = -1)\n",
    "lgbm_gs.fit(X0,Y0,categorical_feature = cats)"
   ]
  },
  {
   "cell_type": "code",
   "execution_count": 198,
   "metadata": {},
   "outputs": [],
   "source": [
    "#for classification you should predict probabilities\n",
    "Y0_pred_gs=lgbm_gs.predict_proba(X0)[:,1]\n",
    "Y1_pred_gs=lgbm_gs.predict_proba(X1)[:,1]"
   ]
  },
  {
   "cell_type": "code",
   "execution_count": 199,
   "metadata": {},
   "outputs": [
    {
     "name": "stdout",
     "output_type": "stream",
     "text": [
      "ROC_AUC Train: 0.7991330400968956\n",
      "ROC_AUC Test : 0.6604166666666667\n"
     ]
    }
   ],
   "source": [
    "print(\"ROC_AUC Train:\", roc_auc_score(Y0, Y0_pred_gs))\n",
    "print(\"ROC_AUC Test :\", roc_auc_score(Y1, Y1_pred_gs))"
   ]
  },
  {
   "cell_type": "markdown",
   "metadata": {},
   "source": [
    "#### lighgbm plotting"
   ]
  },
  {
   "cell_type": "code",
   "execution_count": 200,
   "metadata": {},
   "outputs": [
    {
     "data": {
      "text/plain": [
       "<matplotlib.axes._subplots.AxesSubplot at 0x11cec8700>"
      ]
     },
     "execution_count": 200,
     "metadata": {},
     "output_type": "execute_result"
    },
    {
     "data": {
      "image/png": "[encoded data removed]",
      "text/plain": [
       "<Figure size 432x288 with 1 Axes>"
      ]
     },
     "metadata": {
      "needs_background": "light"
     },
     "output_type": "display_data"
    }
   ],
   "source": [
    "lightgbm.plot_importance(lgbm,importance_type='gain',max_num_features = 20)"
   ]
  },
  {
   "cell_type": "code",
   "execution_count": 201,
   "metadata": {},
   "outputs": [
    {
     "data": {
      "text/plain": [
       "<matplotlib.axes._subplots.AxesSubplot at 0x119dbac70>"
      ]
     },
     "execution_count": 201,
     "metadata": {},
     "output_type": "execute_result"
    },
    {
     "data": {
      "image/png": "[encoded data removed]",
      "text/plain": [
       "<Figure size 432x288 with 1 Axes>"
      ]
     },
     "metadata": {
      "needs_background": "light"
     },
     "output_type": "display_data"
    }
   ],
   "source": [
    "lightgbm.plot_split_value_histogram(lgbm,'YearsAtCompany')"
   ]
  },
  {
   "cell_type": "code",
   "execution_count": 202,
   "metadata": {},
   "outputs": [
    {
     "data": {
      "text/plain": [
       "<matplotlib.axes._subplots.AxesSubplot at 0x11bf0bdf0>"
      ]
     },
     "execution_count": 202,
     "metadata": {},
     "output_type": "execute_result"
    },
    {
     "data": {
      "image/png": "[encoded data removed]",
      "text/plain": [
       "<Figure size 432x288 with 1 Axes>"
      ]
     },
     "metadata": {
      "needs_background": "light"
     },
     "output_type": "display_data"
    }
   ],
   "source": [
    "lightgbm.plot_split_value_histogram(lgbm,'Age')"
   ]
  },
  {
   "cell_type": "markdown",
   "metadata": {},
   "source": [
    "### Random Forest with lightgbm"
   ]
  },
  {
   "cell_type": "code",
   "execution_count": 204,
   "metadata": {},
   "outputs": [
    {
     "name": "stderr",
     "output_type": "stream",
     "text": [
      "/Users/zaranavasardyan/opt/anaconda3/lib/python3.8/site-packages/lightgbm/basic.py:1551: UserWarning: Using categorical_feature in Dataset.\n",
      "  warnings.warn('Using categorical_feature in Dataset.')\n",
      "/Users/zaranavasardyan/opt/anaconda3/lib/python3.8/site-packages/lightgbm/basic.py:1554: UserWarning: categorical_feature in Dataset is overridden.\n",
      "New categorical_feature is ['BusinessTravel', 'Department', 'EducationField', 'Gender', 'JobRole', 'MaritalStatus', 'OverTime']\n",
      "  warnings.warn('categorical_feature in Dataset is overridden.\\n'\n",
      "/Users/zaranavasardyan/opt/anaconda3/lib/python3.8/site-packages/lightgbm/basic.py:1286: UserWarning: Overriding the parameters from Reference Dataset.\n",
      "  warnings.warn('Overriding the parameters from Reference Dataset.')\n",
      "/Users/zaranavasardyan/opt/anaconda3/lib/python3.8/site-packages/lightgbm/basic.py:1098: UserWarning: categorical_column in param dict is overridden.\n",
      "  warnings.warn('{} in param dict is overridden.'.format(cat_alias))\n"
     ]
    },
    {
     "name": "stdout",
     "output_type": "stream",
     "text": [
      "[LightGBM] [Warning] bagging_freq is set=1, subsample_freq=0 will be ignored. Current value: bagging_freq=1\n",
      "[LightGBM] [Warning] bagging_fraction is set=0.5, subsample=1.0 will be ignored. Current value: bagging_fraction=0.5\n",
      "[LightGBM] [Warning] Accuracy may be bad since you didn't explicitly set num_leaves OR 2^max_depth > num_leaves. (num_leaves=31).\n",
      "[1]\tvalid_0's auc: 0.604948\tvalid_0's binary_logloss: 0.641786\n",
      "[2]\tvalid_0's auc: 0.661165\tvalid_0's binary_logloss: 0.624499\n",
      "[3]\tvalid_0's auc: 0.69668\tvalid_0's binary_logloss: 0.591968\n",
      "[4]\tvalid_0's auc: 0.69248\tvalid_0's binary_logloss: 0.582756\n",
      "[5]\tvalid_0's auc: 0.678027\tvalid_0's binary_logloss: 0.575467\n",
      "[6]\tvalid_0's auc: 0.70026\tvalid_0's binary_logloss: 0.573227\n",
      "[7]\tvalid_0's auc: 0.716081\tvalid_0's binary_logloss: 0.57174\n",
      "[8]\tvalid_0's auc: 0.716146\tvalid_0's binary_logloss: 0.567391\n",
      "[9]\tvalid_0's auc: 0.720736\tvalid_0's binary_logloss: 0.569105\n",
      "[10]\tvalid_0's auc: 0.706608\tvalid_0's binary_logloss: 0.560801\n",
      "[11]\tvalid_0's auc: 0.715592\tvalid_0's binary_logloss: 0.558072\n",
      "[12]\tvalid_0's auc: 0.717122\tvalid_0's binary_logloss: 0.561659\n",
      "[13]\tvalid_0's auc: 0.71735\tvalid_0's binary_logloss: 0.564391\n",
      "[14]\tvalid_0's auc: 0.7125\tvalid_0's binary_logloss: 0.565184\n",
      "[15]\tvalid_0's auc: 0.712435\tvalid_0's binary_logloss: 0.564819\n",
      "[16]\tvalid_0's auc: 0.715365\tvalid_0's binary_logloss: 0.564103\n",
      "[17]\tvalid_0's auc: 0.713607\tvalid_0's binary_logloss: 0.563245\n",
      "[18]\tvalid_0's auc: 0.716081\tvalid_0's binary_logloss: 0.563919\n",
      "[19]\tvalid_0's auc: 0.718392\tvalid_0's binary_logloss: 0.564217\n",
      "[20]\tvalid_0's auc: 0.719857\tvalid_0's binary_logloss: 0.563498\n",
      "[21]\tvalid_0's auc: 0.718522\tvalid_0's binary_logloss: 0.563839\n",
      "[22]\tvalid_0's auc: 0.716829\tvalid_0's binary_logloss: 0.563415\n",
      "[23]\tvalid_0's auc: 0.717806\tvalid_0's binary_logloss: 0.562396\n",
      "[24]\tvalid_0's auc: 0.71403\tvalid_0's binary_logloss: 0.560348\n",
      "[25]\tvalid_0's auc: 0.713509\tvalid_0's binary_logloss: 0.559887\n",
      "[26]\tvalid_0's auc: 0.713835\tvalid_0's binary_logloss: 0.557794\n",
      "[27]\tvalid_0's auc: 0.717187\tvalid_0's binary_logloss: 0.557996\n",
      "[28]\tvalid_0's auc: 0.715885\tvalid_0's binary_logloss: 0.557273\n",
      "[29]\tvalid_0's auc: 0.713607\tvalid_0's binary_logloss: 0.555787\n",
      "[30]\tvalid_0's auc: 0.711719\tvalid_0's binary_logloss: 0.555184\n",
      "[31]\tvalid_0's auc: 0.711458\tvalid_0's binary_logloss: 0.555238\n",
      "[32]\tvalid_0's auc: 0.709115\tvalid_0's binary_logloss: 0.55484\n",
      "[33]\tvalid_0's auc: 0.710872\tvalid_0's binary_logloss: 0.553693\n",
      "[34]\tvalid_0's auc: 0.710482\tvalid_0's binary_logloss: 0.553631\n",
      "[35]\tvalid_0's auc: 0.708464\tvalid_0's binary_logloss: 0.553731\n",
      "[36]\tvalid_0's auc: 0.710807\tvalid_0's binary_logloss: 0.555087\n",
      "[37]\tvalid_0's auc: 0.709375\tvalid_0's binary_logloss: 0.554996\n",
      "[38]\tvalid_0's auc: 0.709375\tvalid_0's binary_logloss: 0.554146\n",
      "[39]\tvalid_0's auc: 0.711263\tvalid_0's binary_logloss: 0.554745\n",
      "[40]\tvalid_0's auc: 0.711654\tvalid_0's binary_logloss: 0.554656\n",
      "[41]\tvalid_0's auc: 0.709701\tvalid_0's binary_logloss: 0.554025\n",
      "[42]\tvalid_0's auc: 0.709961\tvalid_0's binary_logloss: 0.553206\n",
      "[43]\tvalid_0's auc: 0.70957\tvalid_0's binary_logloss: 0.55322\n",
      "[44]\tvalid_0's auc: 0.709375\tvalid_0's binary_logloss: 0.554108\n",
      "[45]\tvalid_0's auc: 0.70957\tvalid_0's binary_logloss: 0.554141\n",
      "[46]\tvalid_0's auc: 0.707552\tvalid_0's binary_logloss: 0.553635\n",
      "[47]\tvalid_0's auc: 0.706966\tvalid_0's binary_logloss: 0.552835\n",
      "[48]\tvalid_0's auc: 0.70638\tvalid_0's binary_logloss: 0.553976\n",
      "[49]\tvalid_0's auc: 0.706771\tvalid_0's binary_logloss: 0.55388\n",
      "[50]\tvalid_0's auc: 0.706706\tvalid_0's binary_logloss: 0.552968\n",
      "[51]\tvalid_0's auc: 0.705078\tvalid_0's binary_logloss: 0.552178\n",
      "[52]\tvalid_0's auc: 0.705143\tvalid_0's binary_logloss: 0.551962\n",
      "[53]\tvalid_0's auc: 0.704492\tvalid_0's binary_logloss: 0.553038\n",
      "[54]\tvalid_0's auc: 0.704883\tvalid_0's binary_logloss: 0.552612\n",
      "[55]\tvalid_0's auc: 0.704688\tvalid_0's binary_logloss: 0.552901\n",
      "[56]\tvalid_0's auc: 0.705599\tvalid_0's binary_logloss: 0.553455\n",
      "[57]\tvalid_0's auc: 0.707227\tvalid_0's binary_logloss: 0.552421\n",
      "[58]\tvalid_0's auc: 0.706836\tvalid_0's binary_logloss: 0.553042\n",
      "[59]\tvalid_0's auc: 0.706576\tvalid_0's binary_logloss: 0.553935\n",
      "[60]\tvalid_0's auc: 0.706966\tvalid_0's binary_logloss: 0.554088\n",
      "[61]\tvalid_0's auc: 0.705664\tvalid_0's binary_logloss: 0.554011\n",
      "[62]\tvalid_0's auc: 0.705534\tvalid_0's binary_logloss: 0.554107\n",
      "[63]\tvalid_0's auc: 0.704362\tvalid_0's binary_logloss: 0.554467\n",
      "[64]\tvalid_0's auc: 0.703581\tvalid_0's binary_logloss: 0.554501\n",
      "[65]\tvalid_0's auc: 0.706055\tvalid_0's binary_logloss: 0.55394\n",
      "[66]\tvalid_0's auc: 0.707422\tvalid_0's binary_logloss: 0.554229\n",
      "[67]\tvalid_0's auc: 0.707031\tvalid_0's binary_logloss: 0.55443\n",
      "[68]\tvalid_0's auc: 0.707422\tvalid_0's binary_logloss: 0.554336\n",
      "[69]\tvalid_0's auc: 0.708138\tvalid_0's binary_logloss: 0.554113\n",
      "[70]\tvalid_0's auc: 0.707161\tvalid_0's binary_logloss: 0.554473\n",
      "[71]\tvalid_0's auc: 0.705924\tvalid_0's binary_logloss: 0.554994\n",
      "[72]\tvalid_0's auc: 0.706055\tvalid_0's binary_logloss: 0.554878\n",
      "[73]\tvalid_0's auc: 0.707357\tvalid_0's binary_logloss: 0.554491\n",
      "[74]\tvalid_0's auc: 0.707161\tvalid_0's binary_logloss: 0.55515\n",
      "[75]\tvalid_0's auc: 0.708398\tvalid_0's binary_logloss: 0.55481\n",
      "[76]\tvalid_0's auc: 0.708854\tvalid_0's binary_logloss: 0.554912\n",
      "[77]\tvalid_0's auc: 0.709049\tvalid_0's binary_logloss: 0.555046\n",
      "[78]\tvalid_0's auc: 0.707878\tvalid_0's binary_logloss: 0.555324\n",
      "[79]\tvalid_0's auc: 0.706901\tvalid_0's binary_logloss: 0.555303\n",
      "[80]\tvalid_0's auc: 0.706771\tvalid_0's binary_logloss: 0.555217\n",
      "[81]\tvalid_0's auc: 0.707552\tvalid_0's binary_logloss: 0.555292\n",
      "[82]\tvalid_0's auc: 0.708919\tvalid_0's binary_logloss: 0.555595\n",
      "[83]\tvalid_0's auc: 0.710286\tvalid_0's binary_logloss: 0.555136\n",
      "[84]\tvalid_0's auc: 0.710547\tvalid_0's binary_logloss: 0.554917\n",
      "[85]\tvalid_0's auc: 0.710286\tvalid_0's binary_logloss: 0.554383\n",
      "[86]\tvalid_0's auc: 0.711458\tvalid_0's binary_logloss: 0.555132\n",
      "[87]\tvalid_0's auc: 0.711328\tvalid_0's binary_logloss: 0.555069\n",
      "[88]\tvalid_0's auc: 0.711133\tvalid_0's binary_logloss: 0.555292\n",
      "[89]\tvalid_0's auc: 0.711198\tvalid_0's binary_logloss: 0.554992\n",
      "[90]\tvalid_0's auc: 0.711979\tvalid_0's binary_logloss: 0.554367\n",
      "[91]\tvalid_0's auc: 0.712956\tvalid_0's binary_logloss: 0.554257\n",
      "[92]\tvalid_0's auc: 0.714063\tvalid_0's binary_logloss: 0.553907\n",
      "[93]\tvalid_0's auc: 0.714063\tvalid_0's binary_logloss: 0.554192\n",
      "[94]\tvalid_0's auc: 0.714779\tvalid_0's binary_logloss: 0.553855\n",
      "[95]\tvalid_0's auc: 0.714323\tvalid_0's binary_logloss: 0.553794\n",
      "[96]\tvalid_0's auc: 0.714128\tvalid_0's binary_logloss: 0.553852\n",
      "[97]\tvalid_0's auc: 0.713802\tvalid_0's binary_logloss: 0.553421\n",
      "[98]\tvalid_0's auc: 0.713216\tvalid_0's binary_logloss: 0.553446\n",
      "[99]\tvalid_0's auc: 0.71237\tvalid_0's binary_logloss: 0.554138\n",
      "[100]\tvalid_0's auc: 0.713086\tvalid_0's binary_logloss: 0.554343\n",
      "[101]\tvalid_0's auc: 0.712956\tvalid_0's binary_logloss: 0.55424\n",
      "[102]\tvalid_0's auc: 0.713542\tvalid_0's binary_logloss: 0.554097\n",
      "[103]\tvalid_0's auc: 0.714388\tvalid_0's binary_logloss: 0.55356\n",
      "[104]\tvalid_0's auc: 0.714453\tvalid_0's binary_logloss: 0.553499\n",
      "[105]\tvalid_0's auc: 0.713802\tvalid_0's binary_logloss: 0.553318\n",
      "[106]\tvalid_0's auc: 0.713997\tvalid_0's binary_logloss: 0.553258\n",
      "[107]\tvalid_0's auc: 0.715039\tvalid_0's binary_logloss: 0.553046\n",
      "[108]\tvalid_0's auc: 0.714323\tvalid_0's binary_logloss: 0.553031\n",
      "[109]\tvalid_0's auc: 0.714518\tvalid_0's binary_logloss: 0.553723\n",
      "[110]\tvalid_0's auc: 0.714583\tvalid_0's binary_logloss: 0.553384\n",
      "[111]\tvalid_0's auc: 0.714779\tvalid_0's binary_logloss: 0.553252\n",
      "[112]\tvalid_0's auc: 0.715104\tvalid_0's binary_logloss: 0.55304\n",
      "[113]\tvalid_0's auc: 0.716276\tvalid_0's binary_logloss: 0.553109\n",
      "[114]\tvalid_0's auc: 0.716341\tvalid_0's binary_logloss: 0.55307\n",
      "[115]\tvalid_0's auc: 0.716211\tvalid_0's binary_logloss: 0.55325\n",
      "[116]\tvalid_0's auc: 0.716602\tvalid_0's binary_logloss: 0.553252\n",
      "[117]\tvalid_0's auc: 0.716146\tvalid_0's binary_logloss: 0.552713\n",
      "[118]\tvalid_0's auc: 0.716602\tvalid_0's binary_logloss: 0.552488\n",
      "[119]\tvalid_0's auc: 0.716211\tvalid_0's binary_logloss: 0.552685\n",
      "[120]\tvalid_0's auc: 0.716211\tvalid_0's binary_logloss: 0.552579\n",
      "[121]\tvalid_0's auc: 0.716341\tvalid_0's binary_logloss: 0.552729\n",
      "[122]\tvalid_0's auc: 0.716602\tvalid_0's binary_logloss: 0.552294\n",
      "[123]\tvalid_0's auc: 0.717057\tvalid_0's binary_logloss: 0.552319\n"
     ]
    },
    {
     "name": "stdout",
     "output_type": "stream",
     "text": [
      "[124]\tvalid_0's auc: 0.716341\tvalid_0's binary_logloss: 0.552477\n",
      "[125]\tvalid_0's auc: 0.716602\tvalid_0's binary_logloss: 0.552958\n",
      "[126]\tvalid_0's auc: 0.716927\tvalid_0's binary_logloss: 0.553138\n",
      "[127]\tvalid_0's auc: 0.716081\tvalid_0's binary_logloss: 0.553033\n",
      "[128]\tvalid_0's auc: 0.71582\tvalid_0's binary_logloss: 0.553326\n",
      "[129]\tvalid_0's auc: 0.715365\tvalid_0's binary_logloss: 0.5533\n",
      "[130]\tvalid_0's auc: 0.71543\tvalid_0's binary_logloss: 0.553233\n",
      "[131]\tvalid_0's auc: 0.71556\tvalid_0's binary_logloss: 0.553027\n",
      "[132]\tvalid_0's auc: 0.715365\tvalid_0's binary_logloss: 0.552896\n",
      "[133]\tvalid_0's auc: 0.716211\tvalid_0's binary_logloss: 0.55261\n",
      "[134]\tvalid_0's auc: 0.716081\tvalid_0's binary_logloss: 0.552536\n",
      "[135]\tvalid_0's auc: 0.716146\tvalid_0's binary_logloss: 0.552446\n",
      "[136]\tvalid_0's auc: 0.716276\tvalid_0's binary_logloss: 0.55269\n",
      "[137]\tvalid_0's auc: 0.716536\tvalid_0's binary_logloss: 0.552774\n",
      "[138]\tvalid_0's auc: 0.716732\tvalid_0's binary_logloss: 0.55296\n",
      "[139]\tvalid_0's auc: 0.716862\tvalid_0's binary_logloss: 0.552654\n",
      "[140]\tvalid_0's auc: 0.716471\tvalid_0's binary_logloss: 0.552398\n",
      "[141]\tvalid_0's auc: 0.716602\tvalid_0's binary_logloss: 0.551917\n",
      "[142]\tvalid_0's auc: 0.717187\tvalid_0's binary_logloss: 0.552008\n",
      "[143]\tvalid_0's auc: 0.717122\tvalid_0's binary_logloss: 0.551973\n",
      "[144]\tvalid_0's auc: 0.717839\tvalid_0's binary_logloss: 0.551551\n",
      "[145]\tvalid_0's auc: 0.717839\tvalid_0's binary_logloss: 0.551773\n",
      "[146]\tvalid_0's auc: 0.717839\tvalid_0's binary_logloss: 0.551779\n",
      "[147]\tvalid_0's auc: 0.717773\tvalid_0's binary_logloss: 0.551825\n",
      "[148]\tvalid_0's auc: 0.718229\tvalid_0's binary_logloss: 0.551566\n",
      "[149]\tvalid_0's auc: 0.717643\tvalid_0's binary_logloss: 0.551601\n",
      "[150]\tvalid_0's auc: 0.717904\tvalid_0's binary_logloss: 0.551434\n",
      "[151]\tvalid_0's auc: 0.717904\tvalid_0's binary_logloss: 0.551133\n",
      "[152]\tvalid_0's auc: 0.717643\tvalid_0's binary_logloss: 0.551451\n",
      "[153]\tvalid_0's auc: 0.718034\tvalid_0's binary_logloss: 0.551399\n",
      "[154]\tvalid_0's auc: 0.71849\tvalid_0's binary_logloss: 0.551348\n",
      "[155]\tvalid_0's auc: 0.717904\tvalid_0's binary_logloss: 0.551486\n",
      "[156]\tvalid_0's auc: 0.717708\tvalid_0's binary_logloss: 0.551285\n",
      "[157]\tvalid_0's auc: 0.717904\tvalid_0's binary_logloss: 0.551452\n",
      "[158]\tvalid_0's auc: 0.717969\tvalid_0's binary_logloss: 0.551511\n",
      "[159]\tvalid_0's auc: 0.717904\tvalid_0's binary_logloss: 0.551807\n",
      "[160]\tvalid_0's auc: 0.717448\tvalid_0's binary_logloss: 0.551958\n",
      "[161]\tvalid_0's auc: 0.717253\tvalid_0's binary_logloss: 0.552108\n",
      "[162]\tvalid_0's auc: 0.717318\tvalid_0's binary_logloss: 0.552328\n",
      "[163]\tvalid_0's auc: 0.71849\tvalid_0's binary_logloss: 0.552239\n",
      "[164]\tvalid_0's auc: 0.719336\tvalid_0's binary_logloss: 0.55226\n",
      "[165]\tvalid_0's auc: 0.719531\tvalid_0's binary_logloss: 0.552401\n",
      "[166]\tvalid_0's auc: 0.719727\tvalid_0's binary_logloss: 0.552407\n",
      "[167]\tvalid_0's auc: 0.719792\tvalid_0's binary_logloss: 0.552649\n",
      "[168]\tvalid_0's auc: 0.719531\tvalid_0's binary_logloss: 0.552706\n",
      "[169]\tvalid_0's auc: 0.719792\tvalid_0's binary_logloss: 0.552596\n",
      "[170]\tvalid_0's auc: 0.720703\tvalid_0's binary_logloss: 0.552616\n",
      "[171]\tvalid_0's auc: 0.720703\tvalid_0's binary_logloss: 0.55274\n",
      "[172]\tvalid_0's auc: 0.720508\tvalid_0's binary_logloss: 0.552377\n",
      "[173]\tvalid_0's auc: 0.720508\tvalid_0's binary_logloss: 0.552356\n",
      "[174]\tvalid_0's auc: 0.720638\tvalid_0's binary_logloss: 0.552353\n",
      "[175]\tvalid_0's auc: 0.721094\tvalid_0's binary_logloss: 0.552473\n",
      "[176]\tvalid_0's auc: 0.721289\tvalid_0's binary_logloss: 0.552608\n",
      "[177]\tvalid_0's auc: 0.721615\tvalid_0's binary_logloss: 0.552419\n",
      "[178]\tvalid_0's auc: 0.721419\tvalid_0's binary_logloss: 0.552549\n",
      "[179]\tvalid_0's auc: 0.721615\tvalid_0's binary_logloss: 0.552463\n",
      "[180]\tvalid_0's auc: 0.721745\tvalid_0's binary_logloss: 0.552446\n",
      "[181]\tvalid_0's auc: 0.72168\tvalid_0's binary_logloss: 0.55256\n",
      "[182]\tvalid_0's auc: 0.722201\tvalid_0's binary_logloss: 0.552415\n",
      "[183]\tvalid_0's auc: 0.722135\tvalid_0's binary_logloss: 0.552321\n",
      "[184]\tvalid_0's auc: 0.722396\tvalid_0's binary_logloss: 0.552422\n",
      "[185]\tvalid_0's auc: 0.722331\tvalid_0's binary_logloss: 0.552324\n",
      "[186]\tvalid_0's auc: 0.722331\tvalid_0's binary_logloss: 0.55211\n",
      "[187]\tvalid_0's auc: 0.722331\tvalid_0's binary_logloss: 0.552099\n",
      "[188]\tvalid_0's auc: 0.722266\tvalid_0's binary_logloss: 0.552193\n",
      "[189]\tvalid_0's auc: 0.72207\tvalid_0's binary_logloss: 0.552201\n",
      "[190]\tvalid_0's auc: 0.721875\tvalid_0's binary_logloss: 0.552363\n",
      "[191]\tvalid_0's auc: 0.722201\tvalid_0's binary_logloss: 0.55236\n",
      "[192]\tvalid_0's auc: 0.72207\tvalid_0's binary_logloss: 0.552464\n",
      "[193]\tvalid_0's auc: 0.722852\tvalid_0's binary_logloss: 0.55229\n",
      "[194]\tvalid_0's auc: 0.72194\tvalid_0's binary_logloss: 0.552247\n",
      "[195]\tvalid_0's auc: 0.72207\tvalid_0's binary_logloss: 0.552277\n",
      "[196]\tvalid_0's auc: 0.722266\tvalid_0's binary_logloss: 0.552294\n",
      "[197]\tvalid_0's auc: 0.722135\tvalid_0's binary_logloss: 0.552267\n",
      "[198]\tvalid_0's auc: 0.722135\tvalid_0's binary_logloss: 0.552303\n",
      "[199]\tvalid_0's auc: 0.722005\tvalid_0's binary_logloss: 0.552095\n",
      "[200]\tvalid_0's auc: 0.72168\tvalid_0's binary_logloss: 0.552058\n"
     ]
    },
    {
     "data": {
      "text/plain": [
       "LGBMClassifier(bagging_fraction=0.5, bagging_freq=1, boosting_type='rf',\n",
       "               class_weight='balanced', learning_rate=0.005, max_depth=5,\n",
       "               n_estimators=200, objective='binary', random_state=42,\n",
       "               reg_alpha=10, reg_lambda=1)"
      ]
     },
     "execution_count": 204,
     "metadata": {},
     "output_type": "execute_result"
    }
   ],
   "source": [
    "lgbm_rf = LGBMClassifier(boosting_type= 'rf',objective = 'binary',\n",
    "                     max_depth = 5,learning_rate = 0.005,\n",
    "                     n_estimators = 200,class_weight ='balanced',\n",
    "                     reg_alpha = 10,reg_lambda = 1,bagging_freq=1,bagging_fraction=0.5,\n",
    "                     random_state=42,n_jobs=-1)\n",
    "lgbm_rf.fit(X0,Y0,categorical_feature = cats,eval_set = (X1,Y1),eval_metric = 'auc')"
   ]
  },
  {
   "cell_type": "code",
   "execution_count": 205,
   "metadata": {},
   "outputs": [],
   "source": [
    "#for classification you should predict probabilities\n",
    "Y0_pred_rf=lgbm_rf.predict_proba(X0)[:,1]\n",
    "Y1_pred_rf=lgbm_rf.predict_proba(X1)[:,1]"
   ]
  },
  {
   "cell_type": "code",
   "execution_count": 206,
   "metadata": {},
   "outputs": [
    {
     "name": "stdout",
     "output_type": "stream",
     "text": [
      "ROC_AUC Train: 0.8544365050389147\n",
      "ROC_AUC Test : 0.7216796875000001\n"
     ]
    }
   ],
   "source": [
    "print(\"ROC_AUC Train:\", roc_auc_score(Y0, Y0_pred_rf))\n",
    "print(\"ROC_AUC Test :\", roc_auc_score(Y1, Y1_pred_rf))"
   ]
  },
  {
   "cell_type": "code",
   "execution_count": 207,
   "metadata": {},
   "outputs": [],
   "source": [
    "# Saving the model"
   ]
  },
  {
   "cell_type": "code",
   "execution_count": 208,
   "metadata": {},
   "outputs": [
    {
     "data": {
      "text/plain": [
       "['model_lgbm_rf.dat']"
      ]
     },
     "execution_count": 208,
     "metadata": {},
     "output_type": "execute_result"
    }
   ],
   "source": [
    "joblib.dump(lgbm_rf,'model_lgbm_rf.dat')"
   ]
  },
  {
   "cell_type": "code",
   "execution_count": null,
   "metadata": {},
   "outputs": [],
   "source": [
    "#model = joblib.load('model_lgbm_rf.dat')\n",
    "#model.get_params()\n",
    "#model.feature_name_"
   ]
  }
 ],
 "metadata": {
  "kernelspec": {
   "display_name": "Python 3",
   "language": "python",
   "name": "python3"
  },
  "language_info": {
   "codemirror_mode": {
    "name": "ipython",
    "version": 3
   },
   "file_extension": ".py",
   "mimetype": "text/x-python",
   "name": "python",
   "nbconvert_exporter": "python",
   "pygments_lexer": "ipython3",
   "version": "3.8.3"
  }
 },
 "nbformat": 4,
 "nbformat_minor": 4
}
