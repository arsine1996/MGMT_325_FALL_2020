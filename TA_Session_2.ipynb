{
 "cells": [
  {
   "cell_type": "markdown",
   "metadata": {},
   "source": [
    "# Linear Regression -  Introduction"
   ]
  },
  {
   "cell_type": "markdown",
   "metadata": {},
   "source": [
    "This notebook provides an example of building and validating a linear regression model on the car dataset. Our target variable which we will try to predict will be the car price.\n",
    "Steps:\n",
    " - Describe and understand the data\n",
    " - Statistical testing\n",
    " - Some visualisation \n",
    " - Check for multicolineary and remove some features if needed\n",
    " - Build an OLS model using statsmodel package\n",
    " - Get the summary of the model and interpret\n",
    " - Model diagnostics"
   ]
  },
  {
   "cell_type": "code",
   "execution_count": 38,
   "metadata": {},
   "outputs": [],
   "source": [
    "import pandas as pd\n",
    "import numpy as np\n",
    "import matplotlib.pyplot as plt\n",
    "import seaborn as sns\n",
    "from statsmodels.formula.api import ols\n",
    "from statsmodels.api import qqplot \n",
    "from scipy.stats import shapiro,ttest_ind\n",
    "from statsmodels.stats.diagnostic import het_breuschpagan,linear_rainbow  "
   ]
  },
  {
   "cell_type": "markdown",
   "metadata": {},
   "source": [
    "# Data"
   ]
  },
  {
   "cell_type": "code",
   "execution_count": 39,
   "metadata": {},
   "outputs": [],
   "source": [
    "data = pd.read_csv('Car_dataset.csv')"
   ]
  },
  {
   "cell_type": "code",
   "execution_count": 40,
   "metadata": {},
   "outputs": [
    {
     "data": {
      "text/plain": [
       "(193, 23)"
      ]
     },
     "execution_count": 40,
     "metadata": {},
     "output_type": "execute_result"
    }
   ],
   "source": [
    "# we have 193 rows(different cars), 23 different features including the target(price)\n",
    "data.shape"
   ]
  },
  {
   "cell_type": "code",
   "execution_count": 41,
   "metadata": {},
   "outputs": [
    {
     "data": {
      "text/html": [
       "<div>\n",
       "<style scoped>\n",
       "    .dataframe tbody tr th:only-of-type {\n",
       "        vertical-align: middle;\n",
       "    }\n",
       "\n",
       "    .dataframe tbody tr th {\n",
       "        vertical-align: top;\n",
       "    }\n",
       "\n",
       "    .dataframe thead th {\n",
       "        text-align: right;\n",
       "    }\n",
       "</style>\n",
       "<table border=\"1\" class=\"dataframe\">\n",
       "  <thead>\n",
       "    <tr style=\"text-align: right;\">\n",
       "      <th></th>\n",
       "      <th>make</th>\n",
       "      <th>fuel_type</th>\n",
       "      <th>num_of_doors</th>\n",
       "      <th>body_style</th>\n",
       "      <th>drive_wheels</th>\n",
       "      <th>engine_location</th>\n",
       "      <th>wheel_base</th>\n",
       "      <th>length</th>\n",
       "      <th>width</th>\n",
       "      <th>height</th>\n",
       "      <th>...</th>\n",
       "      <th>engine_size</th>\n",
       "      <th>fuel_system</th>\n",
       "      <th>bore</th>\n",
       "      <th>stroke</th>\n",
       "      <th>compression_ratio</th>\n",
       "      <th>horsepower</th>\n",
       "      <th>peak_rpm</th>\n",
       "      <th>city_mpg</th>\n",
       "      <th>highway_mpg</th>\n",
       "      <th>price</th>\n",
       "    </tr>\n",
       "  </thead>\n",
       "  <tbody>\n",
       "    <tr>\n",
       "      <th>0</th>\n",
       "      <td>alfa-romero</td>\n",
       "      <td>gas</td>\n",
       "      <td>two</td>\n",
       "      <td>convertible</td>\n",
       "      <td>rwd</td>\n",
       "      <td>front</td>\n",
       "      <td>88.6</td>\n",
       "      <td>168.8</td>\n",
       "      <td>64.1</td>\n",
       "      <td>48.8</td>\n",
       "      <td>...</td>\n",
       "      <td>130</td>\n",
       "      <td>mpfi</td>\n",
       "      <td>3.47</td>\n",
       "      <td>2.68</td>\n",
       "      <td>9.0</td>\n",
       "      <td>111</td>\n",
       "      <td>5000</td>\n",
       "      <td>21</td>\n",
       "      <td>27</td>\n",
       "      <td>13495</td>\n",
       "    </tr>\n",
       "    <tr>\n",
       "      <th>1</th>\n",
       "      <td>alfa-romero</td>\n",
       "      <td>gas</td>\n",
       "      <td>two</td>\n",
       "      <td>convertible</td>\n",
       "      <td>rwd</td>\n",
       "      <td>front</td>\n",
       "      <td>88.6</td>\n",
       "      <td>168.8</td>\n",
       "      <td>64.1</td>\n",
       "      <td>48.8</td>\n",
       "      <td>...</td>\n",
       "      <td>130</td>\n",
       "      <td>mpfi</td>\n",
       "      <td>3.47</td>\n",
       "      <td>2.68</td>\n",
       "      <td>9.0</td>\n",
       "      <td>111</td>\n",
       "      <td>5000</td>\n",
       "      <td>21</td>\n",
       "      <td>27</td>\n",
       "      <td>16500</td>\n",
       "    </tr>\n",
       "    <tr>\n",
       "      <th>2</th>\n",
       "      <td>alfa-romero</td>\n",
       "      <td>gas</td>\n",
       "      <td>two</td>\n",
       "      <td>hatchback</td>\n",
       "      <td>rwd</td>\n",
       "      <td>front</td>\n",
       "      <td>94.5</td>\n",
       "      <td>171.2</td>\n",
       "      <td>65.5</td>\n",
       "      <td>52.4</td>\n",
       "      <td>...</td>\n",
       "      <td>152</td>\n",
       "      <td>mpfi</td>\n",
       "      <td>2.68</td>\n",
       "      <td>3.47</td>\n",
       "      <td>9.0</td>\n",
       "      <td>154</td>\n",
       "      <td>5000</td>\n",
       "      <td>19</td>\n",
       "      <td>26</td>\n",
       "      <td>16500</td>\n",
       "    </tr>\n",
       "    <tr>\n",
       "      <th>3</th>\n",
       "      <td>audi</td>\n",
       "      <td>gas</td>\n",
       "      <td>four</td>\n",
       "      <td>sedan</td>\n",
       "      <td>fwd</td>\n",
       "      <td>front</td>\n",
       "      <td>99.8</td>\n",
       "      <td>176.6</td>\n",
       "      <td>66.2</td>\n",
       "      <td>54.3</td>\n",
       "      <td>...</td>\n",
       "      <td>109</td>\n",
       "      <td>mpfi</td>\n",
       "      <td>3.19</td>\n",
       "      <td>3.40</td>\n",
       "      <td>10.0</td>\n",
       "      <td>102</td>\n",
       "      <td>5500</td>\n",
       "      <td>24</td>\n",
       "      <td>30</td>\n",
       "      <td>13950</td>\n",
       "    </tr>\n",
       "    <tr>\n",
       "      <th>4</th>\n",
       "      <td>audi</td>\n",
       "      <td>gas</td>\n",
       "      <td>four</td>\n",
       "      <td>sedan</td>\n",
       "      <td>4wd</td>\n",
       "      <td>front</td>\n",
       "      <td>99.4</td>\n",
       "      <td>176.6</td>\n",
       "      <td>66.4</td>\n",
       "      <td>54.3</td>\n",
       "      <td>...</td>\n",
       "      <td>136</td>\n",
       "      <td>mpfi</td>\n",
       "      <td>3.19</td>\n",
       "      <td>3.40</td>\n",
       "      <td>8.0</td>\n",
       "      <td>115</td>\n",
       "      <td>5500</td>\n",
       "      <td>18</td>\n",
       "      <td>22</td>\n",
       "      <td>17450</td>\n",
       "    </tr>\n",
       "  </tbody>\n",
       "</table>\n",
       "<p>5 rows × 23 columns</p>\n",
       "</div>"
      ],
      "text/plain": [
       "          make fuel_type num_of_doors   body_style drive_wheels  \\\n",
       "0  alfa-romero       gas          two  convertible          rwd   \n",
       "1  alfa-romero       gas          two  convertible          rwd   \n",
       "2  alfa-romero       gas          two    hatchback          rwd   \n",
       "3         audi       gas         four        sedan          fwd   \n",
       "4         audi       gas         four        sedan          4wd   \n",
       "\n",
       "  engine_location  wheel_base  length  width  height  ...  engine_size  \\\n",
       "0           front        88.6   168.8   64.1    48.8  ...          130   \n",
       "1           front        88.6   168.8   64.1    48.8  ...          130   \n",
       "2           front        94.5   171.2   65.5    52.4  ...          152   \n",
       "3           front        99.8   176.6   66.2    54.3  ...          109   \n",
       "4           front        99.4   176.6   66.4    54.3  ...          136   \n",
       "\n",
       "  fuel_system  bore  stroke compression_ratio  horsepower  peak_rpm  city_mpg  \\\n",
       "0        mpfi  3.47    2.68               9.0         111      5000        21   \n",
       "1        mpfi  3.47    2.68               9.0         111      5000        21   \n",
       "2        mpfi  2.68    3.47               9.0         154      5000        19   \n",
       "3        mpfi  3.19    3.40              10.0         102      5500        24   \n",
       "4        mpfi  3.19    3.40               8.0         115      5500        18   \n",
       "\n",
       "   highway_mpg  price  \n",
       "0           27  13495  \n",
       "1           27  16500  \n",
       "2           26  16500  \n",
       "3           30  13950  \n",
       "4           22  17450  \n",
       "\n",
       "[5 rows x 23 columns]"
      ]
     },
     "execution_count": 41,
     "metadata": {},
     "output_type": "execute_result"
    }
   ],
   "source": [
    "# the first 5 rows of the data\n",
    "data.head()"
   ]
  },
  {
   "cell_type": "code",
   "execution_count": 42,
   "metadata": {},
   "outputs": [
    {
     "name": "stdout",
     "output_type": "stream",
     "text": [
      "<class 'pandas.core.frame.DataFrame'>\n",
      "RangeIndex: 193 entries, 0 to 192\n",
      "Data columns (total 23 columns):\n",
      " #   Column             Non-Null Count  Dtype  \n",
      "---  ------             --------------  -----  \n",
      " 0   make               193 non-null    object \n",
      " 1   fuel_type          193 non-null    object \n",
      " 2   num_of_doors       193 non-null    object \n",
      " 3   body_style         193 non-null    object \n",
      " 4   drive_wheels       193 non-null    object \n",
      " 5   engine_location    193 non-null    object \n",
      " 6   wheel_base         193 non-null    float64\n",
      " 7   length             193 non-null    float64\n",
      " 8   width              193 non-null    float64\n",
      " 9   height             193 non-null    float64\n",
      " 10  curb_weight        193 non-null    int64  \n",
      " 11  engine_type        193 non-null    object \n",
      " 12  num_of_cylinders   193 non-null    object \n",
      " 13  engine_size        193 non-null    int64  \n",
      " 14  fuel_system        193 non-null    object \n",
      " 15  bore               193 non-null    float64\n",
      " 16  stroke             193 non-null    float64\n",
      " 17  compression_ratio  193 non-null    float64\n",
      " 18  horsepower         193 non-null    int64  \n",
      " 19  peak_rpm           193 non-null    int64  \n",
      " 20  city_mpg           193 non-null    int64  \n",
      " 21  highway_mpg        193 non-null    int64  \n",
      " 22  price              193 non-null    int64  \n",
      "dtypes: float64(7), int64(7), object(9)\n",
      "memory usage: 34.8+ KB\n"
     ]
    }
   ],
   "source": [
    "data.info()"
   ]
  },
  {
   "cell_type": "code",
   "execution_count": 43,
   "metadata": {},
   "outputs": [
    {
     "data": {
      "text/plain": [
       "make                 0\n",
       "fuel_type            0\n",
       "num_of_doors         0\n",
       "body_style           0\n",
       "drive_wheels         0\n",
       "engine_location      0\n",
       "wheel_base           0\n",
       "length               0\n",
       "width                0\n",
       "height               0\n",
       "curb_weight          0\n",
       "engine_type          0\n",
       "num_of_cylinders     0\n",
       "engine_size          0\n",
       "fuel_system          0\n",
       "bore                 0\n",
       "stroke               0\n",
       "compression_ratio    0\n",
       "horsepower           0\n",
       "peak_rpm             0\n",
       "city_mpg             0\n",
       "highway_mpg          0\n",
       "price                0\n",
       "dtype: int64"
      ]
     },
     "execution_count": 43,
     "metadata": {},
     "output_type": "execute_result"
    }
   ],
   "source": [
    "# see whether there are any missing values \n",
    "data.isna().sum()"
   ]
  },
  {
   "cell_type": "code",
   "execution_count": 44,
   "metadata": {},
   "outputs": [
    {
     "data": {
      "text/html": [
       "<div>\n",
       "<style scoped>\n",
       "    .dataframe tbody tr th:only-of-type {\n",
       "        vertical-align: middle;\n",
       "    }\n",
       "\n",
       "    .dataframe tbody tr th {\n",
       "        vertical-align: top;\n",
       "    }\n",
       "\n",
       "    .dataframe thead th {\n",
       "        text-align: right;\n",
       "    }\n",
       "</style>\n",
       "<table border=\"1\" class=\"dataframe\">\n",
       "  <thead>\n",
       "    <tr style=\"text-align: right;\">\n",
       "      <th></th>\n",
       "      <th>wheel_base</th>\n",
       "      <th>length</th>\n",
       "      <th>width</th>\n",
       "      <th>height</th>\n",
       "      <th>curb_weight</th>\n",
       "      <th>engine_size</th>\n",
       "      <th>bore</th>\n",
       "      <th>stroke</th>\n",
       "      <th>compression_ratio</th>\n",
       "      <th>horsepower</th>\n",
       "      <th>peak_rpm</th>\n",
       "      <th>city_mpg</th>\n",
       "      <th>highway_mpg</th>\n",
       "      <th>price</th>\n",
       "    </tr>\n",
       "  </thead>\n",
       "  <tbody>\n",
       "    <tr>\n",
       "      <th>count</th>\n",
       "      <td>193.000000</td>\n",
       "      <td>193.000000</td>\n",
       "      <td>193.000000</td>\n",
       "      <td>193.000000</td>\n",
       "      <td>193.000000</td>\n",
       "      <td>193.000000</td>\n",
       "      <td>193.000000</td>\n",
       "      <td>193.000000</td>\n",
       "      <td>193.000000</td>\n",
       "      <td>193.000000</td>\n",
       "      <td>193.000000</td>\n",
       "      <td>193.000000</td>\n",
       "      <td>193.000000</td>\n",
       "      <td>193.000000</td>\n",
       "    </tr>\n",
       "    <tr>\n",
       "      <th>mean</th>\n",
       "      <td>98.923834</td>\n",
       "      <td>174.326425</td>\n",
       "      <td>65.893782</td>\n",
       "      <td>53.869948</td>\n",
       "      <td>2561.507772</td>\n",
       "      <td>128.124352</td>\n",
       "      <td>3.330622</td>\n",
       "      <td>3.248860</td>\n",
       "      <td>10.143627</td>\n",
       "      <td>103.481865</td>\n",
       "      <td>5099.740933</td>\n",
       "      <td>25.326425</td>\n",
       "      <td>30.787565</td>\n",
       "      <td>13285.025907</td>\n",
       "    </tr>\n",
       "    <tr>\n",
       "      <th>std</th>\n",
       "      <td>6.152409</td>\n",
       "      <td>12.478593</td>\n",
       "      <td>2.137795</td>\n",
       "      <td>2.394770</td>\n",
       "      <td>526.700026</td>\n",
       "      <td>41.590452</td>\n",
       "      <td>0.272385</td>\n",
       "      <td>0.315421</td>\n",
       "      <td>3.977491</td>\n",
       "      <td>37.960107</td>\n",
       "      <td>468.694369</td>\n",
       "      <td>6.387828</td>\n",
       "      <td>6.816910</td>\n",
       "      <td>8089.082886</td>\n",
       "    </tr>\n",
       "    <tr>\n",
       "      <th>min</th>\n",
       "      <td>86.600000</td>\n",
       "      <td>141.100000</td>\n",
       "      <td>60.300000</td>\n",
       "      <td>47.800000</td>\n",
       "      <td>1488.000000</td>\n",
       "      <td>61.000000</td>\n",
       "      <td>2.540000</td>\n",
       "      <td>2.070000</td>\n",
       "      <td>7.000000</td>\n",
       "      <td>48.000000</td>\n",
       "      <td>4150.000000</td>\n",
       "      <td>13.000000</td>\n",
       "      <td>16.000000</td>\n",
       "      <td>5118.000000</td>\n",
       "    </tr>\n",
       "    <tr>\n",
       "      <th>25%</th>\n",
       "      <td>94.500000</td>\n",
       "      <td>166.300000</td>\n",
       "      <td>64.100000</td>\n",
       "      <td>52.000000</td>\n",
       "      <td>2145.000000</td>\n",
       "      <td>98.000000</td>\n",
       "      <td>3.150000</td>\n",
       "      <td>3.110000</td>\n",
       "      <td>8.500000</td>\n",
       "      <td>70.000000</td>\n",
       "      <td>4800.000000</td>\n",
       "      <td>19.000000</td>\n",
       "      <td>25.000000</td>\n",
       "      <td>7738.000000</td>\n",
       "    </tr>\n",
       "    <tr>\n",
       "      <th>50%</th>\n",
       "      <td>97.000000</td>\n",
       "      <td>173.200000</td>\n",
       "      <td>65.400000</td>\n",
       "      <td>54.100000</td>\n",
       "      <td>2414.000000</td>\n",
       "      <td>120.000000</td>\n",
       "      <td>3.310000</td>\n",
       "      <td>3.290000</td>\n",
       "      <td>9.000000</td>\n",
       "      <td>95.000000</td>\n",
       "      <td>5100.000000</td>\n",
       "      <td>25.000000</td>\n",
       "      <td>30.000000</td>\n",
       "      <td>10245.000000</td>\n",
       "    </tr>\n",
       "    <tr>\n",
       "      <th>75%</th>\n",
       "      <td>102.400000</td>\n",
       "      <td>184.600000</td>\n",
       "      <td>66.900000</td>\n",
       "      <td>55.700000</td>\n",
       "      <td>2952.000000</td>\n",
       "      <td>146.000000</td>\n",
       "      <td>3.590000</td>\n",
       "      <td>3.410000</td>\n",
       "      <td>9.400000</td>\n",
       "      <td>116.000000</td>\n",
       "      <td>5500.000000</td>\n",
       "      <td>30.000000</td>\n",
       "      <td>34.000000</td>\n",
       "      <td>16515.000000</td>\n",
       "    </tr>\n",
       "    <tr>\n",
       "      <th>max</th>\n",
       "      <td>120.900000</td>\n",
       "      <td>208.100000</td>\n",
       "      <td>72.000000</td>\n",
       "      <td>59.800000</td>\n",
       "      <td>4066.000000</td>\n",
       "      <td>326.000000</td>\n",
       "      <td>3.940000</td>\n",
       "      <td>4.170000</td>\n",
       "      <td>23.000000</td>\n",
       "      <td>262.000000</td>\n",
       "      <td>6600.000000</td>\n",
       "      <td>49.000000</td>\n",
       "      <td>54.000000</td>\n",
       "      <td>45400.000000</td>\n",
       "    </tr>\n",
       "  </tbody>\n",
       "</table>\n",
       "</div>"
      ],
      "text/plain": [
       "       wheel_base      length       width      height  curb_weight  \\\n",
       "count  193.000000  193.000000  193.000000  193.000000   193.000000   \n",
       "mean    98.923834  174.326425   65.893782   53.869948  2561.507772   \n",
       "std      6.152409   12.478593    2.137795    2.394770   526.700026   \n",
       "min     86.600000  141.100000   60.300000   47.800000  1488.000000   \n",
       "25%     94.500000  166.300000   64.100000   52.000000  2145.000000   \n",
       "50%     97.000000  173.200000   65.400000   54.100000  2414.000000   \n",
       "75%    102.400000  184.600000   66.900000   55.700000  2952.000000   \n",
       "max    120.900000  208.100000   72.000000   59.800000  4066.000000   \n",
       "\n",
       "       engine_size        bore      stroke  compression_ratio  horsepower  \\\n",
       "count   193.000000  193.000000  193.000000         193.000000  193.000000   \n",
       "mean    128.124352    3.330622    3.248860          10.143627  103.481865   \n",
       "std      41.590452    0.272385    0.315421           3.977491   37.960107   \n",
       "min      61.000000    2.540000    2.070000           7.000000   48.000000   \n",
       "25%      98.000000    3.150000    3.110000           8.500000   70.000000   \n",
       "50%     120.000000    3.310000    3.290000           9.000000   95.000000   \n",
       "75%     146.000000    3.590000    3.410000           9.400000  116.000000   \n",
       "max     326.000000    3.940000    4.170000          23.000000  262.000000   \n",
       "\n",
       "          peak_rpm    city_mpg  highway_mpg         price  \n",
       "count   193.000000  193.000000   193.000000    193.000000  \n",
       "mean   5099.740933   25.326425    30.787565  13285.025907  \n",
       "std     468.694369    6.387828     6.816910   8089.082886  \n",
       "min    4150.000000   13.000000    16.000000   5118.000000  \n",
       "25%    4800.000000   19.000000    25.000000   7738.000000  \n",
       "50%    5100.000000   25.000000    30.000000  10245.000000  \n",
       "75%    5500.000000   30.000000    34.000000  16515.000000  \n",
       "max    6600.000000   49.000000    54.000000  45400.000000  "
      ]
     },
     "execution_count": 44,
     "metadata": {},
     "output_type": "execute_result"
    }
   ],
   "source": [
    "data.describe()"
   ]
  },
  {
   "cell_type": "code",
   "execution_count": 45,
   "metadata": {},
   "outputs": [
    {
     "data": {
      "text/plain": [
       "Index([], dtype='object')"
      ]
     },
     "execution_count": 45,
     "metadata": {},
     "output_type": "execute_result"
    }
   ],
   "source": [
    "#checking whether we have a columns with no variance which is not really useful\n",
    "data.columns[data.nunique()==1]"
   ]
  },
  {
   "cell_type": "code",
   "execution_count": 46,
   "metadata": {},
   "outputs": [],
   "source": [
    "# separating numeric and categorical columns\n",
    "data_num = data.select_dtypes(exclude=[\"object\"])\n",
    "data_obj = data.select_dtypes(include=[\"object\"])"
   ]
  },
  {
   "cell_type": "code",
   "execution_count": 47,
   "metadata": {},
   "outputs": [
    {
     "name": "stdout",
     "output_type": "stream",
     "text": [
      "(193, 14)\n",
      "(193, 9)\n"
     ]
    }
   ],
   "source": [
    "print(data_num.shape)\n",
    "print(data_obj.shape)"
   ]
  },
  {
   "cell_type": "code",
   "execution_count": 48,
   "metadata": {},
   "outputs": [
    {
     "name": "stdout",
     "output_type": "stream",
     "text": [
      "Index(['wheel_base', 'length', 'width', 'height', 'curb_weight', 'engine_size',\n",
      "       'bore', 'stroke', 'compression_ratio', 'horsepower', 'peak_rpm',\n",
      "       'city_mpg', 'highway_mpg', 'price'],\n",
      "      dtype='object')\n",
      "Index(['make', 'fuel_type', 'num_of_doors', 'body_style', 'drive_wheels',\n",
      "       'engine_location', 'engine_type', 'num_of_cylinders', 'fuel_system'],\n",
      "      dtype='object')\n"
     ]
    }
   ],
   "source": [
    "print(data_num.columns)\n",
    "print(data_obj.columns)"
   ]
  },
  {
   "cell_type": "code",
   "execution_count": 49,
   "metadata": {},
   "outputs": [
    {
     "data": {
      "text/plain": [
       "make                21\n",
       "fuel_type            2\n",
       "num_of_doors         2\n",
       "body_style           5\n",
       "drive_wheels         3\n",
       "engine_location      2\n",
       "engine_type          5\n",
       "num_of_cylinders     6\n",
       "fuel_system          7\n",
       "dtype: int64"
      ]
     },
     "execution_count": 49,
     "metadata": {},
     "output_type": "execute_result"
    }
   ],
   "source": [
    "#seeing how many categories each of that has\n",
    "data_obj.nunique()"
   ]
  },
  {
   "cell_type": "code",
   "execution_count": 50,
   "metadata": {},
   "outputs": [
    {
     "data": {
      "text/plain": [
       "toyota           32\n",
       "nissan           18\n",
       "mitsubishi       13\n",
       "honda            13\n",
       "volkswagen       12\n",
       "subaru           12\n",
       "mazda            12\n",
       "volvo            11\n",
       "peugot           11\n",
       "dodge             8\n",
       "bmw               8\n",
       "mercedes-benz     8\n",
       "plymouth          7\n",
       "saab              6\n",
       "audi              6\n",
       "porsche           4\n",
       "alfa-romero       3\n",
       "jaguar            3\n",
       "chevrolet         3\n",
       "isuzu             2\n",
       "mercury           1\n",
       "Name: make, dtype: int64"
      ]
     },
     "execution_count": 50,
     "metadata": {},
     "output_type": "execute_result"
    }
   ],
   "source": [
    "data_obj.make.value_counts()"
   ]
  },
  {
   "cell_type": "code",
   "execution_count": 51,
   "metadata": {},
   "outputs": [],
   "source": [
    "rare_make = data_obj.make.value_counts().tail(10).index.tolist()"
   ]
  },
  {
   "cell_type": "code",
   "execution_count": 52,
   "metadata": {},
   "outputs": [
    {
     "data": {
      "text/plain": [
       "['mercedes-benz',\n",
       " 'plymouth',\n",
       " 'saab',\n",
       " 'audi',\n",
       " 'porsche',\n",
       " 'alfa-romero',\n",
       " 'jaguar',\n",
       " 'chevrolet',\n",
       " 'isuzu',\n",
       " 'mercury']"
      ]
     },
     "execution_count": 52,
     "metadata": {},
     "output_type": "execute_result"
    }
   ],
   "source": [
    "rare_make"
   ]
  },
  {
   "cell_type": "code",
   "execution_count": 53,
   "metadata": {},
   "outputs": [
    {
     "name": "stderr",
     "output_type": "stream",
     "text": [
      "<ipython-input-53-8c10bfb49d69>:1: SettingWithCopyWarning: \n",
      "A value is trying to be set on a copy of a slice from a DataFrame.\n",
      "Try using .loc[row_indexer,col_indexer] = value instead\n",
      "\n",
      "See the caveats in the documentation: https://pandas.pydata.org/pandas-docs/stable/user_guide/indexing.html#returning-a-view-versus-a-copy\n",
      "  data_obj['make'] = np.where(data_obj['make'].isin(rare_make),'other',data_obj['make'])\n"
     ]
    }
   ],
   "source": [
    "data_obj['make'] = np.where(data_obj['make'].isin(rare_make),'other',data_obj['make'])"
   ]
  },
  {
   "cell_type": "markdown",
   "metadata": {},
   "source": [
    "# Testing"
   ]
  },
  {
   "cell_type": "code",
   "execution_count": 54,
   "metadata": {},
   "outputs": [
    {
     "name": "stdout",
     "output_type": "stream",
     "text": [
      "2-door: 12844.246913580248\n",
      "4-door: 13603.80357142857\n"
     ]
    }
   ],
   "source": [
    "print(\"2-door:\",data.price[data.num_of_doors==\"two\"].mean())\n",
    "print(\"4-door:\",data.price[data.num_of_doors==\"four\"].mean())"
   ]
  },
  {
   "cell_type": "code",
   "execution_count": 55,
   "metadata": {},
   "outputs": [
    {
     "data": {
      "text/plain": [
       "Ttest_indResult(statistic=-0.6427899222652471, pvalue=0.521131300440071)"
      ]
     },
     "execution_count": 55,
     "metadata": {},
     "output_type": "execute_result"
    }
   ],
   "source": [
    "ttest_ind(data.price[data.num_of_doors==\"two\"],\n",
    "               data.price[data.num_of_doors==\"four\"])"
   ]
  },
  {
   "cell_type": "markdown",
   "metadata": {},
   "source": [
    "###### With this t-test we tested whether the mean price for 2 and 4 door cars are significantly different(H0 assumes equal means). The p-value for the test is 0.52, so we conclude that we have no enough evidence to reject H0 and the average price is not significantly different for two and four door cars."
   ]
  },
  {
   "cell_type": "markdown",
   "metadata": {},
   "source": [
    "# Visualization"
   ]
  },
  {
   "cell_type": "code",
   "execution_count": 56,
   "metadata": {},
   "outputs": [
    {
     "data": {
      "image/png": "[encoded data removed]",
      "text/plain": [
       "<Figure size 720x504 with 1 Axes>"
      ]
     },
     "metadata": {
      "needs_background": "light"
     },
     "output_type": "display_data"
    }
   ],
   "source": [
    "# see the target distribution\n",
    "plt.figure(figsize = (10,7))\n",
    "sns.distplot(data.price)\n",
    "plt.title(\"Car Price Distribution\",fontsize = 16) \n",
    "plt.show()"
   ]
  },
  {
   "cell_type": "code",
   "execution_count": 57,
   "metadata": {},
   "outputs": [
    {
     "data": {
      "image/png": "[encoded data removed]",
      "text/plain": [
       "<Figure size 720x504 with 1 Axes>"
      ]
     },
     "metadata": {
      "needs_background": "light"
     },
     "output_type": "display_data"
    }
   ],
   "source": [
    "# observe outliers of target\n",
    "plt.figure(figsize = (10,7))\n",
    "plt.boxplot(data.price)\n",
    "plt.show()"
   ]
  },
  {
   "cell_type": "code",
   "execution_count": 58,
   "metadata": {},
   "outputs": [
    {
     "data": {
      "image/png": "[encoded data removed]",
      "text/plain": [
       "<Figure size 432x288 with 1 Axes>"
      ]
     },
     "metadata": {
      "needs_background": "light"
     },
     "output_type": "display_data"
    },
    {
     "data": {
      "image/png": "[encoded data removed]",
      "text/plain": [
       "<Figure size 432x288 with 1 Axes>"
      ]
     },
     "metadata": {
      "needs_background": "light"
     },
     "output_type": "display_data"
    },
    {
     "data": {
      "image/png": "[encoded data removed]",
      "text/plain": [
       "<Figure size 432x288 with 1 Axes>"
      ]
     },
     "metadata": {
      "needs_background": "light"
     },
     "output_type": "display_data"
    }
   ],
   "source": [
    "# scatter plot for relationship between target and some numeric variables\n",
    "for i in ['horsepower','length','width']:\n",
    "    sns.scatterplot(data[i],data['price'])\n",
    "    plt.xlabel(i)\n",
    "    plt.ylabel(\"Price\")\n",
    "    plt.title(f\"Relationship between {i} and price\")\n",
    "    plt.show()"
   ]
  },
  {
   "cell_type": "code",
   "execution_count": 59,
   "metadata": {},
   "outputs": [
    {
     "data": {
      "image/png": "[encoded data removed]",
      "text/plain": [
       "<Figure size 432x288 with 1 Axes>"
      ]
     },
     "metadata": {
      "needs_background": "light"
     },
     "output_type": "display_data"
    },
    {
     "data": {
      "image/png": "[encoded data removed]",
      "text/plain": [
       "<Figure size 432x288 with 1 Axes>"
      ]
     },
     "metadata": {
      "needs_background": "light"
     },
     "output_type": "display_data"
    },
    {
     "data": {
      "image/png": "[encoded data removed]",
      "text/plain": [
       "<Figure size 432x288 with 1 Axes>"
      ]
     },
     "metadata": {
      "needs_background": "light"
     },
     "output_type": "display_data"
    }
   ],
   "source": [
    "# boxplot for relationship between target and some object variables\n",
    "for i in ['engine_type','fuel_type','num_of_doors']:\n",
    "    sns.boxplot(x=data[i],y=data['price'])\n",
    "    plt.title(f\"Price by {i} of a car\")\n",
    "    plt.show()"
   ]
  },
  {
   "cell_type": "markdown",
   "metadata": {},
   "source": [
    "# Multicolinearity"
   ]
  },
  {
   "cell_type": "code",
   "execution_count": 60,
   "metadata": {},
   "outputs": [
    {
     "data": {
      "text/html": [
       "<div>\n",
       "<style scoped>\n",
       "    .dataframe tbody tr th:only-of-type {\n",
       "        vertical-align: middle;\n",
       "    }\n",
       "\n",
       "    .dataframe tbody tr th {\n",
       "        vertical-align: top;\n",
       "    }\n",
       "\n",
       "    .dataframe thead th {\n",
       "        text-align: right;\n",
       "    }\n",
       "</style>\n",
       "<table border=\"1\" class=\"dataframe\">\n",
       "  <thead>\n",
       "    <tr style=\"text-align: right;\">\n",
       "      <th></th>\n",
       "      <th>wheel_base</th>\n",
       "      <th>length</th>\n",
       "      <th>width</th>\n",
       "      <th>height</th>\n",
       "      <th>curb_weight</th>\n",
       "      <th>engine_size</th>\n",
       "      <th>bore</th>\n",
       "      <th>stroke</th>\n",
       "      <th>compression_ratio</th>\n",
       "      <th>horsepower</th>\n",
       "      <th>peak_rpm</th>\n",
       "      <th>city_mpg</th>\n",
       "      <th>highway_mpg</th>\n",
       "      <th>price</th>\n",
       "    </tr>\n",
       "  </thead>\n",
       "  <tbody>\n",
       "    <tr>\n",
       "      <th>wheel_base</th>\n",
       "      <td>1.000000</td>\n",
       "      <td>0.879307</td>\n",
       "      <td>0.818465</td>\n",
       "      <td>0.591239</td>\n",
       "      <td>0.782173</td>\n",
       "      <td>0.568375</td>\n",
       "      <td>0.495957</td>\n",
       "      <td>0.174225</td>\n",
       "      <td>0.252234</td>\n",
       "      <td>0.377040</td>\n",
       "      <td>-0.350823</td>\n",
       "      <td>-0.504499</td>\n",
       "      <td>-0.571771</td>\n",
       "      <td>0.584951</td>\n",
       "    </tr>\n",
       "    <tr>\n",
       "      <th>length</th>\n",
       "      <td>0.879307</td>\n",
       "      <td>1.000000</td>\n",
       "      <td>0.857368</td>\n",
       "      <td>0.491050</td>\n",
       "      <td>0.882694</td>\n",
       "      <td>0.686998</td>\n",
       "      <td>0.606373</td>\n",
       "      <td>0.121888</td>\n",
       "      <td>0.156061</td>\n",
       "      <td>0.589650</td>\n",
       "      <td>-0.276144</td>\n",
       "      <td>-0.702143</td>\n",
       "      <td>-0.731264</td>\n",
       "      <td>0.695928</td>\n",
       "    </tr>\n",
       "    <tr>\n",
       "      <th>width</th>\n",
       "      <td>0.818465</td>\n",
       "      <td>0.857368</td>\n",
       "      <td>1.000000</td>\n",
       "      <td>0.310640</td>\n",
       "      <td>0.867640</td>\n",
       "      <td>0.739903</td>\n",
       "      <td>0.541633</td>\n",
       "      <td>0.188733</td>\n",
       "      <td>0.188631</td>\n",
       "      <td>0.621532</td>\n",
       "      <td>-0.247612</td>\n",
       "      <td>-0.657153</td>\n",
       "      <td>-0.702009</td>\n",
       "      <td>0.754649</td>\n",
       "    </tr>\n",
       "    <tr>\n",
       "      <th>height</th>\n",
       "      <td>0.591239</td>\n",
       "      <td>0.491050</td>\n",
       "      <td>0.310640</td>\n",
       "      <td>1.000000</td>\n",
       "      <td>0.305837</td>\n",
       "      <td>0.026906</td>\n",
       "      <td>0.182445</td>\n",
       "      <td>-0.054338</td>\n",
       "      <td>0.253934</td>\n",
       "      <td>-0.081730</td>\n",
       "      <td>-0.257334</td>\n",
       "      <td>-0.111166</td>\n",
       "      <td>-0.159850</td>\n",
       "      <td>0.136234</td>\n",
       "    </tr>\n",
       "    <tr>\n",
       "      <th>curb_weight</th>\n",
       "      <td>0.782173</td>\n",
       "      <td>0.882694</td>\n",
       "      <td>0.867640</td>\n",
       "      <td>0.305837</td>\n",
       "      <td>1.000000</td>\n",
       "      <td>0.857188</td>\n",
       "      <td>0.645070</td>\n",
       "      <td>0.175349</td>\n",
       "      <td>0.161030</td>\n",
       "      <td>0.762154</td>\n",
       "      <td>-0.278528</td>\n",
       "      <td>-0.777763</td>\n",
       "      <td>-0.818104</td>\n",
       "      <td>0.835368</td>\n",
       "    </tr>\n",
       "    <tr>\n",
       "      <th>engine_size</th>\n",
       "      <td>0.568375</td>\n",
       "      <td>0.686998</td>\n",
       "      <td>0.739903</td>\n",
       "      <td>0.026906</td>\n",
       "      <td>0.857188</td>\n",
       "      <td>1.000000</td>\n",
       "      <td>0.581854</td>\n",
       "      <td>0.214518</td>\n",
       "      <td>0.025257</td>\n",
       "      <td>0.845325</td>\n",
       "      <td>-0.217769</td>\n",
       "      <td>-0.716378</td>\n",
       "      <td>-0.737531</td>\n",
       "      <td>0.888778</td>\n",
       "    </tr>\n",
       "    <tr>\n",
       "      <th>bore</th>\n",
       "      <td>0.495957</td>\n",
       "      <td>0.606373</td>\n",
       "      <td>0.541633</td>\n",
       "      <td>0.182445</td>\n",
       "      <td>0.645070</td>\n",
       "      <td>0.581854</td>\n",
       "      <td>1.000000</td>\n",
       "      <td>-0.065038</td>\n",
       "      <td>-0.004172</td>\n",
       "      <td>0.572972</td>\n",
       "      <td>-0.273766</td>\n",
       "      <td>-0.601369</td>\n",
       "      <td>-0.608804</td>\n",
       "      <td>0.546295</td>\n",
       "    </tr>\n",
       "    <tr>\n",
       "      <th>stroke</th>\n",
       "      <td>0.174225</td>\n",
       "      <td>0.121888</td>\n",
       "      <td>0.188733</td>\n",
       "      <td>-0.054338</td>\n",
       "      <td>0.175349</td>\n",
       "      <td>0.214518</td>\n",
       "      <td>-0.065038</td>\n",
       "      <td>1.000000</td>\n",
       "      <td>0.199600</td>\n",
       "      <td>0.102913</td>\n",
       "      <td>-0.068420</td>\n",
       "      <td>-0.031248</td>\n",
       "      <td>-0.040274</td>\n",
       "      <td>0.096007</td>\n",
       "    </tr>\n",
       "    <tr>\n",
       "      <th>compression_ratio</th>\n",
       "      <td>0.252234</td>\n",
       "      <td>0.156061</td>\n",
       "      <td>0.188631</td>\n",
       "      <td>0.253934</td>\n",
       "      <td>0.161030</td>\n",
       "      <td>0.025257</td>\n",
       "      <td>-0.004172</td>\n",
       "      <td>0.199600</td>\n",
       "      <td>1.000000</td>\n",
       "      <td>-0.203818</td>\n",
       "      <td>-0.439741</td>\n",
       "      <td>0.314648</td>\n",
       "      <td>0.249669</td>\n",
       "      <td>0.074483</td>\n",
       "    </tr>\n",
       "    <tr>\n",
       "      <th>horsepower</th>\n",
       "      <td>0.377040</td>\n",
       "      <td>0.589650</td>\n",
       "      <td>0.621532</td>\n",
       "      <td>-0.081730</td>\n",
       "      <td>0.762154</td>\n",
       "      <td>0.845325</td>\n",
       "      <td>0.572972</td>\n",
       "      <td>0.102913</td>\n",
       "      <td>-0.203818</td>\n",
       "      <td>1.000000</td>\n",
       "      <td>0.101383</td>\n",
       "      <td>-0.833615</td>\n",
       "      <td>-0.812078</td>\n",
       "      <td>0.812453</td>\n",
       "    </tr>\n",
       "    <tr>\n",
       "      <th>peak_rpm</th>\n",
       "      <td>-0.350823</td>\n",
       "      <td>-0.276144</td>\n",
       "      <td>-0.247612</td>\n",
       "      <td>-0.257334</td>\n",
       "      <td>-0.278528</td>\n",
       "      <td>-0.217769</td>\n",
       "      <td>-0.273766</td>\n",
       "      <td>-0.068420</td>\n",
       "      <td>-0.439741</td>\n",
       "      <td>0.101383</td>\n",
       "      <td>1.000000</td>\n",
       "      <td>-0.061032</td>\n",
       "      <td>-0.008412</td>\n",
       "      <td>-0.103835</td>\n",
       "    </tr>\n",
       "    <tr>\n",
       "      <th>city_mpg</th>\n",
       "      <td>-0.504499</td>\n",
       "      <td>-0.702143</td>\n",
       "      <td>-0.657153</td>\n",
       "      <td>-0.111166</td>\n",
       "      <td>-0.777763</td>\n",
       "      <td>-0.716378</td>\n",
       "      <td>-0.601369</td>\n",
       "      <td>-0.031248</td>\n",
       "      <td>0.314648</td>\n",
       "      <td>-0.833615</td>\n",
       "      <td>-0.061032</td>\n",
       "      <td>1.000000</td>\n",
       "      <td>0.971975</td>\n",
       "      <td>-0.706618</td>\n",
       "    </tr>\n",
       "    <tr>\n",
       "      <th>highway_mpg</th>\n",
       "      <td>-0.571771</td>\n",
       "      <td>-0.731264</td>\n",
       "      <td>-0.702009</td>\n",
       "      <td>-0.159850</td>\n",
       "      <td>-0.818104</td>\n",
       "      <td>-0.737531</td>\n",
       "      <td>-0.608804</td>\n",
       "      <td>-0.040274</td>\n",
       "      <td>0.249669</td>\n",
       "      <td>-0.812078</td>\n",
       "      <td>-0.008412</td>\n",
       "      <td>0.971975</td>\n",
       "      <td>1.000000</td>\n",
       "      <td>-0.719178</td>\n",
       "    </tr>\n",
       "    <tr>\n",
       "      <th>price</th>\n",
       "      <td>0.584951</td>\n",
       "      <td>0.695928</td>\n",
       "      <td>0.754649</td>\n",
       "      <td>0.136234</td>\n",
       "      <td>0.835368</td>\n",
       "      <td>0.888778</td>\n",
       "      <td>0.546295</td>\n",
       "      <td>0.096007</td>\n",
       "      <td>0.074483</td>\n",
       "      <td>0.812453</td>\n",
       "      <td>-0.103835</td>\n",
       "      <td>-0.706618</td>\n",
       "      <td>-0.719178</td>\n",
       "      <td>1.000000</td>\n",
       "    </tr>\n",
       "  </tbody>\n",
       "</table>\n",
       "</div>"
      ],
      "text/plain": [
       "                   wheel_base    length     width    height  curb_weight  \\\n",
       "wheel_base           1.000000  0.879307  0.818465  0.591239     0.782173   \n",
       "length               0.879307  1.000000  0.857368  0.491050     0.882694   \n",
       "width                0.818465  0.857368  1.000000  0.310640     0.867640   \n",
       "height               0.591239  0.491050  0.310640  1.000000     0.305837   \n",
       "curb_weight          0.782173  0.882694  0.867640  0.305837     1.000000   \n",
       "engine_size          0.568375  0.686998  0.739903  0.026906     0.857188   \n",
       "bore                 0.495957  0.606373  0.541633  0.182445     0.645070   \n",
       "stroke               0.174225  0.121888  0.188733 -0.054338     0.175349   \n",
       "compression_ratio    0.252234  0.156061  0.188631  0.253934     0.161030   \n",
       "horsepower           0.377040  0.589650  0.621532 -0.081730     0.762154   \n",
       "peak_rpm            -0.350823 -0.276144 -0.247612 -0.257334    -0.278528   \n",
       "city_mpg            -0.504499 -0.702143 -0.657153 -0.111166    -0.777763   \n",
       "highway_mpg         -0.571771 -0.731264 -0.702009 -0.159850    -0.818104   \n",
       "price                0.584951  0.695928  0.754649  0.136234     0.835368   \n",
       "\n",
       "                   engine_size      bore    stroke  compression_ratio  \\\n",
       "wheel_base            0.568375  0.495957  0.174225           0.252234   \n",
       "length                0.686998  0.606373  0.121888           0.156061   \n",
       "width                 0.739903  0.541633  0.188733           0.188631   \n",
       "height                0.026906  0.182445 -0.054338           0.253934   \n",
       "curb_weight           0.857188  0.645070  0.175349           0.161030   \n",
       "engine_size           1.000000  0.581854  0.214518           0.025257   \n",
       "bore                  0.581854  1.000000 -0.065038          -0.004172   \n",
       "stroke                0.214518 -0.065038  1.000000           0.199600   \n",
       "compression_ratio     0.025257 -0.004172  0.199600           1.000000   \n",
       "horsepower            0.845325  0.572972  0.102913          -0.203818   \n",
       "peak_rpm             -0.217769 -0.273766 -0.068420          -0.439741   \n",
       "city_mpg             -0.716378 -0.601369 -0.031248           0.314648   \n",
       "highway_mpg          -0.737531 -0.608804 -0.040274           0.249669   \n",
       "price                 0.888778  0.546295  0.096007           0.074483   \n",
       "\n",
       "                   horsepower  peak_rpm  city_mpg  highway_mpg     price  \n",
       "wheel_base           0.377040 -0.350823 -0.504499    -0.571771  0.584951  \n",
       "length               0.589650 -0.276144 -0.702143    -0.731264  0.695928  \n",
       "width                0.621532 -0.247612 -0.657153    -0.702009  0.754649  \n",
       "height              -0.081730 -0.257334 -0.111166    -0.159850  0.136234  \n",
       "curb_weight          0.762154 -0.278528 -0.777763    -0.818104  0.835368  \n",
       "engine_size          0.845325 -0.217769 -0.716378    -0.737531  0.888778  \n",
       "bore                 0.572972 -0.273766 -0.601369    -0.608804  0.546295  \n",
       "stroke               0.102913 -0.068420 -0.031248    -0.040274  0.096007  \n",
       "compression_ratio   -0.203818 -0.439741  0.314648     0.249669  0.074483  \n",
       "horsepower           1.000000  0.101383 -0.833615    -0.812078  0.812453  \n",
       "peak_rpm             0.101383  1.000000 -0.061032    -0.008412 -0.103835  \n",
       "city_mpg            -0.833615 -0.061032  1.000000     0.971975 -0.706618  \n",
       "highway_mpg         -0.812078 -0.008412  0.971975     1.000000 -0.719178  \n",
       "price                0.812453 -0.103835 -0.706618    -0.719178  1.000000  "
      ]
     },
     "execution_count": 60,
     "metadata": {},
     "output_type": "execute_result"
    }
   ],
   "source": [
    "data_num.corr()"
   ]
  },
  {
   "cell_type": "code",
   "execution_count": 61,
   "metadata": {},
   "outputs": [
    {
     "data": {
      "image/png": "[encoded data removed]",
      "text/plain": [
       "<Figure size 1080x720 with 2 Axes>"
      ]
     },
     "metadata": {
      "needs_background": "light"
     },
     "output_type": "display_data"
    }
   ],
   "source": [
    "plt.figure(figsize = (15,10))\n",
    "sns.heatmap(data_num.corr().abs().round(2), annot=True)\n",
    "plt.show()"
   ]
  },
  {
   "cell_type": "code",
   "execution_count": 62,
   "metadata": {},
   "outputs": [],
   "source": [
    "cols_to_remove = ['wheel_base','length','curb_weight','horsepower','city_mpg']"
   ]
  },
  {
   "cell_type": "code",
   "execution_count": 63,
   "metadata": {},
   "outputs": [
    {
     "data": {
      "image/png": "[encoded data removed]",
      "text/plain": [
       "<Figure size 1080x720 with 2 Axes>"
      ]
     },
     "metadata": {
      "needs_background": "light"
     },
     "output_type": "display_data"
    }
   ],
   "source": [
    "#let's see whether we are left with any correlations above or equal to 75% in absolute values\n",
    "plt.figure(figsize = (15,10))\n",
    "sns.heatmap(data_num.drop(cols_to_remove,axis=1).corr().abs()>=0.75)\n",
    "plt.show()"
   ]
  },
  {
   "cell_type": "code",
   "execution_count": 64,
   "metadata": {},
   "outputs": [],
   "source": [
    "data_num = data_num.drop(cols_to_remove,axis=1)"
   ]
  },
  {
   "cell_type": "markdown",
   "metadata": {},
   "source": [
    "# OLS Model\n"
   ]
  },
  {
   "cell_type": "code",
   "execution_count": 65,
   "metadata": {},
   "outputs": [],
   "source": [
    "# dummies\n",
    "data_dummies = pd.get_dummies(data_obj,drop_first = True)"
   ]
  },
  {
   "cell_type": "code",
   "execution_count": 66,
   "metadata": {},
   "outputs": [
    {
     "data": {
      "text/plain": [
       "(193, 35)"
      ]
     },
     "execution_count": 66,
     "metadata": {},
     "output_type": "execute_result"
    }
   ],
   "source": [
    "data_dummies.shape"
   ]
  },
  {
   "cell_type": "code",
   "execution_count": 67,
   "metadata": {},
   "outputs": [
    {
     "data": {
      "text/html": [
       "<div>\n",
       "<style scoped>\n",
       "    .dataframe tbody tr th:only-of-type {\n",
       "        vertical-align: middle;\n",
       "    }\n",
       "\n",
       "    .dataframe tbody tr th {\n",
       "        vertical-align: top;\n",
       "    }\n",
       "\n",
       "    .dataframe thead th {\n",
       "        text-align: right;\n",
       "    }\n",
       "</style>\n",
       "<table border=\"1\" class=\"dataframe\">\n",
       "  <thead>\n",
       "    <tr style=\"text-align: right;\">\n",
       "      <th></th>\n",
       "      <th>make_dodge</th>\n",
       "      <th>make_honda</th>\n",
       "      <th>make_mazda</th>\n",
       "      <th>make_mitsubishi</th>\n",
       "      <th>make_nissan</th>\n",
       "      <th>make_other</th>\n",
       "      <th>make_peugot</th>\n",
       "      <th>make_subaru</th>\n",
       "      <th>make_toyota</th>\n",
       "      <th>make_volkswagen</th>\n",
       "      <th>...</th>\n",
       "      <th>num_of_cylinders_four</th>\n",
       "      <th>num_of_cylinders_six</th>\n",
       "      <th>num_of_cylinders_three</th>\n",
       "      <th>num_of_cylinders_twelve</th>\n",
       "      <th>fuel_system_2bbl</th>\n",
       "      <th>fuel_system_idi</th>\n",
       "      <th>fuel_system_mfi</th>\n",
       "      <th>fuel_system_mpfi</th>\n",
       "      <th>fuel_system_spdi</th>\n",
       "      <th>fuel_system_spfi</th>\n",
       "    </tr>\n",
       "  </thead>\n",
       "  <tbody>\n",
       "    <tr>\n",
       "      <th>0</th>\n",
       "      <td>0</td>\n",
       "      <td>0</td>\n",
       "      <td>0</td>\n",
       "      <td>0</td>\n",
       "      <td>0</td>\n",
       "      <td>1</td>\n",
       "      <td>0</td>\n",
       "      <td>0</td>\n",
       "      <td>0</td>\n",
       "      <td>0</td>\n",
       "      <td>...</td>\n",
       "      <td>1</td>\n",
       "      <td>0</td>\n",
       "      <td>0</td>\n",
       "      <td>0</td>\n",
       "      <td>0</td>\n",
       "      <td>0</td>\n",
       "      <td>0</td>\n",
       "      <td>1</td>\n",
       "      <td>0</td>\n",
       "      <td>0</td>\n",
       "    </tr>\n",
       "    <tr>\n",
       "      <th>1</th>\n",
       "      <td>0</td>\n",
       "      <td>0</td>\n",
       "      <td>0</td>\n",
       "      <td>0</td>\n",
       "      <td>0</td>\n",
       "      <td>1</td>\n",
       "      <td>0</td>\n",
       "      <td>0</td>\n",
       "      <td>0</td>\n",
       "      <td>0</td>\n",
       "      <td>...</td>\n",
       "      <td>1</td>\n",
       "      <td>0</td>\n",
       "      <td>0</td>\n",
       "      <td>0</td>\n",
       "      <td>0</td>\n",
       "      <td>0</td>\n",
       "      <td>0</td>\n",
       "      <td>1</td>\n",
       "      <td>0</td>\n",
       "      <td>0</td>\n",
       "    </tr>\n",
       "    <tr>\n",
       "      <th>2</th>\n",
       "      <td>0</td>\n",
       "      <td>0</td>\n",
       "      <td>0</td>\n",
       "      <td>0</td>\n",
       "      <td>0</td>\n",
       "      <td>1</td>\n",
       "      <td>0</td>\n",
       "      <td>0</td>\n",
       "      <td>0</td>\n",
       "      <td>0</td>\n",
       "      <td>...</td>\n",
       "      <td>0</td>\n",
       "      <td>1</td>\n",
       "      <td>0</td>\n",
       "      <td>0</td>\n",
       "      <td>0</td>\n",
       "      <td>0</td>\n",
       "      <td>0</td>\n",
       "      <td>1</td>\n",
       "      <td>0</td>\n",
       "      <td>0</td>\n",
       "    </tr>\n",
       "    <tr>\n",
       "      <th>3</th>\n",
       "      <td>0</td>\n",
       "      <td>0</td>\n",
       "      <td>0</td>\n",
       "      <td>0</td>\n",
       "      <td>0</td>\n",
       "      <td>1</td>\n",
       "      <td>0</td>\n",
       "      <td>0</td>\n",
       "      <td>0</td>\n",
       "      <td>0</td>\n",
       "      <td>...</td>\n",
       "      <td>1</td>\n",
       "      <td>0</td>\n",
       "      <td>0</td>\n",
       "      <td>0</td>\n",
       "      <td>0</td>\n",
       "      <td>0</td>\n",
       "      <td>0</td>\n",
       "      <td>1</td>\n",
       "      <td>0</td>\n",
       "      <td>0</td>\n",
       "    </tr>\n",
       "    <tr>\n",
       "      <th>4</th>\n",
       "      <td>0</td>\n",
       "      <td>0</td>\n",
       "      <td>0</td>\n",
       "      <td>0</td>\n",
       "      <td>0</td>\n",
       "      <td>1</td>\n",
       "      <td>0</td>\n",
       "      <td>0</td>\n",
       "      <td>0</td>\n",
       "      <td>0</td>\n",
       "      <td>...</td>\n",
       "      <td>0</td>\n",
       "      <td>0</td>\n",
       "      <td>0</td>\n",
       "      <td>0</td>\n",
       "      <td>0</td>\n",
       "      <td>0</td>\n",
       "      <td>0</td>\n",
       "      <td>1</td>\n",
       "      <td>0</td>\n",
       "      <td>0</td>\n",
       "    </tr>\n",
       "  </tbody>\n",
       "</table>\n",
       "<p>5 rows × 35 columns</p>\n",
       "</div>"
      ],
      "text/plain": [
       "   make_dodge  make_honda  make_mazda  make_mitsubishi  make_nissan  \\\n",
       "0           0           0           0                0            0   \n",
       "1           0           0           0                0            0   \n",
       "2           0           0           0                0            0   \n",
       "3           0           0           0                0            0   \n",
       "4           0           0           0                0            0   \n",
       "\n",
       "   make_other  make_peugot  make_subaru  make_toyota  make_volkswagen  ...  \\\n",
       "0           1            0            0            0                0  ...   \n",
       "1           1            0            0            0                0  ...   \n",
       "2           1            0            0            0                0  ...   \n",
       "3           1            0            0            0                0  ...   \n",
       "4           1            0            0            0                0  ...   \n",
       "\n",
       "   num_of_cylinders_four  num_of_cylinders_six  num_of_cylinders_three  \\\n",
       "0                      1                     0                       0   \n",
       "1                      1                     0                       0   \n",
       "2                      0                     1                       0   \n",
       "3                      1                     0                       0   \n",
       "4                      0                     0                       0   \n",
       "\n",
       "   num_of_cylinders_twelve  fuel_system_2bbl  fuel_system_idi  \\\n",
       "0                        0                 0                0   \n",
       "1                        0                 0                0   \n",
       "2                        0                 0                0   \n",
       "3                        0                 0                0   \n",
       "4                        0                 0                0   \n",
       "\n",
       "   fuel_system_mfi  fuel_system_mpfi  fuel_system_spdi  fuel_system_spfi  \n",
       "0                0                 1                 0                 0  \n",
       "1                0                 1                 0                 0  \n",
       "2                0                 1                 0                 0  \n",
       "3                0                 1                 0                 0  \n",
       "4                0                 1                 0                 0  \n",
       "\n",
       "[5 rows x 35 columns]"
      ]
     },
     "execution_count": 67,
     "metadata": {},
     "output_type": "execute_result"
    }
   ],
   "source": [
    "data_dummies.head()"
   ]
  },
  {
   "cell_type": "code",
   "execution_count": 68,
   "metadata": {},
   "outputs": [],
   "source": [
    "# merging all variables together\n",
    "data_model = data_num.join(data_dummies,how='left')"
   ]
  },
  {
   "cell_type": "code",
   "execution_count": 69,
   "metadata": {},
   "outputs": [],
   "source": [
    "variables = data_model.columns.tolist()"
   ]
  },
  {
   "cell_type": "code",
   "execution_count": 70,
   "metadata": {},
   "outputs": [],
   "source": [
    "# removing the target and keeping only the independent variables in the list\n",
    "variables.remove('price')"
   ]
  },
  {
   "cell_type": "code",
   "execution_count": 71,
   "metadata": {},
   "outputs": [
    {
     "data": {
      "text/plain": [
       "'price~width+height+engine_size+bore+stroke+compression_ratio+peak_rpm+highway_mpg+make_dodge+make_honda+make_mazda+make_mitsubishi+make_nissan+make_other+make_peugot+make_subaru+make_toyota+make_volkswagen+make_volvo+fuel_type_gas+num_of_doors_two+body_style_hardtop+body_style_hatchback+body_style_sedan+body_style_wagon+drive_wheels_fwd+drive_wheels_rwd+engine_location_rear+engine_type_l+engine_type_ohc+engine_type_ohcf+engine_type_ohcv+num_of_cylinders_five+num_of_cylinders_four+num_of_cylinders_six+num_of_cylinders_three+num_of_cylinders_twelve+fuel_system_2bbl+fuel_system_idi+fuel_system_mfi+fuel_system_mpfi+fuel_system_spdi+fuel_system_spfi'"
      ]
     },
     "execution_count": 71,
     "metadata": {},
     "output_type": "execute_result"
    }
   ],
   "source": [
    "formula = \"+\".join(variables)\n",
    "formula = 'price~'+formula\n",
    "formula"
   ]
  },
  {
   "cell_type": "code",
   "execution_count": 72,
   "metadata": {},
   "outputs": [],
   "source": [
    "# build the model \n",
    "model_ols=ols(formula=formula, data = data_model)"
   ]
  },
  {
   "cell_type": "code",
   "execution_count": 73,
   "metadata": {
    "scrolled": false
   },
   "outputs": [
    {
     "data": {
      "text/html": [
       "<table class=\"simpletable\">\n",
       "<caption>OLS Regression Results</caption>\n",
       "<tr>\n",
       "  <th>Dep. Variable:</th>          <td>price</td>      <th>  R-squared:         </th> <td>   0.950</td>\n",
       "</tr>\n",
       "<tr>\n",
       "  <th>Model:</th>                   <td>OLS</td>       <th>  Adj. R-squared:    </th> <td>   0.936</td>\n",
       "</tr>\n",
       "<tr>\n",
       "  <th>Method:</th>             <td>Least Squares</td>  <th>  F-statistic:       </th> <td>   71.58</td>\n",
       "</tr>\n",
       "<tr>\n",
       "  <th>Date:</th>             <td>Sat, 12 Sep 2020</td> <th>  Prob (F-statistic):</th> <td>4.20e-80</td>\n",
       "</tr>\n",
       "<tr>\n",
       "  <th>Time:</th>                 <td>13:59:03</td>     <th>  Log-Likelihood:    </th> <td> -1721.7</td>\n",
       "</tr>\n",
       "<tr>\n",
       "  <th>No. Observations:</th>      <td>   193</td>      <th>  AIC:               </th> <td>   3525.</td>\n",
       "</tr>\n",
       "<tr>\n",
       "  <th>Df Residuals:</th>          <td>   152</td>      <th>  BIC:               </th> <td>   3659.</td>\n",
       "</tr>\n",
       "<tr>\n",
       "  <th>Df Model:</th>              <td>    40</td>      <th>                     </th>     <td> </td>   \n",
       "</tr>\n",
       "<tr>\n",
       "  <th>Covariance Type:</th>      <td>nonrobust</td>    <th>                     </th>     <td> </td>   \n",
       "</tr>\n",
       "</table>\n",
       "<table class=\"simpletable\">\n",
       "<tr>\n",
       "             <td></td>                <th>coef</th>     <th>std err</th>      <th>t</th>      <th>P>|t|</th>  <th>[0.025</th>    <th>0.975]</th>  \n",
       "</tr>\n",
       "<tr>\n",
       "  <th>Intercept</th>               <td>-2.722e+04</td> <td> 1.06e+04</td> <td>   -2.561</td> <td> 0.011</td> <td>-4.82e+04</td> <td>-6220.634</td>\n",
       "</tr>\n",
       "<tr>\n",
       "  <th>width</th>                   <td> 1280.1821</td> <td>  189.841</td> <td>    6.743</td> <td> 0.000</td> <td>  905.115</td> <td> 1655.249</td>\n",
       "</tr>\n",
       "<tr>\n",
       "  <th>height</th>                  <td>   42.0143</td> <td>  123.545</td> <td>    0.340</td> <td> 0.734</td> <td> -202.073</td> <td>  286.102</td>\n",
       "</tr>\n",
       "<tr>\n",
       "  <th>engine_size</th>             <td>  114.4091</td> <td>   19.280</td> <td>    5.934</td> <td> 0.000</td> <td>   76.318</td> <td>  152.500</td>\n",
       "</tr>\n",
       "<tr>\n",
       "  <th>bore</th>                    <td>-2817.6281</td> <td> 1647.909</td> <td>   -1.710</td> <td> 0.089</td> <td>-6073.392</td> <td>  438.136</td>\n",
       "</tr>\n",
       "<tr>\n",
       "  <th>stroke</th>                  <td>-2574.5837</td> <td>  948.974</td> <td>   -2.713</td> <td> 0.007</td> <td>-4449.466</td> <td> -699.701</td>\n",
       "</tr>\n",
       "<tr>\n",
       "  <th>compression_ratio</th>       <td>-1303.7665</td> <td>  437.657</td> <td>   -2.979</td> <td> 0.003</td> <td>-2168.443</td> <td> -439.090</td>\n",
       "</tr>\n",
       "<tr>\n",
       "  <th>peak_rpm</th>                <td>    1.3552</td> <td>    0.602</td> <td>    2.252</td> <td> 0.026</td> <td>    0.166</td> <td>    2.544</td>\n",
       "</tr>\n",
       "<tr>\n",
       "  <th>highway_mpg</th>             <td>  -20.2222</td> <td>   61.285</td> <td>   -0.330</td> <td> 0.742</td> <td> -141.304</td> <td>  100.859</td>\n",
       "</tr>\n",
       "<tr>\n",
       "  <th>make_dodge</th>              <td>-7168.5284</td> <td> 1672.395</td> <td>   -4.286</td> <td> 0.000</td> <td>-1.05e+04</td> <td>-3864.387</td>\n",
       "</tr>\n",
       "<tr>\n",
       "  <th>make_honda</th>              <td>-5806.2025</td> <td> 2178.434</td> <td>   -2.665</td> <td> 0.009</td> <td>-1.01e+04</td> <td>-1502.284</td>\n",
       "</tr>\n",
       "<tr>\n",
       "  <th>make_mazda</th>              <td>-7692.2513</td> <td> 1502.041</td> <td>   -5.121</td> <td> 0.000</td> <td>-1.07e+04</td> <td>-4724.677</td>\n",
       "</tr>\n",
       "<tr>\n",
       "  <th>make_mitsubishi</th>         <td>-8320.7998</td> <td> 1708.986</td> <td>   -4.869</td> <td> 0.000</td> <td>-1.17e+04</td> <td>-4944.366</td>\n",
       "</tr>\n",
       "<tr>\n",
       "  <th>make_nissan</th>             <td>-7004.0401</td> <td> 1489.787</td> <td>   -4.701</td> <td> 0.000</td> <td>-9947.403</td> <td>-4060.677</td>\n",
       "</tr>\n",
       "<tr>\n",
       "  <th>make_other</th>              <td>-6020.3650</td> <td> 1453.599</td> <td>   -4.142</td> <td> 0.000</td> <td>-8892.231</td> <td>-3148.499</td>\n",
       "</tr>\n",
       "<tr>\n",
       "  <th>make_peugot</th>             <td>-8273.2459</td> <td> 2082.096</td> <td>   -3.974</td> <td> 0.000</td> <td>-1.24e+04</td> <td>-4159.661</td>\n",
       "</tr>\n",
       "<tr>\n",
       "  <th>make_subaru</th>             <td>-1.009e+04</td> <td> 1664.387</td> <td>   -6.064</td> <td> 0.000</td> <td>-1.34e+04</td> <td>-6805.263</td>\n",
       "</tr>\n",
       "<tr>\n",
       "  <th>make_toyota</th>             <td>-8088.3371</td> <td> 1374.808</td> <td>   -5.883</td> <td> 0.000</td> <td>-1.08e+04</td> <td>-5372.138</td>\n",
       "</tr>\n",
       "<tr>\n",
       "  <th>make_volkswagen</th>         <td>-7681.3514</td> <td> 1543.844</td> <td>   -4.975</td> <td> 0.000</td> <td>-1.07e+04</td> <td>-4631.188</td>\n",
       "</tr>\n",
       "<tr>\n",
       "  <th>make_volvo</th>              <td>-6613.4482</td> <td> 1293.685</td> <td>   -5.112</td> <td> 0.000</td> <td>-9169.374</td> <td>-4057.522</td>\n",
       "</tr>\n",
       "<tr>\n",
       "  <th>fuel_type_gas</th>           <td>-2.412e+04</td> <td> 5340.862</td> <td>   -4.516</td> <td> 0.000</td> <td>-3.47e+04</td> <td>-1.36e+04</td>\n",
       "</tr>\n",
       "<tr>\n",
       "  <th>num_of_doors_two</th>        <td> -282.2441</td> <td>  525.088</td> <td>   -0.538</td> <td> 0.592</td> <td>-1319.658</td> <td>  755.170</td>\n",
       "</tr>\n",
       "<tr>\n",
       "  <th>body_style_hardtop</th>      <td>-2688.9624</td> <td> 1214.730</td> <td>   -2.214</td> <td> 0.028</td> <td>-5088.897</td> <td> -289.028</td>\n",
       "</tr>\n",
       "<tr>\n",
       "  <th>body_style_hatchback</th>    <td>-2913.2781</td> <td> 1068.893</td> <td>   -2.726</td> <td> 0.007</td> <td>-5025.083</td> <td> -801.474</td>\n",
       "</tr>\n",
       "<tr>\n",
       "  <th>body_style_sedan</th>        <td>-2736.9679</td> <td> 1150.062</td> <td>   -2.380</td> <td> 0.019</td> <td>-5009.138</td> <td> -464.798</td>\n",
       "</tr>\n",
       "<tr>\n",
       "  <th>body_style_wagon</th>        <td>-3120.2695</td> <td> 1317.588</td> <td>   -2.368</td> <td> 0.019</td> <td>-5723.421</td> <td> -517.118</td>\n",
       "</tr>\n",
       "<tr>\n",
       "  <th>drive_wheels_fwd</th>        <td>-1451.5719</td> <td>  937.694</td> <td>   -1.548</td> <td> 0.124</td> <td>-3304.169</td> <td>  401.025</td>\n",
       "</tr>\n",
       "<tr>\n",
       "  <th>drive_wheels_rwd</th>        <td> -214.7892</td> <td> 1157.294</td> <td>   -0.186</td> <td> 0.853</td> <td>-2501.248</td> <td> 2071.669</td>\n",
       "</tr>\n",
       "<tr>\n",
       "  <th>engine_location_rear</th>    <td>  1.13e+04</td> <td> 1614.261</td> <td>    7.000</td> <td> 0.000</td> <td> 8110.440</td> <td> 1.45e+04</td>\n",
       "</tr>\n",
       "<tr>\n",
       "  <th>engine_type_l</th>           <td>-3107.2165</td> <td> 1469.162</td> <td>   -2.115</td> <td> 0.036</td> <td>-6009.831</td> <td> -204.602</td>\n",
       "</tr>\n",
       "<tr>\n",
       "  <th>engine_type_ohc</th>         <td> -332.3007</td> <td> 1018.180</td> <td>   -0.326</td> <td> 0.745</td> <td>-2343.913</td> <td> 1679.312</td>\n",
       "</tr>\n",
       "<tr>\n",
       "  <th>engine_type_ohcf</th>        <td> 1206.1420</td> <td>  918.271</td> <td>    1.313</td> <td> 0.191</td> <td> -608.081</td> <td> 3020.365</td>\n",
       "</tr>\n",
       "<tr>\n",
       "  <th>engine_type_ohcv</th>        <td>-3995.0314</td> <td> 1238.079</td> <td>   -3.227</td> <td> 0.002</td> <td>-6441.097</td> <td>-1548.966</td>\n",
       "</tr>\n",
       "<tr>\n",
       "  <th>num_of_cylinders_five</th>   <td>-4881.1319</td> <td> 2680.763</td> <td>   -1.821</td> <td> 0.071</td> <td>-1.02e+04</td> <td>  415.236</td>\n",
       "</tr>\n",
       "<tr>\n",
       "  <th>num_of_cylinders_four</th>   <td>-3701.1610</td> <td> 2969.790</td> <td>   -1.246</td> <td> 0.215</td> <td>-9568.557</td> <td> 2166.235</td>\n",
       "</tr>\n",
       "<tr>\n",
       "  <th>num_of_cylinders_six</th>    <td>-4191.8673</td> <td> 1888.305</td> <td>   -2.220</td> <td> 0.028</td> <td>-7922.580</td> <td> -461.154</td>\n",
       "</tr>\n",
       "<tr>\n",
       "  <th>num_of_cylinders_three</th>  <td> 5166.0294</td> <td> 2930.390</td> <td>    1.763</td> <td> 0.080</td> <td> -623.524</td> <td>  1.1e+04</td>\n",
       "</tr>\n",
       "<tr>\n",
       "  <th>num_of_cylinders_twelve</th> <td>-4644.5323</td> <td> 3414.826</td> <td>   -1.360</td> <td> 0.176</td> <td>-1.14e+04</td> <td> 2102.119</td>\n",
       "</tr>\n",
       "<tr>\n",
       "  <th>fuel_system_2bbl</th>        <td> 1232.5193</td> <td> 1669.893</td> <td>    0.738</td> <td> 0.462</td> <td>-2066.679</td> <td> 4531.718</td>\n",
       "</tr>\n",
       "<tr>\n",
       "  <th>fuel_system_idi</th>         <td>-3100.9954</td> <td> 6838.360</td> <td>   -0.453</td> <td> 0.651</td> <td>-1.66e+04</td> <td> 1.04e+04</td>\n",
       "</tr>\n",
       "<tr>\n",
       "  <th>fuel_system_mfi</th>         <td>-1664.2412</td> <td> 3008.256</td> <td>   -0.553</td> <td> 0.581</td> <td>-7607.634</td> <td> 4279.152</td>\n",
       "</tr>\n",
       "<tr>\n",
       "  <th>fuel_system_mpfi</th>        <td> 1184.4278</td> <td> 1740.613</td> <td>    0.680</td> <td> 0.497</td> <td>-2254.491</td> <td> 4623.347</td>\n",
       "</tr>\n",
       "<tr>\n",
       "  <th>fuel_system_spdi</th>        <td> -336.3311</td> <td> 2083.020</td> <td>   -0.161</td> <td> 0.872</td> <td>-4451.741</td> <td> 3779.079</td>\n",
       "</tr>\n",
       "<tr>\n",
       "  <th>fuel_system_spfi</th>        <td>  391.1604</td> <td> 2753.747</td> <td>    0.142</td> <td> 0.887</td> <td>-5049.400</td> <td> 5831.721</td>\n",
       "</tr>\n",
       "</table>\n",
       "<table class=\"simpletable\">\n",
       "<tr>\n",
       "  <th>Omnibus:</th>       <td>22.923</td> <th>  Durbin-Watson:     </th> <td>   1.568</td>\n",
       "</tr>\n",
       "<tr>\n",
       "  <th>Prob(Omnibus):</th> <td> 0.000</td> <th>  Jarque-Bera (JB):  </th> <td>  42.210</td>\n",
       "</tr>\n",
       "<tr>\n",
       "  <th>Skew:</th>          <td> 0.601</td> <th>  Prob(JB):          </th> <td>6.83e-10</td>\n",
       "</tr>\n",
       "<tr>\n",
       "  <th>Kurtosis:</th>      <td> 4.950</td> <th>  Cond. No.          </th> <td>1.00e+16</td>\n",
       "</tr>\n",
       "</table><br/><br/>Warnings:<br/>[1] Standard Errors assume that the covariance matrix of the errors is correctly specified.<br/>[2] The smallest eigenvalue is 5.02e-23. This might indicate that there are<br/>strong multicollinearity problems or that the design matrix is singular."
      ],
      "text/plain": [
       "<class 'statsmodels.iolib.summary.Summary'>\n",
       "\"\"\"\n",
       "                            OLS Regression Results                            \n",
       "==============================================================================\n",
       "Dep. Variable:                  price   R-squared:                       0.950\n",
       "Model:                            OLS   Adj. R-squared:                  0.936\n",
       "Method:                 Least Squares   F-statistic:                     71.58\n",
       "Date:                Sat, 12 Sep 2020   Prob (F-statistic):           4.20e-80\n",
       "Time:                        13:59:03   Log-Likelihood:                -1721.7\n",
       "No. Observations:                 193   AIC:                             3525.\n",
       "Df Residuals:                     152   BIC:                             3659.\n",
       "Df Model:                          40                                         \n",
       "Covariance Type:            nonrobust                                         \n",
       "===========================================================================================\n",
       "                              coef    std err          t      P>|t|      [0.025      0.975]\n",
       "-------------------------------------------------------------------------------------------\n",
       "Intercept               -2.722e+04   1.06e+04     -2.561      0.011   -4.82e+04   -6220.634\n",
       "width                    1280.1821    189.841      6.743      0.000     905.115    1655.249\n",
       "height                     42.0143    123.545      0.340      0.734    -202.073     286.102\n",
       "engine_size               114.4091     19.280      5.934      0.000      76.318     152.500\n",
       "bore                    -2817.6281   1647.909     -1.710      0.089   -6073.392     438.136\n",
       "stroke                  -2574.5837    948.974     -2.713      0.007   -4449.466    -699.701\n",
       "compression_ratio       -1303.7665    437.657     -2.979      0.003   -2168.443    -439.090\n",
       "peak_rpm                    1.3552      0.602      2.252      0.026       0.166       2.544\n",
       "highway_mpg               -20.2222     61.285     -0.330      0.742    -141.304     100.859\n",
       "make_dodge              -7168.5284   1672.395     -4.286      0.000   -1.05e+04   -3864.387\n",
       "make_honda              -5806.2025   2178.434     -2.665      0.009   -1.01e+04   -1502.284\n",
       "make_mazda              -7692.2513   1502.041     -5.121      0.000   -1.07e+04   -4724.677\n",
       "make_mitsubishi         -8320.7998   1708.986     -4.869      0.000   -1.17e+04   -4944.366\n",
       "make_nissan             -7004.0401   1489.787     -4.701      0.000   -9947.403   -4060.677\n",
       "make_other              -6020.3650   1453.599     -4.142      0.000   -8892.231   -3148.499\n",
       "make_peugot             -8273.2459   2082.096     -3.974      0.000   -1.24e+04   -4159.661\n",
       "make_subaru             -1.009e+04   1664.387     -6.064      0.000   -1.34e+04   -6805.263\n",
       "make_toyota             -8088.3371   1374.808     -5.883      0.000   -1.08e+04   -5372.138\n",
       "make_volkswagen         -7681.3514   1543.844     -4.975      0.000   -1.07e+04   -4631.188\n",
       "make_volvo              -6613.4482   1293.685     -5.112      0.000   -9169.374   -4057.522\n",
       "fuel_type_gas           -2.412e+04   5340.862     -4.516      0.000   -3.47e+04   -1.36e+04\n",
       "num_of_doors_two         -282.2441    525.088     -0.538      0.592   -1319.658     755.170\n",
       "body_style_hardtop      -2688.9624   1214.730     -2.214      0.028   -5088.897    -289.028\n",
       "body_style_hatchback    -2913.2781   1068.893     -2.726      0.007   -5025.083    -801.474\n",
       "body_style_sedan        -2736.9679   1150.062     -2.380      0.019   -5009.138    -464.798\n",
       "body_style_wagon        -3120.2695   1317.588     -2.368      0.019   -5723.421    -517.118\n",
       "drive_wheels_fwd        -1451.5719    937.694     -1.548      0.124   -3304.169     401.025\n",
       "drive_wheels_rwd         -214.7892   1157.294     -0.186      0.853   -2501.248    2071.669\n",
       "engine_location_rear      1.13e+04   1614.261      7.000      0.000    8110.440    1.45e+04\n",
       "engine_type_l           -3107.2165   1469.162     -2.115      0.036   -6009.831    -204.602\n",
       "engine_type_ohc          -332.3007   1018.180     -0.326      0.745   -2343.913    1679.312\n",
       "engine_type_ohcf         1206.1420    918.271      1.313      0.191    -608.081    3020.365\n",
       "engine_type_ohcv        -3995.0314   1238.079     -3.227      0.002   -6441.097   -1548.966\n",
       "num_of_cylinders_five   -4881.1319   2680.763     -1.821      0.071   -1.02e+04     415.236\n",
       "num_of_cylinders_four   -3701.1610   2969.790     -1.246      0.215   -9568.557    2166.235\n",
       "num_of_cylinders_six    -4191.8673   1888.305     -2.220      0.028   -7922.580    -461.154\n",
       "num_of_cylinders_three   5166.0294   2930.390      1.763      0.080    -623.524     1.1e+04\n",
       "num_of_cylinders_twelve -4644.5323   3414.826     -1.360      0.176   -1.14e+04    2102.119\n",
       "fuel_system_2bbl         1232.5193   1669.893      0.738      0.462   -2066.679    4531.718\n",
       "fuel_system_idi         -3100.9954   6838.360     -0.453      0.651   -1.66e+04    1.04e+04\n",
       "fuel_system_mfi         -1664.2412   3008.256     -0.553      0.581   -7607.634    4279.152\n",
       "fuel_system_mpfi         1184.4278   1740.613      0.680      0.497   -2254.491    4623.347\n",
       "fuel_system_spdi         -336.3311   2083.020     -0.161      0.872   -4451.741    3779.079\n",
       "fuel_system_spfi          391.1604   2753.747      0.142      0.887   -5049.400    5831.721\n",
       "==============================================================================\n",
       "Omnibus:                       22.923   Durbin-Watson:                   1.568\n",
       "Prob(Omnibus):                  0.000   Jarque-Bera (JB):               42.210\n",
       "Skew:                           0.601   Prob(JB):                     6.83e-10\n",
       "Kurtosis:                       4.950   Cond. No.                     1.00e+16\n",
       "==============================================================================\n",
       "\n",
       "Warnings:\n",
       "[1] Standard Errors assume that the covariance matrix of the errors is correctly specified.\n",
       "[2] The smallest eigenvalue is 5.02e-23. This might indicate that there are\n",
       "strong multicollinearity problems or that the design matrix is singular.\n",
       "\"\"\""
      ]
     },
     "execution_count": 73,
     "metadata": {},
     "output_type": "execute_result"
    }
   ],
   "source": [
    "#see the summary of the results \n",
    "results = model_ols.fit()\n",
    "results.summary()"
   ]
  },
  {
   "cell_type": "markdown",
   "metadata": {},
   "source": [
    "### Interpretation of the results of Linear Regression\n",
    "R-squared and F-statistics: As Prob (F-statistic) shows our model is statistically significant at 5%(even 1%) significance level, so there is at least one estimated coefficient (besides intercept) that is not null. R-squared is quite big number and it shows that 95% of variance in car prices is explained by the variables included in the model.\n",
    "\n",
    "Adj. R-squared: As summary shows it's 93.6%. It is close to R-squared,but anyway there is some difference which means that there are not important variables included in the model.\n",
    "\n",
    "Statistically significant variables: \n",
    "  - engine_size has a p-value equal to zero which means that it is statsitically significant, and as the coefficient is positive it's effect on price is positive.\n",
    "  - bore has a p-value equal to 0.089 which means it is not statistically significant at 95% conidence interval, but is significant at 90%. So if 90% is acceptable we can say that it has a negative effect on price.\n",
    "  - num_of_doors_two has a big p-value, which means it is not a statistically significant variable and no need to interpret it's effect. \n",
    "  \n",
    "Coefficients (continous variable): \n",
    " - For each unit increase in width we will experience on average about 1280 dollars increase in mean price of a car. Please not that we interpret a statistically significant variable.\n",
    " \n",
    "Coefficients (categorical variable)\n",
    "- the reference category for fuel type is diesel. So if a car fueltype is gas rather than diesel then on average 24120 dollars increase is expected in mean price of a car. Please not that we interpret a statistically significant variable.\n",
    "\n",
    "Final Model\n",
    "\n",
    "Please note that if the variable is in the model and you have no possibility or you do not want to remove it it should be in the final model formulation even if it is not statistically significant\n",
    "\n",
    "Price = -27220 + 1280.1821 width + 42.0143 heigth + 114.4091 engine_size ............"
   ]
  },
  {
   "cell_type": "markdown",
   "metadata": {},
   "source": [
    "# Model diagnostics"
   ]
  },
  {
   "cell_type": "code",
   "execution_count": 74,
   "metadata": {},
   "outputs": [
    {
     "data": {
      "text/plain": [
       "0   -2937.421955\n",
       "1      67.578045\n",
       "2    2793.860977\n",
       "3    2776.110700\n",
       "4    -109.881783\n",
       "5     314.919468\n",
       "6   -4145.490491\n",
       "7   -2552.188899\n",
       "8    2052.229888\n",
       "9   -2474.717075\n",
       "dtype: float64"
      ]
     },
     "execution_count": 74,
     "metadata": {},
     "output_type": "execute_result"
    }
   ],
   "source": [
    "#residuals of the model\n",
    "residuals=results.resid\n",
    "residuals.head(10)"
   ]
  },
  {
   "cell_type": "code",
   "execution_count": 75,
   "metadata": {},
   "outputs": [],
   "source": [
    "pred_values=results.predict()"
   ]
  },
  {
   "cell_type": "markdown",
   "metadata": {},
   "source": [
    "### Linearity and Equal variance"
   ]
  },
  {
   "cell_type": "code",
   "execution_count": 76,
   "metadata": {},
   "outputs": [
    {
     "data": {
      "image/png": "[encoded data removed]",
      "text/plain": [
       "<Figure size 720x360 with 1 Axes>"
      ]
     },
     "metadata": {
      "needs_background": "light"
     },
     "output_type": "display_data"
    }
   ],
   "source": [
    "#lets plot predicted values vs residuals to see whether there is any pattern or no\n",
    "plt.figure(figsize=(10,5))\n",
    "plt.scatter(pred_values,residuals)\n",
    "plt.axhline(y=0, c=\"red\")\n",
    "plt.title(\"Residual vs Pred values\")\n",
    "plt.ylabel(\"Residuals\")\n",
    "plt.xlabel(\"Predicted values\")\n",
    "plt.show()"
   ]
  },
  {
   "cell_type": "markdown",
   "metadata": {},
   "source": [
    "The residuals vs fitted values plot pattern is random, however we can see an increasing variance as the values increase.\n",
    "Hence, the visual evidence in this case is not enough to make conclusions."
   ]
  },
  {
   "cell_type": "code",
   "execution_count": 77,
   "metadata": {},
   "outputs": [
    {
     "name": "stdout",
     "output_type": "stream",
     "text": [
      "[('Lagrange multiplier statistic', 44.96107267581521), ('p-value', 0.38972523502335366), ('f-value', 1.1541023652107085), ('f p-value', 0.26588745151044174)]\n"
     ]
    }
   ],
   "source": [
    "#Breusch-Pagan test for homoscedasticity\n",
    "#The null hypothesis assumes homoskedasticity\n",
    "bnames = ['Lagrange multiplier statistic', 'p-value',\n",
    "        'f-value', 'f p-value']\n",
    "breush = het_breuschpagan(residuals, results.model.exog)\n",
    "print(list(zip(bnames, breush)))"
   ]
  },
  {
   "cell_type": "markdown",
   "metadata": {},
   "source": [
    "We have a big p-value, so we have not enough evidence to reject the homoscedasticity assumtion.\n",
    "Homoscedasticity assumption is held."
   ]
  },
  {
   "cell_type": "code",
   "execution_count": 78,
   "metadata": {},
   "outputs": [
    {
     "name": "stdout",
     "output_type": "stream",
     "text": [
      "[('fstat', 2.534946655827095), ('p-value', 4.495479086036464e-05)]\n"
     ]
    }
   ],
   "source": [
    "#Rainbow test for linearity \n",
    "#The null hypothesis assumes linearity\n",
    "rnames=[\"fstat\", \"p-value\"]\n",
    "rainbow=linear_rainbow(results)\n",
    "print(list(zip(rnames, rainbow)))"
   ]
  },
  {
   "cell_type": "markdown",
   "metadata": {},
   "source": [
    "Linearity assumption is not held, since we have a small p-value."
   ]
  },
  {
   "cell_type": "markdown",
   "metadata": {},
   "source": [
    "### Normality"
   ]
  },
  {
   "cell_type": "code",
   "execution_count": 79,
   "metadata": {},
   "outputs": [
    {
     "data": {
      "image/png": "[encoded data removed]",
      "text/plain": [
       "<Figure size 432x288 with 1 Axes>"
      ]
     },
     "metadata": {
      "needs_background": "light"
     },
     "output_type": "display_data"
    }
   ],
   "source": [
    "#distribution of residuals\n",
    "sns.distplot(residuals)\n",
    "plt.show()"
   ]
  },
  {
   "cell_type": "code",
   "execution_count": 80,
   "metadata": {},
   "outputs": [
    {
     "data": {
      "image/png": "[encoded data removed]",
      "text/plain": [
       "<Figure size 432x288 with 1 Axes>"
      ]
     },
     "metadata": {
      "needs_background": "light"
     },
     "output_type": "display_data"
    }
   ],
   "source": [
    "#QQ plot\n",
    "qqplot(residuals,fit=True, line='45')\n",
    "plt.show()"
   ]
  },
  {
   "cell_type": "code",
   "execution_count": 81,
   "metadata": {},
   "outputs": [
    {
     "name": "stdout",
     "output_type": "stream",
     "text": [
      "[('The test statistic', 0.9731272459030151), ('p-value', 0.0009106879588216543)]\n"
     ]
    }
   ],
   "source": [
    "#Shapiro-Wilk normality test. \n",
    "#The null-hypothesis of this test is that the data was drawn from a normal distribution\n",
    "snames=['The test statistic', 'p-value']\n",
    "shapiro=shapiro(residuals)\n",
    "print(list(zip(snames, shapiro)))"
   ]
  },
  {
   "cell_type": "markdown",
   "metadata": {},
   "source": [
    "The normality seems to be held from plots, but the small p-value for the Shapiro-Wilk test shows that we have enough evidence to reject H0, so the normality assumption is not held."
   ]
  }
 ],
 "metadata": {
  "kernelspec": {
   "display_name": "Python 3",
   "language": "python",
   "name": "python3"
  },
  "language_info": {
   "codemirror_mode": {
    "name": "ipython",
    "version": 3
   },
   "file_extension": ".py",
   "mimetype": "text/x-python",
   "name": "python",
   "nbconvert_exporter": "python",
   "pygments_lexer": "ipython3",
   "version": "3.8.3"
  }
 },
 "nbformat": 4,
 "nbformat_minor": 4
}
