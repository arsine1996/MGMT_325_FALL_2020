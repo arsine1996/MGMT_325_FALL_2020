{
   "cell_type": "markdown",
   "metadata": {},
   "source": [
    "# Linear Regression Extended"
   ]
  },{
 "cells": [
  {
   "cell_type": "code",
   "execution_count": 287,
   "metadata": {},
   "outputs": [],
   "source": [
    "import pandas as pd\n",
    "import matplotlib.pyplot as plt\n",
    "import numpy as np\n",
    "from statsmodels.formula.api import ols #for linear regression\n",
    "import seaborn as sns #for heatmap\n",
    "import statsmodels.api as sm\n",
    "from scipy import stats\n",
    "from sklearn.metrics import r2_score #R-squared\n",
    "from sklearn.model_selection import train_test_split #for train and test split\n",
    "from statsmodels.api import qqplot \n",
    "from scipy.stats import shapiro,ttest_ind\n",
    "from statsmodels.stats.diagnostic import het_breuschpagan,linear_rainbow  \n",
    "from sklearn import linear_model"
   ]
  },
  {
   "cell_type": "markdown",
   "metadata": {},
   "source": [
    "# Data Description & Pre-Processing"
   ]
  },
  {
   "cell_type": "code",
   "execution_count": 288,
   "metadata": {},
   "outputs": [],
   "source": [
    "# read the data\n",
    "data = pd.read_csv(\"HPI.csv\")"
   ]
  },
  {
   "cell_type": "code",
   "execution_count": 289,
   "metadata": {},
   "outputs": [
    {
     "data": {
      "text/html": [
       "<div>\n",
       "<style scoped>\n",
       "    .dataframe tbody tr th:only-of-type {\n",
       "        vertical-align: middle;\n",
       "    }\n",
       "\n",
       "    .dataframe tbody tr th {\n",
       "        vertical-align: top;\n",
       "    }\n",
       "\n",
       "    .dataframe thead th {\n",
       "        text-align: right;\n",
       "    }\n",
       "</style>\n",
       "<table border=\"1\" class=\"dataframe\">\n",
       "  <thead>\n",
       "    <tr style=\"text-align: right;\">\n",
       "      <th></th>\n",
       "      <th>City</th>\n",
       "      <th>Floor</th>\n",
       "      <th>Rooms</th>\n",
       "      <th>Sqm</th>\n",
       "      <th>District</th>\n",
       "      <th>Broker</th>\n",
       "      <th>Currency</th>\n",
       "      <th>HTML_ID</th>\n",
       "      <th>Agency</th>\n",
       "      <th>Type</th>\n",
       "      <th>Source</th>\n",
       "      <th>nFloor</th>\n",
       "      <th>Price</th>\n",
       "      <th>ID</th>\n",
       "      <th>Price_USD</th>\n",
       "      <th>price_per_sqm</th>\n",
       "    </tr>\n",
       "  </thead>\n",
       "  <tbody>\n",
       "    <tr>\n",
       "      <th>0</th>\n",
       "      <td>Երևան</td>\n",
       "      <td>9.0</td>\n",
       "      <td>3.0</td>\n",
       "      <td>124.0</td>\n",
       "      <td>կենտրոն</td>\n",
       "      <td>գործակալ</td>\n",
       "      <td>$</td>\n",
       "      <td>0</td>\n",
       "      <td>1.0</td>\n",
       "      <td>Մոնոլիտ</td>\n",
       "      <td>my_realty</td>\n",
       "      <td>10.0</td>\n",
       "      <td>250000.0</td>\n",
       "      <td>93497.0</td>\n",
       "      <td>250000.0</td>\n",
       "      <td>2016.13</td>\n",
       "    </tr>\n",
       "    <tr>\n",
       "      <th>1</th>\n",
       "      <td>Երևան</td>\n",
       "      <td>1.0</td>\n",
       "      <td>4.0</td>\n",
       "      <td>84.0</td>\n",
       "      <td>քանաքեռ_զեյթուն</td>\n",
       "      <td>գործակալություն</td>\n",
       "      <td>$</td>\n",
       "      <td>1</td>\n",
       "      <td>1.0</td>\n",
       "      <td>Քարե</td>\n",
       "      <td>my_realty</td>\n",
       "      <td>2.0</td>\n",
       "      <td>70000.0</td>\n",
       "      <td>93495.0</td>\n",
       "      <td>70000.0</td>\n",
       "      <td>833.33</td>\n",
       "    </tr>\n",
       "    <tr>\n",
       "      <th>2</th>\n",
       "      <td>Երևան</td>\n",
       "      <td>1.0</td>\n",
       "      <td>2.0</td>\n",
       "      <td>58.0</td>\n",
       "      <td>մալաթիա_սեբաստիա</td>\n",
       "      <td>գործակալ</td>\n",
       "      <td>$</td>\n",
       "      <td>2</td>\n",
       "      <td>1.0</td>\n",
       "      <td>Պանելային</td>\n",
       "      <td>my_realty</td>\n",
       "      <td>9.0</td>\n",
       "      <td>48000.0</td>\n",
       "      <td>93490.0</td>\n",
       "      <td>48000.0</td>\n",
       "      <td>827.59</td>\n",
       "    </tr>\n",
       "    <tr>\n",
       "      <th>3</th>\n",
       "      <td>Երևան</td>\n",
       "      <td>5.0</td>\n",
       "      <td>2.0</td>\n",
       "      <td>64.0</td>\n",
       "      <td>արաբկիր</td>\n",
       "      <td>գործակալություն</td>\n",
       "      <td>$</td>\n",
       "      <td>3</td>\n",
       "      <td>1.0</td>\n",
       "      <td>Քարե</td>\n",
       "      <td>my_realty</td>\n",
       "      <td>5.0</td>\n",
       "      <td>80000.0</td>\n",
       "      <td>85156.0</td>\n",
       "      <td>80000.0</td>\n",
       "      <td>1250.00</td>\n",
       "    </tr>\n",
       "    <tr>\n",
       "      <th>4</th>\n",
       "      <td>Երևան</td>\n",
       "      <td>1.0</td>\n",
       "      <td>3.0</td>\n",
       "      <td>65.0</td>\n",
       "      <td>կենտրոն</td>\n",
       "      <td>գործակալություն</td>\n",
       "      <td>$</td>\n",
       "      <td>4</td>\n",
       "      <td>1.0</td>\n",
       "      <td>Քարե</td>\n",
       "      <td>my_realty</td>\n",
       "      <td>14.0</td>\n",
       "      <td>62000.0</td>\n",
       "      <td>59140.0</td>\n",
       "      <td>62000.0</td>\n",
       "      <td>953.85</td>\n",
       "    </tr>\n",
       "  </tbody>\n",
       "</table>\n",
       "</div>"
      ],
      "text/plain": [
       "    City Floor  Rooms    Sqm          District           Broker Currency  \\\n",
       "0  Երևան   9.0    3.0  124.0           կենտրոն         գործակալ        $   \n",
       "1  Երևան   1.0    4.0   84.0   քանաքեռ_զեյթուն  գործակալություն        $   \n",
       "2  Երևան   1.0    2.0   58.0  մալաթիա_սեբաստիա         գործակալ        $   \n",
       "3  Երևան   5.0    2.0   64.0           արաբկիր  գործակալություն        $   \n",
       "4  Երևան   1.0    3.0   65.0           կենտրոն  գործակալություն        $   \n",
       "\n",
       "   HTML_ID  Agency       Type     Source  nFloor     Price       ID  \\\n",
       "0        0     1.0    Մոնոլիտ  my_realty    10.0  250000.0  93497.0   \n",
       "1        1     1.0       Քարե  my_realty     2.0   70000.0  93495.0   \n",
       "2        2     1.0  Պանելային  my_realty     9.0   48000.0  93490.0   \n",
       "3        3     1.0       Քարե  my_realty     5.0   80000.0  85156.0   \n",
       "4        4     1.0       Քարե  my_realty    14.0   62000.0  59140.0   \n",
       "\n",
       "   Price_USD  price_per_sqm  \n",
       "0   250000.0        2016.13  \n",
       "1    70000.0         833.33  \n",
       "2    48000.0         827.59  \n",
       "3    80000.0        1250.00  \n",
       "4    62000.0         953.85  "
      ]
     },
     "execution_count": 289,
     "metadata": {},
     "output_type": "execute_result"
    }
   ],
   "source": [
    "data.head()"
   ]
  },
  {
   "cell_type": "code",
   "execution_count": 290,
   "metadata": {},
   "outputs": [
    {
     "name": "stdout",
     "output_type": "stream",
     "text": [
      "['City', 'Floor', 'Rooms', 'Sqm', 'District', 'Broker', 'Currency', 'HTML_ID', 'Agency', 'Type', 'Source', 'nFloor', 'Price', 'ID', 'Price_USD', 'price_per_sqm']\n"
     ]
    }
   ],
   "source": [
    "# examine column names\n",
    "print(data.columns.tolist())"
   ]
  },
  {
   "cell_type": "code",
   "execution_count": 291,
   "metadata": {},
   "outputs": [
    {
     "name": "stdout",
     "output_type": "stream",
     "text": [
      "<class 'pandas.core.frame.DataFrame'>\n",
      "RangeIndex: 31117 entries, 0 to 31116\n",
      "Data columns (total 16 columns):\n",
      " #   Column         Non-Null Count  Dtype  \n",
      "---  ------         --------------  -----  \n",
      " 0   City           31117 non-null  object \n",
      " 1   Floor          31117 non-null  object \n",
      " 2   Rooms          31117 non-null  float64\n",
      " 3   Sqm            31117 non-null  float64\n",
      " 4   District       31117 non-null  object \n",
      " 5   Broker         10794 non-null  object \n",
      " 6   Currency       31117 non-null  object \n",
      " 7   HTML_ID        31117 non-null  int64  \n",
      " 8   Agency         31117 non-null  float64\n",
      " 9   Type           31117 non-null  object \n",
      " 10  Source         31117 non-null  object \n",
      " 11  nFloor         31117 non-null  float64\n",
      " 12  Price          31117 non-null  float64\n",
      " 13  ID             31117 non-null  float64\n",
      " 14  Price_USD      31117 non-null  float64\n",
      " 15  price_per_sqm  31117 non-null  float64\n",
      "dtypes: float64(8), int64(1), object(7)\n",
      "memory usage: 3.8+ MB\n"
     ]
    }
   ],
   "source": [
    "data.info()"
   ]
  },
  {
   "cell_type": "code",
   "execution_count": 292,
   "metadata": {},
   "outputs": [
    {
     "name": "stdout",
     "output_type": "stream",
     "text": [
      "Type_Old: <class 'str'>\n"
     ]
    }
   ],
   "source": [
    "# we sede some mistake becayse Floor isn in the object part, but it need to be numeric\n",
    "# after checking its type we see that it is mistakenly understood as a string, so we need to change it to number\n",
    "print('Type_Old:', type(data.Floor.iloc[0]))"
   ]
  },
  {
   "cell_type": "code",
   "execution_count": 293,
   "metadata": {},
   "outputs": [
    {
     "data": {
      "text/plain": [
       "array(['9.0', '1.0', '5.0', '3.0', '2.0', '14.0', '4.0', '12.0', '7.0',\n",
       "       '8.0', '10.0', '6.0', '16.0', '11.0', '13.0', '15.0', '17.0',\n",
       "       '20.0', '21.0', '19.0', '22.0', '18.0', '0.0', '23.0', '4 ', '10 ',\n",
       "       '2 ', '3 ', '1 ', '7 ', '12 ', '9 ', '8 ', '14 ', '5 ', '6 ',\n",
       "       '13 ', '11 ', '15 ', '16 ', '18 ', '17 ', 'Նկուղ ', '22 ', '19 ',\n",
       "       '21 ', '23 '], dtype=object)"
      ]
     },
     "execution_count": 293,
     "metadata": {},
     "output_type": "execute_result"
    }
   ],
   "source": [
    "data.Floor.unique()"
   ]
  },
  {
   "cell_type": "code",
   "execution_count": 294,
   "metadata": {
    "scrolled": true
   },
   "outputs": [
    {
     "data": {
      "text/html": [
       "<div>\n",
       "<style scoped>\n",
       "    .dataframe tbody tr th:only-of-type {\n",
       "        vertical-align: middle;\n",
       "    }\n",
       "\n",
       "    .dataframe tbody tr th {\n",
       "        vertical-align: top;\n",
       "    }\n",
       "\n",
       "    .dataframe thead th {\n",
       "        text-align: right;\n",
       "    }\n",
       "</style>\n",
       "<table border=\"1\" class=\"dataframe\">\n",
       "  <thead>\n",
       "    <tr style=\"text-align: right;\">\n",
       "      <th></th>\n",
       "      <th>City</th>\n",
       "      <th>Floor</th>\n",
       "      <th>Rooms</th>\n",
       "      <th>Sqm</th>\n",
       "      <th>District</th>\n",
       "      <th>Broker</th>\n",
       "      <th>Currency</th>\n",
       "      <th>HTML_ID</th>\n",
       "      <th>Agency</th>\n",
       "      <th>Type</th>\n",
       "      <th>Source</th>\n",
       "      <th>nFloor</th>\n",
       "      <th>Price</th>\n",
       "      <th>ID</th>\n",
       "      <th>Price_USD</th>\n",
       "      <th>price_per_sqm</th>\n",
       "    </tr>\n",
       "  </thead>\n",
       "  <tbody>\n",
       "    <tr>\n",
       "      <th>8250</th>\n",
       "      <td>Երևան</td>\n",
       "      <td>Նկուղ</td>\n",
       "      <td>3.0</td>\n",
       "      <td>100.0</td>\n",
       "      <td>արաբկիր</td>\n",
       "      <td>ԿԵՆՏՐՈՆ</td>\n",
       "      <td>$</td>\n",
       "      <td>467</td>\n",
       "      <td>1.0</td>\n",
       "      <td>Այլ</td>\n",
       "      <td>real_estate</td>\n",
       "      <td>3.0</td>\n",
       "      <td>110000.0</td>\n",
       "      <td>4420.0</td>\n",
       "      <td>110000.0</td>\n",
       "      <td>1100.00</td>\n",
       "    </tr>\n",
       "    <tr>\n",
       "      <th>9803</th>\n",
       "      <td>Երևան</td>\n",
       "      <td>Նկուղ</td>\n",
       "      <td>3.0</td>\n",
       "      <td>110.0</td>\n",
       "      <td>արաբկիր</td>\n",
       "      <td>ՆաիրաԴանիելյան</td>\n",
       "      <td>$</td>\n",
       "      <td>2037</td>\n",
       "      <td>1.0</td>\n",
       "      <td>Քարե</td>\n",
       "      <td>real_estate</td>\n",
       "      <td>1.0</td>\n",
       "      <td>123000.0</td>\n",
       "      <td>110032.0</td>\n",
       "      <td>123000.0</td>\n",
       "      <td>1118.18</td>\n",
       "    </tr>\n",
       "  </tbody>\n",
       "</table>\n",
       "</div>"
      ],
      "text/plain": [
       "       City   Floor  Rooms    Sqm District          Broker Currency  HTML_ID  \\\n",
       "8250  Երևան  Նկուղ     3.0  100.0  արաբկիր         ԿԵՆՏՐՈՆ        $      467   \n",
       "9803  Երևան  Նկուղ     3.0  110.0  արաբկիր  ՆաիրաԴանիելյան        $     2037   \n",
       "\n",
       "      Agency  Type       Source  nFloor     Price        ID  Price_USD  \\\n",
       "8250     1.0   Այլ  real_estate     3.0  110000.0    4420.0   110000.0   \n",
       "9803     1.0  Քարե  real_estate     1.0  123000.0  110032.0   123000.0   \n",
       "\n",
       "      price_per_sqm  \n",
       "8250        1100.00  \n",
       "9803        1118.18  "
      ]
     },
     "execution_count": 294,
     "metadata": {},
     "output_type": "execute_result"
    }
   ],
   "source": [
    "data[data.Floor=='Նկուղ ']"
   ]
  },
  {
   "cell_type": "code",
   "execution_count": 295,
   "metadata": {},
   "outputs": [],
   "source": [
    "data = data[data.Floor!='Նկուղ '].reset_index(drop=True)\n",
    "data.Floor = data.Floor.astype(float)"
   ]
  },
  {
   "cell_type": "code",
   "execution_count": 296,
   "metadata": {},
   "outputs": [
    {
     "data": {
      "text/plain": [
       "կենտրոն             9603\n",
       "արաբկիր             7062\n",
       "0                   2688\n",
       "շենգավիթ            2376\n",
       "աջափնյակ            1612\n",
       "նորք                1532\n",
       "դավթաշեն            1458\n",
       "մալաթիա             1233\n",
       "ավան                 905\n",
       "քանաքեռ              893\n",
       "նոր_նորք             516\n",
       "էրեբունի             468\n",
       "քանաքեռ_զեյթուն      410\n",
       "մալաթիա_սեբաստիա     328\n",
       "այլ                   31\n",
       "Name: District, dtype: int64"
      ]
     },
     "execution_count": 296,
     "metadata": {},
     "output_type": "execute_result"
    }
   ],
   "source": [
    "data.District.value_counts()"
   ]
  },
  {
   "cell_type": "code",
   "execution_count": 297,
   "metadata": {},
   "outputs": [],
   "source": [
    "# combine District values 0 and այլ, because they convey the sane meaning\n",
    "data.District = np.where(data.District == '0', 'այլ', data.District)"
   ]
  },
  {
   "cell_type": "code",
   "execution_count": 298,
   "metadata": {},
   "outputs": [
    {
     "name": "stdout",
     "output_type": "stream",
     "text": [
      "City 5 \n",
      " երևան      19723\n",
      "Երևան      10792\n",
      "yerevan      539\n",
      "ереван        56\n",
      "erevan         5\n",
      "Name: City, dtype: int64\n",
      "Rooms 7 \n",
      " 3.0    13755\n",
      "2.0     8433\n",
      "4.0     4895\n",
      "1.0     3195\n",
      "5.0      629\n",
      "6.0      158\n",
      "7.0       50\n",
      "Name: Rooms, dtype: int64\n",
      "Currency 3 \n",
      " $    31105\n",
      "€        6\n",
      "֏        4\n",
      "Name: Currency, dtype: int64\n",
      "Agency 2 \n",
      " 1.0    30629\n",
      "0.0      486\n",
      "Name: Agency, dtype: int64\n",
      "Type 6 \n",
      " Քարե         12355\n",
      "Պանելային    11546\n",
      "Մոնոլիտ       6350\n",
      "Այլ            717\n",
      "Կասետային      141\n",
      "Աղյուսե          6\n",
      "Name: Type, dtype: int64\n",
      "Source 3 \n",
      " list_am        20323\n",
      "my_realty       7790\n",
      "real_estate     3002\n",
      "Name: Source, dtype: int64\n"
     ]
    }
   ],
   "source": [
    "# examine columns, which have number of unique values smaller than 10\n",
    "for i in data.columns.tolist():\n",
    "    if data[i].nunique()<=10:\n",
    "        print(i, data[i].nunique(),\"\\n\", data[i].value_counts())"
   ]
  },
  {
   "cell_type": "code",
   "execution_count": 299,
   "metadata": {},
   "outputs": [
    {
     "data": {
      "text/plain": [
       "կենտրոն             9603\n",
       "արաբկիր             7062\n",
       "այլ                 2719\n",
       "շենգավիթ            2376\n",
       "աջափնյակ            1612\n",
       "նորք                1532\n",
       "դավթաշեն            1458\n",
       "մալաթիա             1233\n",
       "ավան                 905\n",
       "քանաքեռ              893\n",
       "նոր_նորք             516\n",
       "էրեբունի             468\n",
       "քանաքեռ_զեյթուն      410\n",
       "մալաթիա_սեբաստիա     328\n",
       "Name: District, dtype: int64"
      ]
     },
     "execution_count": 299,
     "metadata": {},
     "output_type": "execute_result"
    }
   ],
   "source": [
    "data['District'].value_counts()"
   ]
  },
  {
   "cell_type": "code",
   "execution_count": 300,
   "metadata": {},
   "outputs": [
    {
     "data": {
      "text/plain": [
       "City                 0\n",
       "Floor                0\n",
       "Rooms                0\n",
       "Sqm                  0\n",
       "District             0\n",
       "Broker           20323\n",
       "Currency             0\n",
       "HTML_ID              0\n",
       "Agency               0\n",
       "Type                 0\n",
       "Source               0\n",
       "nFloor               0\n",
       "Price                0\n",
       "ID                   0\n",
       "Price_USD            0\n",
       "price_per_sqm        0\n",
       "dtype: int64"
      ]
     },
     "execution_count": 300,
     "metadata": {},
     "output_type": "execute_result"
    }
   ],
   "source": [
    "# check for missing values\n",
    "data.isna().sum()"
   ]
  },
  {
   "cell_type": "code",
   "execution_count": 301,
   "metadata": {},
   "outputs": [
    {
     "data": {
      "text/plain": [
       "գործակալ           3902\n",
       "գործակալություն    3888\n",
       "ԿԵՆՏՐՈՆ             921\n",
       "ՆվերՎանեսյան        305\n",
       "Գրիգոր              288\n",
       "Աղաս                220\n",
       "Արզուման            210\n",
       "ՆաիրաԴանիելյան      194\n",
       "Արամ                191\n",
       "Արիս                155\n",
       "Գայանե              153\n",
       "Նարեկ               125\n",
       "ՍևակՄելիքսեթյան      65\n",
       "Լիլիթ                65\n",
       "ՏիգրանԹավադյան       39\n",
       "ԱրամԱվագյան          30\n",
       "Սյուզի               22\n",
       "Գևորգ                19\n",
       "Name: Broker, dtype: int64"
      ]
     },
     "execution_count": 301,
     "metadata": {},
     "output_type": "execute_result"
    }
   ],
   "source": [
    "#lets check what values we have for the column with missing values (Broker)\n",
    "# as it includes mainly names we can fillna with values 'other'\n",
    "# also we see that the top 2 values are actually the same so we need to replace one with the another\n",
    "data.Broker.value_counts()"
   ]
  },
  {
   "cell_type": "code",
   "execution_count": 302,
   "metadata": {},
   "outputs": [
    {
     "data": {
      "text/plain": [
       "other              20323\n",
       "գործակալ            7790\n",
       "ԿԵՆՏՐՈՆ              921\n",
       "ՆվերՎանեսյան         305\n",
       "Գրիգոր               288\n",
       "Աղաս                 220\n",
       "Արզուման             210\n",
       "ՆաիրաԴանիելյան       194\n",
       "Արամ                 191\n",
       "Արիս                 155\n",
       "Գայանե               153\n",
       "Նարեկ                125\n",
       "ՍևակՄելիքսեթյան       65\n",
       "Լիլիթ                 65\n",
       "ՏիգրանԹավադյան        39\n",
       "ԱրամԱվագյան           30\n",
       "Սյուզի                22\n",
       "Գևորգ                 19\n",
       "Name: Broker, dtype: int64"
      ]
     },
     "execution_count": 302,
     "metadata": {},
     "output_type": "execute_result"
    }
   ],
   "source": [
    "data.Broker = data.Broker.fillna('other') \n",
    "data.Broker = np.where(data.Broker=='գործակալություն', 'գործակալ', data.Broker)\n",
    "#lets check again, whether everything worked\n",
    "data.Broker.value_counts()"
   ]
  },
  {
   "cell_type": "code",
   "execution_count": 303,
   "metadata": {},
   "outputs": [],
   "source": [
    "# we see that for the city feature we have only Yerevan\n",
    "# HTML_ID & ID are actually categorical values and they do not have numeric meaning \n",
    "# usually id-type columns do not have numerical meaning, so we need to remove them\n",
    "# price_per_sqm convery information from Y and result in reverse causality\n",
    "data = data.drop(['City','Currency','HTML_ID','ID','price_per_sqm','Price'], axis=1)"
   ]
  },
  {
   "cell_type": "code",
   "execution_count": 304,
   "metadata": {},
   "outputs": [],
   "source": [
    "# separate data into numeric and object parts\n",
    "data_num = data.select_dtypes(exclude=[\"object\"])\n",
    "data_obj = data.select_dtypes(include=\"object\")"
   ]
  },
  {
   "cell_type": "code",
   "execution_count": 305,
   "metadata": {},
   "outputs": [
    {
     "data": {
      "text/html": [
       "<div>\n",
       "<style scoped>\n",
       "    .dataframe tbody tr th:only-of-type {\n",
       "        vertical-align: middle;\n",
       "    }\n",
       "\n",
       "    .dataframe tbody tr th {\n",
       "        vertical-align: top;\n",
       "    }\n",
       "\n",
       "    .dataframe thead th {\n",
       "        text-align: right;\n",
       "    }\n",
       "</style>\n",
       "<table border=\"1\" class=\"dataframe\">\n",
       "  <thead>\n",
       "    <tr style=\"text-align: right;\">\n",
       "      <th></th>\n",
       "      <th>District</th>\n",
       "      <th>Broker</th>\n",
       "      <th>Type</th>\n",
       "      <th>Source</th>\n",
       "    </tr>\n",
       "  </thead>\n",
       "  <tbody>\n",
       "    <tr>\n",
       "      <th>0</th>\n",
       "      <td>կենտրոն</td>\n",
       "      <td>գործակալ</td>\n",
       "      <td>Մոնոլիտ</td>\n",
       "      <td>my_realty</td>\n",
       "    </tr>\n",
       "    <tr>\n",
       "      <th>1</th>\n",
       "      <td>քանաքեռ_զեյթուն</td>\n",
       "      <td>գործակալ</td>\n",
       "      <td>Քարե</td>\n",
       "      <td>my_realty</td>\n",
       "    </tr>\n",
       "    <tr>\n",
       "      <th>2</th>\n",
       "      <td>մալաթիա_սեբաստիա</td>\n",
       "      <td>գործակալ</td>\n",
       "      <td>Պանելային</td>\n",
       "      <td>my_realty</td>\n",
       "    </tr>\n",
       "    <tr>\n",
       "      <th>3</th>\n",
       "      <td>արաբկիր</td>\n",
       "      <td>գործակալ</td>\n",
       "      <td>Քարե</td>\n",
       "      <td>my_realty</td>\n",
       "    </tr>\n",
       "    <tr>\n",
       "      <th>4</th>\n",
       "      <td>կենտրոն</td>\n",
       "      <td>գործակալ</td>\n",
       "      <td>Քարե</td>\n",
       "      <td>my_realty</td>\n",
       "    </tr>\n",
       "  </tbody>\n",
       "</table>\n",
       "</div>"
      ],
      "text/plain": [
       "           District    Broker       Type     Source\n",
       "0           կենտրոն  գործակալ    Մոնոլիտ  my_realty\n",
       "1   քանաքեռ_զեյթուն  գործակալ       Քարե  my_realty\n",
       "2  մալաթիա_սեբաստիա  գործակալ  Պանելային  my_realty\n",
       "3           արաբկիր  գործակալ       Քարե  my_realty\n",
       "4           կենտրոն  գործակալ       Քարե  my_realty"
      ]
     },
     "execution_count": 305,
     "metadata": {},
     "output_type": "execute_result"
    }
   ],
   "source": [
    "data_obj.head()"
   ]
  },
  {
   "cell_type": "code",
   "execution_count": 307,
   "metadata": {},
   "outputs": [
    {
     "data": {
      "text/html": [
       "<div>\n",
       "<style scoped>\n",
       "    .dataframe tbody tr th:only-of-type {\n",
       "        vertical-align: middle;\n",
       "    }\n",
       "\n",
       "    .dataframe tbody tr th {\n",
       "        vertical-align: top;\n",
       "    }\n",
       "\n",
       "    .dataframe thead th {\n",
       "        text-align: right;\n",
       "    }\n",
       "</style>\n",
       "<table border=\"1\" class=\"dataframe\">\n",
       "  <thead>\n",
       "    <tr style=\"text-align: right;\">\n",
       "      <th></th>\n",
       "      <th>Floor</th>\n",
       "      <th>Rooms</th>\n",
       "      <th>Sqm</th>\n",
       "      <th>Agency</th>\n",
       "      <th>nFloor</th>\n",
       "      <th>Price_USD</th>\n",
       "    </tr>\n",
       "  </thead>\n",
       "  <tbody>\n",
       "    <tr>\n",
       "      <th>0</th>\n",
       "      <td>9.0</td>\n",
       "      <td>3.0</td>\n",
       "      <td>124.0</td>\n",
       "      <td>1.0</td>\n",
       "      <td>10.0</td>\n",
       "      <td>250000.0</td>\n",
       "    </tr>\n",
       "    <tr>\n",
       "      <th>1</th>\n",
       "      <td>1.0</td>\n",
       "      <td>4.0</td>\n",
       "      <td>84.0</td>\n",
       "      <td>1.0</td>\n",
       "      <td>2.0</td>\n",
       "      <td>70000.0</td>\n",
       "    </tr>\n",
       "    <tr>\n",
       "      <th>2</th>\n",
       "      <td>1.0</td>\n",
       "      <td>2.0</td>\n",
       "      <td>58.0</td>\n",
       "      <td>1.0</td>\n",
       "      <td>9.0</td>\n",
       "      <td>48000.0</td>\n",
       "    </tr>\n",
       "    <tr>\n",
       "      <th>3</th>\n",
       "      <td>5.0</td>\n",
       "      <td>2.0</td>\n",
       "      <td>64.0</td>\n",
       "      <td>1.0</td>\n",
       "      <td>5.0</td>\n",
       "      <td>80000.0</td>\n",
       "    </tr>\n",
       "    <tr>\n",
       "      <th>4</th>\n",
       "      <td>1.0</td>\n",
       "      <td>3.0</td>\n",
       "      <td>65.0</td>\n",
       "      <td>1.0</td>\n",
       "      <td>14.0</td>\n",
       "      <td>62000.0</td>\n",
       "    </tr>\n",
       "  </tbody>\n",
       "</table>\n",
       "</div>"
      ],
      "text/plain": [
       "   Floor  Rooms    Sqm  Agency  nFloor  Price_USD\n",
       "0    9.0    3.0  124.0     1.0    10.0   250000.0\n",
       "1    1.0    4.0   84.0     1.0     2.0    70000.0\n",
       "2    1.0    2.0   58.0     1.0     9.0    48000.0\n",
       "3    5.0    2.0   64.0     1.0     5.0    80000.0\n",
       "4    1.0    3.0   65.0     1.0    14.0    62000.0"
      ]
     },
     "execution_count": 307,
     "metadata": {},
     "output_type": "execute_result"
    }
   ],
   "source": [
    "data_num.head()"
   ]
  },
  {
   "cell_type": "code",
   "execution_count": 313,
   "metadata": {},
   "outputs": [
    {
     "data": {
      "text/plain": [
       "<AxesSubplot:>"
      ]
     },
     "execution_count": 313,
     "metadata": {},
     "output_type": "execute_result"
    },
    {
     "data": {
      "image/png": "[encoded data removed]",
      "text/plain": [
       "<Figure size 720x360 with 2 Axes>"
      ]
     },
     "metadata": {
      "needs_background": "light"
     },
     "output_type": "display_data"
    }
   ],
   "source": [
    "# correlation heatpa for examining multicollinearity\n",
    "plt.figure(figsize=(10,5))\n",
    "sns.heatmap(data_num.corr().abs().round(2),annot=True)"
   ]
  },
  {
   "cell_type": "code",
   "execution_count": 314,
   "metadata": {},
   "outputs": [
    {
     "data": {
      "text/plain": [
       "<AxesSubplot:>"
      ]
     },
     "execution_count": 314,
     "metadata": {},
     "output_type": "execute_result"
    },
    {
     "data": {
      "image/png": "[encoded data removed]",
      "text/plain": [
       "<Figure size 720x360 with 2 Axes>"
      ]
     },
     "metadata": {
      "needs_background": "light"
     },
     "output_type": "display_data"
    }
   ],
   "source": [
    "#plot correlation heatmap to see any correlations above or equal to 80% in absolute values\n",
    "plt.figure(figsize=(10,5))\n",
    "sns.heatmap(data_num.corr().abs()>=0.8)"
   ]
  },
  {
   "cell_type": "markdown",
   "metadata": {},
   "source": [
    "# Model Building #1"
   ]
  },
  {
   "cell_type": "code",
   "execution_count": 315,
   "metadata": {},
   "outputs": [
    {
     "data": {
      "text/html": [
       "<div>\n",
       "<style scoped>\n",
       "    .dataframe tbody tr th:only-of-type {\n",
       "        vertical-align: middle;\n",
       "    }\n",
       "\n",
       "    .dataframe tbody tr th {\n",
       "        vertical-align: top;\n",
       "    }\n",
       "\n",
       "    .dataframe thead th {\n",
       "        text-align: right;\n",
       "    }\n",
       "</style>\n",
       "<table border=\"1\" class=\"dataframe\">\n",
       "  <thead>\n",
       "    <tr style=\"text-align: right;\">\n",
       "      <th></th>\n",
       "      <th>District_աջափնյակ</th>\n",
       "      <th>District_ավան</th>\n",
       "      <th>District_արաբկիր</th>\n",
       "      <th>District_դավթաշեն</th>\n",
       "      <th>District_էրեբունի</th>\n",
       "      <th>District_կենտրոն</th>\n",
       "      <th>District_մալաթիա</th>\n",
       "      <th>District_մալաթիա_սեբաստիա</th>\n",
       "      <th>District_նոր_նորք</th>\n",
       "      <th>District_նորք</th>\n",
       "      <th>...</th>\n",
       "      <th>Broker_ՍևակՄելիքսեթյան</th>\n",
       "      <th>Broker_ՏիգրանԹավադյան</th>\n",
       "      <th>Broker_գործակալ</th>\n",
       "      <th>Type_Այլ</th>\n",
       "      <th>Type_Կասետային</th>\n",
       "      <th>Type_Մոնոլիտ</th>\n",
       "      <th>Type_Պանելային</th>\n",
       "      <th>Type_Քարե</th>\n",
       "      <th>Source_my_realty</th>\n",
       "      <th>Source_real_estate</th>\n",
       "    </tr>\n",
       "  </thead>\n",
       "  <tbody>\n",
       "    <tr>\n",
       "      <th>0</th>\n",
       "      <td>0</td>\n",
       "      <td>0</td>\n",
       "      <td>0</td>\n",
       "      <td>0</td>\n",
       "      <td>0</td>\n",
       "      <td>1</td>\n",
       "      <td>0</td>\n",
       "      <td>0</td>\n",
       "      <td>0</td>\n",
       "      <td>0</td>\n",
       "      <td>...</td>\n",
       "      <td>0</td>\n",
       "      <td>0</td>\n",
       "      <td>1</td>\n",
       "      <td>0</td>\n",
       "      <td>0</td>\n",
       "      <td>1</td>\n",
       "      <td>0</td>\n",
       "      <td>0</td>\n",
       "      <td>1</td>\n",
       "      <td>0</td>\n",
       "    </tr>\n",
       "    <tr>\n",
       "      <th>1</th>\n",
       "      <td>0</td>\n",
       "      <td>0</td>\n",
       "      <td>0</td>\n",
       "      <td>0</td>\n",
       "      <td>0</td>\n",
       "      <td>0</td>\n",
       "      <td>0</td>\n",
       "      <td>0</td>\n",
       "      <td>0</td>\n",
       "      <td>0</td>\n",
       "      <td>...</td>\n",
       "      <td>0</td>\n",
       "      <td>0</td>\n",
       "      <td>1</td>\n",
       "      <td>0</td>\n",
       "      <td>0</td>\n",
       "      <td>0</td>\n",
       "      <td>0</td>\n",
       "      <td>1</td>\n",
       "      <td>1</td>\n",
       "      <td>0</td>\n",
       "    </tr>\n",
       "    <tr>\n",
       "      <th>2</th>\n",
       "      <td>0</td>\n",
       "      <td>0</td>\n",
       "      <td>0</td>\n",
       "      <td>0</td>\n",
       "      <td>0</td>\n",
       "      <td>0</td>\n",
       "      <td>0</td>\n",
       "      <td>1</td>\n",
       "      <td>0</td>\n",
       "      <td>0</td>\n",
       "      <td>...</td>\n",
       "      <td>0</td>\n",
       "      <td>0</td>\n",
       "      <td>1</td>\n",
       "      <td>0</td>\n",
       "      <td>0</td>\n",
       "      <td>0</td>\n",
       "      <td>1</td>\n",
       "      <td>0</td>\n",
       "      <td>1</td>\n",
       "      <td>0</td>\n",
       "    </tr>\n",
       "    <tr>\n",
       "      <th>3</th>\n",
       "      <td>0</td>\n",
       "      <td>0</td>\n",
       "      <td>1</td>\n",
       "      <td>0</td>\n",
       "      <td>0</td>\n",
       "      <td>0</td>\n",
       "      <td>0</td>\n",
       "      <td>0</td>\n",
       "      <td>0</td>\n",
       "      <td>0</td>\n",
       "      <td>...</td>\n",
       "      <td>0</td>\n",
       "      <td>0</td>\n",
       "      <td>1</td>\n",
       "      <td>0</td>\n",
       "      <td>0</td>\n",
       "      <td>0</td>\n",
       "      <td>0</td>\n",
       "      <td>1</td>\n",
       "      <td>1</td>\n",
       "      <td>0</td>\n",
       "    </tr>\n",
       "    <tr>\n",
       "      <th>4</th>\n",
       "      <td>0</td>\n",
       "      <td>0</td>\n",
       "      <td>0</td>\n",
       "      <td>0</td>\n",
       "      <td>0</td>\n",
       "      <td>1</td>\n",
       "      <td>0</td>\n",
       "      <td>0</td>\n",
       "      <td>0</td>\n",
       "      <td>0</td>\n",
       "      <td>...</td>\n",
       "      <td>0</td>\n",
       "      <td>0</td>\n",
       "      <td>1</td>\n",
       "      <td>0</td>\n",
       "      <td>0</td>\n",
       "      <td>0</td>\n",
       "      <td>0</td>\n",
       "      <td>1</td>\n",
       "      <td>1</td>\n",
       "      <td>0</td>\n",
       "    </tr>\n",
       "  </tbody>\n",
       "</table>\n",
       "<p>5 rows × 37 columns</p>\n",
       "</div>"
      ],
      "text/plain": [
       "   District_աջափնյակ  District_ավան  District_արաբկիր  District_դավթաշեն  \\\n",
       "0                  0              0                 0                  0   \n",
       "1                  0              0                 0                  0   \n",
       "2                  0              0                 0                  0   \n",
       "3                  0              0                 1                  0   \n",
       "4                  0              0                 0                  0   \n",
       "\n",
       "   District_էրեբունի  District_կենտրոն  District_մալաթիա  \\\n",
       "0                  0                 1                 0   \n",
       "1                  0                 0                 0   \n",
       "2                  0                 0                 0   \n",
       "3                  0                 0                 0   \n",
       "4                  0                 1                 0   \n",
       "\n",
       "   District_մալաթիա_սեբաստիա  District_նոր_նորք  District_նորք  ...  \\\n",
       "0                          0                  0              0  ...   \n",
       "1                          0                  0              0  ...   \n",
       "2                          1                  0              0  ...   \n",
       "3                          0                  0              0  ...   \n",
       "4                          0                  0              0  ...   \n",
       "\n",
       "   Broker_ՍևակՄելիքսեթյան  Broker_ՏիգրանԹավադյան  Broker_գործակալ  Type_Այլ  \\\n",
       "0                       0                      0                1         0   \n",
       "1                       0                      0                1         0   \n",
       "2                       0                      0                1         0   \n",
       "3                       0                      0                1         0   \n",
       "4                       0                      0                1         0   \n",
       "\n",
       "   Type_Կասետային  Type_Մոնոլիտ  Type_Պանելային  Type_Քարե  Source_my_realty  \\\n",
       "0               0             1               0          0                 1   \n",
       "1               0             0               0          1                 1   \n",
       "2               0             0               1          0                 1   \n",
       "3               0             0               0          1                 1   \n",
       "4               0             0               0          1                 1   \n",
       "\n",
       "   Source_real_estate  \n",
       "0                   0  \n",
       "1                   0  \n",
       "2                   0  \n",
       "3                   0  \n",
       "4                   0  \n",
       "\n",
       "[5 rows x 37 columns]"
      ]
     },
     "execution_count": 315,
     "metadata": {},
     "output_type": "execute_result"
    }
   ],
   "source": [
    "# dummy\n",
    "data_dummies = pd.get_dummies(data_obj, drop_first=True)\n",
    "data_dummies.head()"
   ]
  },
  {
   "cell_type": "code",
   "execution_count": 316,
   "metadata": {},
   "outputs": [
    {
     "data": {
      "text/html": [
       "<div>\n",
       "<style scoped>\n",
       "    .dataframe tbody tr th:only-of-type {\n",
       "        vertical-align: middle;\n",
       "    }\n",
       "\n",
       "    .dataframe tbody tr th {\n",
       "        vertical-align: top;\n",
       "    }\n",
       "\n",
       "    .dataframe thead th {\n",
       "        text-align: right;\n",
       "    }\n",
       "</style>\n",
       "<table border=\"1\" class=\"dataframe\">\n",
       "  <thead>\n",
       "    <tr style=\"text-align: right;\">\n",
       "      <th></th>\n",
       "      <th>Floor</th>\n",
       "      <th>Rooms</th>\n",
       "      <th>Sqm</th>\n",
       "      <th>Agency</th>\n",
       "      <th>nFloor</th>\n",
       "      <th>Price_USD</th>\n",
       "      <th>District_աջափնյակ</th>\n",
       "      <th>District_ավան</th>\n",
       "      <th>District_արաբկիր</th>\n",
       "      <th>District_դավթաշեն</th>\n",
       "      <th>...</th>\n",
       "      <th>Broker_ՍևակՄելիքսեթյան</th>\n",
       "      <th>Broker_ՏիգրանԹավադյան</th>\n",
       "      <th>Broker_գործակալ</th>\n",
       "      <th>Type_Այլ</th>\n",
       "      <th>Type_Կասետային</th>\n",
       "      <th>Type_Մոնոլիտ</th>\n",
       "      <th>Type_Պանելային</th>\n",
       "      <th>Type_Քարե</th>\n",
       "      <th>Source_my_realty</th>\n",
       "      <th>Source_real_estate</th>\n",
       "    </tr>\n",
       "  </thead>\n",
       "  <tbody>\n",
       "    <tr>\n",
       "      <th>0</th>\n",
       "      <td>9.0</td>\n",
       "      <td>3.0</td>\n",
       "      <td>124.0</td>\n",
       "      <td>1.0</td>\n",
       "      <td>10.0</td>\n",
       "      <td>250000.0</td>\n",
       "      <td>0</td>\n",
       "      <td>0</td>\n",
       "      <td>0</td>\n",
       "      <td>0</td>\n",
       "      <td>...</td>\n",
       "      <td>0</td>\n",
       "      <td>0</td>\n",
       "      <td>1</td>\n",
       "      <td>0</td>\n",
       "      <td>0</td>\n",
       "      <td>1</td>\n",
       "      <td>0</td>\n",
       "      <td>0</td>\n",
       "      <td>1</td>\n",
       "      <td>0</td>\n",
       "    </tr>\n",
       "    <tr>\n",
       "      <th>1</th>\n",
       "      <td>1.0</td>\n",
       "      <td>4.0</td>\n",
       "      <td>84.0</td>\n",
       "      <td>1.0</td>\n",
       "      <td>2.0</td>\n",
       "      <td>70000.0</td>\n",
       "      <td>0</td>\n",
       "      <td>0</td>\n",
       "      <td>0</td>\n",
       "      <td>0</td>\n",
       "      <td>...</td>\n",
       "      <td>0</td>\n",
       "      <td>0</td>\n",
       "      <td>1</td>\n",
       "      <td>0</td>\n",
       "      <td>0</td>\n",
       "      <td>0</td>\n",
       "      <td>0</td>\n",
       "      <td>1</td>\n",
       "      <td>1</td>\n",
       "      <td>0</td>\n",
       "    </tr>\n",
       "    <tr>\n",
       "      <th>2</th>\n",
       "      <td>1.0</td>\n",
       "      <td>2.0</td>\n",
       "      <td>58.0</td>\n",
       "      <td>1.0</td>\n",
       "      <td>9.0</td>\n",
       "      <td>48000.0</td>\n",
       "      <td>0</td>\n",
       "      <td>0</td>\n",
       "      <td>0</td>\n",
       "      <td>0</td>\n",
       "      <td>...</td>\n",
       "      <td>0</td>\n",
       "      <td>0</td>\n",
       "      <td>1</td>\n",
       "      <td>0</td>\n",
       "      <td>0</td>\n",
       "      <td>0</td>\n",
       "      <td>1</td>\n",
       "      <td>0</td>\n",
       "      <td>1</td>\n",
       "      <td>0</td>\n",
       "    </tr>\n",
       "    <tr>\n",
       "      <th>3</th>\n",
       "      <td>5.0</td>\n",
       "      <td>2.0</td>\n",
       "      <td>64.0</td>\n",
       "      <td>1.0</td>\n",
       "      <td>5.0</td>\n",
       "      <td>80000.0</td>\n",
       "      <td>0</td>\n",
       "      <td>0</td>\n",
       "      <td>1</td>\n",
       "      <td>0</td>\n",
       "      <td>...</td>\n",
       "      <td>0</td>\n",
       "      <td>0</td>\n",
       "      <td>1</td>\n",
       "      <td>0</td>\n",
       "      <td>0</td>\n",
       "      <td>0</td>\n",
       "      <td>0</td>\n",
       "      <td>1</td>\n",
       "      <td>1</td>\n",
       "      <td>0</td>\n",
       "    </tr>\n",
       "    <tr>\n",
       "      <th>4</th>\n",
       "      <td>1.0</td>\n",
       "      <td>3.0</td>\n",
       "      <td>65.0</td>\n",
       "      <td>1.0</td>\n",
       "      <td>14.0</td>\n",
       "      <td>62000.0</td>\n",
       "      <td>0</td>\n",
       "      <td>0</td>\n",
       "      <td>0</td>\n",
       "      <td>0</td>\n",
       "      <td>...</td>\n",
       "      <td>0</td>\n",
       "      <td>0</td>\n",
       "      <td>1</td>\n",
       "      <td>0</td>\n",
       "      <td>0</td>\n",
       "      <td>0</td>\n",
       "      <td>0</td>\n",
       "      <td>1</td>\n",
       "      <td>1</td>\n",
       "      <td>0</td>\n",
       "    </tr>\n",
       "  </tbody>\n",
       "</table>\n",
       "<p>5 rows × 43 columns</p>\n",
       "</div>"
      ],
      "text/plain": [
       "   Floor  Rooms    Sqm  Agency  nFloor  Price_USD  District_աջափնյակ  \\\n",
       "0    9.0    3.0  124.0     1.0    10.0   250000.0                  0   \n",
       "1    1.0    4.0   84.0     1.0     2.0    70000.0                  0   \n",
       "2    1.0    2.0   58.0     1.0     9.0    48000.0                  0   \n",
       "3    5.0    2.0   64.0     1.0     5.0    80000.0                  0   \n",
       "4    1.0    3.0   65.0     1.0    14.0    62000.0                  0   \n",
       "\n",
       "   District_ավան  District_արաբկիր  District_դավթաշեն  ...  \\\n",
       "0              0                 0                  0  ...   \n",
       "1              0                 0                  0  ...   \n",
       "2              0                 0                  0  ...   \n",
       "3              0                 1                  0  ...   \n",
       "4              0                 0                  0  ...   \n",
       "\n",
       "   Broker_ՍևակՄելիքսեթյան  Broker_ՏիգրանԹավադյան  Broker_գործակալ  Type_Այլ  \\\n",
       "0                       0                      0                1         0   \n",
       "1                       0                      0                1         0   \n",
       "2                       0                      0                1         0   \n",
       "3                       0                      0                1         0   \n",
       "4                       0                      0                1         0   \n",
       "\n",
       "   Type_Կասետային  Type_Մոնոլիտ  Type_Պանելային  Type_Քարե  Source_my_realty  \\\n",
       "0               0             1               0          0                 1   \n",
       "1               0             0               0          1                 1   \n",
       "2               0             0               1          0                 1   \n",
       "3               0             0               0          1                 1   \n",
       "4               0             0               0          1                 1   \n",
       "\n",
       "   Source_real_estate  \n",
       "0                   0  \n",
       "1                   0  \n",
       "2                   0  \n",
       "3                   0  \n",
       "4                   0  \n",
       "\n",
       "[5 rows x 43 columns]"
      ]
     },
     "execution_count": 316,
     "metadata": {},
     "output_type": "execute_result"
    }
   ],
   "source": [
    "data_model = data_num.join(data_dummies, how='left')\n",
    "data_model.head()"
   ]
  },
  {
   "cell_type": "code",
   "execution_count": 317,
   "metadata": {},
   "outputs": [],
   "source": [
    "Y = data_model.Price_USD\n",
    "X = data_model.drop('Price_USD', axis = 1)\n",
    "X = sm.add_constant(X)"
   ]
  },
  {
   "cell_type": "code",
   "execution_count": 318,
   "metadata": {},
   "outputs": [],
   "source": [
    "# train-test split data\n",
    "X0, X1, Y0, Y1 = train_test_split(X, Y, test_size=0.25, random_state=42)"
   ]
  },
  {
   "cell_type": "code",
   "execution_count": 319,
   "metadata": {
    "scrolled": true
   },
   "outputs": [
    {
     "data": {
      "text/html": [
       "<table class=\"simpletable\">\n",
       "<caption>OLS Regression Results</caption>\n",
       "<tr>\n",
       "  <th>Dep. Variable:</th>        <td>Price_USD</td>    <th>  R-squared:         </th> <td>   0.785</td>\n",
       "</tr>\n",
       "<tr>\n",
       "  <th>Model:</th>                   <td>OLS</td>       <th>  Adj. R-squared:    </th> <td>   0.785</td>\n",
       "</tr>\n",
       "<tr>\n",
       "  <th>Method:</th>             <td>Least Squares</td>  <th>  F-statistic:       </th> <td>   2126.</td>\n",
       "</tr>\n",
       "<tr>\n",
       "  <th>Date:</th>             <td>Sun, 20 Sep 2020</td> <th>  Prob (F-statistic):</th>  <td>  0.00</td> \n",
       "</tr>\n",
       "<tr>\n",
       "  <th>Time:</th>                 <td>13:25:13</td>     <th>  Log-Likelihood:    </th> <td> -3280.6</td>\n",
       "</tr>\n",
       "<tr>\n",
       "  <th>No. Observations:</th>      <td> 23336</td>      <th>  AIC:               </th> <td>   6643.</td>\n",
       "</tr>\n",
       "<tr>\n",
       "  <th>Df Residuals:</th>          <td> 23295</td>      <th>  BIC:               </th> <td>   6974.</td>\n",
       "</tr>\n",
       "<tr>\n",
       "  <th>Df Model:</th>              <td>    40</td>      <th>                     </th>     <td> </td>   \n",
       "</tr>\n",
       "<tr>\n",
       "  <th>Covariance Type:</th>      <td>nonrobust</td>    <th>                     </th>     <td> </td>   \n",
       "</tr>\n",
       "</table>\n",
       "<table class=\"simpletable\">\n",
       "<tr>\n",
       "              <td></td>                 <th>coef</th>     <th>std err</th>      <th>t</th>      <th>P>|t|</th>  <th>[0.025</th>    <th>0.975]</th>  \n",
       "</tr>\n",
       "<tr>\n",
       "  <th>const</th>                     <td>    9.7817</td> <td>    0.161</td> <td>   60.573</td> <td> 0.000</td> <td>    9.465</td> <td>   10.098</td>\n",
       "</tr>\n",
       "<tr>\n",
       "  <th>Floor</th>                     <td>   -0.0044</td> <td>    0.001</td> <td>   -6.421</td> <td> 0.000</td> <td>   -0.006</td> <td>   -0.003</td>\n",
       "</tr>\n",
       "<tr>\n",
       "  <th>Rooms</th>                     <td>    0.0354</td> <td>    0.003</td> <td>   11.664</td> <td> 0.000</td> <td>    0.029</td> <td>    0.041</td>\n",
       "</tr>\n",
       "<tr>\n",
       "  <th>Sqm</th>                       <td>    0.0082</td> <td> 8.77e-05</td> <td>   93.009</td> <td> 0.000</td> <td>    0.008</td> <td>    0.008</td>\n",
       "</tr>\n",
       "<tr>\n",
       "  <th>Agency</th>                    <td>    0.0670</td> <td>    0.015</td> <td>    4.444</td> <td> 0.000</td> <td>    0.037</td> <td>    0.097</td>\n",
       "</tr>\n",
       "<tr>\n",
       "  <th>nFloor</th>                    <td>    0.0080</td> <td>    0.001</td> <td>   10.584</td> <td> 0.000</td> <td>    0.007</td> <td>    0.010</td>\n",
       "</tr>\n",
       "<tr>\n",
       "  <th>District_աջափնյակ</th>         <td>   -0.2603</td> <td>    0.010</td> <td>  -25.419</td> <td> 0.000</td> <td>   -0.280</td> <td>   -0.240</td>\n",
       "</tr>\n",
       "<tr>\n",
       "  <th>District_ավան</th>             <td>   -0.1506</td> <td>    0.013</td> <td>  -12.039</td> <td> 0.000</td> <td>   -0.175</td> <td>   -0.126</td>\n",
       "</tr>\n",
       "<tr>\n",
       "  <th>District_արաբկիր</th>          <td>    0.1114</td> <td>    0.007</td> <td>   14.866</td> <td> 0.000</td> <td>    0.097</td> <td>    0.126</td>\n",
       "</tr>\n",
       "<tr>\n",
       "  <th>District_դավթաշեն</th>         <td>   -0.0335</td> <td>    0.011</td> <td>   -3.125</td> <td> 0.002</td> <td>   -0.055</td> <td>   -0.012</td>\n",
       "</tr>\n",
       "<tr>\n",
       "  <th>District_էրեբունի</th>         <td>   -0.2224</td> <td>    0.016</td> <td>  -13.669</td> <td> 0.000</td> <td>   -0.254</td> <td>   -0.190</td>\n",
       "</tr>\n",
       "<tr>\n",
       "  <th>District_կենտրոն</th>          <td>    0.4388</td> <td>    0.007</td> <td>   59.376</td> <td> 0.000</td> <td>    0.424</td> <td>    0.453</td>\n",
       "</tr>\n",
       "<tr>\n",
       "  <th>District_մալաթիա</th>          <td>   -0.2235</td> <td>    0.011</td> <td>  -20.032</td> <td> 0.000</td> <td>   -0.245</td> <td>   -0.202</td>\n",
       "</tr>\n",
       "<tr>\n",
       "  <th>District_մալաթիա_սեբաստիա</th> <td>   -0.2531</td> <td>    0.020</td> <td>  -12.901</td> <td> 0.000</td> <td>   -0.292</td> <td>   -0.215</td>\n",
       "</tr>\n",
       "<tr>\n",
       "  <th>District_նոր_նորք</th>         <td>   -0.2136</td> <td>    0.016</td> <td>  -13.155</td> <td> 0.000</td> <td>   -0.245</td> <td>   -0.182</td>\n",
       "</tr>\n",
       "<tr>\n",
       "  <th>District_նորք</th>             <td>   -0.2282</td> <td>    0.010</td> <td>  -21.757</td> <td> 0.000</td> <td>   -0.249</td> <td>   -0.208</td>\n",
       "</tr>\n",
       "<tr>\n",
       "  <th>District_շենգավիթ</th>         <td>   -0.2623</td> <td>    0.009</td> <td>  -28.611</td> <td> 0.000</td> <td>   -0.280</td> <td>   -0.244</td>\n",
       "</tr>\n",
       "<tr>\n",
       "  <th>District_քանաքեռ</th>          <td>   -0.1650</td> <td>    0.012</td> <td>  -13.296</td> <td> 0.000</td> <td>   -0.189</td> <td>   -0.141</td>\n",
       "</tr>\n",
       "<tr>\n",
       "  <th>District_քանաքեռ_զեյթուն</th>  <td>   -0.1855</td> <td>    0.018</td> <td>  -10.506</td> <td> 0.000</td> <td>   -0.220</td> <td>   -0.151</td>\n",
       "</tr>\n",
       "<tr>\n",
       "  <th>Broker_Աղաս</th>               <td>    0.0303</td> <td>    0.022</td> <td>    1.380</td> <td> 0.167</td> <td>   -0.013</td> <td>    0.073</td>\n",
       "</tr>\n",
       "<tr>\n",
       "  <th>Broker_Արամ</th>               <td>    0.0499</td> <td>    0.024</td> <td>    2.101</td> <td> 0.036</td> <td>    0.003</td> <td>    0.096</td>\n",
       "</tr>\n",
       "<tr>\n",
       "  <th>Broker_ԱրամԱվագյան</th>        <td>    0.0765</td> <td>    0.052</td> <td>    1.466</td> <td> 0.143</td> <td>   -0.026</td> <td>    0.179</td>\n",
       "</tr>\n",
       "<tr>\n",
       "  <th>Broker_Արզուման</th>           <td>    0.0290</td> <td>    0.023</td> <td>    1.264</td> <td> 0.206</td> <td>   -0.016</td> <td>    0.074</td>\n",
       "</tr>\n",
       "<tr>\n",
       "  <th>Broker_Արիս</th>               <td>    0.0649</td> <td>    0.026</td> <td>    2.457</td> <td> 0.014</td> <td>    0.013</td> <td>    0.117</td>\n",
       "</tr>\n",
       "<tr>\n",
       "  <th>Broker_Գայանե</th>             <td>    0.0255</td> <td>    0.027</td> <td>    0.956</td> <td> 0.339</td> <td>   -0.027</td> <td>    0.078</td>\n",
       "</tr>\n",
       "<tr>\n",
       "  <th>Broker_Գրիգոր</th>             <td>    0.0415</td> <td>    0.020</td> <td>    2.057</td> <td> 0.040</td> <td>    0.002</td> <td>    0.081</td>\n",
       "</tr>\n",
       "<tr>\n",
       "  <th>Broker_Գևորգ</th>              <td>   -0.0248</td> <td>    0.071</td> <td>   -0.351</td> <td> 0.725</td> <td>   -0.163</td> <td>    0.114</td>\n",
       "</tr>\n",
       "<tr>\n",
       "  <th>Broker_Լիլիթ</th>              <td>   -0.0228</td> <td>    0.037</td> <td>   -0.614</td> <td> 0.539</td> <td>   -0.096</td> <td>    0.050</td>\n",
       "</tr>\n",
       "<tr>\n",
       "  <th>Broker_ԿԵՆՏՐՈՆ</th>            <td>   -0.0160</td> <td>    0.014</td> <td>   -1.185</td> <td> 0.236</td> <td>   -0.043</td> <td>    0.011</td>\n",
       "</tr>\n",
       "<tr>\n",
       "  <th>Broker_ՆաիրաԴանիելյան</th>     <td>   -0.0869</td> <td>    0.024</td> <td>   -3.674</td> <td> 0.000</td> <td>   -0.133</td> <td>   -0.041</td>\n",
       "</tr>\n",
       "<tr>\n",
       "  <th>Broker_Նարեկ</th>              <td>    0.0084</td> <td>    0.028</td> <td>    0.299</td> <td> 0.765</td> <td>   -0.046</td> <td>    0.063</td>\n",
       "</tr>\n",
       "<tr>\n",
       "  <th>Broker_ՆվերՎանեսյան</th>       <td>   -0.0885</td> <td>    0.020</td> <td>   -4.478</td> <td> 0.000</td> <td>   -0.127</td> <td>   -0.050</td>\n",
       "</tr>\n",
       "<tr>\n",
       "  <th>Broker_Սյուզի</th>             <td>   -0.0305</td> <td>    0.062</td> <td>   -0.489</td> <td> 0.625</td> <td>   -0.153</td> <td>    0.092</td>\n",
       "</tr>\n",
       "<tr>\n",
       "  <th>Broker_ՍևակՄելիքսեթյան</th>    <td>   -0.0414</td> <td>    0.036</td> <td>   -1.141</td> <td> 0.254</td> <td>   -0.112</td> <td>    0.030</td>\n",
       "</tr>\n",
       "<tr>\n",
       "  <th>Broker_ՏիգրանԹավադյան</th>     <td>    0.0623</td> <td>    0.053</td> <td>    1.169</td> <td> 0.242</td> <td>   -0.042</td> <td>    0.167</td>\n",
       "</tr>\n",
       "<tr>\n",
       "  <th>Broker_գործակալ</th>           <td>    0.0375</td> <td>    0.002</td> <td>   15.123</td> <td> 0.000</td> <td>    0.033</td> <td>    0.042</td>\n",
       "</tr>\n",
       "<tr>\n",
       "  <th>Type_Այլ</th>                  <td>    0.5927</td> <td>    0.162</td> <td>    3.669</td> <td> 0.000</td> <td>    0.276</td> <td>    0.909</td>\n",
       "</tr>\n",
       "<tr>\n",
       "  <th>Type_Կասետային</th>            <td>    0.4561</td> <td>    0.163</td> <td>    2.790</td> <td> 0.005</td> <td>    0.136</td> <td>    0.776</td>\n",
       "</tr>\n",
       "<tr>\n",
       "  <th>Type_Մոնոլիտ</th>              <td>    0.8191</td> <td>    0.161</td> <td>    5.082</td> <td> 0.000</td> <td>    0.503</td> <td>    1.135</td>\n",
       "</tr>\n",
       "<tr>\n",
       "  <th>Type_Պանելային</th>            <td>    0.4723</td> <td>    0.161</td> <td>    2.931</td> <td> 0.003</td> <td>    0.157</td> <td>    0.788</td>\n",
       "</tr>\n",
       "<tr>\n",
       "  <th>Type_Քարե</th>                 <td>    0.5938</td> <td>    0.161</td> <td>    3.687</td> <td> 0.000</td> <td>    0.278</td> <td>    0.910</td>\n",
       "</tr>\n",
       "<tr>\n",
       "  <th>Source_my_realty</th>          <td>    0.0375</td> <td>    0.002</td> <td>   15.123</td> <td> 0.000</td> <td>    0.033</td> <td>    0.042</td>\n",
       "</tr>\n",
       "<tr>\n",
       "  <th>Source_real_estate</th>        <td>    0.0772</td> <td>    0.010</td> <td>    8.040</td> <td> 0.000</td> <td>    0.058</td> <td>    0.096</td>\n",
       "</tr>\n",
       "</table>\n",
       "<table class=\"simpletable\">\n",
       "<tr>\n",
       "  <th>Omnibus:</th>       <td>1596.339</td> <th>  Durbin-Watson:     </th> <td>   2.001</td>\n",
       "</tr>\n",
       "<tr>\n",
       "  <th>Prob(Omnibus):</th>  <td> 0.000</td>  <th>  Jarque-Bera (JB):  </th> <td>8117.318</td>\n",
       "</tr>\n",
       "<tr>\n",
       "  <th>Skew:</th>           <td>-0.047</td>  <th>  Prob(JB):          </th> <td>    0.00</td>\n",
       "</tr>\n",
       "<tr>\n",
       "  <th>Kurtosis:</th>       <td> 5.888</td>  <th>  Cond. No.          </th> <td>1.08e+16</td>\n",
       "</tr>\n",
       "</table><br/><br/>Warnings:<br/>[1] Standard Errors assume that the covariance matrix of the errors is correctly specified.<br/>[2] The smallest eigenvalue is 1.68e-24. This might indicate that there are<br/>strong multicollinearity problems or that the design matrix is singular."
      ],
      "text/plain": [
       "<class 'statsmodels.iolib.summary.Summary'>\n",
       "\"\"\"\n",
       "                            OLS Regression Results                            \n",
       "==============================================================================\n",
       "Dep. Variable:              Price_USD   R-squared:                       0.785\n",
       "Model:                            OLS   Adj. R-squared:                  0.785\n",
       "Method:                 Least Squares   F-statistic:                     2126.\n",
       "Date:                Sun, 20 Sep 2020   Prob (F-statistic):               0.00\n",
       "Time:                        13:25:13   Log-Likelihood:                -3280.6\n",
       "No. Observations:               23336   AIC:                             6643.\n",
       "Df Residuals:                   23295   BIC:                             6974.\n",
       "Df Model:                          40                                         \n",
       "Covariance Type:            nonrobust                                         \n",
       "=============================================================================================\n",
       "                                coef    std err          t      P>|t|      [0.025      0.975]\n",
       "---------------------------------------------------------------------------------------------\n",
       "const                         9.7817      0.161     60.573      0.000       9.465      10.098\n",
       "Floor                        -0.0044      0.001     -6.421      0.000      -0.006      -0.003\n",
       "Rooms                         0.0354      0.003     11.664      0.000       0.029       0.041\n",
       "Sqm                           0.0082   8.77e-05     93.009      0.000       0.008       0.008\n",
       "Agency                        0.0670      0.015      4.444      0.000       0.037       0.097\n",
       "nFloor                        0.0080      0.001     10.584      0.000       0.007       0.010\n",
       "District_աջափնյակ            -0.2603      0.010    -25.419      0.000      -0.280      -0.240\n",
       "District_ավան                -0.1506      0.013    -12.039      0.000      -0.175      -0.126\n",
       "District_արաբկիր              0.1114      0.007     14.866      0.000       0.097       0.126\n",
       "District_դավթաշեն            -0.0335      0.011     -3.125      0.002      -0.055      -0.012\n",
       "District_էրեբունի            -0.2224      0.016    -13.669      0.000      -0.254      -0.190\n",
       "District_կենտրոն              0.4388      0.007     59.376      0.000       0.424       0.453\n",
       "District_մալաթիա             -0.2235      0.011    -20.032      0.000      -0.245      -0.202\n",
       "District_մալաթիա_սեբաստիա    -0.2531      0.020    -12.901      0.000      -0.292      -0.215\n",
       "District_նոր_նորք            -0.2136      0.016    -13.155      0.000      -0.245      -0.182\n",
       "District_նորք                -0.2282      0.010    -21.757      0.000      -0.249      -0.208\n",
       "District_շենգավիթ            -0.2623      0.009    -28.611      0.000      -0.280      -0.244\n",
       "District_քանաքեռ             -0.1650      0.012    -13.296      0.000      -0.189      -0.141\n",
       "District_քանաքեռ_զեյթուն     -0.1855      0.018    -10.506      0.000      -0.220      -0.151\n",
       "Broker_Աղաս                   0.0303      0.022      1.380      0.167      -0.013       0.073\n",
       "Broker_Արամ                   0.0499      0.024      2.101      0.036       0.003       0.096\n",
       "Broker_ԱրամԱվագյան            0.0765      0.052      1.466      0.143      -0.026       0.179\n",
       "Broker_Արզուման               0.0290      0.023      1.264      0.206      -0.016       0.074\n",
       "Broker_Արիս                   0.0649      0.026      2.457      0.014       0.013       0.117\n",
       "Broker_Գայանե                 0.0255      0.027      0.956      0.339      -0.027       0.078\n",
       "Broker_Գրիգոր                 0.0415      0.020      2.057      0.040       0.002       0.081\n",
       "Broker_Գևորգ                 -0.0248      0.071     -0.351      0.725      -0.163       0.114\n",
       "Broker_Լիլիթ                 -0.0228      0.037     -0.614      0.539      -0.096       0.050\n",
       "Broker_ԿԵՆՏՐՈՆ               -0.0160      0.014     -1.185      0.236      -0.043       0.011\n",
       "Broker_ՆաիրաԴանիելյան        -0.0869      0.024     -3.674      0.000      -0.133      -0.041\n",
       "Broker_Նարեկ                  0.0084      0.028      0.299      0.765      -0.046       0.063\n",
       "Broker_ՆվերՎանեսյան          -0.0885      0.020     -4.478      0.000      -0.127      -0.050\n",
       "Broker_Սյուզի                -0.0305      0.062     -0.489      0.625      -0.153       0.092\n",
       "Broker_ՍևակՄելիքսեթյան       -0.0414      0.036     -1.141      0.254      -0.112       0.030\n",
       "Broker_ՏիգրանԹավադյան         0.0623      0.053      1.169      0.242      -0.042       0.167\n",
       "Broker_գործակալ               0.0375      0.002     15.123      0.000       0.033       0.042\n",
       "Type_Այլ                      0.5927      0.162      3.669      0.000       0.276       0.909\n",
       "Type_Կասետային                0.4561      0.163      2.790      0.005       0.136       0.776\n",
       "Type_Մոնոլիտ                  0.8191      0.161      5.082      0.000       0.503       1.135\n",
       "Type_Պանելային                0.4723      0.161      2.931      0.003       0.157       0.788\n",
       "Type_Քարե                     0.5938      0.161      3.687      0.000       0.278       0.910\n",
       "Source_my_realty              0.0375      0.002     15.123      0.000       0.033       0.042\n",
       "Source_real_estate            0.0772      0.010      8.040      0.000       0.058       0.096\n",
       "==============================================================================\n",
       "Omnibus:                     1596.339   Durbin-Watson:                   2.001\n",
       "Prob(Omnibus):                  0.000   Jarque-Bera (JB):             8117.318\n",
       "Skew:                          -0.047   Prob(JB):                         0.00\n",
       "Kurtosis:                       5.888   Cond. No.                     1.08e+16\n",
       "==============================================================================\n",
       "\n",
       "Warnings:\n",
       "[1] Standard Errors assume that the covariance matrix of the errors is correctly specified.\n",
       "[2] The smallest eigenvalue is 1.68e-24. This might indicate that there are\n",
       "strong multicollinearity problems or that the design matrix is singular.\n",
       "\"\"\""
      ]
     },
     "execution_count": 319,
     "metadata": {},
     "output_type": "execute_result"
    }
   ],
   "source": [
    "# linear model\n",
    "model_linear = sm.OLS(np.log(Y0), X0)\n",
    "results = model_linear.fit()\n",
    "results.summary()"
   ]
  },
  {
   "cell_type": "code",
   "execution_count": 320,
   "metadata": {},
   "outputs": [
    {
     "name": "stdout",
     "output_type": "stream",
     "text": [
      "R^2_test: 0.7866961216915365\n"
     ]
    }
   ],
   "source": [
    "# check prediction on the test set\n",
    "Y1_pred=results.predict(X1)\n",
    "print('R^2_test:', r2_score(np.log(Y1), Y1_pred))"
   ]
  },
  {
   "cell_type": "markdown",
   "metadata": {},
   "source": [
    "Test and train R^2 are very similar, so we can conclude that there is no overfitting"
   ]
  },
  {
   "cell_type": "markdown",
   "metadata": {},
   "source": [
    "# Feature Engineering "
   ]
  },
  {
   "cell_type": "code",
   "execution_count": 322,
   "metadata": {},
   "outputs": [
    {
     "name": "stderr",
     "output_type": "stream",
     "text": [
      "/Users/arsinesarikyan/opt/anaconda3/lib/python3.7/site-packages/pandas/core/generic.py:5159: SettingWithCopyWarning: \n",
      "A value is trying to be set on a copy of a slice from a DataFrame.\n",
      "Try using .loc[row_indexer,col_indexer] = value instead\n",
      "\n",
      "See the caveats in the documentation: https://pandas.pydata.org/pandas-docs/stable/user_guide/indexing.html#returning-a-view-versus-a-copy\n",
      "  self[name] = value\n"
     ]
    }
   ],
   "source": [
    "# transformm to the binary feature\n",
    "data_obj.Broker = np.where(data_obj.Broker =='գործակալ', 1, 0)"
   ]
  },
  {
   "cell_type": "code",
   "execution_count": 323,
   "metadata": {},
   "outputs": [
    {
     "data": {
      "text/plain": [
       "Քարե         12355\n",
       "Պանելային    11546\n",
       "Մոնոլիտ       6350\n",
       "Այլ            717\n",
       "Կասետային      141\n",
       "Աղյուսե          6\n",
       "Name: Type, dtype: int64"
      ]
     },
     "execution_count": 323,
     "metadata": {},
     "output_type": "execute_result"
    }
   ],
   "source": [
    "data_obj.Type.value_counts()"
   ]
  },
  {
   "cell_type": "code",
   "execution_count": 324,
   "metadata": {},
   "outputs": [],
   "source": [
    "data_obj.Type = np.where(data_obj.Type.isin(['Կասետային','Աղյուսե']), 'Այլ', data_obj.Type)"
   ]
  },
  {
   "cell_type": "code",
   "execution_count": 308,
   "metadata": {
    "scrolled": true
   },
   "outputs": [
    {
     "data": {
      "image/png": "[encoded data removed]",
      "text/plain": [
       "<Figure size 432x288 with 1 Axes>"
      ]
     },
     "metadata": {
      "needs_background": "light"
     },
     "output_type": "display_data"
    },
    {
     "data": {
      "image/png": "[encoded data removed]",
      "text/plain": [
       "<Figure size 432x288 with 1 Axes>"
      ]
     },
     "metadata": {
      "needs_background": "light"
     },
     "output_type": "display_data"
    },
    {
     "data": {
      "image/png": "[encoded data removed]",
      "text/plain": [
       "<Figure size 432x288 with 1 Axes>"
      ]
     },
     "metadata": {
      "needs_background": "light"
     },
     "output_type": "display_data"
    },
    {
     "name": "stderr",
     "output_type": "stream",
     "text": [
      "/Users/arsinesarikyan/opt/anaconda3/lib/python3.7/site-packages/seaborn/distributions.py:369: UserWarning: Default bandwidth for data is 0; skipping density estimation.\n",
      "  warnings.warn(msg, UserWarning)\n"
     ]
    },
    {
     "data": {
      "image/png": "[encoded data removed]",
      "text/plain": [
       "<Figure size 432x288 with 1 Axes>"
      ]
     },
     "metadata": {
      "needs_background": "light"
     },
     "output_type": "display_data"
    },
    {
     "data": {
      "image/png": "[encoded data removed]",
      "text/plain": [
       "<Figure size 432x288 with 1 Axes>"
      ]
     },
     "metadata": {
      "needs_background": "light"
     },
     "output_type": "display_data"
    },
    {
     "data": {
      "image/png": "[encoded data removed]",
      "text/plain": [
       "<Figure size 432x288 with 1 Axes>"
      ]
     },
     "metadata": {
      "needs_background": "light"
     },
     "output_type": "display_data"
    }
   ],
   "source": [
    "# let's examine the value distribution of numeric features\n",
    "for i in data_num.columns.tolist():\n",
    "    sns.distplot(data_num[i])\n",
    "    plt.xlabel(i)\n",
    "    plt.show()"
   ]
  },
  {
   "cell_type": "code",
   "execution_count": 325,
   "metadata": {
    "scrolled": true
   },
   "outputs": [
    {
     "data": {
      "image/png": "[encoded data removed]",
      "text/plain": [
       "<Figure size 432x288 with 1 Axes>"
      ]
     },
     "metadata": {
      "needs_background": "light"
     },
     "output_type": "display_data"
    },
    {
     "data": {
      "image/png": "[encoded data removed]",
      "text/plain": [
       "<Figure size 432x288 with 1 Axes>"
      ]
     },
     "metadata": {
      "needs_background": "light"
     },
     "output_type": "display_data"
    },
    {
     "data": {
      "image/png": "[encoded data removed]",
      "text/plain": [
       "<Figure size 432x288 with 1 Axes>"
      ]
     },
     "metadata": {
      "needs_background": "light"
     },
     "output_type": "display_data"
    },
    {
     "data": {
      "image/png": "[encoded data removed]",
      "text/plain": [
       "<Figure size 432x288 with 1 Axes>"
      ]
     },
     "metadata": {
      "needs_background": "light"
     },
     "output_type": "display_data"
    }
   ],
   "source": [
    "# boxplot for relationship between target and some object variables\n",
    "for i in data_num[['Rooms','Agency', 'nFloor', 'Floor']]:\n",
    "    sns.boxplot(x=data[i],y=data['Price_USD'])\n",
    "    plt.title(f\"{i}_Price\")\n",
    "    plt.show()"
   ]
  },
  {
   "cell_type": "code",
   "execution_count": 310,
   "metadata": {},
   "outputs": [
    {
     "data": {
      "image/png": "[encoded data removed]",
      "text/plain": [
       "<Figure size 792x504 with 1 Axes>"
      ]
     },
     "metadata": {
      "needs_background": "light"
     },
     "output_type": "display_data"
    }
   ],
   "source": [
    "# scatterplot of SQM and Price to see the relationship\n",
    "plt.figure(figsize = (11,7))\n",
    "plt.scatter(data_num.Sqm, data_num.Price_USD, color='navy')\n",
    "plt.xlabel('Sqm')\n",
    "plt.ylabel('Price')\n",
    "plt.show()"
   ]
  },
  {
   "cell_type": "code",
   "execution_count": 311,
   "metadata": {},
   "outputs": [
    {
     "data": {
      "text/html": [
       "<div>\n",
       "<style scoped>\n",
       "    .dataframe tbody tr th:only-of-type {\n",
       "        vertical-align: middle;\n",
       "    }\n",
       "\n",
       "    .dataframe tbody tr th {\n",
       "        vertical-align: top;\n",
       "    }\n",
       "\n",
       "    .dataframe thead th {\n",
       "        text-align: right;\n",
       "    }\n",
       "</style>\n",
       "<table border=\"1\" class=\"dataframe\">\n",
       "  <thead>\n",
       "    <tr style=\"text-align: right;\">\n",
       "      <th></th>\n",
       "      <th>Price_USD</th>\n",
       "    </tr>\n",
       "    <tr>\n",
       "      <th>Rooms</th>\n",
       "      <th></th>\n",
       "    </tr>\n",
       "  </thead>\n",
       "  <tbody>\n",
       "    <tr>\n",
       "      <th>1.0</th>\n",
       "      <td>53214.794863</td>\n",
       "    </tr>\n",
       "    <tr>\n",
       "      <th>2.0</th>\n",
       "      <td>79066.559856</td>\n",
       "    </tr>\n",
       "    <tr>\n",
       "      <th>3.0</th>\n",
       "      <td>110019.081526</td>\n",
       "    </tr>\n",
       "    <tr>\n",
       "      <th>4.0</th>\n",
       "      <td>162721.125483</td>\n",
       "    </tr>\n",
       "    <tr>\n",
       "      <th>5.0</th>\n",
       "      <td>244837.837838</td>\n",
       "    </tr>\n",
       "    <tr>\n",
       "      <th>6.0</th>\n",
       "      <td>306537.974684</td>\n",
       "    </tr>\n",
       "    <tr>\n",
       "      <th>7.0</th>\n",
       "      <td>336300.000000</td>\n",
       "    </tr>\n",
       "  </tbody>\n",
       "</table>\n",
       "</div>"
      ],
      "text/plain": [
       "           Price_USD\n",
       "Rooms               \n",
       "1.0     53214.794863\n",
       "2.0     79066.559856\n",
       "3.0    110019.081526\n",
       "4.0    162721.125483\n",
       "5.0    244837.837838\n",
       "6.0    306537.974684\n",
       "7.0    336300.000000"
      ]
     },
     "execution_count": 311,
     "metadata": {},
     "output_type": "execute_result"
    }
   ],
   "source": [
    "# create a sumary of average price value per room type and see the relationship\n",
    "table = pd.pivot_table(data=data_num, index='Rooms', values='Price_USD', aggfunc='mean')\n",
    "table"
   ]
  },
  {
   "cell_type": "code",
   "execution_count": 312,
   "metadata": {},
   "outputs": [
    {
     "data": {
      "image/png": "[encoded data removed]",
      "text/plain": [
       "<Figure size 792x360 with 1 Axes>"
      ]
     },
     "metadata": {
      "needs_background": "light"
     },
     "output_type": "display_data"
    }
   ],
   "source": [
    "plt.figure(figsize = (11,5))\n",
    "plt.bar(table.index, table['Price_USD'])\n",
    "plt.ylabel('Price_USD Mean')\n",
    "plt.xlabel('Rooms')\n",
    "plt.show()"
   ]
  },
  {
   "cell_type": "code",
   "execution_count": 327,
   "metadata": {},
   "outputs": [
    {
     "data": {
      "text/html": [
       "<div>\n",
       "<style scoped>\n",
       "    .dataframe tbody tr th:only-of-type {\n",
       "        vertical-align: middle;\n",
       "    }\n",
       "\n",
       "    .dataframe tbody tr th {\n",
       "        vertical-align: top;\n",
       "    }\n",
       "\n",
       "    .dataframe thead th {\n",
       "        text-align: right;\n",
       "    }\n",
       "</style>\n",
       "<table border=\"1\" class=\"dataframe\">\n",
       "  <thead>\n",
       "    <tr style=\"text-align: right;\">\n",
       "      <th></th>\n",
       "      <th>Floor</th>\n",
       "      <th>Rooms</th>\n",
       "      <th>Sqm</th>\n",
       "      <th>Agency</th>\n",
       "      <th>nFloor</th>\n",
       "      <th>Price_USD</th>\n",
       "      <th>bardzrahark</th>\n",
       "      <th>sqm_per_room</th>\n",
       "      <th>Room_groupings</th>\n",
       "      <th>log_SQM</th>\n",
       "    </tr>\n",
       "  </thead>\n",
       "  <tbody>\n",
       "    <tr>\n",
       "      <th>0</th>\n",
       "      <td>9.0</td>\n",
       "      <td>3.0</td>\n",
       "      <td>124.0</td>\n",
       "      <td>1.0</td>\n",
       "      <td>10.0</td>\n",
       "      <td>250000.0</td>\n",
       "      <td>0</td>\n",
       "      <td>41.333333</td>\n",
       "      <td>2</td>\n",
       "      <td>4.820282</td>\n",
       "    </tr>\n",
       "    <tr>\n",
       "      <th>1</th>\n",
       "      <td>1.0</td>\n",
       "      <td>4.0</td>\n",
       "      <td>84.0</td>\n",
       "      <td>1.0</td>\n",
       "      <td>2.0</td>\n",
       "      <td>70000.0</td>\n",
       "      <td>0</td>\n",
       "      <td>21.000000</td>\n",
       "      <td>2</td>\n",
       "      <td>4.430817</td>\n",
       "    </tr>\n",
       "    <tr>\n",
       "      <th>2</th>\n",
       "      <td>1.0</td>\n",
       "      <td>2.0</td>\n",
       "      <td>58.0</td>\n",
       "      <td>1.0</td>\n",
       "      <td>9.0</td>\n",
       "      <td>48000.0</td>\n",
       "      <td>0</td>\n",
       "      <td>29.000000</td>\n",
       "      <td>1</td>\n",
       "      <td>4.060443</td>\n",
       "    </tr>\n",
       "    <tr>\n",
       "      <th>3</th>\n",
       "      <td>5.0</td>\n",
       "      <td>2.0</td>\n",
       "      <td>64.0</td>\n",
       "      <td>1.0</td>\n",
       "      <td>5.0</td>\n",
       "      <td>80000.0</td>\n",
       "      <td>0</td>\n",
       "      <td>32.000000</td>\n",
       "      <td>1</td>\n",
       "      <td>4.158883</td>\n",
       "    </tr>\n",
       "    <tr>\n",
       "      <th>4</th>\n",
       "      <td>1.0</td>\n",
       "      <td>3.0</td>\n",
       "      <td>65.0</td>\n",
       "      <td>1.0</td>\n",
       "      <td>14.0</td>\n",
       "      <td>62000.0</td>\n",
       "      <td>0</td>\n",
       "      <td>21.666667</td>\n",
       "      <td>2</td>\n",
       "      <td>4.174387</td>\n",
       "    </tr>\n",
       "    <tr>\n",
       "      <th>...</th>\n",
       "      <td>...</td>\n",
       "      <td>...</td>\n",
       "      <td>...</td>\n",
       "      <td>...</td>\n",
       "      <td>...</td>\n",
       "      <td>...</td>\n",
       "      <td>...</td>\n",
       "      <td>...</td>\n",
       "      <td>...</td>\n",
       "      <td>...</td>\n",
       "    </tr>\n",
       "    <tr>\n",
       "      <th>31110</th>\n",
       "      <td>3.0</td>\n",
       "      <td>1.0</td>\n",
       "      <td>32.0</td>\n",
       "      <td>1.0</td>\n",
       "      <td>5.0</td>\n",
       "      <td>49000.0</td>\n",
       "      <td>0</td>\n",
       "      <td>32.000000</td>\n",
       "      <td>1</td>\n",
       "      <td>3.465736</td>\n",
       "    </tr>\n",
       "    <tr>\n",
       "      <th>31111</th>\n",
       "      <td>8.0</td>\n",
       "      <td>4.0</td>\n",
       "      <td>92.0</td>\n",
       "      <td>1.0</td>\n",
       "      <td>10.0</td>\n",
       "      <td>150000.0</td>\n",
       "      <td>0</td>\n",
       "      <td>23.000000</td>\n",
       "      <td>2</td>\n",
       "      <td>4.521789</td>\n",
       "    </tr>\n",
       "    <tr>\n",
       "      <th>31112</th>\n",
       "      <td>3.0</td>\n",
       "      <td>3.0</td>\n",
       "      <td>90.0</td>\n",
       "      <td>1.0</td>\n",
       "      <td>5.0</td>\n",
       "      <td>79000.0</td>\n",
       "      <td>0</td>\n",
       "      <td>30.000000</td>\n",
       "      <td>2</td>\n",
       "      <td>4.499810</td>\n",
       "    </tr>\n",
       "    <tr>\n",
       "      <th>31113</th>\n",
       "      <td>2.0</td>\n",
       "      <td>2.0</td>\n",
       "      <td>70.0</td>\n",
       "      <td>1.0</td>\n",
       "      <td>4.0</td>\n",
       "      <td>81000.0</td>\n",
       "      <td>0</td>\n",
       "      <td>35.000000</td>\n",
       "      <td>1</td>\n",
       "      <td>4.248495</td>\n",
       "    </tr>\n",
       "    <tr>\n",
       "      <th>31114</th>\n",
       "      <td>6.0</td>\n",
       "      <td>1.0</td>\n",
       "      <td>43.0</td>\n",
       "      <td>1.0</td>\n",
       "      <td>10.0</td>\n",
       "      <td>71000.0</td>\n",
       "      <td>0</td>\n",
       "      <td>43.000000</td>\n",
       "      <td>1</td>\n",
       "      <td>3.761200</td>\n",
       "    </tr>\n",
       "  </tbody>\n",
       "</table>\n",
       "<p>31115 rows × 10 columns</p>\n",
       "</div>"
      ],
      "text/plain": [
       "       Floor  Rooms    Sqm  Agency  nFloor  Price_USD  bardzrahark  \\\n",
       "0        9.0    3.0  124.0     1.0    10.0   250000.0            0   \n",
       "1        1.0    4.0   84.0     1.0     2.0    70000.0            0   \n",
       "2        1.0    2.0   58.0     1.0     9.0    48000.0            0   \n",
       "3        5.0    2.0   64.0     1.0     5.0    80000.0            0   \n",
       "4        1.0    3.0   65.0     1.0    14.0    62000.0            0   \n",
       "...      ...    ...    ...     ...     ...        ...          ...   \n",
       "31110    3.0    1.0   32.0     1.0     5.0    49000.0            0   \n",
       "31111    8.0    4.0   92.0     1.0    10.0   150000.0            0   \n",
       "31112    3.0    3.0   90.0     1.0     5.0    79000.0            0   \n",
       "31113    2.0    2.0   70.0     1.0     4.0    81000.0            0   \n",
       "31114    6.0    1.0   43.0     1.0    10.0    71000.0            0   \n",
       "\n",
       "       sqm_per_room  Room_groupings   log_SQM  \n",
       "0         41.333333               2  4.820282  \n",
       "1         21.000000               2  4.430817  \n",
       "2         29.000000               1  4.060443  \n",
       "3         32.000000               1  4.158883  \n",
       "4         21.666667               2  4.174387  \n",
       "...             ...             ...       ...  \n",
       "31110     32.000000               1  3.465736  \n",
       "31111     23.000000               2  4.521789  \n",
       "31112     30.000000               2  4.499810  \n",
       "31113     35.000000               1  4.248495  \n",
       "31114     43.000000               1  3.761200  \n",
       "\n",
       "[31115 rows x 10 columns]"
      ]
     },
     "execution_count": 327,
     "metadata": {},
     "output_type": "execute_result"
    }
   ],
   "source": [
    "data_num"
   ]
  },
  {
   "cell_type": "code",
   "execution_count": 328,
   "metadata": {
    "scrolled": true
   },
   "outputs": [],
   "source": [
    "# features created based on the domain knowledge\n",
    "data_num['bardzrahark'] = np.where(data.Floor>=10, 1, 0)\n",
    "data_num['sqm_per_room'] = data_num['Sqm']/data_num['Rooms']\n",
    "\n",
    "# features created based on the insights from visualizations\n",
    "data_num['Room_groupings'] = np.where(data_num.Rooms<=2,1,np.where(data_num.Rooms >= 6,3,2))\n",
    "data_num['log_SQM'] = np.log(data_num.Sqm)\n",
    "data_num['Price_USD'] = np.log(data_num.Price_USD)"
   ]
  },
  {
   "cell_type": "markdown",
   "metadata": {},
   "source": [
    "# Model Building #2"
   ]
  },
  {
   "cell_type": "code",
   "execution_count": 329,
   "metadata": {},
   "outputs": [
    {
     "data": {
      "text/html": [
       "<div>\n",
       "<style scoped>\n",
       "    .dataframe tbody tr th:only-of-type {\n",
       "        vertical-align: middle;\n",
       "    }\n",
       "\n",
       "    .dataframe tbody tr th {\n",
       "        vertical-align: top;\n",
       "    }\n",
       "\n",
       "    .dataframe thead th {\n",
       "        text-align: right;\n",
       "    }\n",
       "</style>\n",
       "<table border=\"1\" class=\"dataframe\">\n",
       "  <thead>\n",
       "    <tr style=\"text-align: right;\">\n",
       "      <th></th>\n",
       "      <th>Broker</th>\n",
       "      <th>District_աջափնյակ</th>\n",
       "      <th>District_ավան</th>\n",
       "      <th>District_արաբկիր</th>\n",
       "      <th>District_դավթաշեն</th>\n",
       "      <th>District_էրեբունի</th>\n",
       "      <th>District_կենտրոն</th>\n",
       "      <th>District_մալաթիա</th>\n",
       "      <th>District_մալաթիա_սեբաստիա</th>\n",
       "      <th>District_նոր_նորք</th>\n",
       "      <th>District_նորք</th>\n",
       "      <th>District_շենգավիթ</th>\n",
       "      <th>District_քանաքեռ</th>\n",
       "      <th>District_քանաքեռ_զեյթուն</th>\n",
       "      <th>Type_Մոնոլիտ</th>\n",
       "      <th>Type_Պանելային</th>\n",
       "      <th>Type_Քարե</th>\n",
       "      <th>Source_my_realty</th>\n",
       "      <th>Source_real_estate</th>\n",
       "    </tr>\n",
       "  </thead>\n",
       "  <tbody>\n",
       "    <tr>\n",
       "      <th>0</th>\n",
       "      <td>1</td>\n",
       "      <td>0</td>\n",
       "      <td>0</td>\n",
       "      <td>0</td>\n",
       "      <td>0</td>\n",
       "      <td>0</td>\n",
       "      <td>1</td>\n",
       "      <td>0</td>\n",
       "      <td>0</td>\n",
       "      <td>0</td>\n",
       "      <td>0</td>\n",
       "      <td>0</td>\n",
       "      <td>0</td>\n",
       "      <td>0</td>\n",
       "      <td>1</td>\n",
       "      <td>0</td>\n",
       "      <td>0</td>\n",
       "      <td>1</td>\n",
       "      <td>0</td>\n",
       "    </tr>\n",
       "    <tr>\n",
       "      <th>1</th>\n",
       "      <td>1</td>\n",
       "      <td>0</td>\n",
       "      <td>0</td>\n",
       "      <td>0</td>\n",
       "      <td>0</td>\n",
       "      <td>0</td>\n",
       "      <td>0</td>\n",
       "      <td>0</td>\n",
       "      <td>0</td>\n",
       "      <td>0</td>\n",
       "      <td>0</td>\n",
       "      <td>0</td>\n",
       "      <td>0</td>\n",
       "      <td>1</td>\n",
       "      <td>0</td>\n",
       "      <td>0</td>\n",
       "      <td>1</td>\n",
       "      <td>1</td>\n",
       "      <td>0</td>\n",
       "    </tr>\n",
       "    <tr>\n",
       "      <th>2</th>\n",
       "      <td>1</td>\n",
       "      <td>0</td>\n",
       "      <td>0</td>\n",
       "      <td>0</td>\n",
       "      <td>0</td>\n",
       "      <td>0</td>\n",
       "      <td>0</td>\n",
       "      <td>0</td>\n",
       "      <td>1</td>\n",
       "      <td>0</td>\n",
       "      <td>0</td>\n",
       "      <td>0</td>\n",
       "      <td>0</td>\n",
       "      <td>0</td>\n",
       "      <td>0</td>\n",
       "      <td>1</td>\n",
       "      <td>0</td>\n",
       "      <td>1</td>\n",
       "      <td>0</td>\n",
       "    </tr>\n",
       "    <tr>\n",
       "      <th>3</th>\n",
       "      <td>1</td>\n",
       "      <td>0</td>\n",
       "      <td>0</td>\n",
       "      <td>1</td>\n",
       "      <td>0</td>\n",
       "      <td>0</td>\n",
       "      <td>0</td>\n",
       "      <td>0</td>\n",
       "      <td>0</td>\n",
       "      <td>0</td>\n",
       "      <td>0</td>\n",
       "      <td>0</td>\n",
       "      <td>0</td>\n",
       "      <td>0</td>\n",
       "      <td>0</td>\n",
       "      <td>0</td>\n",
       "      <td>1</td>\n",
       "      <td>1</td>\n",
       "      <td>0</td>\n",
       "    </tr>\n",
       "    <tr>\n",
       "      <th>4</th>\n",
       "      <td>1</td>\n",
       "      <td>0</td>\n",
       "      <td>0</td>\n",
       "      <td>0</td>\n",
       "      <td>0</td>\n",
       "      <td>0</td>\n",
       "      <td>1</td>\n",
       "      <td>0</td>\n",
       "      <td>0</td>\n",
       "      <td>0</td>\n",
       "      <td>0</td>\n",
       "      <td>0</td>\n",
       "      <td>0</td>\n",
       "      <td>0</td>\n",
       "      <td>0</td>\n",
       "      <td>0</td>\n",
       "      <td>1</td>\n",
       "      <td>1</td>\n",
       "      <td>0</td>\n",
       "    </tr>\n",
       "  </tbody>\n",
       "</table>\n",
       "</div>"
      ],
      "text/plain": [
       "   Broker  District_աջափնյակ  District_ավան  District_արաբկիր  \\\n",
       "0       1                  0              0                 0   \n",
       "1       1                  0              0                 0   \n",
       "2       1                  0              0                 0   \n",
       "3       1                  0              0                 1   \n",
       "4       1                  0              0                 0   \n",
       "\n",
       "   District_դավթաշեն  District_էրեբունի  District_կենտրոն  District_մալաթիա  \\\n",
       "0                  0                  0                 1                 0   \n",
       "1                  0                  0                 0                 0   \n",
       "2                  0                  0                 0                 0   \n",
       "3                  0                  0                 0                 0   \n",
       "4                  0                  0                 1                 0   \n",
       "\n",
       "   District_մալաթիա_սեբաստիա  District_նոր_նորք  District_նորք  \\\n",
       "0                          0                  0              0   \n",
       "1                          0                  0              0   \n",
       "2                          1                  0              0   \n",
       "3                          0                  0              0   \n",
       "4                          0                  0              0   \n",
       "\n",
       "   District_շենգավիթ  District_քանաքեռ  District_քանաքեռ_զեյթուն  \\\n",
       "0                  0                 0                         0   \n",
       "1                  0                 0                         1   \n",
       "2                  0                 0                         0   \n",
       "3                  0                 0                         0   \n",
       "4                  0                 0                         0   \n",
       "\n",
       "   Type_Մոնոլիտ  Type_Պանելային  Type_Քարե  Source_my_realty  \\\n",
       "0             1               0          0                 1   \n",
       "1             0               0          1                 1   \n",
       "2             0               1          0                 1   \n",
       "3             0               0          1                 1   \n",
       "4             0               0          1                 1   \n",
       "\n",
       "   Source_real_estate  \n",
       "0                   0  \n",
       "1                   0  \n",
       "2                   0  \n",
       "3                   0  \n",
       "4                   0  "
      ]
     },
     "execution_count": 329,
     "metadata": {},
     "output_type": "execute_result"
    }
   ],
   "source": [
    "# create dummies\n",
    "data_dummies = pd.get_dummies(data_obj,drop_first = True)\n",
    "data_dummies.head()"
   ]
  },
  {
   "cell_type": "code",
   "execution_count": 330,
   "metadata": {},
   "outputs": [],
   "source": [
    "# merging all variables together\n",
    "data_model = data_num.join(data_dummies, how='left')"
   ]
  },
  {
   "cell_type": "code",
   "execution_count": 331,
   "metadata": {},
   "outputs": [
    {
     "data": {
      "text/html": [
       "<div>\n",
       "<style scoped>\n",
       "    .dataframe tbody tr th:only-of-type {\n",
       "        vertical-align: middle;\n",
       "    }\n",
       "\n",
       "    .dataframe tbody tr th {\n",
       "        vertical-align: top;\n",
       "    }\n",
       "\n",
       "    .dataframe thead th {\n",
       "        text-align: right;\n",
       "    }\n",
       "</style>\n",
       "<table border=\"1\" class=\"dataframe\">\n",
       "  <thead>\n",
       "    <tr style=\"text-align: right;\">\n",
       "      <th></th>\n",
       "      <th>Floor</th>\n",
       "      <th>Rooms</th>\n",
       "      <th>Sqm</th>\n",
       "      <th>Agency</th>\n",
       "      <th>nFloor</th>\n",
       "      <th>Price_USD</th>\n",
       "      <th>bardzrahark</th>\n",
       "      <th>sqm_per_room</th>\n",
       "      <th>Room_groupings</th>\n",
       "      <th>log_SQM</th>\n",
       "      <th>...</th>\n",
       "      <th>District_նոր_նորք</th>\n",
       "      <th>District_նորք</th>\n",
       "      <th>District_շենգավիթ</th>\n",
       "      <th>District_քանաքեռ</th>\n",
       "      <th>District_քանաքեռ_զեյթուն</th>\n",
       "      <th>Type_Մոնոլիտ</th>\n",
       "      <th>Type_Պանելային</th>\n",
       "      <th>Type_Քարե</th>\n",
       "      <th>Source_my_realty</th>\n",
       "      <th>Source_real_estate</th>\n",
       "    </tr>\n",
       "  </thead>\n",
       "  <tbody>\n",
       "    <tr>\n",
       "      <th>0</th>\n",
       "      <td>9.0</td>\n",
       "      <td>3.0</td>\n",
       "      <td>124.0</td>\n",
       "      <td>1.0</td>\n",
       "      <td>10.0</td>\n",
       "      <td>12.429216</td>\n",
       "      <td>0</td>\n",
       "      <td>41.333333</td>\n",
       "      <td>2</td>\n",
       "      <td>4.820282</td>\n",
       "      <td>...</td>\n",
       "      <td>0</td>\n",
       "      <td>0</td>\n",
       "      <td>0</td>\n",
       "      <td>0</td>\n",
       "      <td>0</td>\n",
       "      <td>1</td>\n",
       "      <td>0</td>\n",
       "      <td>0</td>\n",
       "      <td>1</td>\n",
       "      <td>0</td>\n",
       "    </tr>\n",
       "    <tr>\n",
       "      <th>1</th>\n",
       "      <td>1.0</td>\n",
       "      <td>4.0</td>\n",
       "      <td>84.0</td>\n",
       "      <td>1.0</td>\n",
       "      <td>2.0</td>\n",
       "      <td>11.156251</td>\n",
       "      <td>0</td>\n",
       "      <td>21.000000</td>\n",
       "      <td>2</td>\n",
       "      <td>4.430817</td>\n",
       "      <td>...</td>\n",
       "      <td>0</td>\n",
       "      <td>0</td>\n",
       "      <td>0</td>\n",
       "      <td>0</td>\n",
       "      <td>1</td>\n",
       "      <td>0</td>\n",
       "      <td>0</td>\n",
       "      <td>1</td>\n",
       "      <td>1</td>\n",
       "      <td>0</td>\n",
       "    </tr>\n",
       "    <tr>\n",
       "      <th>2</th>\n",
       "      <td>1.0</td>\n",
       "      <td>2.0</td>\n",
       "      <td>58.0</td>\n",
       "      <td>1.0</td>\n",
       "      <td>9.0</td>\n",
       "      <td>10.778956</td>\n",
       "      <td>0</td>\n",
       "      <td>29.000000</td>\n",
       "      <td>1</td>\n",
       "      <td>4.060443</td>\n",
       "      <td>...</td>\n",
       "      <td>0</td>\n",
       "      <td>0</td>\n",
       "      <td>0</td>\n",
       "      <td>0</td>\n",
       "      <td>0</td>\n",
       "      <td>0</td>\n",
       "      <td>1</td>\n",
       "      <td>0</td>\n",
       "      <td>1</td>\n",
       "      <td>0</td>\n",
       "    </tr>\n",
       "    <tr>\n",
       "      <th>3</th>\n",
       "      <td>5.0</td>\n",
       "      <td>2.0</td>\n",
       "      <td>64.0</td>\n",
       "      <td>1.0</td>\n",
       "      <td>5.0</td>\n",
       "      <td>11.289782</td>\n",
       "      <td>0</td>\n",
       "      <td>32.000000</td>\n",
       "      <td>1</td>\n",
       "      <td>4.158883</td>\n",
       "      <td>...</td>\n",
       "      <td>0</td>\n",
       "      <td>0</td>\n",
       "      <td>0</td>\n",
       "      <td>0</td>\n",
       "      <td>0</td>\n",
       "      <td>0</td>\n",
       "      <td>0</td>\n",
       "      <td>1</td>\n",
       "      <td>1</td>\n",
       "      <td>0</td>\n",
       "    </tr>\n",
       "    <tr>\n",
       "      <th>4</th>\n",
       "      <td>1.0</td>\n",
       "      <td>3.0</td>\n",
       "      <td>65.0</td>\n",
       "      <td>1.0</td>\n",
       "      <td>14.0</td>\n",
       "      <td>11.034890</td>\n",
       "      <td>0</td>\n",
       "      <td>21.666667</td>\n",
       "      <td>2</td>\n",
       "      <td>4.174387</td>\n",
       "      <td>...</td>\n",
       "      <td>0</td>\n",
       "      <td>0</td>\n",
       "      <td>0</td>\n",
       "      <td>0</td>\n",
       "      <td>0</td>\n",
       "      <td>0</td>\n",
       "      <td>0</td>\n",
       "      <td>1</td>\n",
       "      <td>1</td>\n",
       "      <td>0</td>\n",
       "    </tr>\n",
       "  </tbody>\n",
       "</table>\n",
       "<p>5 rows × 29 columns</p>\n",
       "</div>"
      ],
      "text/plain": [
       "   Floor  Rooms    Sqm  Agency  nFloor  Price_USD  bardzrahark  sqm_per_room  \\\n",
       "0    9.0    3.0  124.0     1.0    10.0  12.429216            0     41.333333   \n",
       "1    1.0    4.0   84.0     1.0     2.0  11.156251            0     21.000000   \n",
       "2    1.0    2.0   58.0     1.0     9.0  10.778956            0     29.000000   \n",
       "3    5.0    2.0   64.0     1.0     5.0  11.289782            0     32.000000   \n",
       "4    1.0    3.0   65.0     1.0    14.0  11.034890            0     21.666667   \n",
       "\n",
       "   Room_groupings   log_SQM  ...  District_նոր_նորք  District_նորք  \\\n",
       "0               2  4.820282  ...                  0              0   \n",
       "1               2  4.430817  ...                  0              0   \n",
       "2               1  4.060443  ...                  0              0   \n",
       "3               1  4.158883  ...                  0              0   \n",
       "4               2  4.174387  ...                  0              0   \n",
       "\n",
       "   District_շենգավիթ  District_քանաքեռ  District_քանաքեռ_զեյթուն  \\\n",
       "0                  0                 0                         0   \n",
       "1                  0                 0                         1   \n",
       "2                  0                 0                         0   \n",
       "3                  0                 0                         0   \n",
       "4                  0                 0                         0   \n",
       "\n",
       "   Type_Մոնոլիտ  Type_Պանելային  Type_Քարե  Source_my_realty  \\\n",
       "0             1               0          0                 1   \n",
       "1             0               0          1                 1   \n",
       "2             0               1          0                 1   \n",
       "3             0               0          1                 1   \n",
       "4             0               0          1                 1   \n",
       "\n",
       "   Source_real_estate  \n",
       "0                   0  \n",
       "1                   0  \n",
       "2                   0  \n",
       "3                   0  \n",
       "4                   0  \n",
       "\n",
       "[5 rows x 29 columns]"
      ]
     },
     "execution_count": 331,
     "metadata": {},
     "output_type": "execute_result"
    }
   ],
   "source": [
    "data_model.head()"
   ]
  },
  {
   "cell_type": "code",
   "execution_count": 332,
   "metadata": {},
   "outputs": [],
   "source": [
    "Y = data_model[\"Price_USD\"]\n",
    "X = data_model.drop(\"Price_USD\", axis=1)\n",
    "X = sm.add_constant(X)"
   ]
  },
  {
   "cell_type": "code",
   "execution_count": null,
   "metadata": {},
   "outputs": [],
   "source": [
    "X0, X1, Y0, Y1 = train_test_split(X, Y, test_size=0.25, random_state=42)"
   ]
  },
  {
   "cell_type": "code",
   "execution_count": 333,
   "metadata": {
    "scrolled": true
   },
   "outputs": [
    {
     "data": {
      "text/html": [
       "<table class=\"simpletable\">\n",
       "<caption>OLS Regression Results</caption>\n",
       "<tr>\n",
       "  <th>Dep. Variable:</th>        <td>Price_USD</td>    <th>  R-squared:         </th> <td>   0.794</td>\n",
       "</tr>\n",
       "<tr>\n",
       "  <th>Model:</th>                   <td>OLS</td>       <th>  Adj. R-squared:    </th> <td>   0.794</td>\n",
       "</tr>\n",
       "<tr>\n",
       "  <th>Method:</th>             <td>Least Squares</td>  <th>  F-statistic:       </th> <td>   3331.</td>\n",
       "</tr>\n",
       "<tr>\n",
       "  <th>Date:</th>             <td>Sun, 20 Sep 2020</td> <th>  Prob (F-statistic):</th>  <td>  0.00</td> \n",
       "</tr>\n",
       "<tr>\n",
       "  <th>Time:</th>                 <td>13:31:25</td>     <th>  Log-Likelihood:    </th> <td> -2770.3</td>\n",
       "</tr>\n",
       "<tr>\n",
       "  <th>No. Observations:</th>      <td> 23336</td>      <th>  AIC:               </th> <td>   5597.</td>\n",
       "</tr>\n",
       "<tr>\n",
       "  <th>Df Residuals:</th>          <td> 23308</td>      <th>  BIC:               </th> <td>   5822.</td>\n",
       "</tr>\n",
       "<tr>\n",
       "  <th>Df Model:</th>              <td>    27</td>      <th>                     </th>     <td> </td>   \n",
       "</tr>\n",
       "<tr>\n",
       "  <th>Covariance Type:</th>      <td>nonrobust</td>    <th>                     </th>     <td> </td>   \n",
       "</tr>\n",
       "</table>\n",
       "<table class=\"simpletable\">\n",
       "<tr>\n",
       "              <td></td>                 <th>coef</th>     <th>std err</th>      <th>t</th>      <th>P>|t|</th>  <th>[0.025</th>    <th>0.975]</th>  \n",
       "</tr>\n",
       "<tr>\n",
       "  <th>const</th>                     <td>    8.5666</td> <td>    0.062</td> <td>  138.727</td> <td> 0.000</td> <td>    8.446</td> <td>    8.688</td>\n",
       "</tr>\n",
       "<tr>\n",
       "  <th>Floor</th>                     <td>   -0.0009</td> <td>    0.001</td> <td>   -1.006</td> <td> 0.314</td> <td>   -0.003</td> <td>    0.001</td>\n",
       "</tr>\n",
       "<tr>\n",
       "  <th>Rooms</th>                     <td>   -0.0791</td> <td>    0.008</td> <td>   -9.883</td> <td> 0.000</td> <td>   -0.095</td> <td>   -0.063</td>\n",
       "</tr>\n",
       "<tr>\n",
       "  <th>Sqm</th>                       <td>    0.0047</td> <td>    0.000</td> <td>   21.585</td> <td> 0.000</td> <td>    0.004</td> <td>    0.005</td>\n",
       "</tr>\n",
       "<tr>\n",
       "  <th>Agency</th>                    <td>    0.0536</td> <td>    0.015</td> <td>    3.634</td> <td> 0.000</td> <td>    0.025</td> <td>    0.082</td>\n",
       "</tr>\n",
       "<tr>\n",
       "  <th>nFloor</th>                    <td>    0.0063</td> <td>    0.001</td> <td>    8.250</td> <td> 0.000</td> <td>    0.005</td> <td>    0.008</td>\n",
       "</tr>\n",
       "<tr>\n",
       "  <th>bardzrahark</th>               <td>   -0.0486</td> <td>    0.009</td> <td>   -5.470</td> <td> 0.000</td> <td>   -0.066</td> <td>   -0.031</td>\n",
       "</tr>\n",
       "<tr>\n",
       "  <th>sqm_per_room</th>              <td>   -0.0036</td> <td>    0.001</td> <td>   -7.125</td> <td> 0.000</td> <td>   -0.005</td> <td>   -0.003</td>\n",
       "</tr>\n",
       "<tr>\n",
       "  <th>Room_groupings</th>            <td>    0.0416</td> <td>    0.007</td> <td>    5.941</td> <td> 0.000</td> <td>    0.028</td> <td>    0.055</td>\n",
       "</tr>\n",
       "<tr>\n",
       "  <th>log_SQM</th>                   <td>    0.5645</td> <td>    0.018</td> <td>   30.890</td> <td> 0.000</td> <td>    0.529</td> <td>    0.600</td>\n",
       "</tr>\n",
       "<tr>\n",
       "  <th>Broker</th>                    <td>    0.0380</td> <td>    0.002</td> <td>   15.720</td> <td> 0.000</td> <td>    0.033</td> <td>    0.043</td>\n",
       "</tr>\n",
       "<tr>\n",
       "  <th>District_աջափնյակ</th>         <td>   -0.2498</td> <td>    0.010</td> <td>  -24.960</td> <td> 0.000</td> <td>   -0.269</td> <td>   -0.230</td>\n",
       "</tr>\n",
       "<tr>\n",
       "  <th>District_ավան</th>             <td>   -0.1497</td> <td>    0.012</td> <td>  -12.229</td> <td> 0.000</td> <td>   -0.174</td> <td>   -0.126</td>\n",
       "</tr>\n",
       "<tr>\n",
       "  <th>District_արաբկիր</th>          <td>    0.1078</td> <td>    0.007</td> <td>   14.709</td> <td> 0.000</td> <td>    0.093</td> <td>    0.122</td>\n",
       "</tr>\n",
       "<tr>\n",
       "  <th>District_դավթաշեն</th>         <td>   -0.0437</td> <td>    0.010</td> <td>   -4.162</td> <td> 0.000</td> <td>   -0.064</td> <td>   -0.023</td>\n",
       "</tr>\n",
       "<tr>\n",
       "  <th>District_էրեբունի</th>         <td>   -0.2205</td> <td>    0.016</td> <td>  -13.857</td> <td> 0.000</td> <td>   -0.252</td> <td>   -0.189</td>\n",
       "</tr>\n",
       "<tr>\n",
       "  <th>District_կենտրոն</th>          <td>    0.4400</td> <td>    0.007</td> <td>   60.853</td> <td> 0.000</td> <td>    0.426</td> <td>    0.454</td>\n",
       "</tr>\n",
       "<tr>\n",
       "  <th>District_մալաթիա</th>          <td>   -0.2252</td> <td>    0.011</td> <td>  -20.620</td> <td> 0.000</td> <td>   -0.247</td> <td>   -0.204</td>\n",
       "</tr>\n",
       "<tr>\n",
       "  <th>District_մալաթիա_սեբաստիա</th> <td>   -0.2518</td> <td>    0.019</td> <td>  -13.141</td> <td> 0.000</td> <td>   -0.289</td> <td>   -0.214</td>\n",
       "</tr>\n",
       "<tr>\n",
       "  <th>District_նոր_նորք</th>         <td>   -0.2156</td> <td>    0.016</td> <td>  -13.691</td> <td> 0.000</td> <td>   -0.246</td> <td>   -0.185</td>\n",
       "</tr>\n",
       "<tr>\n",
       "  <th>District_նորք</th>             <td>   -0.2251</td> <td>    0.010</td> <td>  -22.071</td> <td> 0.000</td> <td>   -0.245</td> <td>   -0.205</td>\n",
       "</tr>\n",
       "<tr>\n",
       "  <th>District_շենգավիթ</th>         <td>   -0.2485</td> <td>    0.009</td> <td>  -27.690</td> <td> 0.000</td> <td>   -0.266</td> <td>   -0.231</td>\n",
       "</tr>\n",
       "<tr>\n",
       "  <th>District_քանաքեռ</th>          <td>   -0.1586</td> <td>    0.012</td> <td>  -13.062</td> <td> 0.000</td> <td>   -0.182</td> <td>   -0.135</td>\n",
       "</tr>\n",
       "<tr>\n",
       "  <th>District_քանաքեռ_զեյթուն</th>  <td>   -0.1901</td> <td>    0.017</td> <td>  -11.032</td> <td> 0.000</td> <td>   -0.224</td> <td>   -0.156</td>\n",
       "</tr>\n",
       "<tr>\n",
       "  <th>Type_Մոնոլիտ</th>              <td>    0.2462</td> <td>    0.012</td> <td>   20.841</td> <td> 0.000</td> <td>    0.223</td> <td>    0.269</td>\n",
       "</tr>\n",
       "<tr>\n",
       "  <th>Type_Պանելային</th>            <td>   -0.1108</td> <td>    0.011</td> <td>   -9.693</td> <td> 0.000</td> <td>   -0.133</td> <td>   -0.088</td>\n",
       "</tr>\n",
       "<tr>\n",
       "  <th>Type_Քարե</th>                 <td>    0.0207</td> <td>    0.011</td> <td>    1.806</td> <td> 0.071</td> <td>   -0.002</td> <td>    0.043</td>\n",
       "</tr>\n",
       "<tr>\n",
       "  <th>Source_my_realty</th>          <td>    0.0380</td> <td>    0.002</td> <td>   15.720</td> <td> 0.000</td> <td>    0.033</td> <td>    0.043</td>\n",
       "</tr>\n",
       "<tr>\n",
       "  <th>Source_real_estate</th>        <td>    0.0745</td> <td>    0.007</td> <td>   11.266</td> <td> 0.000</td> <td>    0.062</td> <td>    0.088</td>\n",
       "</tr>\n",
       "</table>\n",
       "<table class=\"simpletable\">\n",
       "<tr>\n",
       "  <th>Omnibus:</th>       <td>1402.521</td> <th>  Durbin-Watson:     </th> <td>   1.996</td>\n",
       "</tr>\n",
       "<tr>\n",
       "  <th>Prob(Omnibus):</th>  <td> 0.000</td>  <th>  Jarque-Bera (JB):  </th> <td>6322.391</td>\n",
       "</tr>\n",
       "<tr>\n",
       "  <th>Skew:</th>           <td> 0.005</td>  <th>  Prob(JB):          </th> <td>    0.00</td>\n",
       "</tr>\n",
       "<tr>\n",
       "  <th>Kurtosis:</th>       <td> 5.550</td>  <th>  Cond. No.          </th> <td>1.07e+16</td>\n",
       "</tr>\n",
       "</table><br/><br/>Warnings:<br/>[1] Standard Errors assume that the covariance matrix of the errors is correctly specified.<br/>[2] The smallest eigenvalue is 1.91e-24. This might indicate that there are<br/>strong multicollinearity problems or that the design matrix is singular."
      ],
      "text/plain": [
       "<class 'statsmodels.iolib.summary.Summary'>\n",
       "\"\"\"\n",
       "                            OLS Regression Results                            \n",
       "==============================================================================\n",
       "Dep. Variable:              Price_USD   R-squared:                       0.794\n",
       "Model:                            OLS   Adj. R-squared:                  0.794\n",
       "Method:                 Least Squares   F-statistic:                     3331.\n",
       "Date:                Sun, 20 Sep 2020   Prob (F-statistic):               0.00\n",
       "Time:                        13:31:25   Log-Likelihood:                -2770.3\n",
       "No. Observations:               23336   AIC:                             5597.\n",
       "Df Residuals:                   23308   BIC:                             5822.\n",
       "Df Model:                          27                                         \n",
       "Covariance Type:            nonrobust                                         \n",
       "=============================================================================================\n",
       "                                coef    std err          t      P>|t|      [0.025      0.975]\n",
       "---------------------------------------------------------------------------------------------\n",
       "const                         8.5666      0.062    138.727      0.000       8.446       8.688\n",
       "Floor                        -0.0009      0.001     -1.006      0.314      -0.003       0.001\n",
       "Rooms                        -0.0791      0.008     -9.883      0.000      -0.095      -0.063\n",
       "Sqm                           0.0047      0.000     21.585      0.000       0.004       0.005\n",
       "Agency                        0.0536      0.015      3.634      0.000       0.025       0.082\n",
       "nFloor                        0.0063      0.001      8.250      0.000       0.005       0.008\n",
       "bardzrahark                  -0.0486      0.009     -5.470      0.000      -0.066      -0.031\n",
       "sqm_per_room                 -0.0036      0.001     -7.125      0.000      -0.005      -0.003\n",
       "Room_groupings                0.0416      0.007      5.941      0.000       0.028       0.055\n",
       "log_SQM                       0.5645      0.018     30.890      0.000       0.529       0.600\n",
       "Broker                        0.0380      0.002     15.720      0.000       0.033       0.043\n",
       "District_աջափնյակ            -0.2498      0.010    -24.960      0.000      -0.269      -0.230\n",
       "District_ավան                -0.1497      0.012    -12.229      0.000      -0.174      -0.126\n",
       "District_արաբկիր              0.1078      0.007     14.709      0.000       0.093       0.122\n",
       "District_դավթաշեն            -0.0437      0.010     -4.162      0.000      -0.064      -0.023\n",
       "District_էրեբունի            -0.2205      0.016    -13.857      0.000      -0.252      -0.189\n",
       "District_կենտրոն              0.4400      0.007     60.853      0.000       0.426       0.454\n",
       "District_մալաթիա             -0.2252      0.011    -20.620      0.000      -0.247      -0.204\n",
       "District_մալաթիա_սեբաստիա    -0.2518      0.019    -13.141      0.000      -0.289      -0.214\n",
       "District_նոր_նորք            -0.2156      0.016    -13.691      0.000      -0.246      -0.185\n",
       "District_նորք                -0.2251      0.010    -22.071      0.000      -0.245      -0.205\n",
       "District_շենգավիթ            -0.2485      0.009    -27.690      0.000      -0.266      -0.231\n",
       "District_քանաքեռ             -0.1586      0.012    -13.062      0.000      -0.182      -0.135\n",
       "District_քանաքեռ_զեյթուն     -0.1901      0.017    -11.032      0.000      -0.224      -0.156\n",
       "Type_Մոնոլիտ                  0.2462      0.012     20.841      0.000       0.223       0.269\n",
       "Type_Պանելային               -0.1108      0.011     -9.693      0.000      -0.133      -0.088\n",
       "Type_Քարե                     0.0207      0.011      1.806      0.071      -0.002       0.043\n",
       "Source_my_realty              0.0380      0.002     15.720      0.000       0.033       0.043\n",
       "Source_real_estate            0.0745      0.007     11.266      0.000       0.062       0.088\n",
       "==============================================================================\n",
       "Omnibus:                     1402.521   Durbin-Watson:                   1.996\n",
       "Prob(Omnibus):                  0.000   Jarque-Bera (JB):             6322.391\n",
       "Skew:                           0.005   Prob(JB):                         0.00\n",
       "Kurtosis:                       5.550   Cond. No.                     1.07e+16\n",
       "==============================================================================\n",
       "\n",
       "Warnings:\n",
       "[1] Standard Errors assume that the covariance matrix of the errors is correctly specified.\n",
       "[2] The smallest eigenvalue is 1.91e-24. This might indicate that there are\n",
       "strong multicollinearity problems or that the design matrix is singular.\n",
       "\"\"\""
      ]
     },
     "execution_count": 333,
     "metadata": {},
     "output_type": "execute_result"
    }
   ],
   "source": [
    "# linear model\n",
    "model_linear = sm.OLS(Y0, X0)\n",
    "results = model_linear.fit()\n",
    "results.summary()"
   ]
  },
  {
   "cell_type": "code",
   "execution_count": 334,
   "metadata": {},
   "outputs": [
    {
     "name": "stdout",
     "output_type": "stream",
     "text": [
      "R^2_test: 0.7954684152601414\n"
     ]
    }
   ],
   "source": [
    "# check prediction on the test set\n",
    "Y1_pred=results.predict(X1)\n",
    "print('R^2_test:', r2_score(Y1, Y1_pred))"
   ]
  },
  {
   "cell_type": "markdown",
   "metadata": {},
   "source": [
    "We have seen how we can significantly improve the sxame model based solely on feature engineering"
   ]
  },
  {
   "cell_type": "markdown",
   "metadata": {},
   "source": [
    "### Interpretation of the results of Linear Regression\n",
    "R-squared and F-statistics: As Prob (F-statistic) shows our model is statistically significant at 5%(even 1%) significance level, so there is at least one estimated coefficient (besides intercept) that is not null. R-squared shows that 79% of variance in car prices is explained by the variables included in the model.\n",
    "\n",
    "Adj. R-squared (79%) is the same as R-squared, which means that included variables are important.\n",
    "\n",
    "<b>CStatistically significant variables:</b>\n",
    "<ul>\n",
    "<li>All vairables, except the Fllor as statistically significant, they have p-value smaller than 0.05. </li>\n",
    "</ul>\n",
    "\n",
    "\n",
    "<b>Coefficients (continous variable):</b>\n",
    "<ul>\n",
    "<li>For each unit increase in SQM we will experience on average about 0.0047 increase in log price of a house. Please not that we are interpreting the effect on the LOGARITHM of the price.</li>\n",
    "</ul>\n",
    "\n",
    "<b>CCoefficients (categorical variable)</b>\n",
    "<ul>\n",
    "<li>the reference category for type is 'other'. So if a house type is stone rather than smth else then on average 0.0207 unit increase is expected in mean log of a house. </li>\n",
    "</ul>\n",
    "\n",
    "CPlease note that if the variable is in the model and you have no possibility or you do not want to remove it it should be in the final model formulation even if it is not statistically significant\n",
    "\n",
    "<b>lOG_Price = 8.5666 - 0.0009*Floor - 0.0791*Rooms + 0.0047*SQM ............</b>"
   ]
  },
  {
   "cell_type": "markdown",
   "metadata": {},
   "source": [
    "## Sklearn linear regression"
   ]
  },
  {
   "cell_type": "code",
   "execution_count": 337,
   "metadata": {},
   "outputs": [
    {
     "name": "stdout",
     "output_type": "stream",
     "text": [
      "R^2_train: 0.7942032785052594\n",
      "R^2_train: 0.7954684152601316\n"
     ]
    }
   ],
   "source": [
    "# we specify do not fit intercept because we already have the constant feature\n",
    "reg = linear_model.LinearRegression(fit_intercept=False).fit(X0, Y0)\n",
    "print('R^2_train:', reg.score(X0, Y0))\n",
    "print('R^2_train:', reg.score(X1, Y1))"
   ]
  },
  {
   "cell_type": "code",
   "execution_count": 338,
   "metadata": {
    "scrolled": true
   },
   "outputs": [
    {
     "data": {
      "text/html": [
       "<div>\n",
       "<style scoped>\n",
       "    .dataframe tbody tr th:only-of-type {\n",
       "        vertical-align: middle;\n",
       "    }\n",
       "\n",
       "    .dataframe tbody tr th {\n",
       "        vertical-align: top;\n",
       "    }\n",
       "\n",
       "    .dataframe thead th {\n",
       "        text-align: right;\n",
       "    }\n",
       "</style>\n",
       "<table border=\"1\" class=\"dataframe\">\n",
       "  <thead>\n",
       "    <tr style=\"text-align: right;\">\n",
       "      <th></th>\n",
       "      <th>coef</th>\n",
       "    </tr>\n",
       "  </thead>\n",
       "  <tbody>\n",
       "    <tr>\n",
       "      <th>const</th>\n",
       "      <td>8.566594</td>\n",
       "    </tr>\n",
       "    <tr>\n",
       "      <th>Floor</th>\n",
       "      <td>-0.000877</td>\n",
       "    </tr>\n",
       "    <tr>\n",
       "      <th>Rooms</th>\n",
       "      <td>-0.079104</td>\n",
       "    </tr>\n",
       "    <tr>\n",
       "      <th>Sqm</th>\n",
       "      <td>0.004678</td>\n",
       "    </tr>\n",
       "    <tr>\n",
       "      <th>Agency</th>\n",
       "      <td>0.053588</td>\n",
       "    </tr>\n",
       "    <tr>\n",
       "      <th>nFloor</th>\n",
       "      <td>0.006266</td>\n",
       "    </tr>\n",
       "    <tr>\n",
       "      <th>bardzrahark</th>\n",
       "      <td>-0.048630</td>\n",
       "    </tr>\n",
       "    <tr>\n",
       "      <th>sqm_per_room</th>\n",
       "      <td>-0.003639</td>\n",
       "    </tr>\n",
       "    <tr>\n",
       "      <th>Room_groupings</th>\n",
       "      <td>0.041607</td>\n",
       "    </tr>\n",
       "    <tr>\n",
       "      <th>log_SQM</th>\n",
       "      <td>0.564475</td>\n",
       "    </tr>\n",
       "    <tr>\n",
       "      <th>Broker</th>\n",
       "      <td>0.038039</td>\n",
       "    </tr>\n",
       "    <tr>\n",
       "      <th>District_աջափնյակ</th>\n",
       "      <td>-0.249827</td>\n",
       "    </tr>\n",
       "    <tr>\n",
       "      <th>District_ավան</th>\n",
       "      <td>-0.149703</td>\n",
       "    </tr>\n",
       "    <tr>\n",
       "      <th>District_արաբկիր</th>\n",
       "      <td>0.107824</td>\n",
       "    </tr>\n",
       "    <tr>\n",
       "      <th>District_դավթաշեն</th>\n",
       "      <td>-0.043652</td>\n",
       "    </tr>\n",
       "    <tr>\n",
       "      <th>District_էրեբունի</th>\n",
       "      <td>-0.220456</td>\n",
       "    </tr>\n",
       "    <tr>\n",
       "      <th>District_կենտրոն</th>\n",
       "      <td>0.439990</td>\n",
       "    </tr>\n",
       "    <tr>\n",
       "      <th>District_մալաթիա</th>\n",
       "      <td>-0.225205</td>\n",
       "    </tr>\n",
       "    <tr>\n",
       "      <th>District_մալաթիա_սեբաստիա</th>\n",
       "      <td>-0.251847</td>\n",
       "    </tr>\n",
       "    <tr>\n",
       "      <th>District_նոր_նորք</th>\n",
       "      <td>-0.215584</td>\n",
       "    </tr>\n",
       "    <tr>\n",
       "      <th>District_նորք</th>\n",
       "      <td>-0.225060</td>\n",
       "    </tr>\n",
       "    <tr>\n",
       "      <th>District_շենգավիթ</th>\n",
       "      <td>-0.248457</td>\n",
       "    </tr>\n",
       "    <tr>\n",
       "      <th>District_քանաքեռ</th>\n",
       "      <td>-0.158623</td>\n",
       "    </tr>\n",
       "    <tr>\n",
       "      <th>District_քանաքեռ_զեյթուն</th>\n",
       "      <td>-0.190140</td>\n",
       "    </tr>\n",
       "    <tr>\n",
       "      <th>Type_Մոնոլիտ</th>\n",
       "      <td>0.246163</td>\n",
       "    </tr>\n",
       "    <tr>\n",
       "      <th>Type_Պանելային</th>\n",
       "      <td>-0.110788</td>\n",
       "    </tr>\n",
       "    <tr>\n",
       "      <th>Type_Քարե</th>\n",
       "      <td>0.020724</td>\n",
       "    </tr>\n",
       "    <tr>\n",
       "      <th>Source_my_realty</th>\n",
       "      <td>0.038039</td>\n",
       "    </tr>\n",
       "    <tr>\n",
       "      <th>Source_real_estate</th>\n",
       "      <td>0.074549</td>\n",
       "    </tr>\n",
       "  </tbody>\n",
       "</table>\n",
       "</div>"
      ],
      "text/plain": [
       "                               coef\n",
       "const                      8.566594\n",
       "Floor                     -0.000877\n",
       "Rooms                     -0.079104\n",
       "Sqm                        0.004678\n",
       "Agency                     0.053588\n",
       "nFloor                     0.006266\n",
       "bardzrahark               -0.048630\n",
       "sqm_per_room              -0.003639\n",
       "Room_groupings             0.041607\n",
       "log_SQM                    0.564475\n",
       "Broker                     0.038039\n",
       "District_աջափնյակ         -0.249827\n",
       "District_ավան             -0.149703\n",
       "District_արաբկիր           0.107824\n",
       "District_դավթաշեն         -0.043652\n",
       "District_էրեբունի         -0.220456\n",
       "District_կենտրոն           0.439990\n",
       "District_մալաթիա          -0.225205\n",
       "District_մալաթիա_սեբաստիա -0.251847\n",
       "District_նոր_նորք         -0.215584\n",
       "District_նորք             -0.225060\n",
       "District_շենգավիթ         -0.248457\n",
       "District_քանաքեռ          -0.158623\n",
       "District_քանաքեռ_զեյթուն  -0.190140\n",
       "Type_Մոնոլիտ               0.246163\n",
       "Type_Պանելային            -0.110788\n",
       "Type_Քարե                  0.020724\n",
       "Source_my_realty           0.038039\n",
       "Source_real_estate         0.074549"
      ]
     },
     "execution_count": 338,
     "metadata": {},
     "output_type": "execute_result"
    }
   ],
   "source": [
    "# the package do not have the same summary, and the code below only provides the features and respective coefficients\n",
    "coef = pd.DataFrame(dict(zip(X0.columns, reg.coef_)), index=[0]).T\n",
    "coef.columns=['coef']\n",
    "coef"
   ]
  },
  {
   "cell_type": "markdown",
   "metadata": {},
   "source": [
    "# Model diagnostics"
   ]
  },
  {
   "cell_type": "code",
   "execution_count": 191,
   "metadata": {},
   "outputs": [
    {
     "data": {
      "text/plain": [
       "15468    33898.397292\n",
       "20030    10854.286043\n",
       "24882    -2126.125294\n",
       "30928    -9082.419817\n",
       "19885   -10590.642554\n",
       "20053    41298.768656\n",
       "16716    29254.700316\n",
       "9918     64229.819977\n",
       "25902    10143.445995\n",
       "2766      9890.858556\n",
       "dtype: float64"
      ]
     },
     "execution_count": 191,
     "metadata": {},
     "output_type": "execute_result"
    }
   ],
   "source": [
    "#residuals of the model\n",
    "residuals=results.resid\n",
    "residuals.head(10)"
   ]
  },
  {
   "cell_type": "code",
   "execution_count": 192,
   "metadata": {},
   "outputs": [],
   "source": [
    "pred_values=results.predict()"
   ]
  },
  {
   "cell_type": "markdown",
   "metadata": {},
   "source": [
    "## Linearity and Equal variance"
   ]
  },
  {
   "cell_type": "code",
   "execution_count": 193,
   "metadata": {},
   "outputs": [
    {
     "data": {
      "image/png": "[encoded data removed]",
      "text/plain": [
       "<Figure size 720x360 with 1 Axes>"
      ]
     },
     "metadata": {
      "needs_background": "light"
     },
     "output_type": "display_data"
    }
   ],
   "source": [
    "#lets plot predicted values vs residuals to see whether there is any pattern or no\n",
    "plt.figure(figsize=(10,5))\n",
    "plt.scatter(pred_values,residuals)\n",
    "plt.axhline(y=0, c=\"red\")\n",
    "plt.title(\"Residual vs Pred values\")\n",
    "plt.ylabel(\"Residuals\")\n",
    "plt.xlabel(\"Predicted values\")\n",
    "plt.show()"
   ]
  },
  {
   "cell_type": "code",
   "execution_count": 194,
   "metadata": {},
   "outputs": [
    {
     "name": "stdout",
     "output_type": "stream",
     "text": [
      "[('Lagrange multiplier statistic', 4733.8912872369265), ('p-value', 0.0), ('f-value', 141.13419108022038), ('f p-value', 0.0)]\n"
     ]
    }
   ],
   "source": [
    "#Breusch-Pagan test for homoscedasticity\n",
    "#The null hypothesis assumes homoskedasticity\n",
    "bnames = ['Lagrange multiplier statistic', 'p-value',\n",
    "        'f-value', 'f p-value']\n",
    "breush = het_breuschpagan(residuals, results.model.exog)\n",
    "print(list(zip(bnames, breush)))"
   ]
  },
  {
   "cell_type": "markdown",
   "metadata": {},
   "source": [
    "We have a small p-value, so we have enough evidence to reject the homoscedasticity assumtion. \n",
    "Homoscedasticity assumption is NOT held."
   ]
  },
  {
   "cell_type": "code",
   "execution_count": 195,
   "metadata": {},
   "outputs": [
    {
     "name": "stdout",
     "output_type": "stream",
     "text": [
      "[('fstat', 1.0077419346187637), ('p-value', 0.3386613240974768)]\n"
     ]
    }
   ],
   "source": [
    "# Rainbow test for linearity \n",
    "# The null hypothesis assumes linearity\n",
    "rnames=[\"fstat\", \"p-value\"]\n",
    "rainbow=linear_rainbow(results)\n",
    "print(list(zip(rnames, rainbow)))"
   ]
  },
  {
   "cell_type": "markdown",
   "metadata": {},
   "source": [
    "Linearity assumption is  held (fail to reject), since we have a p-value>0.05."
   ]
  },
  {
   "cell_type": "markdown",
   "metadata": {},
   "source": [
    "## Normality"
   ]
  },
  {
   "cell_type": "code",
   "execution_count": 196,
   "metadata": {},
   "outputs": [
    {
     "data": {
      "image/png": "[encoded data removed]",
      "text/plain": [
       "<Figure size 432x288 with 1 Axes>"
      ]
     },
     "metadata": {
      "needs_background": "light"
     },
     "output_type": "display_data"
    }
   ],
   "source": [
    "#distribution of residuals\n",
    "sns.distplot(residuals)\n",
    "plt.show()"
   ]
  },
  {
   "cell_type": "code",
   "execution_count": 197,
   "metadata": {},
   "outputs": [
    {
     "data": {
      "image/png": "[encoded data removed]",
      "text/plain": [
       "<Figure size 432x288 with 1 Axes>"
      ]
     },
     "metadata": {
      "needs_background": "light"
     },
     "output_type": "display_data"
    }
   ],
   "source": [
    "#QQ plot\n",
    "qqplot(residuals,fit=True, line='45')\n",
    "plt.show()"
   ]
  },
  {
   "cell_type": "code",
   "execution_count": 198,
   "metadata": {},
   "outputs": [
    {
     "name": "stdout",
     "output_type": "stream",
     "text": [
      "[('The test statistic', 0.8106882572174072), ('p-value', 0.0)]\n"
     ]
    },
    {
     "name": "stderr",
     "output_type": "stream",
     "text": [
      "/Users/arsinesarikyan/opt/anaconda3/lib/python3.7/site-packages/scipy/stats/morestats.py:1676: UserWarning: p-value may not be accurate for N > 5000.\n",
      "  warnings.warn(\"p-value may not be accurate for N > 5000.\")\n"
     ]
    }
   ],
   "source": [
    "#Shapiro-Wilk normality test. \n",
    "#The null-hypothesis of this test is that the data was drawn from a normal distribution\n",
    "snames=['The test statistic', 'p-value']\n",
    "shapiro=shapiro(residuals)\n",
    "print(list(zip(snames, shapiro)))"
   ]
  },
  {
   "cell_type": "markdown",
   "metadata": {},
   "source": [
    "Shapiro-Wilk test shows that we have enough evidence to reject H0, so the normality assumption is not held."
   ]
  },
  {
   "cell_type": "code",
   "execution_count": null,
   "metadata": {},
   "outputs": [],
   "source": []
  }
 ],
 "metadata": {
  "kernelspec": {
   "display_name": "Python 3",
   "language": "python",
   "name": "python3"
  },
  "language_info": {
   "codemirror_mode": {
    "name": "ipython",
    "version": 3
   },
   "file_extension": ".py",
   "mimetype": "text/x-python",
   "name": "python",
   "nbconvert_exporter": "python",
   "pygments_lexer": "ipython3",
   "version": "3.7.4"
  },
  "toc": {
   "base_numbering": 1,
   "nav_menu": {},
   "number_sections": true,
   "sideBar": true,
   "skip_h1_title": false,
   "title_cell": "Table of Contents",
   "title_sidebar": "Contents",
   "toc_cell": false,
   "toc_position": {},
   "toc_section_display": true,
   "toc_window_display": false
  }
 },
 "nbformat": 4,
 "nbformat_minor": 2
}
